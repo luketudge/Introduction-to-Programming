{
 "cells": [
  {
   "cell_type": "markdown",
   "metadata": {},
   "source": [
    "# Readings\n",
    "\n",
    "Python is a very popular programming language, and there are many, *many* books covering its use for all sorts of things. Here are a few texts that I have found the most useful for teaching.\n",
    "\n",
    "## Complete beginner\n",
    "\n",
    "* **[Python for Everybody](https://www.py4e.com/book) - Charles 'Dr Chuck' Severance**. An excellent introduction to Python, and to computer programming in general, aimed at complete beginners. The book is available for free [online](https://www.py4e.com/html3/), including exercises, but you can also order a cheap hard copy. Dr Chuck is an excellent instructor and you may also find his [video tutorials](https://www.youtube.com/playlist?list=PLlRFEj9H3Oj7Bp8-DfGpfAfDBiblRfl5p) helpful.\n",
    "\n",
    "## Beginner\n",
    "\n",
    "* **[Think Python](https://greenteapress.com/wp/think-python-2e/) - Allen B Downey**. Dr Chuck's *Python for Everybody* is a 'remix' of this earlier book, with extra emphasis on teaching to beginners and on practical applications such as web apps and databases. *Think Python* includes a lot of the same material, but with more detail on the abstract computer science of programming, and slightly less emphasis on applications. It is also available for free [online](http://greenteapress.com/thinkpython2/html/index.html), along with exercises and examples.\n",
    "* **[Python Crash Course](https://nostarch.com/pythoncrashcourse2e) - Eric Matthes**. Also for beginners, but longer and more comprehensive than the other two beginner texts. Provides many clear 'recipes' for basic programming tasks, and includes good explanations of common problems and mistakes.\n",
    "\n",
    "## Career-specific\n",
    "\n",
    "### Data science\n",
    "\n",
    "* **[Python Data Science Handbook](https://jakevdp.github.io/PythonDataScienceHandbook/) - Jake VanderPlas**. A comprehensive introduction to working with data in Python, all the way from basic statistics up to and including machine learning. Assumes the reader is already familiar with Python.\n",
    "\n",
    "### App development\n",
    "\n",
    "* **[The Hitchhiker's Guide to Python](https://docs.python-guide.org/) - Kenneth Reitz & Tanya Schlusser**. Focuses on the processes of developing, documenting, and packaging Python programs, assuming that the reader already knows how to write a program.\n",
    "* **[Test-Driven Development with Python](https://www.obeythetestinggoat.com/) - Harry J. W. Percival**. An excellent guide to developing web apps, including most importantly how to test as you go to make sure your app works and is secure.\n",
    "\n",
    "### Linguistics\n",
    "\n",
    "* **[Natural Language Processing with Python](http://www.nltk.org/book_1ed/) - Bird, Klein, & Loper**. The definitive introductory text for working with natural language text in Python. The print edition of the book is currently based on Python 2 only, but there is an [online version](http://www.nltk.org/book/) updated for Python 3.\n",
    "\n",
    "### Psychology\n",
    "\n",
    "* **[Python for Experimental Psychologists](http://www.pygaze.org/pep/) - Edwin Dalmaijer**. Explains how to use Python to create interactive psychology experiments, and also includes a brief introduction to Python in general. Edwin Dalmaijer is an expert in eyetracking technology, so the book is mostly oriented towards visual and eye movement experiments.\n",
    "* **[Programming Visual Illusions for Everyone](https://www.programmingvisualillusionsforeveryone.online/) - Marco Bertamini**. Also covers creating interactive experiments with Python, but focusing specifically on demonstrating visual illusions. This is a more fun, but somewhat more challenging, way to learn. Also includes a lot of interesting background on the illusions themselves."
   ]
  }
 ],
 "metadata": {
  "celltoolbar": "Tags",
  "kernelspec": {
   "display_name": "Python 3",
   "language": "python",
   "name": "python3"
  },
  "language_info": {
   "codemirror_mode": {
    "name": "ipython",
    "version": 3
   },
   "file_extension": ".py",
   "mimetype": "text/x-python",
   "name": "python",
   "nbconvert_exporter": "python",
   "pygments_lexer": "ipython3",
   "version": "3.8.5"
  },
  "toc": {
   "base_numbering": 1,
   "nav_menu": {},
   "number_sections": false,
   "sideBar": true,
   "skip_h1_title": true,
   "title_cell": "Contents",
   "title_sidebar": "Contents",
   "toc_cell": true,
   "toc_position": {},
   "toc_section_display": true,
   "toc_window_display": false
  }
 },
 "nbformat": 4,
 "nbformat_minor": 4
}
