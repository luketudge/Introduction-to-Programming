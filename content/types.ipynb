{
 "cells": [
  {
   "cell_type": "markdown",
   "metadata": {},
   "source": [
    "# Variables and data types\n",
    "\n",
    "In the [introductory lesson](intro.ipynb), we learned how to assign some data into a [variable](glossary.ipynb#variable). Below are a few examples. We will use these variables in the remainder of this lesson."
   ]
  },
  {
   "cell_type": "code",
   "execution_count": 1,
   "metadata": {},
   "outputs": [],
   "source": [
    "name = 'Mildred T. Bonk'\n",
    "street = 'Credibility Street'\n",
    "street_number = '221'\n",
    "age = 22\n",
    "height = 1.96"
   ]
  },
  {
   "cell_type": "markdown",
   "metadata": {},
   "source": [
    "## Strings\n",
    "\n",
    "We have also learned about the important distinction between variables that store text (termed [strings](glossary.ipynb#string) and abbreviated to `str`) and variables that store numbers. The form of the data stored in a variable (text, number, something else) is called its [type](glossary.ipynb#type).\n",
    "\n",
    "In the examples above, the variables `name`, `street`, and `street_number` are of type string. We can see this from the way that they are written. The [syntax](glossary.ipynb#syntax) for creating a string is simply to enclose the text of the string in quote marks (`''`). Quote marks distinguish strings (i.e. literal text) from other things such as numbers, the names of other variables, or Python commands, all of which are written without quote marks. This is similar to the use of quote marks in everyday English. Think of the lyrics to the song [Say My Name](https://en.wikipedia.org/wiki/Say_My_Name) by Destiny's Child. When Beyoncé issues the instruction *say my name*, she intends *my name* to be replaced by her actual name when the instructions are carried out. This is equivalent to the following short Python program, albeit with `print()` in place of *say*, since Python has no `say()` function:"
   ]
  },
  {
   "cell_type": "code",
   "execution_count": 2,
   "metadata": {},
   "outputs": [
    {
     "name": "stdout",
     "output_type": "stream",
     "text": [
      "Beyoncé\n"
     ]
    }
   ],
   "source": [
    "my_name = 'Beyoncé'\n",
    "\n",
    "print(my_name)"
   ]
  },
  {
   "cell_type": "markdown",
   "metadata": {},
   "source": [
    "What if the lyrics to the song were subtly different and included quote marks around '*my name*' (i.e. *say 'my name'*)? One use of quote marks in English is to clarify that a piece of text is to be interpreted literally, and not replaced with whatever the text refers to. So this version of the song would be equivalent to the following short Python program:"
   ]
  },
  {
   "cell_type": "code",
   "execution_count": 3,
   "metadata": {},
   "outputs": [
    {
     "name": "stdout",
     "output_type": "stream",
     "text": [
      "my_name\n"
     ]
    }
   ],
   "source": [
    "my_name = 'Beyoncé'\n",
    "\n",
    "print('my_name')"
   ]
  },
  {
   "cell_type": "markdown",
   "metadata": {},
   "source": [
    "When it comes to data types, appearances can occasionally be deceptive. For example, the `street_number` variable that we created above is a string that happens to contain digits. These can occur from time to time in programming, in cases where the digits do not really represent a mathematical quantity or might sometimes need to have extra non-number characters added to them (for example, Sherlock Holmes lives at house number 221b, which we can't represent and manipulate as an actual number).\n",
    "\n",
    "If we are unsure what type of data is stored in a variable, we can check at the console using the [built-in](glossary.ipynb#builtin) Python function `type()`:"
   ]
  },
  {
   "cell_type": "code",
   "execution_count": 4,
   "metadata": {},
   "outputs": [
    {
     "data": {
      "text/plain": [
       "str"
      ]
     },
     "execution_count": 4,
     "metadata": {},
     "output_type": "execute_result"
    }
   ],
   "source": [
    "type(street_number)"
   ]
  },
  {
   "cell_type": "markdown",
   "metadata": {},
   "source": [
    "Python is fairly strict about what we can and cannot do with various types. If we try to get Python to [evaluate](glossary.ipynb#evaluate) a mathematical expression that contains a string variable, we will encounter an [error](glossary.ipynb#error)."
   ]
  },
  {
   "cell_type": "code",
   "execution_count": 5,
   "metadata": {
    "tags": [
     "raises-exception"
    ]
   },
   "outputs": [
    {
     "ename": "TypeError",
     "evalue": "can only concatenate str (not \"int\") to str",
     "output_type": "error",
     "traceback": [
      "\u001b[0;31m---------------------------------------------------------------------------\u001b[0m",
      "\u001b[0;31mTypeError\u001b[0m                                 Traceback (most recent call last)",
      "\u001b[0;32m<ipython-input-5-69d4580a9089>\u001b[0m in \u001b[0;36m<module>\u001b[0;34m\u001b[0m\n\u001b[0;32m----> 1\u001b[0;31m \u001b[0mstreet_number\u001b[0m \u001b[0;34m+\u001b[0m \u001b[0;36m1\u001b[0m\u001b[0;34m\u001b[0m\u001b[0;34m\u001b[0m\u001b[0m\n\u001b[0m",
      "\u001b[0;31mTypeError\u001b[0m: can only concatenate str (not \"int\") to str"
     ]
    }
   ],
   "source": [
    "street_number + 1"
   ]
  },
  {
   "cell_type": "markdown",
   "metadata": {},
   "source": [
    "However, some Python functions and [operators](glossary.ipynb#operator) are somewhat flexible, and may instead do different things depending on the type of the variable that they are applied to. For example, the multiplication operator `*` performs normal math multiplication for variables that store numbers, but for strings it instead repeats their contents."
   ]
  },
  {
   "cell_type": "code",
   "execution_count": 6,
   "metadata": {},
   "outputs": [
    {
     "data": {
      "text/plain": [
       "3.92"
      ]
     },
     "execution_count": 6,
     "metadata": {},
     "output_type": "execute_result"
    }
   ],
   "source": [
    "height * 2"
   ]
  },
  {
   "cell_type": "code",
   "execution_count": 7,
   "metadata": {},
   "outputs": [
    {
     "data": {
      "text/plain": [
       "'Mildred T. BonkMildred T. BonkMildred T. Bonk'"
      ]
     },
     "execution_count": 7,
     "metadata": {},
     "output_type": "execute_result"
    }
   ],
   "source": [
    "name * 3"
   ]
  },
  {
   "cell_type": "markdown",
   "metadata": {},
   "source": [
    "Python's occasional flexibility about data types is a double-edged sword. On the one hand, it allows for some concise intuitive commands, such as using `+` to combine strings or `*` to repeat them. But on the other hand, it means that we can occasionally make some big mistakes in our programs without immediately becoming aware of it. For example, if we found that `street_number` had been entered incorrectly and in fact needed an extra zero adding to it, then we might be tempted to multiply it by 10 in order to achieve this. Python would give no warning and would go ahead with what we asked even though the result is not what we want. In this case, our program might end up sending somebody's automated delivery a lot further down the street than we intended."
   ]
  },
  {
   "cell_type": "code",
   "execution_count": 8,
   "metadata": {},
   "outputs": [
    {
     "data": {
      "text/plain": [
       "'221221221221221221221221221221'"
      ]
     },
     "execution_count": 8,
     "metadata": {},
     "output_type": "execute_result"
    }
   ],
   "source": [
    "street_number * 10"
   ]
  },
  {
   "cell_type": "markdown",
   "metadata": {},
   "source": [
    "A correct way to add an extra 0 to a string would be to add another string containing the `'0'` *character*."
   ]
  },
  {
   "cell_type": "code",
   "execution_count": 9,
   "metadata": {},
   "outputs": [
    {
     "data": {
      "text/plain": [
       "'2210'"
      ]
     },
     "execution_count": 9,
     "metadata": {},
     "output_type": "execute_result"
    }
   ],
   "source": [
    "street_number + '0'"
   ]
  },
  {
   "cell_type": "markdown",
   "metadata": {},
   "source": [
    "## Assignment and immutability\n",
    "\n",
    "'Assignment and immutability' is of course the title of a novel by Jane Austen. But it also refers to two important concepts in Python programming. We learned about [assignment](glossary.ipynb#assignment) earlier; when we assign some value to a variable, we store that value under the name of the variable, and can retrieve it using that name.\n",
    "\n",
    "To understand immutability, let's remind ourselves of something. Take a look at the value of the `street_number` variable after everything that we have been doing with it above."
   ]
  },
  {
   "cell_type": "code",
   "execution_count": 10,
   "metadata": {},
   "outputs": [
    {
     "data": {
      "text/plain": [
       "'221'"
      ]
     },
     "execution_count": 10,
     "metadata": {},
     "output_type": "execute_result"
    }
   ],
   "source": [
    "street_number"
   ]
  },
  {
   "cell_type": "markdown",
   "metadata": {},
   "source": [
    "It hasn't changed since its original assignment. Although we have been performing various operations with the variable, we have merely been testing out and looking at the results of these operations. The value of the variable has remained unchanged. The value of a string variable will always remain the same unless we overwrite it by assigning it again. If we want to change or update the value of a variable with the result of some calculation, then we must assign that result back into the same variable name.\n",
    "\n",
    "For example if we want to add a `'b'` to the `street_number` string (and then print it out to check its new value):"
   ]
  },
  {
   "cell_type": "code",
   "execution_count": 11,
   "metadata": {},
   "outputs": [
    {
     "name": "stdout",
     "output_type": "stream",
     "text": [
      "221b\n"
     ]
    }
   ],
   "source": [
    "street_number = street_number + 'b'\n",
    "\n",
    "print(street_number)"
   ]
  },
  {
   "cell_type": "markdown",
   "metadata": {},
   "source": [
    "The opposite of immutability is 'mutability'. As it turns out, there are some data types that are mutable. That is, their contents can change without us having to overwrite them. We will meet one of these at the end of this lesson. But all the simple data types, such as strings and numbers, are immutable; string and numeric variables will only ever change their contents if there is an `=` somewhere in our program that overwrites them.\n",
    "\n",
    "Although this behavior can occasionally be a source of frustration, for example if we perform some calculations but forget to store the result in the relevant variable, in general immutability is a good thing. It would be annoying if every time we wanted to calculate something with our variables, this also overwrote their contents. For example, we might want to just print out the result of adding one year to somebody's age, without actually changing it.\n",
    "\n",
    "Of course if we want to keep both the original value of a variable and store an updated one, we can just assign the updated value into a *new* variable. In such cases it is a good idea to choose an expressive variable name that says something about what the changed value means. For example:"
   ]
  },
  {
   "cell_type": "code",
   "execution_count": 12,
   "metadata": {},
   "outputs": [
    {
     "name": "stdout",
     "output_type": "stream",
     "text": [
      "22\n",
      "23\n"
     ]
    }
   ],
   "source": [
    "age_next_year = age + 1\n",
    "\n",
    "print(age)\n",
    "print(age_next_year)"
   ]
  },
  {
   "cell_type": "markdown",
   "metadata": {},
   "source": [
    "## Numeric data\n",
    "\n",
    "So far most of our examples have concerned the behavior of the [string](glossary.ipynb#string) data type. Let's now consider how Python manages numbers.\n",
    "\n",
    "Python distinguishes between two different ways of representing numbers. Numbers can be stored either as whole numbers (`1`, `2`, `3`, etc.) or as non-whole numbers (for example `1.618`, `2.718`, or `3.142`). Whole numbers are called [integers](glossary.ipynb#integer) (abbreviated to `int`), and non-whole numbers are called [floating point numbers](glossary.ipynb#float) (abbreviated to `float`). Just as there is a particular [syntactical](glossary.ipynb#syntax) rule for creating a string, namely the use of quote marks, so there are syntactical rules for creating integers and floats. The presence of a decimal point (`.`) indicates a float, and its absence indicates an integer.\n",
    "\n",
    "Take a look back at the `age` and `height` variables that we defined above. We can see that Python has stored these as two different types."
   ]
  },
  {
   "cell_type": "code",
   "execution_count": 13,
   "metadata": {},
   "outputs": [
    {
     "data": {
      "text/plain": [
       "int"
      ]
     },
     "execution_count": 13,
     "metadata": {},
     "output_type": "execute_result"
    }
   ],
   "source": [
    "type(age)"
   ]
  },
  {
   "cell_type": "code",
   "execution_count": 14,
   "metadata": {},
   "outputs": [
    {
     "data": {
      "text/plain": [
       "float"
      ]
     },
     "execution_count": 14,
     "metadata": {},
     "output_type": "execute_result"
    }
   ],
   "source": [
    "type(height)"
   ]
  },
  {
   "cell_type": "markdown",
   "metadata": {},
   "source": [
    "Note that even if the number represented is a whole number, if we include a decimal point its type will still be float."
   ]
  },
  {
   "cell_type": "code",
   "execution_count": 15,
   "metadata": {},
   "outputs": [
    {
     "data": {
      "text/plain": [
       "float"
      ]
     },
     "execution_count": 15,
     "metadata": {},
     "output_type": "execute_result"
    }
   ],
   "source": [
    "grade = 1.0\n",
    "\n",
    "type(grade)"
   ]
  },
  {
   "cell_type": "markdown",
   "metadata": {},
   "source": [
    "For historical reasons, the syntax of programming languages (along with many other conventions in computing in general) is heavily influenced by British and US English. If you come from a part of the world where the comma is used as a decimal separator instead of the point, for example Germany, then beware that Python does not interpret it this way. If you try to create a float using the comma, the result will not be as expected. Surprisingly, however, you will not see an [error message](glossary.ipynb#error) either. Instead, Python interprets commas as separating two different things, and so will store the two numbers together in a new kind of variable (called a [tuple](glossary.ipynb#tuple)) that can contain more than one value."
   ]
  },
  {
   "cell_type": "code",
   "execution_count": 16,
   "metadata": {},
   "outputs": [
    {
     "name": "stdout",
     "output_type": "stream",
     "text": [
      "(1, 3)\n"
     ]
    }
   ],
   "source": [
    "grade = 1,3\n",
    "\n",
    "print(grade)"
   ]
  },
  {
   "cell_type": "markdown",
   "metadata": {},
   "source": [
    "But more about tuples later.\n",
    "\n",
    "How should we decide whether to store a number as integer or float? If we want to store a non-whole number, the decision is easy; it has to be a float. But what about something like somebody's age? Here, we have to think about what concept the number is supposed to represent in the real world, and consider whether we want to treat the units of that concept as atomic or as divisible into parts. For example, we can think of someone's age as being a count of the number of whole years that they have survived. But we can also think of it as a continuous measure of how much time they have survived. Children in particular often like to give their age as a continuous quantity like 'six-and-three-quarters'.\n",
    "\n",
    "As it turns out, there are many cases in which the difference between integers and floats does not actually matter for the functioning of our program. Python is quite flexible with number types.\n",
    "\n",
    "It allows us to mix integer and float numbers in the same mathematical expression:"
   ]
  },
  {
   "cell_type": "code",
   "execution_count": 17,
   "metadata": {},
   "outputs": [
    {
     "data": {
      "text/plain": [
       "float"
      ]
     },
     "execution_count": 17,
     "metadata": {},
     "output_type": "execute_result"
    }
   ],
   "source": [
    "child_age = 6\n",
    "precise_child_age = child_age + 0.75\n",
    "\n",
    "type(precise_child_age)"
   ]
  },
  {
   "cell_type": "markdown",
   "metadata": {},
   "source": [
    "The result of a mathematical expression containing a mixture of integers and floats is always a float, even if the resulting quantity is a whole number:"
   ]
  },
  {
   "cell_type": "code",
   "execution_count": 18,
   "metadata": {},
   "outputs": [
    {
     "data": {
      "text/plain": [
       "float"
      ]
     },
     "execution_count": 18,
     "metadata": {},
     "output_type": "execute_result"
    }
   ],
   "source": [
    "answer = 2 + 2.0\n",
    "\n",
    "type(answer)"
   ]
  },
  {
   "cell_type": "markdown",
   "metadata": {},
   "source": [
    "A calculation that involves only integers and that results in a whole number will produce an integer:"
   ]
  },
  {
   "cell_type": "code",
   "execution_count": 19,
   "metadata": {},
   "outputs": [
    {
     "data": {
      "text/plain": [
       "int"
      ]
     },
     "execution_count": 19,
     "metadata": {},
     "output_type": "execute_result"
    }
   ],
   "source": [
    "answer = 2 + 2\n",
    "\n",
    "type(answer)"
   ]
  },
  {
   "cell_type": "markdown",
   "metadata": {},
   "source": [
    "If a calculation with integers results in a non-whole number then Python does the reasonable thing and nonetheless stores the result as a float instead of rounding it off:"
   ]
  },
  {
   "cell_type": "code",
   "execution_count": 20,
   "metadata": {},
   "outputs": [
    {
     "data": {
      "text/plain": [
       "float"
      ]
     },
     "execution_count": 20,
     "metadata": {},
     "output_type": "execute_result"
    }
   ],
   "source": [
    "three_quarters = 3 / 4\n",
    "\n",
    "type(three_quarters)"
   ]
  },
  {
   "cell_type": "markdown",
   "metadata": {},
   "source": [
    "Indeed, any calculation involving division will result in a float, even if the result is a whole number (you might find this rule a little less intuitive):"
   ]
  },
  {
   "cell_type": "code",
   "execution_count": 21,
   "metadata": {},
   "outputs": [
    {
     "data": {
      "text/plain": [
       "float"
      ]
     },
     "execution_count": 21,
     "metadata": {},
     "output_type": "execute_result"
    }
   ],
   "source": [
    "two_halves = 2 / 2\n",
    "type(two_halves)"
   ]
  },
  {
   "cell_type": "markdown",
   "metadata": {},
   "source": [
    "If we are dividing integers and we would like to insist that the result also be an integer, then we can use a double slash `//` for so-called 'floor division'. The result is 'rounded down':"
   ]
  },
  {
   "cell_type": "code",
   "execution_count": 22,
   "metadata": {},
   "outputs": [
    {
     "name": "stdout",
     "output_type": "stream",
     "text": [
      "5\n"
     ]
    }
   ],
   "source": [
    "lego_bricks = 52\n",
    "bricks_per_house = 10\n",
    "houses_built = lego_bricks // bricks_per_house\n",
    "\n",
    "print(houses_built)"
   ]
  },
  {
   "cell_type": "markdown",
   "metadata": {},
   "source": [
    "### Python 2\n",
    "\n",
    "A previous version of Python, Python 2, was slightly less flexible about numeric data types. The result of division with integers in Python 2 was always an integer, with the non-whole part discarded. This could produce some surprises for the unwary, such as the result of `1 / 2` being `0`.\n",
    "\n",
    "We are learning to program with Python 3, and almost all new Python software is written for Python 3, so you do not need to worry about this. Just be aware of it if you see some older Python examples or programs when searching online.\n",
    "\n",
    "## Type conversion\n",
    "\n",
    "What if we have data of one type, but we need it to be of another? For example, we have stored the house number of an address as a string because we might need to append letters to it, but now in another part of our program we need to do some math with it, perhaps in order to find out the address of a next-door neighbor.\n",
    "\n",
    "Python has functions that convert one data type into another. Each of these functions has the same name as the abbreviated name of the data type that we are converting to. So for example `str()` converts to string, and `int()` to integer.\n",
    "\n",
    "We can apply these functions to variables within a calculation that would otherwise result in an error:"
   ]
  },
  {
   "cell_type": "code",
   "execution_count": 23,
   "metadata": {},
   "outputs": [
    {
     "name": "stdout",
     "output_type": "stream",
     "text": [
      "668\n"
     ]
    }
   ],
   "source": [
    "number_beast = '666'\n",
    "\n",
    "neighbor_beast = int(number_beast) + 2\n",
    "\n",
    "print(neighbor_beast)"
   ]
  },
  {
   "cell_type": "markdown",
   "metadata": {},
   "source": [
    "And here is a similar example but imagining we had first stored the house number as an integer:"
   ]
  },
  {
   "cell_type": "code",
   "execution_count": 24,
   "metadata": {},
   "outputs": [
    {
     "name": "stdout",
     "output_type": "stream",
     "text": [
      "666b\n"
     ]
    }
   ],
   "source": [
    "number_beast = 666\n",
    "\n",
    "annexe_beast = str(number_beast) + 'b'\n",
    "\n",
    "print(annexe_beast)"
   ]
  },
  {
   "cell_type": "markdown",
   "metadata": {},
   "source": [
    "Remind yourself one more time that the values of string and numeric variables are not changed unless we overwrite them with an `=` assignment. Forgetting that this principle also applies to type conversion can lead to a common beginners' mistake.\n",
    "\n",
    "Line 2 in this example has no effect on the type of the `number_beast`variable because it is not assigned anywhere:"
   ]
  },
  {
   "cell_type": "code",
   "execution_count": 25,
   "metadata": {
    "tags": [
     "raises-exception"
    ]
   },
   "outputs": [
    {
     "ename": "TypeError",
     "evalue": "unsupported operand type(s) for +: 'int' and 'str'",
     "output_type": "error",
     "traceback": [
      "\u001b[0;31m---------------------------------------------------------------------------\u001b[0m",
      "\u001b[0;31mTypeError\u001b[0m                                 Traceback (most recent call last)",
      "\u001b[0;32m<ipython-input-25-293d2fd1f181>\u001b[0m in \u001b[0;36m<module>\u001b[0;34m\u001b[0m\n\u001b[1;32m      2\u001b[0m \u001b[0mstr\u001b[0m\u001b[0;34m(\u001b[0m\u001b[0mnumber_beast\u001b[0m\u001b[0;34m)\u001b[0m\u001b[0;34m\u001b[0m\u001b[0;34m\u001b[0m\u001b[0m\n\u001b[1;32m      3\u001b[0m \u001b[0;34m\u001b[0m\u001b[0m\n\u001b[0;32m----> 4\u001b[0;31m \u001b[0mannexe_beast\u001b[0m \u001b[0;34m=\u001b[0m \u001b[0mnumber_beast\u001b[0m \u001b[0;34m+\u001b[0m \u001b[0;34m'b'\u001b[0m\u001b[0;34m\u001b[0m\u001b[0;34m\u001b[0m\u001b[0m\n\u001b[0m\u001b[1;32m      5\u001b[0m \u001b[0;34m\u001b[0m\u001b[0m\n\u001b[1;32m      6\u001b[0m \u001b[0mprint\u001b[0m\u001b[0;34m(\u001b[0m\u001b[0mannexe_beast\u001b[0m\u001b[0;34m)\u001b[0m\u001b[0;34m\u001b[0m\u001b[0;34m\u001b[0m\u001b[0m\n",
      "\u001b[0;31mTypeError\u001b[0m: unsupported operand type(s) for +: 'int' and 'str'"
     ]
    }
   ],
   "source": [
    "number_beast = 666\n",
    "str(number_beast)\n",
    "\n",
    "annexe_beast = number_beast + 'b'\n",
    "\n",
    "print(annexe_beast)"
   ]
  },
  {
   "cell_type": "markdown",
   "metadata": {},
   "source": [
    "Here the problem is fixed:"
   ]
  },
  {
   "cell_type": "code",
   "execution_count": 26,
   "metadata": {},
   "outputs": [
    {
     "name": "stdout",
     "output_type": "stream",
     "text": [
      "666b\n"
     ]
    }
   ],
   "source": [
    "number_beast = 666\n",
    "number_beast = str(number_beast)\n",
    "\n",
    "annexe_beast = number_beast + 'b'\n",
    "\n",
    "print(annexe_beast)"
   ]
  },
  {
   "cell_type": "markdown",
   "metadata": {},
   "source": [
    "We saw above that Python handles the two numeric data types integer and float fairly flexibly and intuitively if we mix them in mathematical expressions. For this reason it is not so often necessary to convert variables between these two types.\n",
    "\n",
    "(The most common case in which we do want to do this is in order to convert float to integer. We will later encounter some situations in which we definitely need integers.)\n",
    "\n",
    "## User input\n",
    "\n",
    "Let's take a look at a common situation in which type conversion from string to numeric is necessary. In one of our first example programs, [greeting_personal.py](examples/greeting_personal.py#L9), we used the `input()` function in order to prompt the user to type something in at the console.\n",
    "\n",
    "The `input()` function always [returns](glossary.ipynb#return) a string, even if the user types in a valid number. If we try to do math with the result, we will encounter an error:"
   ]
  },
  {
   "cell_type": "code",
   "execution_count": 27,
   "metadata": {
    "tags": [
     "raises-exception"
    ]
   },
   "outputs": [
    {
     "name": "stdout",
     "output_type": "stream",
     "text": [
      "How old are you? 52\n"
     ]
    },
    {
     "ename": "TypeError",
     "evalue": "can only concatenate str (not \"int\") to str",
     "output_type": "error",
     "traceback": [
      "\u001b[0;31m---------------------------------------------------------------------------\u001b[0m",
      "\u001b[0;31mTypeError\u001b[0m                                 Traceback (most recent call last)",
      "\u001b[0;32m<ipython-input-27-e69a11705ffd>\u001b[0m in \u001b[0;36m<module>\u001b[0;34m\u001b[0m\n\u001b[1;32m      1\u001b[0m \u001b[0muser_age\u001b[0m \u001b[0;34m=\u001b[0m \u001b[0minput\u001b[0m\u001b[0;34m(\u001b[0m\u001b[0;34m'How old are you? '\u001b[0m\u001b[0;34m)\u001b[0m\u001b[0;34m\u001b[0m\u001b[0;34m\u001b[0m\u001b[0m\n\u001b[0;32m----> 2\u001b[0;31m \u001b[0mage_next_year\u001b[0m \u001b[0;34m=\u001b[0m \u001b[0muser_age\u001b[0m \u001b[0;34m+\u001b[0m \u001b[0;36m1\u001b[0m\u001b[0;34m\u001b[0m\u001b[0;34m\u001b[0m\u001b[0m\n\u001b[0m",
      "\u001b[0;31mTypeError\u001b[0m: can only concatenate str (not \"int\") to str"
     ]
    }
   ],
   "source": [
    "user_age = input('How old are you? ')\n",
    "age_next_year = user_age + 1"
   ]
  },
  {
   "cell_type": "markdown",
   "metadata": {},
   "source": [
    "Python has no way of knowing what type of data we want to get from the user. So in order to 'play it safe' and always be consistent, Python makes it a string and leaves it up to us to convert the contents of the string if necessary.\n",
    "\n",
    "So if we want to get numbers from the user, we must first convert the result of `input()`:"
   ]
  },
  {
   "cell_type": "code",
   "execution_count": 28,
   "metadata": {},
   "outputs": [
    {
     "name": "stdout",
     "output_type": "stream",
     "text": [
      "How old are you? 52\n",
      "53\n"
     ]
    }
   ],
   "source": [
    "user_age = input('How old are you? ')\n",
    "user_age = int(user_age)\n",
    "age_next_year = user_age + 1\n",
    "\n",
    "print(age_next_year)"
   ]
  },
  {
   "cell_type": "markdown",
   "metadata": {},
   "source": [
    "The example program [age_next_year.py](examples/age_next_year.py) shows how to use this pattern of Python commands in a simple program. If you would like to explore type conversion a little more, open up the file in Spyder, save a new copy of it, for example under the name *age_next_year_v2.py*, and try out a few changes:\n",
    "\n",
    "* Does it matter for the workings of the program if you convert the user input to float instead of integer?\n",
    "* Why is it necessary to use the `str()` type conversion function on [line 14](examples/age_next_year.py#L14)? What happens if you remove it?\n",
    "* What happens if the user enters a non-whole number for their age, such as `6.75`?\n",
    "\n",
    "### Python 2 again\n",
    "\n",
    "One of the other most noticeable differences in the previous version of Python was the behavior of the `input()` function. Confusingly, in Python 2 this function treated the user's input not as a string, nor even as a number, but as a *Python command*, which Python 2 would then [evaluate](glossary.ipynb#evaluate). In theory this allowed malicious or just clumsy users to completely mess up the workings of a program by entering their own Python commands at the console while the program was running. So Python 3 takes the much safer option of just treating all user inputs as strings.\n",
    "\n",
    "Again, you do not need to worry about this since we will always be working with Python 3. Just be aware of it if you encounter old Python examples on the internet.\n",
    "\n",
    "## Methods\n",
    "\n",
    "As we have seen, Python's [type](glossary.ipynb#type) system lays down some (mostly) sensible rules about what we can and cannot do with various types of data. For example, we can perform division with integers and floats but not with strings. How does this work 'behind the scenes'? It turns out that for any variable we can access a list of the things that it is possible to do with a variable of that type. Along with the actual data stored in a variable, Python stores various links to the operations that it is possible to carry out with that type of data.\n",
    "\n",
    "The `dir()` function returns this list of possibilities for a certain variable. Let's try it for our `name` variable. Since this variable is a string, `dir()` tells us what it is possible to do with strings."
   ]
  },
  {
   "cell_type": "code",
   "execution_count": 29,
   "metadata": {},
   "outputs": [
    {
     "data": {
      "text/plain": [
       "['__add__',\n",
       " '__class__',\n",
       " '__contains__',\n",
       " '__delattr__',\n",
       " '__dir__',\n",
       " '__doc__',\n",
       " '__eq__',\n",
       " '__format__',\n",
       " '__ge__',\n",
       " '__getattribute__',\n",
       " '__getitem__',\n",
       " '__getnewargs__',\n",
       " '__gt__',\n",
       " '__hash__',\n",
       " '__init__',\n",
       " '__init_subclass__',\n",
       " '__iter__',\n",
       " '__le__',\n",
       " '__len__',\n",
       " '__lt__',\n",
       " '__mod__',\n",
       " '__mul__',\n",
       " '__ne__',\n",
       " '__new__',\n",
       " '__reduce__',\n",
       " '__reduce_ex__',\n",
       " '__repr__',\n",
       " '__rmod__',\n",
       " '__rmul__',\n",
       " '__setattr__',\n",
       " '__sizeof__',\n",
       " '__str__',\n",
       " '__subclasshook__',\n",
       " 'capitalize',\n",
       " 'casefold',\n",
       " 'center',\n",
       " 'count',\n",
       " 'encode',\n",
       " 'endswith',\n",
       " 'expandtabs',\n",
       " 'find',\n",
       " 'format',\n",
       " 'format_map',\n",
       " 'index',\n",
       " 'isalnum',\n",
       " 'isalpha',\n",
       " 'isascii',\n",
       " 'isdecimal',\n",
       " 'isdigit',\n",
       " 'isidentifier',\n",
       " 'islower',\n",
       " 'isnumeric',\n",
       " 'isprintable',\n",
       " 'isspace',\n",
       " 'istitle',\n",
       " 'isupper',\n",
       " 'join',\n",
       " 'ljust',\n",
       " 'lower',\n",
       " 'lstrip',\n",
       " 'maketrans',\n",
       " 'partition',\n",
       " 'replace',\n",
       " 'rfind',\n",
       " 'rindex',\n",
       " 'rjust',\n",
       " 'rpartition',\n",
       " 'rsplit',\n",
       " 'rstrip',\n",
       " 'split',\n",
       " 'splitlines',\n",
       " 'startswith',\n",
       " 'strip',\n",
       " 'swapcase',\n",
       " 'title',\n",
       " 'translate',\n",
       " 'upper',\n",
       " 'zfill']"
      ]
     },
     "execution_count": 29,
     "metadata": {},
     "output_type": "execute_result"
    }
   ],
   "source": [
    "dir(name)"
   ]
  },
  {
   "cell_type": "markdown",
   "metadata": {},
   "source": [
    "(Note that it is only very rarely that we will need to use the `dir()` function in an actual program. It is instead a useful function to enter at the console when we are experimenting and checking Python's behavior. It can be particularly useful when we encounter a new [type](glossary.ipynb#type) and want an overview of the sorts of things that it can do.)\n",
    "\n",
    "In the output from `dir()` we see various things enclosed in double underscores `__ __`. We do not need to concern ourselves with these for the moment. They define the behavior of strings when they appear in various Python commands. For example, the `__add__` entry refers to the behavior of strings when we combine them with the `+` operator.\n",
    "\n",
    "The entries that interest us for the moment are those without underscores. These are the names of functions that can be applied to strings. Functions that are defined especially for one data type and can be accessed through variables of that type are called '[methods](glossary.ipynb#method)' for that data type. For example, the penultimate entry in the list of string methods above is a method called `upper`. This method [returns](glossary.ipynb#return) an all UPPERCASE version of the string. This method is special to strings; it wouldn't make any sense for other data types.\n",
    "\n",
    "The syntax for [calling](glossary.ipynb#call) a method has a lot in common with the syntax for calling any other function:\n",
    "\n",
    "* place parentheses after the name of the method\n",
    "* (optionally) place any input [arguments](glossary.ipynb#argument) for the method inside the parentheses\n",
    "\n",
    "But there is an important difference. We first 'go into' the variable that we want to apply the method to, and get the method from there. To go into a variable like this in Python, we place a dot (`.`) after its name.\n",
    "\n",
    "So to call the `upper()` method on our string variable `name`:"
   ]
  },
  {
   "cell_type": "code",
   "execution_count": 30,
   "metadata": {},
   "outputs": [
    {
     "data": {
      "text/plain": [
       "'MILDRED T. BONK'"
      ]
     },
     "execution_count": 30,
     "metadata": {},
     "output_type": "execute_result"
    }
   ],
   "source": [
    "name.upper()"
   ]
  },
  {
   "cell_type": "markdown",
   "metadata": {},
   "source": [
    "Note that we do not also need to put the variable inside the parentheses, as we do with functions. Because we have accessed the method by first going into a particular variable, Python already understands that we wish to apply the method to that same variable.\n",
    "\n",
    "Indeed, if we make this mistake, we may get an error message telling us that we have given too many [input arguments](glossary.ipynb#argument):"
   ]
  },
  {
   "cell_type": "code",
   "execution_count": 31,
   "metadata": {
    "tags": [
     "raises-exception"
    ]
   },
   "outputs": [
    {
     "ename": "TypeError",
     "evalue": "upper() takes no arguments (1 given)",
     "output_type": "error",
     "traceback": [
      "\u001b[0;31m---------------------------------------------------------------------------\u001b[0m",
      "\u001b[0;31mTypeError\u001b[0m                                 Traceback (most recent call last)",
      "\u001b[0;32m<ipython-input-31-b59fa512a01b>\u001b[0m in \u001b[0;36m<module>\u001b[0;34m\u001b[0m\n\u001b[0;32m----> 1\u001b[0;31m \u001b[0mname\u001b[0m\u001b[0;34m.\u001b[0m\u001b[0mupper\u001b[0m\u001b[0;34m(\u001b[0m\u001b[0mname\u001b[0m\u001b[0;34m)\u001b[0m\u001b[0;34m\u001b[0m\u001b[0;34m\u001b[0m\u001b[0m\n\u001b[0m",
      "\u001b[0;31mTypeError\u001b[0m: upper() takes no arguments (1 given)"
     ]
    }
   ],
   "source": [
    "name.upper(name)"
   ]
  },
  {
   "cell_type": "markdown",
   "metadata": {},
   "source": [
    "And remember once again that strings are [immutable](glossary.ipynb#mutability). Calling a method of a string variable does not change the string, it merely [returns](glossary.ipynb#return) the result."
   ]
  },
  {
   "cell_type": "code",
   "execution_count": 32,
   "metadata": {},
   "outputs": [
    {
     "name": "stdout",
     "output_type": "stream",
     "text": [
      "Mildred T. Bonk\n"
     ]
    }
   ],
   "source": [
    "name.upper()\n",
    "\n",
    "print(name)"
   ]
  },
  {
   "cell_type": "markdown",
   "metadata": {},
   "source": [
    "Some methods require additional input [arguments](glossary.ipynb#argument). For example the string method `count()` counts how many times a particular 'substring' appears inside a string variable. The input argument is the substring to count:"
   ]
  },
  {
   "cell_type": "code",
   "execution_count": 33,
   "metadata": {},
   "outputs": [
    {
     "name": "stdout",
     "output_type": "stream",
     "text": [
      "Mildred T. Bonk\n"
     ]
    },
    {
     "data": {
      "text/plain": [
       "2"
      ]
     },
     "execution_count": 33,
     "metadata": {},
     "output_type": "execute_result"
    }
   ],
   "source": [
    "print(name)\n",
    "\n",
    "name.count('d')"
   ]
  },
  {
   "cell_type": "markdown",
   "metadata": {},
   "source": [
    "Note that Python strings are 'case-sensitive'. UPPERCASE characters are not considered the same as their lowercase counterparts:"
   ]
  },
  {
   "cell_type": "code",
   "execution_count": 34,
   "metadata": {},
   "outputs": [
    {
     "name": "stdout",
     "output_type": "stream",
     "text": [
      "Credibility Street\n"
     ]
    },
    {
     "data": {
      "text/plain": [
       "0"
      ]
     },
     "execution_count": 34,
     "metadata": {},
     "output_type": "execute_result"
    }
   ],
   "source": [
    "print(street)\n",
    "street.count('s')"
   ]
  },
  {
   "cell_type": "markdown",
   "metadata": {},
   "source": [
    "Python [syntax](glossary.ipynb#syntax) allows methods to be applied one after another within the same command. Immediately after calling one method, we can use the `.` syntax again to call another method on the *result* of calling the first method.\n",
    "\n",
    "For example, to first get a lowercase version of a string and then count the occurrences of a particular character in that lowercase version:"
   ]
  },
  {
   "cell_type": "code",
   "execution_count": 35,
   "metadata": {},
   "outputs": [
    {
     "data": {
      "text/plain": [
       "1"
      ]
     },
     "execution_count": 35,
     "metadata": {},
     "output_type": "execute_result"
    }
   ],
   "source": [
    "street.lower().count('s')"
   ]
  },
  {
   "cell_type": "markdown",
   "metadata": {},
   "source": [
    "A common pattern when dealing with user input is to apply a few string methods to the input in order to 'clean' it. If we would like to make our program a little more robust to variations in user behavior, we can for example strip away any surrounding spaces that they typed by accident (with the `strip()` method), and then convert the result to lowercase (with the `lower()` method).\n",
    "\n",
    "For example to allow the user to type `'yes'`, `'Yes'`, `'YES'`, or even `'      yEs'` and make all these inputs equivalent to `'yes'`:"
   ]
  },
  {
   "cell_type": "code",
   "execution_count": 36,
   "metadata": {},
   "outputs": [
    {
     "name": "stdout",
     "output_type": "stream",
     "text": [
      "Would you like a buttered crumpet?       YES\n",
      "yes\n"
     ]
    }
   ],
   "source": [
    "answer = input('Would you like a buttered crumpet? ')\n",
    "answer = answer.strip().lower()\n",
    "\n",
    "print(answer)"
   ]
  },
  {
   "cell_type": "markdown",
   "metadata": {},
   "source": [
    "Now would be a good moment to turn to the console in Spyder and explore some of the other string methods. In the console, create yourself a string variable (for example by entering a command like `word = 'floccinaucinihilipilification'`), then use the `dir()` function to view its available methods, then try to apply some of them to see what they do.\n",
    "\n",
    "Some string methods are a bit too complex for us at this stage. Try the following ones:\n",
    "\n",
    "* `capitalize()`\n",
    "* `count()`\n",
    "* `endswith()`\n",
    "* `find()`\n",
    "* `index()` (Note the subtle difference from `find()`.)\n",
    "* `lower()`\n",
    "* `lstrip()`\n",
    "* `replace()`\n",
    "* `rstrip()`\n",
    "* `split()`\n",
    "* `startswith()`\n",
    "* `strip()`\n",
    "* `swapcase()`\n",
    "* `title()`\n",
    "* `upper()`\n",
    "\n",
    "If you are feeling adventurous you can just try these out and see whether you can work out what they do. If so, make sure to test them with a variety of different strings to check that you have really understood their behavior. If you would like to check or need some help with examples, you can search online for *Python string method x* or you can read the official documentation for all of Python's string methods [here](https://docs.python.org/3/library/stdtypes.html#string-methods).\n",
    "\n",
    "You might be wondering whether the two numeric data types that we have learned about also have methods. They do. But because we tend to work with numbers primarily using mathematical [operators](glossary.ipynb#operator), we rarely need to work directly with their methods as we do for strings.\n",
    "\n",
    "### String formatting\n",
    "\n",
    "We will look now at just one more string method together, because it is a very useful one, but whose use is not completely straightforward. The `format()` method inserts the values of other variables into certain positions in a string. This is particularly useful for preparing neat printouts for the users of our programs.\n",
    "\n",
    "To use `format()`, our string must contain the characters `{}` in the positions where we would like to insert something. These positions are termed 'replacement fields', and they will be replaced by the values from the variables that we give as [arguments](glossary.ipynb#argument) to the `format()` method.\n",
    "\n",
    "Let's see an example using `format()` to print out a few different pieces of information contained in the variables we created at the beginning of this lesson:"
   ]
  },
  {
   "cell_type": "code",
   "execution_count": 37,
   "metadata": {},
   "outputs": [
    {
     "data": {
      "text/plain": [
       "'User Mildred T. Bonk is 22 years old and 1.96 meters tall.'"
      ]
     },
     "execution_count": 37,
     "metadata": {},
     "output_type": "execute_result"
    }
   ],
   "source": [
    "message = 'User {} is {} years old and {} meters tall.'\n",
    "\n",
    "message.format(name, age, height)"
   ]
  },
  {
   "cell_type": "markdown",
   "metadata": {},
   "source": [
    "We can see that if we have multiple `{}` replacement fields, these are replaced with the values of the variables that we give to `format()` in the order that we enter them. Notice also that we did not have to use the `str()` type conversion function to convert the two numeric variables `age` and `height` into strings; `format()` handles variables of different types automatically.\n",
    "\n",
    "There is a little bit more to the `format()` method than this. For example, we can also specify how many decimal places of a [float](glossary.ipynb#float) to insert into the string, and other details. But this is enough for now about `format()`, and about string methods in general. If you would like to see an example of a program that makes use of a few string methods, take a look at [name_trivia.py](examples/name_trivia.py).\n",
    "\n",
    "## Other types\n",
    "\n",
    "Are there other data types in Python? Is there anything in the world worth talking about other than words and numbers?\n",
    "\n",
    "Yes. In fact there are lots more. We will finish this lesson with a quick overview of a few more types. We will learn about these in more detail in the lessons that follow.\n",
    "\n",
    "### Boolean\n",
    "\n",
    "Variables of [boolean](glossary.ipynb#boolean) type are very simple. They store one of only two possible values: `True` or `False`. Boolean values can be the result of various Python commands whose purpose is to check whether or not something is the case. For example, the string [method](glossary.ipynb#method) `startswith()` [returns](glossary.ipynb#return) a boolean value, `True` if the string starts with a particular substring, and `False` otherwise:"
   ]
  },
  {
   "cell_type": "code",
   "execution_count": 38,
   "metadata": {},
   "outputs": [
    {
     "name": "stdout",
     "output_type": "stream",
     "text": [
      "Mildred T. Bonk\n",
      "False\n"
     ]
    },
    {
     "data": {
      "text/plain": [
       "bool"
      ]
     },
     "execution_count": 38,
     "metadata": {},
     "output_type": "execute_result"
    }
   ],
   "source": [
    "print(name)\n",
    "\n",
    "answer = name.startswith('m')\n",
    "\n",
    "print(answer)\n",
    "type(answer)"
   ]
  },
  {
   "cell_type": "markdown",
   "metadata": {},
   "source": [
    "(If you were expecting `True` above, remember that strings are case-sensitive.)\n",
    "\n",
    "### None\n",
    "\n",
    "Occasionally, the status of some piece of information in our program is neither true nor false nor a string nor a number nor anything, it is instead simply undefined. There is an 'empty' type called [`None`](glossary.ipynb#None) for this eventuality. We might occasionally [assign](glossary.ipynb#assignment) `None` into a variable as a default starting value, anticipating that this value might be changed later on in our program."
   ]
  },
  {
   "cell_type": "code",
   "execution_count": 39,
   "metadata": {},
   "outputs": [
    {
     "data": {
      "text/plain": [
       "NoneType"
      ]
     },
     "execution_count": 39,
     "metadata": {},
     "output_type": "execute_result"
    }
   ],
   "source": [
    "proof_of_Riemann_conjecture = None\n",
    "\n",
    "type(proof_of_Riemann_conjecture)"
   ]
  },
  {
   "cell_type": "markdown",
   "metadata": {},
   "source": [
    "We can also sometimes get a `None` value if we try to [assign](glossary.ipynb#assignment) the result of a function that actually does not [return](glossary.ipynb#return) anything. For example, although the `print()` function serves to display output for the user of our program, it does not actually return any value that can be assigned. By default, a function that does not return anything returns `None`."
   ]
  },
  {
   "cell_type": "code",
   "execution_count": 40,
   "metadata": {},
   "outputs": [
    {
     "name": "stdout",
     "output_type": "stream",
     "text": [
      "Hi.\n"
     ]
    },
    {
     "data": {
      "text/plain": [
       "NoneType"
      ]
     },
     "execution_count": 40,
     "metadata": {},
     "output_type": "execute_result"
    }
   ],
   "source": [
    "x = print('Hi.')\n",
    "\n",
    "type(x)"
   ]
  },
  {
   "cell_type": "markdown",
   "metadata": {},
   "source": [
    "### Tuple\n",
    "\n",
    "We briefly encountered the [tuple](glossary.ipynb#tuple) by mistake earlier, when we tried to create a [float](glossary.ipynb#float) using a comma for the decimal separator instead of a point. The comma is not the correct Python [syntax](glossary.ipynb#tuple) for the decimal separator, but it turns out that it *is* the correct syntax for something else: separating multiple values in a sequence. The result is a data type that does exactly that; it stores multiple values in a sequence. Although not an absolutely necessary aspect of the syntax, it is an extremely common convention to also place parentheses around the sequence of values when creating a tuple, as this makes our program clearer.\n",
    "\n",
    "Here is an example of creating a tuple:"
   ]
  },
  {
   "cell_type": "code",
   "execution_count": 41,
   "metadata": {},
   "outputs": [
    {
     "data": {
      "text/plain": [
       "tuple"
      ]
     },
     "execution_count": 41,
     "metadata": {},
     "output_type": "execute_result"
    }
   ],
   "source": [
    "shopping = ('eggs', 'bacon', 'black pudding')\n",
    "\n",
    "type(shopping)"
   ]
  },
  {
   "cell_type": "markdown",
   "metadata": {},
   "source": [
    "We can refer to the values in a tuple using their [indices](glossary.ipynb#index), their numbered positions in the sequence. We place the index in square parentheses `[]` after the name of the tuple variable.\n",
    "\n",
    "Beware that Python's numbering system for sequences begins at zero. So the first value in a tuple has index `0`, the second value has index `1`, and so on."
   ]
  },
  {
   "cell_type": "code",
   "execution_count": 42,
   "metadata": {},
   "outputs": [
    {
     "name": "stdout",
     "output_type": "stream",
     "text": [
      "eggs\n",
      "bacon\n"
     ]
    }
   ],
   "source": [
    "print(shopping[0])\n",
    "print(shopping[1])"
   ]
  },
  {
   "cell_type": "markdown",
   "metadata": {},
   "source": [
    "We cannot change individual values in a tuple. Here is what happens if we try:"
   ]
  },
  {
   "cell_type": "code",
   "execution_count": 43,
   "metadata": {
    "tags": [
     "raises-exception"
    ]
   },
   "outputs": [
    {
     "ename": "TypeError",
     "evalue": "'tuple' object does not support item assignment",
     "output_type": "error",
     "traceback": [
      "\u001b[0;31m---------------------------------------------------------------------------\u001b[0m",
      "\u001b[0;31mTypeError\u001b[0m                                 Traceback (most recent call last)",
      "\u001b[0;32m<ipython-input-43-21c829b36b26>\u001b[0m in \u001b[0;36m<module>\u001b[0;34m\u001b[0m\n\u001b[0;32m----> 1\u001b[0;31m \u001b[0mshopping\u001b[0m\u001b[0;34m[\u001b[0m\u001b[0;36m1\u001b[0m\u001b[0;34m]\u001b[0m \u001b[0;34m=\u001b[0m \u001b[0;34m'organic vegan bacon'\u001b[0m\u001b[0;34m\u001b[0m\u001b[0;34m\u001b[0m\u001b[0m\n\u001b[0m",
      "\u001b[0;31mTypeError\u001b[0m: 'tuple' object does not support item assignment"
     ]
    }
   ],
   "source": [
    "shopping[1] = 'organic vegan bacon'"
   ]
  },
  {
   "cell_type": "markdown",
   "metadata": {},
   "source": [
    "Like all the data types we have encountered so far, tuples are [immutable](glossary.ipynb#mutability). If we want to change the contents of a tuple variable, we must overwrite the whole thing by assigning it anew with `=`."
   ]
  },
  {
   "cell_type": "code",
   "execution_count": 44,
   "metadata": {},
   "outputs": [],
   "source": [
    "shopping = ('eggs', 'organic vegan bacon', 'black pudding')"
   ]
  },
  {
   "cell_type": "markdown",
   "metadata": {},
   "source": [
    "### List\n",
    "\n",
    "Not being able to change individual values in a tuple seems like a very onerous restriction. What if we are working with data that need to be updated or added to as our program runs? [Lists](glossary.ipynb#list), the final data type that we will learn about in this lesson, provide just this ability. A list is an ordered sequence of values, just like a tuple, but it is [mutable](glossary.ipynb#mutability); we can change one item in a list without having to re-assign the whole thing.\n",
    "\n",
    "The [syntax](glossary.ipynb#syntax) for creating a list is the same as for creating a tuple, except with square parentheses in place of round ones:"
   ]
  },
  {
   "cell_type": "code",
   "execution_count": 45,
   "metadata": {},
   "outputs": [
    {
     "data": {
      "text/plain": [
       "list"
      ]
     },
     "execution_count": 45,
     "metadata": {},
     "output_type": "execute_result"
    }
   ],
   "source": [
    "shopping_list = ['eggs', 'bacon', 'black pudding']\n",
    "\n",
    "type(shopping_list)"
   ]
  },
  {
   "cell_type": "markdown",
   "metadata": {},
   "source": [
    "Python allows us to change individual values in a list:"
   ]
  },
  {
   "cell_type": "code",
   "execution_count": 46,
   "metadata": {},
   "outputs": [
    {
     "name": "stdout",
     "output_type": "stream",
     "text": [
      "['eggs', 'organic vegan bacon', 'black pudding']\n"
     ]
    }
   ],
   "source": [
    "shopping_list[1] = 'organic vegan bacon'\n",
    "\n",
    "print(shopping_list)"
   ]
  },
  {
   "cell_type": "markdown",
   "metadata": {},
   "source": [
    "There are also list [methods](glossary.ipynb#method), like the string methods we learned about above. For example, there is a list method called `append()` for adding a new value to the end of the list:"
   ]
  },
  {
   "cell_type": "code",
   "execution_count": 47,
   "metadata": {},
   "outputs": [
    {
     "name": "stdout",
     "output_type": "stream",
     "text": [
      "['eggs', 'organic vegan bacon', 'black pudding', 'sausages']\n"
     ]
    }
   ],
   "source": [
    "shopping_list.append('sausages')\n",
    "\n",
    "print(shopping_list)"
   ]
  },
  {
   "cell_type": "markdown",
   "metadata": {},
   "source": [
    "Notice what just happened. The `append()` method changed the list without our having to [assign](glossary.ipynb#assignment) the result back into the list variable with `=`. This is different from the behavior of string methods. As we learned above, string methods always just [return](glossary.ipynb#return) the result of whatever it is that they do with the string, but they do not change the string while doing so. List methods just go ahead and change the list.\n",
    "\n",
    "This distinction is important, and forgetting it can lead to some frustrating mistakes. Let's see what happens if we try to use a list method as if it were a string method, and assign its return value back into the original list variable:"
   ]
  },
  {
   "cell_type": "code",
   "execution_count": 48,
   "metadata": {},
   "outputs": [
    {
     "name": "stdout",
     "output_type": "stream",
     "text": [
      "None\n"
     ]
    }
   ],
   "source": [
    "shopping_list = shopping_list.append('more sausages')\n",
    "\n",
    "print(shopping_list)"
   ]
  },
  {
   "cell_type": "markdown",
   "metadata": {},
   "source": [
    "The `print()` function suddenly seems to have no effect, and prints nothing. This is because our list has gone. List methods do not do their work by outputting a [return value](glossary.ipynb#return) as string methods do. Most list methods do not output anything. As we learned a moment ago, the output of a function that does not have any defined output is the `None` value. So our list has become just `None`."
   ]
  },
  {
   "cell_type": "code",
   "execution_count": 49,
   "metadata": {},
   "outputs": [
    {
     "data": {
      "text/plain": [
       "NoneType"
      ]
     },
     "execution_count": 49,
     "metadata": {},
     "output_type": "execute_result"
    }
   ],
   "source": [
    "type(shopping_list)"
   ]
  },
  {
   "cell_type": "markdown",
   "metadata": {},
   "source": [
    "So beware. If you want to change a list, it is enough to just use the list method. Don't assign the result back into the list variable.\n",
    "\n",
    "As you did for string methods above, take a moment to go to the console in Spyder and explore the behavior of some of the list methods. Try to discover what the following methods do:\n",
    "\n",
    "* `clear()`\n",
    "* `count()`\n",
    "* `index()`\n",
    "* `insert()`\n",
    "* `remove()`\n",
    "* `reverse()`\n",
    "* `sort()`\n",
    "\n",
    "Because list methods just change the contents of the list behind the scenes and do not produce output, you will need to `print()` your list after applying each method to see what change has taken place.\n",
    "\n",
    "## Exercises\n",
    "\n",
    "### 1\n",
    "\n",
    "A good way to strengthen your understanding of how Python works is to test that understanding regularly. When you test out a command in the console, try first to predict what the result will be, and only then type it in to check whether you were right. What is the result of each of the following short programs?\n",
    "\n",
    "#### a)\n",
    "\n",
    "```python\n",
    "name = 'Mildred T. Bonk'\n",
    "name.lower()\n",
    "m_count = name.count('m')\n",
    "print(m_count)\n",
    "```\n",
    "\n",
    "#### b)\n",
    "\n",
    "```python\n",
    "info = ('Mildred T. Bonk', 22, 1.96)\n",
    "print(info[1].lower())\n",
    "```\n",
    "\n",
    "#### c)\n",
    "\n",
    "```python\n",
    "names = ['Mildred', 'T.', 'Bonk']\n",
    "print(names.reverse())\n",
    "```\n",
    "\n",
    "### 2\n",
    "\n",
    "The ['half-your-age-plus-seven' rule](https://en.wikipedia.org/wiki/Age_disparity_in_sexual_relationships#The_%22half-your-age-plus-seven%22_rule) is a folk rule of thumb used to calculate the minimum socially acceptable age of your dating partners, given your age. The rule asserts that if your age is $x$, then the minimum socially acceptable age for your partner is:\n",
    "\n",
    "$$\n",
    "\\frac{x}{2} + 7\n",
    "$$\n",
    "\n",
    "Write a program that asks the user for their age, and then tells them the result of applying this rule of thumb."
   ]
  }
 ],
 "metadata": {
  "celltoolbar": "Tags",
  "kernelspec": {
   "display_name": "Python 3",
   "language": "python",
   "name": "python3"
  },
  "language_info": {
   "codemirror_mode": {
    "name": "ipython",
    "version": 3
   },
   "file_extension": ".py",
   "mimetype": "text/x-python",
   "name": "python",
   "nbconvert_exporter": "python",
   "pygments_lexer": "ipython3",
   "version": "3.8.5"
  },
  "toc": {
   "base_numbering": 1,
   "nav_menu": {},
   "number_sections": false,
   "sideBar": true,
   "skip_h1_title": true,
   "title_cell": "Contents",
   "title_sidebar": "Contents",
   "toc_cell": true,
   "toc_position": {},
   "toc_section_display": true,
   "toc_window_display": false
  }
 },
 "nbformat": 4,
 "nbformat_minor": 4
}
