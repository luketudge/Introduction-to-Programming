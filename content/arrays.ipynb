{
 "cells": [
  {
   "cell_type": "code",
   "execution_count": 1,
   "metadata": {
    "tags": [
     "remove-cell"
    ]
   },
   "outputs": [],
   "source": [
    "import os\n",
    "import sys\n",
    "\n",
    "sys.path.insert(0, os.path.abspath('examples'))"
   ]
  },
  {
   "cell_type": "markdown",
   "metadata": {},
   "source": [
    "# Array computing\n",
    "\n",
    "Various tasks in science and mathematics involve manipulating collections of numbers organized in vectors or matrices. You may remember this from high school or college, depending on how far you took math. In this lesson we will learn about how to manipulate vectors and matrices with Python, so let's start by briefly recapping what these things are.\n",
    "\n",
    "## Vectors\n",
    "\n",
    "A [vector](glossary.ipynb#vector) is a collection of multiple numbers arranged in a specific order. Vectors have various uses. They can be used in data analysis to represent multiple observations of the same type. For example, some shoe sizes:\n",
    "\n",
    "$$\n",
    "\\begin{bmatrix}\n",
    "42 & 39 & 72 & 45 \\\\\n",
    "\\end{bmatrix}\n",
    "$$\n",
    "\n",
    "Vectors are also commonly used to represent points in a multidimensional space. For example, a vector of three numbers could record the *height, width, depth* coordinates of a point in three-dimensional space:\n",
    "\n",
    "$$\n",
    "\\begin{bmatrix}\n",
    "2.4 & 1.0 & 3.7 \\\\\n",
    "\\end{bmatrix}\n",
    "$$\n",
    "\n",
    "## Matrices\n",
    "\n",
    "As well as being a virtual-reality environment in which our machine overlords keep us entertained while harvesting our energy in defiance of the laws of thermodynamics, a [matrix](glossary.ipynb#matrix) is a collection of multiple numbers arranged in rows and columns. Like vectors, matrices have various purposes in practical applications of math. A matrix might record multiple observations of multiple variables, where each row is an observation and each column is a variable. For example, for four people, their shoe sizes, IQ scores, and whether or not they work as a clown (`0` for 'no' and `1` for 'yes'):\n",
    "\n",
    "$$\n",
    "\\begin{bmatrix}\n",
    "42 & 150 & 0 \\\\\n",
    "39 & 115 & 0 \\\\\n",
    "72 & 180 & 1 \\\\\n",
    "45 & 85 & 0 \\\\\n",
    "\\end{bmatrix}\n",
    "$$\n",
    "\n",
    "Or a matrix might record the coordinates of a group of points in some space. For a two-dimensional space, the matrix might have two columns, representing the *x* and *y* (or horizontal and vertical) axes of the space, and each row would then represent one point in the space. For example:\n",
    "\n",
    "$$\n",
    "\\begin{bmatrix}\n",
    "1 & 2 \\\\\n",
    "5 & 3 \\\\\n",
    "9 & 4 \\\\\n",
    "13 & 5 \\\\\n",
    "\\end{bmatrix}\n",
    "$$\n",
    "\n",
    "These two example uses of matrices are not in fact as different as they might appear. They can be considered within the same conceptual framework. Just as *x,y* coordinates may represent points in an actual 2-dimensional space (or *x,y,z* coordinates may represent points in a 3-dimensional space), so too can the people represented in the rows of data in our first example be thought of as 'points' in an abstract 'feature space' whose axes are 'shoe size', 'IQ score', and 'clown'. This gives us a more general way of thinking about what matrices typically represent in applied math. The rows often represent the locations of entities in some space (whether a real physical space or an abstract feature space), and the columns represent the dimensions of that space. Many of the calculations and transformations that we apply to data in the process of statistical analysis can also be thought of as geometric operations applied to points in a real physical space, such as rotating them, moving them, squashing them together, etc.\n",
    "\n",
    "Vectors, which we learned about above, can be considered special cases of matrices that have either only one row, in which case the vector is termed a 'row vector' and might represent a single entity such as a person, or only one column, in which case the vector is termed a 'column vector' and might represent the positions of multiple entities along just one scale or dimension.\n",
    "\n",
    "In the context of matrix math, an ordinary lone number (such as just `2`) is often called a [scalar](#scalar), to distinguish it from vectors and matrices. Likewise, a scalar can be considered a special case of a matrix with only one row and only one column; so in the terms we have been using above, a single piece of information about a single entity.\n",
    "\n",
    "So if you are familiar with 'normal' math involving single numbers then like Mr. Jourdain you have in fact already been doing matrix math all this time without knowing it.\n",
    "\n",
    "### Matrix multiplication\n",
    "\n",
    "As we just noted, matrices can be used to represent geometric transformations. How does this work? For many simple transformations, the calculations are also very simple, and may involve for example adding or subtracting some number from all the values in the matrix. But for some transformations we need new mathematical tools that are special to matrices. One of the most important of these is the notion of matrix multiplication: Multiplying a matrix not by some single number but by *another matrix*.\n",
    "\n",
    "How does this work? To multiply one matrix (*A*) by another (*B*), follow these steps:\n",
    "\n",
    "* The number of *columns* in matrix A must be the same as the number of *rows* in matrix B. (If not, multiplication is not defined for the two matrices. This is very different from [scalars](glossary.ipynb#scalar); any single number may be in principle be multiplied by any other.)\n",
    "* Draw the A matrix at the left of your school notebook, and draw the B matrix above and to the right, as in the image below.\n",
    "* Draw a new matrix AB in the space between A and B, where each cell of AB aligns with one row of A and one column of B.\n",
    "* For each combination of row from A and column from B ...\n",
    "  * ... read left to right along the row of A, ...\n",
    "  * ... read down the column of B, ...\n",
    "  * ... and as you do so pair up the corresponding two values from A and B ...\n",
    "  * ... and multiply them together.\n",
    "  * Then sum up all the results of these multiplications and put their sum in the corresponding cell of the new AB matrix.\n",
    "\n",
    "![](images/Matrix_multiplication_diagram_2.png)\n",
    "\n",
    "(Image source: [Wikimedia Commons](https://commons.wikimedia.org/wiki/File:Matrix_multiplication_diagram_2.svg), GNU Free Documentation License)\n",
    "\n",
    "So an example matrix multiplication might look like this:\n",
    "\n",
    "$$\n",
    "\\begin{bmatrix}\n",
    "1 & 2 \\\\\n",
    "5 & 3 \\\\\n",
    "9 & 4 \\\\\n",
    "13 & 5 \\\\\n",
    "\\end{bmatrix}\n",
    "\\begin{bmatrix}\n",
    "1 & 2 \\\\\n",
    "3 & 4 \\\\\n",
    "\\end{bmatrix}\n",
    "=\n",
    "\\begin{bmatrix}\n",
    "7 & 10 \\\\\n",
    "14 & 22 \\\\\n",
    "21 & 34 \\\\\n",
    "28 & 46 \\\\\n",
    "\\end{bmatrix}\n",
    "$$\n",
    "\n",
    "You can get out your notebook, follow the steps above, and check the result.\n",
    "\n",
    "#### Rotation\n",
    "\n",
    "Rotation is one example of a geometric transformation that can be represented as a matrix multiplication.\n",
    "\n",
    "For a matrix whose rows are the *x,y* coordinates of some points in a 2-dimensional space, another matrix, a 'rotation matrix', can be used to rotate those coordinates by some angle around the center of the space. When the matrix of coordinates is multiplied by this rotation matrix, the result is a new matrix of points whose values represent the rotated *x,y* coordinates.\n",
    "\n",
    "The rotation matrix for counter-clockwise rotation by an angle of $\\theta$ (in [radians](https://en.wikipedia.org/wiki/Radian)) is:\n",
    "\n",
    "$$\n",
    "\\begin{bmatrix}\n",
    "\\cos \\theta & \\sin \\theta \\\\\n",
    "-\\sin \\theta & \\cos \\theta \\\\\n",
    "\\end{bmatrix}\n",
    "$$\n",
    "\n",
    "So if we wanted to rotate the *x,y* coordinates in our example matrix from above by an angle of 0.79 radians, we could represent this as the multiplication of our matrix by the rotation matrix for this angle:\n",
    "\n",
    "$$\n",
    "\\begin{bmatrix}\n",
    "1 & 2 \\\\\n",
    "5 & 3 \\\\\n",
    "9 & 4 \\\\\n",
    "13 & 5 \\\\\n",
    "\\end{bmatrix}\n",
    "\\begin{bmatrix}\n",
    "\\cos 0.79 & \\sin 0.79 \\\\\n",
    "-\\sin 0.79 & \\cos 0.79 \\\\\n",
    "\\end{bmatrix}\n",
    "$$\n",
    "\n",
    "## Objective\n",
    "\n",
    "Let's take rotation of coordinates as an example and see how to implement it in Python. Our goal is to write a function that rotates a matrix of *x,y* coordinates around some point.\n",
    "\n",
    "* Arguments:\n",
    "  * The matrix of coordinates.\n",
    "  * An angle of rotation.\n",
    "  * The point around which to rotate the coordinates, with a default value of *0,0* (i.e. the 'center' of the coordinate space).\n",
    "* Return value:\n",
    "  * A new matrix of rotated coordinates.\n",
    "\n",
    "Let's also use Python to produce a graph displaying the unrotated and rotated coordinates, so that we can check that our function works correctly.\n",
    "\n",
    "## Arrays\n",
    "\n",
    "As we have done sometimes before, we will build up to our target function step by step. The first thing we need to know is how to represent a matrix in Python.\n",
    "\n",
    "Basic Python does not provide a 'matrix' [data type](glossary.ipynb#type). But we have already met some Python types that could be used to do the job. Matrices contain multiple values, so we need a data type that can store multiple values. A [list](glossary.ipynb#list) is an obvious first choice. For example, we could represent a matrix as a list in which each entry in the list represents one row, where each of those entries contains a further list, whose entries represent the values in that row.\n",
    "\n",
    "So we would represent our example matrix of coordinates from above like this:"
   ]
  },
  {
   "cell_type": "code",
   "execution_count": 2,
   "metadata": {},
   "outputs": [],
   "source": [
    "coords_list = [[1.0, 2.0], [5.0, 3.0], [9.0, 4.0], [13.0, 5.0]]"
   ]
  },
  {
   "cell_type": "markdown",
   "metadata": {},
   "source": [
    "[Indexing](glossary.ipynb#index) our list of lists would then give us one row (i.e. one *x,y* point):"
   ]
  },
  {
   "cell_type": "code",
   "execution_count": 3,
   "metadata": {},
   "outputs": [
    {
     "data": {
      "text/plain": [
       "[9.0, 4.0]"
      ]
     },
     "execution_count": 3,
     "metadata": {},
     "output_type": "execute_result"
    }
   ],
   "source": [
    "coords_list[2]"
   ]
  },
  {
   "cell_type": "markdown",
   "metadata": {},
   "source": [
    "But a list of lists isn't great for this purpose, for a few reasons. First of all, it makes it quite complicated to apply some mathematical operation to one *column* of the matrix, such as adding some number to the *x* values so as to move the points along the *x* axis. For this, we would have to [loop](glossary.ipynb#loop) through every 'row' in the list and apply the same operation to one of the coordinate values in that row. For example to add `1` to each *x* value:"
   ]
  },
  {
   "cell_type": "code",
   "execution_count": 4,
   "metadata": {},
   "outputs": [
    {
     "data": {
      "text/plain": [
       "[[2.0, 2.0], [6.0, 3.0], [10.0, 4.0], [14.0, 5.0]]"
      ]
     },
     "execution_count": 4,
     "metadata": {},
     "output_type": "execute_result"
    }
   ],
   "source": [
    "for row in coords_list:\n",
    "    row[0] = row[0] + 1\n",
    "    \n",
    "coords_list"
   ]
  },
  {
   "cell_type": "markdown",
   "metadata": {},
   "source": [
    "It would be nicer to have a data type that allows us to index rows and columns in such a way that we can write matrix mathematical expressions like 'add 1 to all the values in the first column' more concisely.\n",
    "\n",
    "Second and more importantly, nothing about the list representation constrains each row to have the same number of columns, as a good matrix should. If we accidentally increase the length of one of the rows, our matrix becomes misshapen and Python does nothing to warn us:"
   ]
  },
  {
   "cell_type": "code",
   "execution_count": 5,
   "metadata": {},
   "outputs": [
    {
     "data": {
      "text/plain": [
       "[[2.0, 2.0, 3.0], [6.0, 3.0], [10.0, 4.0], [14.0, 5.0]]"
      ]
     },
     "execution_count": 5,
     "metadata": {},
     "output_type": "execute_result"
    }
   ],
   "source": [
    "coords_list[0].append(3.0)\n",
    "\n",
    "coords_list"
   ]
  },
  {
   "cell_type": "markdown",
   "metadata": {},
   "source": [
    "And finally, it would also be nice if our matrix were strict about the [type](glossary.ipynb#type) of the values that it contains. Although it may occasionally make sense for matrices to contain things other than numbers, one thing that almost never makes sense is for a matrix to mix various different types together.\n",
    "\n",
    "Lists, however, will happily mix data of all sorts of different types. For example:"
   ]
  },
  {
   "cell_type": "code",
   "execution_count": 6,
   "metadata": {},
   "outputs": [],
   "source": [
    "crazy_matrix = [[2.4, 'Hi! My name is Mildred.'], [None, True], ['2.4', -9000]]"
   ]
  },
  {
   "cell_type": "markdown",
   "metadata": {},
   "source": [
    "For cases where we want to represent data of a homogeneous [type](glossary.ipynb#type) in rows and columns and we want to be able to carry out mathematical operations on subsets of those rows and columns with simple commands, we need a new data type. In computing, such a data type is often called an [array](glossary.ipynb#array). Arrays store homogeneous values in rows and columns (or more generally in 'grids' that may have more than just two dimensions).\n",
    "\n",
    "### numpy arrays\n",
    "\n",
    "The very popular `numpy` [package](glossary.ipynb#package) (short for 'numerical Python') adds an array data type. `numpy` is installed by default as part of Anaconda, so if you installed Python via Anaconda you do not need to do anything to install `numpy`.\n",
    "\n",
    "All that we need to do in order to create an array is to [import](glossary.ipynb#import) `numpy`, then use its `array()` function."
   ]
  },
  {
   "cell_type": "code",
   "execution_count": 7,
   "metadata": {},
   "outputs": [],
   "source": [
    "import numpy\n",
    "\n",
    "coords = numpy.array([[1.0, 2.0], [5.0, 3.0], [9.0, 4.0], [13.0, 5.0]])"
   ]
  },
  {
   "cell_type": "markdown",
   "metadata": {},
   "source": [
    "As you can see from the example above, the input [argument](glossary.ipynb#argument) to `numpy.array()` is a list. If we want to create a 2-dimensional array (i.e. a matrix), then the input list should be a list of lists, just like the one we created above.\n",
    "\n",
    "But unlike a simple list of lists, a `numpy` array 'knows' that its entries represent rows and that the entries within each row represent columns. We get a first hint that this is the case if we print the array. The `print()` representation of a `numpy` array helpfully arranges its values visually as rows and columns, allowing us to more easily check the shape of the array:"
   ]
  },
  {
   "cell_type": "code",
   "execution_count": 8,
   "metadata": {},
   "outputs": [
    {
     "name": "stdout",
     "output_type": "stream",
     "text": [
      "[[ 1.  2.]\n",
      " [ 5.  3.]\n",
      " [ 9.  4.]\n",
      " [13.  5.]]\n"
     ]
    }
   ],
   "source": [
    "print(coords)"
   ]
  },
  {
   "cell_type": "markdown",
   "metadata": {},
   "source": [
    "`numpy` arrays have some [attributes](glossary.ipynb#attribute) that store information about their content. The `shape` attribute tells us the number of rows and columns in the array."
   ]
  },
  {
   "cell_type": "code",
   "execution_count": 9,
   "metadata": {},
   "outputs": [
    {
     "data": {
      "text/plain": [
       "(4, 2)"
      ]
     },
     "execution_count": 9,
     "metadata": {},
     "output_type": "execute_result"
    }
   ],
   "source": [
    "coords.shape"
   ]
  },
  {
   "cell_type": "markdown",
   "metadata": {},
   "source": [
    "In the `shape` attribute, and in many other contexts, rows come first, then columns. This is an arbitrary convention that Python and many other similar programming languages follow. Some programming languages follow the opposite convention: columns first, then rows.\n",
    "\n",
    "Note that we are not limited to working with 2-dimensional arrays (i.e. [matrices](glossary.ipynb#matrix)). If we instead give a simple list of values to `numpy.array()` then we get an array with only one dimension (i.e. a [vector](glossary.ipynb#vector):"
   ]
  },
  {
   "cell_type": "code",
   "execution_count": 10,
   "metadata": {},
   "outputs": [
    {
     "data": {
      "text/plain": [
       "(4,)"
      ]
     },
     "execution_count": 10,
     "metadata": {},
     "output_type": "execute_result"
    }
   ],
   "source": [
    "my_vector = numpy.array([42, 39, 72, 45])\n",
    "\n",
    "my_vector.shape"
   ]
  },
  {
   "cell_type": "markdown",
   "metadata": {},
   "source": [
    "Likewise, if we instead give a list of lists *of lists*, we get a 3-dimensional array. In this case, `shape` tells us the number of rows, columns, and then 'layers' (or however we care to think of the third dimension), in that order:"
   ]
  },
  {
   "cell_type": "code",
   "execution_count": 11,
   "metadata": {},
   "outputs": [
    {
     "data": {
      "text/plain": [
       "(3, 2, 3)"
      ]
     },
     "execution_count": 11,
     "metadata": {},
     "output_type": "execute_result"
    }
   ],
   "source": [
    "my_3d_thing = numpy.array([[[1, 2, 3], [4, 5, 6]], [[7, 8, 9], [10, 11, 12]], [[13, 14, 15], [16, 17, 18]]])\n",
    "\n",
    "my_3d_thing.shape"
   ]
  },
  {
   "cell_type": "markdown",
   "metadata": {},
   "source": [
    "We may even go beyond three dimensions if we wish. But for me, three is already slightly higher than the maximum number of dimensions I can easily think about without hurting myself, so we will stick to vectors and matrices for now.\n",
    "\n",
    "#### Data types\n",
    "\n",
    "Apart from `shape`, the other [attribute](glossary.ipynb#attribute) of a `numpy` array that we will most commonly want to check is `dtype`, which tells us what [data type](glossary.ipynb#type) the values in the array are."
   ]
  },
  {
   "cell_type": "code",
   "execution_count": 12,
   "metadata": {},
   "outputs": [
    {
     "data": {
      "text/plain": [
       "dtype('float64')"
      ]
     },
     "execution_count": 12,
     "metadata": {},
     "output_type": "execute_result"
    }
   ],
   "source": [
    "coords.dtype"
   ]
  },
  {
   "cell_type": "markdown",
   "metadata": {},
   "source": [
    "`numpy` has its own data types, with names slightly different from those in basic Python, but we don't need to worry about these in simple applications. 'float64' basically means [float](glossary.ipynb#float), and likewise, 'int64' means [int](glossary.ipynb#integer):"
   ]
  },
  {
   "cell_type": "code",
   "execution_count": 13,
   "metadata": {},
   "outputs": [
    {
     "data": {
      "text/plain": [
       "dtype('int64')"
      ]
     },
     "execution_count": 13,
     "metadata": {},
     "output_type": "execute_result"
    }
   ],
   "source": [
    "some_integers = numpy.array([1, 2, 3])\n",
    "\n",
    "some_integers.dtype"
   ]
  },
  {
   "cell_type": "markdown",
   "metadata": {},
   "source": [
    "`numpy.array()` takes note of the types that we give it. If we mix values of different types, then `numpy` will convert some of those values implicitly (this implicit type conversion is sometimes called [coercing](glossary.ipynb#coercion) the values to a new type). For example, integers in an array that also contains floats will be 'coerced' to float:"
   ]
  },
  {
   "cell_type": "code",
   "execution_count": 14,
   "metadata": {},
   "outputs": [
    {
     "data": {
      "text/plain": [
       "dtype('float64')"
      ]
     },
     "execution_count": 14,
     "metadata": {},
     "output_type": "execute_result"
    }
   ],
   "source": [
    "some_numbers = numpy.array([1, 2.0, 3])\n",
    "\n",
    "some_numbers.dtype"
   ]
  },
  {
   "cell_type": "code",
   "execution_count": 15,
   "metadata": {},
   "outputs": [
    {
     "data": {
      "text/plain": [
       "array([1., 2., 3.])"
      ]
     },
     "execution_count": 15,
     "metadata": {},
     "output_type": "execute_result"
    }
   ],
   "source": [
    "some_numbers"
   ]
  },
  {
   "cell_type": "markdown",
   "metadata": {},
   "source": [
    "So when creating `numpy` arrays it is a good idea to be explicit and consistent about the data types that we are entering into the array.\n",
    "\n",
    "Note that we should not confuse `dtype` with the type of *the array itself*. numpy arrays are of course of type 'numpy array'."
   ]
  },
  {
   "cell_type": "code",
   "execution_count": 16,
   "metadata": {},
   "outputs": [
    {
     "data": {
      "text/plain": [
       "numpy.ndarray"
      ]
     },
     "execution_count": 16,
     "metadata": {},
     "output_type": "execute_result"
    }
   ],
   "source": [
    "type(some_numbers)"
   ]
  },
  {
   "cell_type": "markdown",
   "metadata": {},
   "source": [
    "(`numpy` calls this type 'ndarray' rather than just 'array'. The 'nd' stands for 'n-dimensional', referring to the fact that arrays may have varying numbers of dimensions: 1 dimension for a vector, 2 dimensions for a matrix, and so on.)\n",
    "\n",
    "#### Indexing\n",
    "\n",
    "Among the desiderata for an array data type that we listed above was the possibility of getting hold of various subsets of the rows and columns of the array with a simple short expression rather than having to use a [loop](glossary.ipynb#loop) as we did for the list of lists. `numpy` arrays deliver this desideratum. It's one of their most salient features.\n",
    "\n",
    "To refer to one or more rows or columns (or further dimensions) of a `numpy` array, we can use the familiar square parentheses that we have already been using to [index](glossary.ipynb#index) other Python types. The only difference is that instead of a single index, we can put multiple indices into the square parentheses. These indices are separated by commas. In accordance with the convention we noted above, the first index refers to rows, and the second to columns.\n",
    "\n",
    "Let's take a look at our matrix of coordinates again:"
   ]
  },
  {
   "cell_type": "code",
   "execution_count": 17,
   "metadata": {},
   "outputs": [
    {
     "data": {
      "text/plain": [
       "array([[ 1.,  2.],\n",
       "       [ 5.,  3.],\n",
       "       [ 9.,  4.],\n",
       "       [13.,  5.]])"
      ]
     },
     "execution_count": 17,
     "metadata": {},
     "output_type": "execute_result"
    }
   ],
   "source": [
    "coords"
   ]
  },
  {
   "cell_type": "markdown",
   "metadata": {},
   "source": [
    "To get the value in the second column of the fourth row (remembering as always Python's zero-based indexing system), we do:"
   ]
  },
  {
   "cell_type": "code",
   "execution_count": 18,
   "metadata": {},
   "outputs": [
    {
     "data": {
      "text/plain": [
       "5.0"
      ]
     },
     "execution_count": 18,
     "metadata": {},
     "output_type": "execute_result"
    }
   ],
   "source": [
    "coords[3, 1]"
   ]
  },
  {
   "cell_type": "markdown",
   "metadata": {},
   "source": [
    "All of the various extra tricks that we learned about earlier for [indexing and slicing sequences](sequences_mappings.ipynb#Indexing) also apply to `numpy` arrays. We can use negative indices to 'count back from the end' (i.e. from the bottom row or from the rightmost column), and we can use the colon character (`:`) to ask for a range, or '[slice](glossary.ipynb#slice)', of entries.\n",
    "\n",
    "For example to get the values in the final column and the last two rows we can do:"
   ]
  },
  {
   "cell_type": "code",
   "execution_count": 19,
   "metadata": {},
   "outputs": [
    {
     "data": {
      "text/plain": [
       "array([4., 5.])"
      ]
     },
     "execution_count": 19,
     "metadata": {},
     "output_type": "execute_result"
    }
   ],
   "source": [
    "coords[-2:, -1]"
   ]
  },
  {
   "cell_type": "markdown",
   "metadata": {},
   "source": [
    "Often we will want to ask simply for a subset of rows, or a subset of columns. In such cases we only want to give a row index or a column index, but not both. For example if we want to get the entire first column, then we need to supply the index for that column (`0`), but we don't want to have to supply any index for the rows; we want instead to be able to say 'don't leave out any rows, just give me them all'.\n",
    "\n",
    "In the context of indices, the colon character written on its own without any numbers means 'all'. This is a logical extrapolation of its role in specifying [slices](glossary.ipynb#slice). We have seen that if we omit the number before the colon then the slice will start at the start, and if we omit the number after the colon, the slice will go all the way to the end. It follows that if we omit both the number before and after the colon (i.e. we simply write a colon on its own), then the slice starts at the start and ends at the end, which of course gives us all values.\n",
    "\n",
    "So the entire first column is rows `:` and column `0`:"
   ]
  },
  {
   "cell_type": "code",
   "execution_count": 20,
   "metadata": {},
   "outputs": [
    {
     "data": {
      "text/plain": [
       "array([ 1.,  5.,  9., 13.])"
      ]
     },
     "execution_count": 20,
     "metadata": {},
     "output_type": "execute_result"
    }
   ],
   "source": [
    "coords[:, 0]"
   ]
  },
  {
   "cell_type": "markdown",
   "metadata": {},
   "source": [
    "We can use these indexing tricks together with an `=` [assignment](glossary.ipynb#assignment) to selectively change some parts of an array.\n",
    "\n",
    "For example to add `1` to every *x* value in our example matrix of *x,y* coordinates we can ask for 'all the rows and the first column', add 1, then assign the result back into 'all the rows and the first column':"
   ]
  },
  {
   "cell_type": "code",
   "execution_count": 21,
   "metadata": {},
   "outputs": [
    {
     "data": {
      "text/plain": [
       "array([[ 2.,  2.],\n",
       "       [ 6.,  3.],\n",
       "       [10.,  4.],\n",
       "       [14.,  5.]])"
      ]
     },
     "execution_count": 21,
     "metadata": {},
     "output_type": "execute_result"
    }
   ],
   "source": [
    "coords[:, 0] = coords[:, 0] + 1\n",
    "\n",
    "coords"
   ]
  },
  {
   "cell_type": "markdown",
   "metadata": {},
   "source": [
    "Note that this kind of 'row, column' indexing is not possible with a list of lists like the one that we defined above. Lists do not accept multiple indices:"
   ]
  },
  {
   "cell_type": "code",
   "execution_count": 22,
   "metadata": {
    "tags": [
     "raises-exception"
    ]
   },
   "outputs": [
    {
     "ename": "TypeError",
     "evalue": "list indices must be integers or slices, not tuple",
     "output_type": "error",
     "traceback": [
      "\u001b[0;31m---------------------------------------------------------------------------\u001b[0m",
      "\u001b[0;31mTypeError\u001b[0m                                 Traceback (most recent call last)",
      "\u001b[0;32m<ipython-input-22-1e454cc0dc4b>\u001b[0m in \u001b[0;36m<module>\u001b[0;34m\u001b[0m\n\u001b[0;32m----> 1\u001b[0;31m \u001b[0mcoords_list\u001b[0m\u001b[0;34m[\u001b[0m\u001b[0;34m:\u001b[0m\u001b[0;34m,\u001b[0m \u001b[0;36m0\u001b[0m\u001b[0;34m]\u001b[0m\u001b[0;34m\u001b[0m\u001b[0;34m\u001b[0m\u001b[0m\n\u001b[0m",
      "\u001b[0;31mTypeError\u001b[0m: list indices must be integers or slices, not tuple"
     ]
    }
   ],
   "source": [
    "coords_list[:, 0]"
   ]
  },
  {
   "cell_type": "markdown",
   "metadata": {},
   "source": [
    "#### Broadcasting\n",
    "\n",
    "We just learned how to change multiple values in a `numpy` array. We did this by adding a [scalar](glossary.ipynb#scalar) (i.e. a single number) to each of those values. Let's consider now a slightly more complex example. Imagine that we want to move the coordinate points in our matrix diagonally upwards in the coordinate space, by shifting the *x* values 1 unit further along the *x* axis, and the *y* values 2 units further up the *y* axis. In the terms of our matrix, this entails adding 1 to all the values in the first column, and adding 2 to all the values in the second column.\n",
    "\n",
    "We could of course do this in two separate steps, one for each column. This would be fine for this simple example. But `numpy` provides a more general way of making structured changes to multiple values.\n",
    "\n",
    "Consider that the instruction 'add 1 to all the values in the first column, and add 2 to all the values in the second column' can also be rephrased as 'add the [vector](glossary.ipynb#vector) `[1, 2]` to every row'. We can take a vector that has the same number of values as the number of columns in our matrix, and 'pair up' the values in this vector with the corresponding values in each row.\n",
    "\n",
    "`numpy` does this automatically if we add a vector to an array. Like this:"
   ]
  },
  {
   "cell_type": "code",
   "execution_count": 23,
   "metadata": {},
   "outputs": [
    {
     "name": "stdout",
     "output_type": "stream",
     "text": [
      "[1. 2.]\n"
     ]
    }
   ],
   "source": [
    "row_vector = numpy.array([1.0, 2.0])\n",
    "\n",
    "print(row_vector)"
   ]
  },
  {
   "cell_type": "code",
   "execution_count": 24,
   "metadata": {},
   "outputs": [
    {
     "data": {
      "text/plain": [
       "array([[ 3.,  4.],\n",
       "       [ 7.,  5.],\n",
       "       [11.,  6.],\n",
       "       [15.,  7.]])"
      ]
     },
     "execution_count": 24,
     "metadata": {},
     "output_type": "execute_result"
    }
   ],
   "source": [
    "coords + row_vector"
   ]
  },
  {
   "cell_type": "markdown",
   "metadata": {},
   "source": [
    "(Remember that as usual, the original [variable](glossary.ipynb#variable) is not changed by a mathematical expression unless we [assign](glossary.ipynb#assignment) the result back into the variable. This is the same for `numpy` arrays as for other Python variables):"
   ]
  },
  {
   "cell_type": "code",
   "execution_count": 25,
   "metadata": {},
   "outputs": [
    {
     "name": "stdout",
     "output_type": "stream",
     "text": [
      "[[ 2.  2.]\n",
      " [ 6.  3.]\n",
      " [10.  4.]\n",
      " [14.  5.]]\n"
     ]
    }
   ],
   "source": [
    "print(coords)"
   ]
  },
  {
   "cell_type": "code",
   "execution_count": 26,
   "metadata": {},
   "outputs": [
    {
     "name": "stdout",
     "output_type": "stream",
     "text": [
      "[[ 3.  4.]\n",
      " [ 7.  5.]\n",
      " [11.  6.]\n",
      " [15.  7.]]\n"
     ]
    }
   ],
   "source": [
    "coords = coords + row_vector\n",
    "\n",
    "print(coords)"
   ]
  },
  {
   "cell_type": "markdown",
   "metadata": {},
   "source": [
    "We are not limited to combining a vector with every row of an array. We can also combine a [column vector](glossary.ipynb#vector) with every column. However, in this case the vector must indeed be a column vector, so that its shape matches up properly to the dimensions of our array.\n",
    "\n",
    "Remember that the entries in the input list represent rows, and each of these is a list of values. So to get a column vector we need to input a list of lists in which each 'inner' list contains just one value. For example:"
   ]
  },
  {
   "cell_type": "code",
   "execution_count": 27,
   "metadata": {},
   "outputs": [
    {
     "name": "stdout",
     "output_type": "stream",
     "text": [
      "[[1.]\n",
      " [2.]\n",
      " [3.]\n",
      " [4.]]\n"
     ]
    }
   ],
   "source": [
    "column_vector = numpy.array([[1.0], [2.0], [3.0], [4.0]])\n",
    "\n",
    "print(column_vector)"
   ]
  },
  {
   "cell_type": "code",
   "execution_count": 28,
   "metadata": {},
   "outputs": [
    {
     "data": {
      "text/plain": [
       "array([[ 4.,  5.],\n",
       "       [ 9.,  7.],\n",
       "       [14.,  9.],\n",
       "       [19., 11.]])"
      ]
     },
     "execution_count": 28,
     "metadata": {},
     "output_type": "execute_result"
    }
   ],
   "source": [
    "coords + column_vector"
   ]
  },
  {
   "cell_type": "markdown",
   "metadata": {},
   "source": [
    "And we are also not limited to addition. We can apply other mathematical operations between arrays. For example multiplication:"
   ]
  },
  {
   "cell_type": "code",
   "execution_count": 29,
   "metadata": {},
   "outputs": [
    {
     "data": {
      "text/plain": [
       "array([[ 3.,  4.],\n",
       "       [14., 10.],\n",
       "       [33., 18.],\n",
       "       [60., 28.]])"
      ]
     },
     "execution_count": 29,
     "metadata": {},
     "output_type": "execute_result"
    }
   ],
   "source": [
    "coords * column_vector"
   ]
  },
  {
   "cell_type": "markdown",
   "metadata": {},
   "source": [
    "When we combine arrays like this, the shapes of the arrays are matched up if possible, and then the smaller array is 'repeated' so as to cover all the rows or all the columns of the larger array. This is an example of what is known in array computing as [broadcasting](glossary.ipynb#broadcasting) one array onto another.\n",
    "\n",
    "The [braodcasting page](https://numpy.org/devdocs/user/theory.broadcasting.html) from the documentation for the `numpy` package has some diagrams giving further explanations, and an interesting example use case.\n",
    "\n",
    "Of course not all arrays are of compatible shapes. If we attempt to combine arrays whose shapes do not match up, then we get an error message saying that no broadcasting was possible:"
   ]
  },
  {
   "cell_type": "code",
   "execution_count": 30,
   "metadata": {
    "tags": [
     "raises-exception"
    ]
   },
   "outputs": [
    {
     "ename": "ValueError",
     "evalue": "operands could not be broadcast together with shapes (4,2) (3,) ",
     "output_type": "error",
     "traceback": [
      "\u001b[0;31m---------------------------------------------------------------------------\u001b[0m",
      "\u001b[0;31mValueError\u001b[0m                                Traceback (most recent call last)",
      "\u001b[0;32m<ipython-input-30-186e551a999f>\u001b[0m in \u001b[0;36m<module>\u001b[0;34m\u001b[0m\n\u001b[0;32m----> 1\u001b[0;31m \u001b[0mcoords\u001b[0m \u001b[0;34m+\u001b[0m \u001b[0mnumpy\u001b[0m\u001b[0;34m.\u001b[0m\u001b[0marray\u001b[0m\u001b[0;34m(\u001b[0m\u001b[0;34m[\u001b[0m\u001b[0;36m1.0\u001b[0m\u001b[0;34m,\u001b[0m \u001b[0;36m2.0\u001b[0m\u001b[0;34m,\u001b[0m \u001b[0;36m3.0\u001b[0m\u001b[0;34m]\u001b[0m\u001b[0;34m)\u001b[0m\u001b[0;34m\u001b[0m\u001b[0;34m\u001b[0m\u001b[0m\n\u001b[0m",
      "\u001b[0;31mValueError\u001b[0m: operands could not be broadcast together with shapes (4,2) (3,) "
     ]
    }
   ],
   "source": [
    "coords + numpy.array([1.0, 2.0, 3.0])"
   ]
  },
  {
   "cell_type": "markdown",
   "metadata": {},
   "source": [
    "#### Matrix multiplication with numpy\n",
    "\n",
    "Having learned a bit about how `numpy` works, we are finally ready to see how we can use it for our target task. We would like to apply matrix multiplication to two `numpy` arrays, one representing some *x,y* coordinates, and one representing the rotation matrix.\n",
    "\n",
    "`numpy` provides a very large selection of functions for various operations with arrays. One of these does matrix multiplication. Let's try it for the example matrix multiplication we wrote out above:\n",
    "\n",
    "\n",
    "$$\n",
    "\\begin{bmatrix}\n",
    "1 & 2 \\\\\n",
    "5 & 3 \\\\\n",
    "9 & 4 \\\\\n",
    "13 & 5 \\\\\n",
    "\\end{bmatrix}\n",
    "\\begin{bmatrix}\n",
    "1 & 2 \\\\\n",
    "3 & 4 \\\\\n",
    "\\end{bmatrix}\n",
    "=\n",
    "\\begin{bmatrix}\n",
    "7 & 10 \\\\\n",
    "14 & 22 \\\\\n",
    "21 & 34 \\\\\n",
    "28 & 46 \\\\\n",
    "\\end{bmatrix}\n",
    "$$\n",
    "\n",
    "First we create our two arrays:"
   ]
  },
  {
   "cell_type": "code",
   "execution_count": 31,
   "metadata": {},
   "outputs": [],
   "source": [
    "a = numpy.array([[1.0, 2.0], [5.0, 3.0], [9.0, 4.0], [13.0, 5.0]])\n",
    "b = numpy.array([[1.0, 2.0], [3.0, 4.0]])"
   ]
  },
  {
   "cell_type": "markdown",
   "metadata": {},
   "source": [
    "It is a good idea to check them visually first to make sure we got this step right:"
   ]
  },
  {
   "cell_type": "code",
   "execution_count": 32,
   "metadata": {},
   "outputs": [
    {
     "name": "stdout",
     "output_type": "stream",
     "text": [
      "[[ 1.  2.]\n",
      " [ 5.  3.]\n",
      " [ 9.  4.]\n",
      " [13.  5.]]\n"
     ]
    }
   ],
   "source": [
    "print(a)"
   ]
  },
  {
   "cell_type": "code",
   "execution_count": 33,
   "metadata": {},
   "outputs": [
    {
     "name": "stdout",
     "output_type": "stream",
     "text": [
      "[[1. 2.]\n",
      " [3. 4.]]\n"
     ]
    }
   ],
   "source": [
    "print(b)"
   ]
  },
  {
   "cell_type": "markdown",
   "metadata": {},
   "source": [
    "And then `numpy`'s matrix multiplication function, `matmul()`:"
   ]
  },
  {
   "cell_type": "code",
   "execution_count": 34,
   "metadata": {},
   "outputs": [
    {
     "data": {
      "text/plain": [
       "array([[ 7., 10.],\n",
       "       [14., 22.],\n",
       "       [21., 34.],\n",
       "       [28., 46.]])"
      ]
     },
     "execution_count": 34,
     "metadata": {},
     "output_type": "execute_result"
    }
   ],
   "source": [
    "numpy.matmul(a, b)"
   ]
  },
  {
   "cell_type": "markdown",
   "metadata": {},
   "source": [
    "We are nearly ready to write our target function. As well as the new techniques we have just learned for creating and multiplying matrices with `numpy`, we need a few other mathematical functions:\n",
    "\n",
    "* Conversion from degrees to radians, so that users of our function can input an angle of rotation in the more familiar degree units (0° to 360°).\n",
    "* The sine and cosine functions, needed to construct the rotation matrix.\n",
    "\n",
    "But these are all straightforward, and we can take them from the `math` module in Python's [standard library].\n",
    "\n",
    "You can see the code for the finished function in the example module [coordinates.py](examples/coordinates.py). Here it is in action:"
   ]
  },
  {
   "cell_type": "code",
   "execution_count": 35,
   "metadata": {},
   "outputs": [
    {
     "data": {
      "text/plain": [
       "array([[-0.70710678,  2.12132034],\n",
       "       [ 1.41421356,  5.65685425],\n",
       "       [ 3.53553391,  9.19238816],\n",
       "       [ 5.65685425, 12.72792206]])"
      ]
     },
     "execution_count": 35,
     "metadata": {},
     "output_type": "execute_result"
    }
   ],
   "source": [
    "import coordinates\n",
    "\n",
    "coords = numpy.array([[1.0, 2.0], [5.0, 3.0], [9.0, 4.0], [13.0, 5.0]])\n",
    "\n",
    "coordinates.rotate(coords, 45)"
   ]
  },
  {
   "cell_type": "markdown",
   "metadata": {},
   "source": [
    "## matplotlib\n",
    "\n",
    "If you are the sort of person who can see the positions of coordinates in your mind's eye, you may see already that our `rotate()` function is working correctly. But if you are anything like me, you will want to see a picture to be sure. So let's learn how to plot points in Python.\n",
    "\n",
    "Python's [standard library](standard_library.ipynb) does not contain any modules for displaying plots, but the popular `matplotlib` [package](glossary.ipynb#package) does. This package is the basis for producing any graphs or technical drawings in Python programs. Like `numpy`, `matplotlib` is included by default in the standard Anaconda installation, so if you have installed Anaconda you already have it.\n",
    "\n",
    "Since `matplotlib` is a fairly large package containing several submodules, it is a common practice to avoid importing all of it, and to save a bit of typing time later, by fetching just the relevant part using a selective import (which we learned about in the [lesson on modules](modules.ipynb)). The module that we need is called `pyplot`:"
   ]
  },
  {
   "cell_type": "code",
   "execution_count": 36,
   "metadata": {},
   "outputs": [],
   "source": [
    "from matplotlib import pyplot"
   ]
  },
  {
   "cell_type": "markdown",
   "metadata": {},
   "source": [
    "And the `pyplot` module contains a `scatter()` function that allows us to plot points as dots on a figure.\n",
    "\n",
    "The first [argument](glossary.ipynb#argument) is a [vector](glossary.ipynb#vector) of *x* coordinates, and the second argument is a vector of corresponding *y* coordinates. So in our case we can get these two input arguments from the two columns of our array.\n",
    "\n",
    "When we have finished drawing, the `show()` function will show the final plot."
   ]
  },
  {
   "cell_type": "code",
   "execution_count": 37,
   "metadata": {},
   "outputs": [
    {
     "data": {
      "image/png": "[encoded data removed]",
      "text/plain": [
       "<Figure size 432x288 with 1 Axes>"
      ]
     },
     "metadata": {
      "needs_background": "light"
     },
     "output_type": "display_data"
    }
   ],
   "source": [
    "pyplot.scatter(coords[:, 0], coords[:, 1])\n",
    "\n",
    "pyplot.show()"
   ]
  },
  {
   "cell_type": "markdown",
   "metadata": {},
   "source": [
    "We can overlay multiple sets of points on a figure by just using the plotting function multiple times before `show()`. `matplotlib` even helpfully draws each set of points in a different color.\n",
    "\n",
    "For our example, we can use this to overlay our rotated coordinates on the original ones, to see whether the angle of rotation looks right:"
   ]
  },
  {
   "cell_type": "code",
   "execution_count": 38,
   "metadata": {},
   "outputs": [
    {
     "data": {
      "image/png": "[encoded data removed]",
      "text/plain": [
       "<Figure size 432x288 with 1 Axes>"
      ]
     },
     "metadata": {
      "needs_background": "light"
     },
     "output_type": "display_data"
    }
   ],
   "source": [
    "rotated_coords = coordinates.rotate(coords, 45)\n",
    "\n",
    "pyplot.scatter(coords[:, 0], coords[:, 1])\n",
    "pyplot.scatter(rotated_coords[:, 0], rotated_coords[:, 1])\n",
    "\n",
    "pyplot.show()"
   ]
  },
  {
   "cell_type": "markdown",
   "metadata": {},
   "source": [
    "### Customizing plots\n",
    "\n",
    "Often we will want to specify a few more details about the appearance of our plots. `matplotlib` provides lots and lots of additional functions for adding features to a plot, and these functions accept many keyword arguments for changing things like colors, types of dots and lines, etc.\n",
    "\n",
    "To demonstrate the general idea, we will add just one slight flourish to our plot. It would be nice to have some lines on the plot showing the center of the coordinate space, so that we can verify that the points have been rotated around this center. And it would be nice if these lines were black rather than `matplotlib`'s default blue."
   ]
  },
  {
   "cell_type": "code",
   "execution_count": 39,
   "metadata": {},
   "outputs": [
    {
     "data": {
      "image/png": "[encoded data removed]",
      "text/plain": [
       "<Figure size 432x288 with 1 Axes>"
      ]
     },
     "metadata": {
      "needs_background": "light"
     },
     "output_type": "display_data"
    }
   ],
   "source": [
    "pyplot.scatter(coords[:, 0], coords[:, 1])\n",
    "pyplot.scatter(rotated_coords[:, 0], rotated_coords[:, 1])\n",
    "pyplot.axvline(x=0, color='black')\n",
    "pyplot.axhline(y=0, color='black')\n",
    "\n",
    "pyplot.show()"
   ]
  },
  {
   "cell_type": "markdown",
   "metadata": {},
   "source": [
    "`matplotlib` can do a lot. But navigating its cornucopia of functions and arguments can be a real pain. For many specialized plotting tasks in data analysis, there are better packages available whose use is more straightforward. These packages still use `matplotlib` in the background, but they set the necessary colors, styles, axis labels, and so on automatically without our having to specify them all one by one.\n",
    "\n",
    "We will learn more about other plotting packages later.\n",
    "\n",
    "## Aliases\n",
    "\n",
    "Once you are released into the wild and start reading more Python examples online, you will notice that some programs seem to refer to `numpy` as 'np' instead, and to `matplotlib.pyplot` as 'plt'. These programs begin by importing `numpy`, or `matplotlib` (or some other module) under an alternative name, sometimes called an [alias](glossary.ipynb#alias).\n",
    "\n",
    "Such programs begin with [import](glossary.ipynb#import) statements that additionally use the `as` [keyword](glossary.ipynb#keyword) to import a module under a different name. Like this:"
   ]
  },
  {
   "cell_type": "code",
   "execution_count": 40,
   "metadata": {},
   "outputs": [],
   "source": [
    "import numpy as np\n",
    "import matplotlib.pyplot as plt"
   ]
  },
  {
   "cell_type": "markdown",
   "metadata": {},
   "source": [
    "In almost all cases, this slight difference from the standard method of importing is purely cosmetic. All it achieves is to allow the rest of the program to refer to the imported module by its alias. For example:"
   ]
  },
  {
   "cell_type": "code",
   "execution_count": 41,
   "metadata": {},
   "outputs": [
    {
     "data": {
      "text/plain": [
       "array([1, 2, 3])"
      ]
     },
     "execution_count": 41,
     "metadata": {},
     "output_type": "execute_result"
    }
   ],
   "source": [
    "np.array([1, 2, 3])"
   ]
  },
  {
   "cell_type": "markdown",
   "metadata": {},
   "source": [
    "Certain conventions have arisen about these aliases. `numpy` is always 'np', `pyplot` is always 'plt', and `pandas` (which we met briefly in the [lesson on files](files.ipynb#pandas)) is always 'pd'. So you should be aware of these when you read other example programs.\n",
    "\n",
    "There are a couple of situations in which it is a good idea to use an alias for an imported module:\n",
    "\n",
    "* The name of the module is horribly long and the module is used often in the program. Using a much shorter alias can make the program less cluttered and easier to read.\n",
    "* There are other things (other modules, variables, etc.) in the program that have, or might have, the same name as the module. Using an alias avoids these naming conflicts.\n",
    "\n",
    "But in my semi-humble opinion, the common use of aliases for `numpy`, `pyplot`, `pandas`, and so on is a bit silly. Neither of the two situations above applies. These modules all have short names already, and you are probably more likely to want to call a variable in your program 'np' or 'pd' than you are to want to call it 'numpy' or 'pandas', unless you are doing research on actual pandas or have misspelled the word '[numpty](https://en.wiktionary.org/wiki/numpty)'.\n",
    "\n",
    "So I won't use aliases in my examples, except in one or two cases where it really makes sense. You should do whatever you prefer. Just be consistent and if you use aliases use the conventional ones rather than ones you have invented yourself, so that others understand what is going on in your program.\n",
    "\n",
    "## Exercise\n",
    "\n",
    "In geometry, to [translate](https://en.wikipedia.org/wiki/Translation_(geometry)) some coordinates simply means to move them by a certain distance in a certain direction within the coordinate space. One way of representing this transformation is as the addition of a vector to the coordinates, as we learned above. For example, to move a pair of *(x,y)* coordinates 3 units rightward along the *x* axis and 2 units downward along the *y* axis we would add the vector *(3,-2)*.\n",
    "\n",
    "Add a new function to the [coordinates.py](examples/coordinates.py) module, called `translate()`. Like `rotate()`, `translate()` should take as its first [argument](glossary.ipynb#argument) a 2-column `numpy` array representing some coordinates, and it should [return](glossary.ipynb#return) a transformed version of the coordinates. The second argument should be a [list](glossary.ipynb#list) (or a [tuple](glossary.ipynb#tuple), it doesn't matter) whose two entries give the distances by which to shift the coordinates along the *x* and *y* axes, respectively. So for the example of shifting the coordinates 3 units rightwards along the *x* axis and 2 units downward along the *y* axis, this argument would be `[3, -2]`.\n",
    "\n",
    "It will probably help to test your function visually using `matplotlib` as you go along, to confirm that it works as expected."
   ]
  }
 ],
 "metadata": {
  "celltoolbar": "Tags",
  "kernelspec": {
   "display_name": "Python 3",
   "language": "python",
   "name": "python3"
  },
  "language_info": {
   "codemirror_mode": {
    "name": "ipython",
    "version": 3
   },
   "file_extension": ".py",
   "mimetype": "text/x-python",
   "name": "python",
   "nbconvert_exporter": "python",
   "pygments_lexer": "ipython3",
   "version": "3.8.5"
  },
  "toc": {
   "base_numbering": 1,
   "nav_menu": {},
   "number_sections": false,
   "sideBar": true,
   "skip_h1_title": true,
   "title_cell": "Contents",
   "title_sidebar": "Contents",
   "toc_cell": true,
   "toc_position": {},
   "toc_section_display": true,
   "toc_window_display": false
  }
 },
 "nbformat": 4,
 "nbformat_minor": 4
}
