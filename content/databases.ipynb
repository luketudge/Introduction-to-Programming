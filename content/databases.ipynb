{
 "cells": [
  {
   "cell_type": "markdown",
   "metadata": {
    "toc": true
   },
   "source": [
    "<h1>Contents<span class=\"tocSkip\"></span></h1>\n",
    "<div class=\"toc\"><ul class=\"toc-item\"><li><span><a href=\"#Objective\" data-toc-modified-id=\"Objective-1\">Objective</a></span></li><li><span><a href=\"#Long-format\" data-toc-modified-id=\"Long-format-2\">Long format</a></span></li><li><span><a href=\"#Relational-databases\" data-toc-modified-id=\"Relational-databases-3\">Relational databases</a></span><ul class=\"toc-item\"><li><span><a href=\"#Joining\" data-toc-modified-id=\"Joining-3.1\">Joining</a></span></li></ul></li><li><span><a href=\"#Constraints\" data-toc-modified-id=\"Constraints-4\">Constraints</a></span></li><li><span><a href=\"#SQL\" data-toc-modified-id=\"SQL-5\">SQL</a></span><ul class=\"toc-item\"><li><span><a href=\"#Pronunciation\" data-toc-modified-id=\"Pronunciation-5.1\">Pronunciation</a></span></li><li><span><a href=\"#DB-Browser\" data-toc-modified-id=\"DB-Browser-5.2\">DB Browser</a></span></li><li><span><a href=\"#sqlite3\" data-toc-modified-id=\"sqlite3-5.3\">sqlite3</a></span></li><li><span><a href=\"#Queries\" data-toc-modified-id=\"Queries-5.4\">Queries</a></span><ul class=\"toc-item\"><li><span><a href=\"#SELECT\" data-toc-modified-id=\"SELECT-5.4.1\">SELECT</a></span></li><li><span><a href=\"#ORDER-BY\" data-toc-modified-id=\"ORDER-BY-5.4.2\">ORDER BY</a></span></li><li><span><a href=\"#WHERE\" data-toc-modified-id=\"WHERE-5.4.3\">WHERE</a></span></li><li><span><a href=\"#JOIN\" data-toc-modified-id=\"JOIN-5.4.4\">JOIN</a></span></li></ul></li><li><span><a href=\"#Miscellaneous-SQL-syntax\" data-toc-modified-id=\"Miscellaneous-SQL-syntax-5.5\">Miscellaneous SQL syntax</a></span><ul class=\"toc-item\"><li><span><a href=\"#Complex-commands\" data-toc-modified-id=\"Complex-commands-5.5.1\">Complex commands</a></span></li><li><span><a href=\"#Case\" data-toc-modified-id=\"Case-5.5.2\">Case</a></span></li><li><span><a href=\"#Comments\" data-toc-modified-id=\"Comments-5.5.3\">Comments</a></span></li></ul></li><li><span><a href=\"#Creating-tables\" data-toc-modified-id=\"Creating-tables-5.6\">Creating tables</a></span></li><li><span><a href=\"#Adding-data\" data-toc-modified-id=\"Adding-data-5.7\">Adding data</a></span><ul class=\"toc-item\"><li><span><a href=\"#INSERT\" data-toc-modified-id=\"INSERT-5.7.1\">INSERT</a></span></li><li><span><a href=\"#Constraints-again\" data-toc-modified-id=\"Constraints-again-5.7.2\">Constraints again</a></span></li><li><span><a href=\"#Python-variables\" data-toc-modified-id=\"Python-variables-5.7.3\">Python variables</a></span></li><li><span><a href=\"#Foreign-keys\" data-toc-modified-id=\"Foreign-keys-5.7.4\">Foreign keys</a></span></li></ul></li><li><span><a href=\"#SQL-scripts\" data-toc-modified-id=\"SQL-scripts-5.8\">SQL scripts</a></span></li><li><span><a href=\"#SQL-injection\" data-toc-modified-id=\"SQL-injection-5.9\">SQL injection</a></span></li></ul></li><li><span><a href=\"#Exercise\" data-toc-modified-id=\"Exercise-6\">Exercise</a></span></li></ul></div>"
   ]
  },
  {
   "cell_type": "code",
   "execution_count": 1,
   "metadata": {
    "tags": [
     "remove-cell"
    ]
   },
   "outputs": [],
   "source": [
    "import os\n",
    "\n",
    "def cleanup():\n",
    "    try:\n",
    "        os.remove('example.db')\n",
    "    except FileNotFoundError:\n",
    "        pass\n",
    "\n",
    "os.chdir('examples')\n",
    "cleanup()"
   ]
  },
  {
   "cell_type": "markdown",
   "metadata": {},
   "source": [
    "# Relational databases\n",
    "\n",
    "In the [lesson on files](files.ipynb) we learned about a few different text formats that we can use to store data. And when we came to learn about [data analysis](data_analysis.ipynb), we focused in particular on the concept of organizing data in a table of rows and columns (or a '[data frame](extras/glossary.ipynb#dataframe)'), which can be accomplished for example in a [csv](extras/glossary.ipynb#csv) file.\n",
    "\n",
    "## Objective\n",
    "\n",
    "The csv table format is great for many different data storage tasks. However, it has its limitations. To get an idea of what these limitations are and why they are important, let's set ourselves another toy task.\n",
    "\n",
    "We would like to create a file that stores information about our favorite songs. The file should store the names of the songs, along with some other information:\n",
    "\n",
    "* the name of the album that the song is from\n",
    "* the position of the song in the album\n",
    "* what year the album was released\n",
    "* the name of the artist that made the album\n",
    "* what country the artist is from\n",
    "\n",
    "We would like to be able to view different columns and subsets of our data file, for example to see all the songs from a particular album, or the earliest album by a particular artist, etc. And because our friends are constantly recommending new music for us, we would also like to be able to keep inserting new songs into the file.\n",
    "\n",
    "## Long format\n",
    "\n",
    "We can of course already accomplish this task with a csv file. I have provided one as an example, [songs.csv](examples/data/songs.csv). Let's load it and see what it looks like."
   ]
  },
  {
   "cell_type": "code",
   "execution_count": 2,
   "metadata": {},
   "outputs": [
    {
     "data": {
      "text/html": [
       "<div>\n",
       "<style scoped>\n",
       "    .dataframe tbody tr th:only-of-type {\n",
       "        vertical-align: middle;\n",
       "    }\n",
       "\n",
       "    .dataframe tbody tr th {\n",
       "        vertical-align: top;\n",
       "    }\n",
       "\n",
       "    .dataframe thead th {\n",
       "        text-align: right;\n",
       "    }\n",
       "</style>\n",
       "<table border=\"1\" class=\"dataframe\">\n",
       "  <thead>\n",
       "    <tr style=\"text-align: right;\">\n",
       "      <th></th>\n",
       "      <th>Artist</th>\n",
       "      <th>Country</th>\n",
       "      <th>Album</th>\n",
       "      <th>Year</th>\n",
       "      <th>Song</th>\n",
       "      <th>Number</th>\n",
       "    </tr>\n",
       "  </thead>\n",
       "  <tbody>\n",
       "    <tr>\n",
       "      <th>0</th>\n",
       "      <td>Blue Öyster Cult</td>\n",
       "      <td>USA</td>\n",
       "      <td>Agents of Fortune</td>\n",
       "      <td>1976</td>\n",
       "      <td>This Ain’t the Summer of Love</td>\n",
       "      <td>1</td>\n",
       "    </tr>\n",
       "    <tr>\n",
       "      <th>1</th>\n",
       "      <td>Blue Öyster Cult</td>\n",
       "      <td>USA</td>\n",
       "      <td>Agents of Fortune</td>\n",
       "      <td>1976</td>\n",
       "      <td>True Confessions</td>\n",
       "      <td>2</td>\n",
       "    </tr>\n",
       "    <tr>\n",
       "      <th>2</th>\n",
       "      <td>Blue Öyster Cult</td>\n",
       "      <td>USA</td>\n",
       "      <td>Agents of Fortune</td>\n",
       "      <td>1976</td>\n",
       "      <td>(Don’t Fear) The Reaper</td>\n",
       "      <td>3</td>\n",
       "    </tr>\n",
       "    <tr>\n",
       "      <th>3</th>\n",
       "      <td>Blue Öyster Cult</td>\n",
       "      <td>USA</td>\n",
       "      <td>Agents of Fortune</td>\n",
       "      <td>1976</td>\n",
       "      <td>E.T.I. (Extra Terrestrial Intelligence)</td>\n",
       "      <td>4</td>\n",
       "    </tr>\n",
       "    <tr>\n",
       "      <th>4</th>\n",
       "      <td>Blue Öyster Cult</td>\n",
       "      <td>USA</td>\n",
       "      <td>Agents of Fortune</td>\n",
       "      <td>1976</td>\n",
       "      <td>The Revenge of Vera Gemini</td>\n",
       "      <td>5</td>\n",
       "    </tr>\n",
       "    <tr>\n",
       "      <th>5</th>\n",
       "      <td>Blue Öyster Cult</td>\n",
       "      <td>USA</td>\n",
       "      <td>Agents of Fortune</td>\n",
       "      <td>1976</td>\n",
       "      <td>Sinful Love</td>\n",
       "      <td>6</td>\n",
       "    </tr>\n",
       "    <tr>\n",
       "      <th>6</th>\n",
       "      <td>Blue Öyster Cult</td>\n",
       "      <td>USA</td>\n",
       "      <td>Agents of Fortune</td>\n",
       "      <td>1976</td>\n",
       "      <td>Tattoo Vampire</td>\n",
       "      <td>7</td>\n",
       "    </tr>\n",
       "    <tr>\n",
       "      <th>7</th>\n",
       "      <td>Blue Öyster Cult</td>\n",
       "      <td>USA</td>\n",
       "      <td>Agents of Fortune</td>\n",
       "      <td>1976</td>\n",
       "      <td>Morning Final</td>\n",
       "      <td>8</td>\n",
       "    </tr>\n",
       "    <tr>\n",
       "      <th>8</th>\n",
       "      <td>Blue Öyster Cult</td>\n",
       "      <td>USA</td>\n",
       "      <td>Agents of Fortune</td>\n",
       "      <td>1976</td>\n",
       "      <td>Tenderloin</td>\n",
       "      <td>9</td>\n",
       "    </tr>\n",
       "    <tr>\n",
       "      <th>9</th>\n",
       "      <td>Blue Öyster Cult</td>\n",
       "      <td>USA</td>\n",
       "      <td>Agents of Fortune</td>\n",
       "      <td>1976</td>\n",
       "      <td>Debbie Denise</td>\n",
       "      <td>10</td>\n",
       "    </tr>\n",
       "    <tr>\n",
       "      <th>10</th>\n",
       "      <td>Blue Öyster Cult</td>\n",
       "      <td>USA</td>\n",
       "      <td>Club Ninja</td>\n",
       "      <td>1985</td>\n",
       "      <td>White Flags</td>\n",
       "      <td>1</td>\n",
       "    </tr>\n",
       "    <tr>\n",
       "      <th>11</th>\n",
       "      <td>Blue Öyster Cult</td>\n",
       "      <td>USA</td>\n",
       "      <td>Club Ninja</td>\n",
       "      <td>1985</td>\n",
       "      <td>Dancin' in the Ruins</td>\n",
       "      <td>2</td>\n",
       "    </tr>\n",
       "    <tr>\n",
       "      <th>12</th>\n",
       "      <td>Blue Öyster Cult</td>\n",
       "      <td>USA</td>\n",
       "      <td>Club Ninja</td>\n",
       "      <td>1985</td>\n",
       "      <td>Make Rock Not War</td>\n",
       "      <td>3</td>\n",
       "    </tr>\n",
       "    <tr>\n",
       "      <th>13</th>\n",
       "      <td>Blue Öyster Cult</td>\n",
       "      <td>USA</td>\n",
       "      <td>Club Ninja</td>\n",
       "      <td>1985</td>\n",
       "      <td>Perfect Water</td>\n",
       "      <td>4</td>\n",
       "    </tr>\n",
       "    <tr>\n",
       "      <th>14</th>\n",
       "      <td>Blue Öyster Cult</td>\n",
       "      <td>USA</td>\n",
       "      <td>Club Ninja</td>\n",
       "      <td>1985</td>\n",
       "      <td>Spy in the House of the Night</td>\n",
       "      <td>5</td>\n",
       "    </tr>\n",
       "    <tr>\n",
       "      <th>15</th>\n",
       "      <td>Blue Öyster Cult</td>\n",
       "      <td>USA</td>\n",
       "      <td>Club Ninja</td>\n",
       "      <td>1985</td>\n",
       "      <td>Beat 'Em Up</td>\n",
       "      <td>6</td>\n",
       "    </tr>\n",
       "    <tr>\n",
       "      <th>16</th>\n",
       "      <td>Blue Öyster Cult</td>\n",
       "      <td>USA</td>\n",
       "      <td>Club Ninja</td>\n",
       "      <td>1985</td>\n",
       "      <td>When the War Comes</td>\n",
       "      <td>7</td>\n",
       "    </tr>\n",
       "    <tr>\n",
       "      <th>17</th>\n",
       "      <td>Blue Öyster Cult</td>\n",
       "      <td>USA</td>\n",
       "      <td>Club Ninja</td>\n",
       "      <td>1985</td>\n",
       "      <td>Shadow Warrior</td>\n",
       "      <td>8</td>\n",
       "    </tr>\n",
       "    <tr>\n",
       "      <th>18</th>\n",
       "      <td>Blue Öyster Cult</td>\n",
       "      <td>USA</td>\n",
       "      <td>Club Ninja</td>\n",
       "      <td>1985</td>\n",
       "      <td>Madness to the Method</td>\n",
       "      <td>9</td>\n",
       "    </tr>\n",
       "    <tr>\n",
       "      <th>19</th>\n",
       "      <td>Blue Öyster Cult</td>\n",
       "      <td>USA</td>\n",
       "      <td>Fire of Unknown Origin</td>\n",
       "      <td>1981</td>\n",
       "      <td>Fire of Unknown Origin</td>\n",
       "      <td>1</td>\n",
       "    </tr>\n",
       "  </tbody>\n",
       "</table>\n",
       "</div>"
      ],
      "text/plain": [
       "              Artist Country                   Album  Year  \\\n",
       "0   Blue Öyster Cult     USA       Agents of Fortune  1976   \n",
       "1   Blue Öyster Cult     USA       Agents of Fortune  1976   \n",
       "2   Blue Öyster Cult     USA       Agents of Fortune  1976   \n",
       "3   Blue Öyster Cult     USA       Agents of Fortune  1976   \n",
       "4   Blue Öyster Cult     USA       Agents of Fortune  1976   \n",
       "5   Blue Öyster Cult     USA       Agents of Fortune  1976   \n",
       "6   Blue Öyster Cult     USA       Agents of Fortune  1976   \n",
       "7   Blue Öyster Cult     USA       Agents of Fortune  1976   \n",
       "8   Blue Öyster Cult     USA       Agents of Fortune  1976   \n",
       "9   Blue Öyster Cult     USA       Agents of Fortune  1976   \n",
       "10  Blue Öyster Cult     USA              Club Ninja  1985   \n",
       "11  Blue Öyster Cult     USA              Club Ninja  1985   \n",
       "12  Blue Öyster Cult     USA              Club Ninja  1985   \n",
       "13  Blue Öyster Cult     USA              Club Ninja  1985   \n",
       "14  Blue Öyster Cult     USA              Club Ninja  1985   \n",
       "15  Blue Öyster Cult     USA              Club Ninja  1985   \n",
       "16  Blue Öyster Cult     USA              Club Ninja  1985   \n",
       "17  Blue Öyster Cult     USA              Club Ninja  1985   \n",
       "18  Blue Öyster Cult     USA              Club Ninja  1985   \n",
       "19  Blue Öyster Cult     USA  Fire of Unknown Origin  1981   \n",
       "\n",
       "                                       Song  Number  \n",
       "0             This Ain’t the Summer of Love       1  \n",
       "1                          True Confessions       2  \n",
       "2                   (Don’t Fear) The Reaper       3  \n",
       "3   E.T.I. (Extra Terrestrial Intelligence)       4  \n",
       "4                The Revenge of Vera Gemini       5  \n",
       "5                               Sinful Love       6  \n",
       "6                            Tattoo Vampire       7  \n",
       "7                             Morning Final       8  \n",
       "8                                Tenderloin       9  \n",
       "9                             Debbie Denise      10  \n",
       "10                              White Flags       1  \n",
       "11                     Dancin' in the Ruins       2  \n",
       "12                        Make Rock Not War       3  \n",
       "13                            Perfect Water       4  \n",
       "14            Spy in the House of the Night       5  \n",
       "15                              Beat 'Em Up       6  \n",
       "16                       When the War Comes       7  \n",
       "17                           Shadow Warrior       8  \n",
       "18                    Madness to the Method       9  \n",
       "19                   Fire of Unknown Origin       1  "
      ]
     },
     "execution_count": 2,
     "metadata": {},
     "output_type": "execute_result"
    }
   ],
   "source": [
    "import os\n",
    "import pandas\n",
    "\n",
    "songs_df = pandas.read_csv(os.path.join('data', 'songs.csv'))\n",
    "\n",
    "songs_df[:20]"
   ]
  },
  {
   "cell_type": "markdown",
   "metadata": {},
   "source": [
    "One minor disadvantage of the csv format may already strike you when you look at the first few rows above: There is a lot of repetition in this file. The first few songs are all from the album 'Agents of Fortune'. In order to associate all these songs with this album and its year of release, there is really no alternative to just repeating the same album information on every row to which it applies. Likewise, the first few albums are all by the legendary rock band 'Blue Öyster Cult', so the name and country of the band must be repeated over many rows.\n",
    "\n",
    "This format, in which the complete set of information for each observation is contained on every row, even if this means repeating the same combinations of values many times, is sometimes known in data analysis as the 'long format'. Its great advantage is that it ensures that each row is self-contained and complete; one row gives all the information we need about that observation. One of its disadvantages is inefficiency; if the file contains many observations, it will contain a lot of redundant text, taking up storage space unnecessarily, and making it computationally slower to load the file and search in it.\n",
    "\n",
    "## Relational databases\n",
    "\n",
    "In order to avoid repeating text unnecessarily, we need multiple tables. We need separate tables for songs, albums, and artists, so that each row in each of these tables contains the information for just one unique song, album, or artist. For each song, we could then just refer to the relevant row in the 'albums' or 'artists' tables when we need this extra information, rather than repeating it throughout the 'songs' table. The repetitive columns in the 'songs' table would be replaced by a single 'album' column that just notes which album in the 'albums' table that song belongs to. Ideally, this 'linking' column should contain compact abbreviations, such as ID numbers for the albums, rather than the full album names.\n",
    "\n",
    "If you are having trouble imagining what such a data file would look like, just consider the 'sheets' functionality of a spreadsheet program like Microsoft Excel. Most spreadsheet programs allow for multiple tables in the same file, each table stored in a separate sheet. Take a look at the example file [songs.xlsx](examples/data/songs.xlsx). We will load the separate sheets in this file into Python in a moment, but to get an overview of the file's structure it is probably easier to just open it in your preferred spreadsheet program, like Excel or OpenOffice.\n",
    "\n",
    "Here is the 'songs' sheet:"
   ]
  },
  {
   "cell_type": "code",
   "execution_count": 3,
   "metadata": {},
   "outputs": [
    {
     "data": {
      "text/html": [
       "<div>\n",
       "<style scoped>\n",
       "    .dataframe tbody tr th:only-of-type {\n",
       "        vertical-align: middle;\n",
       "    }\n",
       "\n",
       "    .dataframe tbody tr th {\n",
       "        vertical-align: top;\n",
       "    }\n",
       "\n",
       "    .dataframe thead th {\n",
       "        text-align: right;\n",
       "    }\n",
       "</style>\n",
       "<table border=\"1\" class=\"dataframe\">\n",
       "  <thead>\n",
       "    <tr style=\"text-align: right;\">\n",
       "      <th></th>\n",
       "      <th>Song</th>\n",
       "      <th>Number</th>\n",
       "      <th>AlbumID</th>\n",
       "    </tr>\n",
       "  </thead>\n",
       "  <tbody>\n",
       "    <tr>\n",
       "      <th>0</th>\n",
       "      <td>This Ain’t the Summer of Love</td>\n",
       "      <td>1</td>\n",
       "      <td>0</td>\n",
       "    </tr>\n",
       "    <tr>\n",
       "      <th>1</th>\n",
       "      <td>True Confessions</td>\n",
       "      <td>2</td>\n",
       "      <td>0</td>\n",
       "    </tr>\n",
       "    <tr>\n",
       "      <th>2</th>\n",
       "      <td>(Don’t Fear) The Reaper</td>\n",
       "      <td>3</td>\n",
       "      <td>0</td>\n",
       "    </tr>\n",
       "    <tr>\n",
       "      <th>3</th>\n",
       "      <td>E.T.I. (Extra Terrestrial Intelligence)</td>\n",
       "      <td>4</td>\n",
       "      <td>0</td>\n",
       "    </tr>\n",
       "    <tr>\n",
       "      <th>4</th>\n",
       "      <td>The Revenge of Vera Gemini</td>\n",
       "      <td>5</td>\n",
       "      <td>0</td>\n",
       "    </tr>\n",
       "    <tr>\n",
       "      <th>5</th>\n",
       "      <td>Sinful Love</td>\n",
       "      <td>6</td>\n",
       "      <td>0</td>\n",
       "    </tr>\n",
       "    <tr>\n",
       "      <th>6</th>\n",
       "      <td>Tattoo Vampire</td>\n",
       "      <td>7</td>\n",
       "      <td>0</td>\n",
       "    </tr>\n",
       "    <tr>\n",
       "      <th>7</th>\n",
       "      <td>Morning Final</td>\n",
       "      <td>8</td>\n",
       "      <td>0</td>\n",
       "    </tr>\n",
       "    <tr>\n",
       "      <th>8</th>\n",
       "      <td>Tenderloin</td>\n",
       "      <td>9</td>\n",
       "      <td>0</td>\n",
       "    </tr>\n",
       "    <tr>\n",
       "      <th>9</th>\n",
       "      <td>Debbie Denise</td>\n",
       "      <td>10</td>\n",
       "      <td>0</td>\n",
       "    </tr>\n",
       "    <tr>\n",
       "      <th>10</th>\n",
       "      <td>White Flags</td>\n",
       "      <td>1</td>\n",
       "      <td>1</td>\n",
       "    </tr>\n",
       "    <tr>\n",
       "      <th>11</th>\n",
       "      <td>Dancin' in the Ruins</td>\n",
       "      <td>2</td>\n",
       "      <td>1</td>\n",
       "    </tr>\n",
       "    <tr>\n",
       "      <th>12</th>\n",
       "      <td>Make Rock Not War</td>\n",
       "      <td>3</td>\n",
       "      <td>1</td>\n",
       "    </tr>\n",
       "    <tr>\n",
       "      <th>13</th>\n",
       "      <td>Perfect Water</td>\n",
       "      <td>4</td>\n",
       "      <td>1</td>\n",
       "    </tr>\n",
       "    <tr>\n",
       "      <th>14</th>\n",
       "      <td>Spy in the House of the Night</td>\n",
       "      <td>5</td>\n",
       "      <td>1</td>\n",
       "    </tr>\n",
       "    <tr>\n",
       "      <th>15</th>\n",
       "      <td>Beat 'Em Up</td>\n",
       "      <td>6</td>\n",
       "      <td>1</td>\n",
       "    </tr>\n",
       "    <tr>\n",
       "      <th>16</th>\n",
       "      <td>When the War Comes</td>\n",
       "      <td>7</td>\n",
       "      <td>1</td>\n",
       "    </tr>\n",
       "    <tr>\n",
       "      <th>17</th>\n",
       "      <td>Shadow Warrior</td>\n",
       "      <td>8</td>\n",
       "      <td>1</td>\n",
       "    </tr>\n",
       "    <tr>\n",
       "      <th>18</th>\n",
       "      <td>Madness to the Method</td>\n",
       "      <td>9</td>\n",
       "      <td>1</td>\n",
       "    </tr>\n",
       "    <tr>\n",
       "      <th>19</th>\n",
       "      <td>Fire of Unknown Origin</td>\n",
       "      <td>1</td>\n",
       "      <td>2</td>\n",
       "    </tr>\n",
       "  </tbody>\n",
       "</table>\n",
       "</div>"
      ],
      "text/plain": [
       "                                       Song  Number  AlbumID\n",
       "0             This Ain’t the Summer of Love       1        0\n",
       "1                          True Confessions       2        0\n",
       "2                   (Don’t Fear) The Reaper       3        0\n",
       "3   E.T.I. (Extra Terrestrial Intelligence)       4        0\n",
       "4                The Revenge of Vera Gemini       5        0\n",
       "5                               Sinful Love       6        0\n",
       "6                            Tattoo Vampire       7        0\n",
       "7                             Morning Final       8        0\n",
       "8                                Tenderloin       9        0\n",
       "9                             Debbie Denise      10        0\n",
       "10                              White Flags       1        1\n",
       "11                     Dancin' in the Ruins       2        1\n",
       "12                        Make Rock Not War       3        1\n",
       "13                            Perfect Water       4        1\n",
       "14            Spy in the House of the Night       5        1\n",
       "15                              Beat 'Em Up       6        1\n",
       "16                       When the War Comes       7        1\n",
       "17                           Shadow Warrior       8        1\n",
       "18                    Madness to the Method       9        1\n",
       "19                   Fire of Unknown Origin       1        2"
      ]
     },
     "execution_count": 3,
     "metadata": {},
     "output_type": "execute_result"
    }
   ],
   "source": [
    "filepath = os.path.join('data', 'songs.xlsx')\n",
    "songs = pandas.read_excel(filepath, sheet_name='songs')\n",
    "\n",
    "songs[:20]"
   ]
  },
  {
   "cell_type": "markdown",
   "metadata": {},
   "source": [
    "The album information for each song has here been replaced by a single 'AlbumID' column. This column states which row in the album table each song comes from, without duplicating all the album information.\n",
    "\n",
    "The album information is in turn contained in a separate table in which each album appears only once:"
   ]
  },
  {
   "cell_type": "code",
   "execution_count": 4,
   "metadata": {},
   "outputs": [
    {
     "data": {
      "text/html": [
       "<div>\n",
       "<style scoped>\n",
       "    .dataframe tbody tr th:only-of-type {\n",
       "        vertical-align: middle;\n",
       "    }\n",
       "\n",
       "    .dataframe tbody tr th {\n",
       "        vertical-align: top;\n",
       "    }\n",
       "\n",
       "    .dataframe thead th {\n",
       "        text-align: right;\n",
       "    }\n",
       "</style>\n",
       "<table border=\"1\" class=\"dataframe\">\n",
       "  <thead>\n",
       "    <tr style=\"text-align: right;\">\n",
       "      <th></th>\n",
       "      <th>Album</th>\n",
       "      <th>Year</th>\n",
       "      <th>ArtistID</th>\n",
       "    </tr>\n",
       "  </thead>\n",
       "  <tbody>\n",
       "    <tr>\n",
       "      <th>0</th>\n",
       "      <td>Agents of Fortune</td>\n",
       "      <td>1976</td>\n",
       "      <td>0</td>\n",
       "    </tr>\n",
       "    <tr>\n",
       "      <th>1</th>\n",
       "      <td>Club Ninja</td>\n",
       "      <td>1985</td>\n",
       "      <td>0</td>\n",
       "    </tr>\n",
       "    <tr>\n",
       "      <th>2</th>\n",
       "      <td>Fire of Unknown Origin</td>\n",
       "      <td>1981</td>\n",
       "      <td>0</td>\n",
       "    </tr>\n",
       "    <tr>\n",
       "      <th>3</th>\n",
       "      <td>Spectres</td>\n",
       "      <td>1977</td>\n",
       "      <td>0</td>\n",
       "    </tr>\n",
       "    <tr>\n",
       "      <th>4</th>\n",
       "      <td>The Revölution by Night</td>\n",
       "      <td>1983</td>\n",
       "      <td>0</td>\n",
       "    </tr>\n",
       "    <tr>\n",
       "      <th>5</th>\n",
       "      <td>I’m No Hero</td>\n",
       "      <td>1980</td>\n",
       "      <td>1</td>\n",
       "    </tr>\n",
       "    <tr>\n",
       "      <th>6</th>\n",
       "      <td>The Young Ones</td>\n",
       "      <td>1961</td>\n",
       "      <td>1</td>\n",
       "    </tr>\n",
       "    <tr>\n",
       "      <th>7</th>\n",
       "      <td>Clutching at Straws</td>\n",
       "      <td>1987</td>\n",
       "      <td>2</td>\n",
       "    </tr>\n",
       "    <tr>\n",
       "      <th>8</th>\n",
       "      <td>Misplaced Childhood</td>\n",
       "      <td>1985</td>\n",
       "      <td>2</td>\n",
       "    </tr>\n",
       "    <tr>\n",
       "      <th>9</th>\n",
       "      <td>El disco de tu corazón</td>\n",
       "      <td>2007</td>\n",
       "      <td>3</td>\n",
       "    </tr>\n",
       "    <tr>\n",
       "      <th>10</th>\n",
       "      <td>Sin restricciones</td>\n",
       "      <td>2004</td>\n",
       "      <td>3</td>\n",
       "    </tr>\n",
       "    <tr>\n",
       "      <th>11</th>\n",
       "      <td>All Around My Hat</td>\n",
       "      <td>1975</td>\n",
       "      <td>4</td>\n",
       "    </tr>\n",
       "    <tr>\n",
       "      <th>12</th>\n",
       "      <td>Below the Salt</td>\n",
       "      <td>1972</td>\n",
       "      <td>4</td>\n",
       "    </tr>\n",
       "    <tr>\n",
       "      <th>13</th>\n",
       "      <td>Commoners Crown</td>\n",
       "      <td>1975</td>\n",
       "      <td>4</td>\n",
       "    </tr>\n",
       "    <tr>\n",
       "      <th>14</th>\n",
       "      <td>Hark! The Village Wait</td>\n",
       "      <td>1970</td>\n",
       "      <td>4</td>\n",
       "    </tr>\n",
       "    <tr>\n",
       "      <th>15</th>\n",
       "      <td>Now We Are Six</td>\n",
       "      <td>1974</td>\n",
       "      <td>4</td>\n",
       "    </tr>\n",
       "    <tr>\n",
       "      <th>16</th>\n",
       "      <td>Parcel of Rogues</td>\n",
       "      <td>1973</td>\n",
       "      <td>4</td>\n",
       "    </tr>\n",
       "    <tr>\n",
       "      <th>17</th>\n",
       "      <td>Please to See the King</td>\n",
       "      <td>1971</td>\n",
       "      <td>4</td>\n",
       "    </tr>\n",
       "    <tr>\n",
       "      <th>18</th>\n",
       "      <td>Storm Force Ten</td>\n",
       "      <td>1977</td>\n",
       "      <td>4</td>\n",
       "    </tr>\n",
       "  </tbody>\n",
       "</table>\n",
       "</div>"
      ],
      "text/plain": [
       "                      Album  Year  ArtistID\n",
       "0         Agents of Fortune  1976         0\n",
       "1                Club Ninja  1985         0\n",
       "2    Fire of Unknown Origin  1981         0\n",
       "3                  Spectres  1977         0\n",
       "4   The Revölution by Night  1983         0\n",
       "5               I’m No Hero  1980         1\n",
       "6            The Young Ones  1961         1\n",
       "7       Clutching at Straws  1987         2\n",
       "8       Misplaced Childhood  1985         2\n",
       "9    El disco de tu corazón  2007         3\n",
       "10        Sin restricciones  2004         3\n",
       "11        All Around My Hat  1975         4\n",
       "12           Below the Salt  1972         4\n",
       "13          Commoners Crown  1975         4\n",
       "14   Hark! The Village Wait  1970         4\n",
       "15           Now We Are Six  1974         4\n",
       "16         Parcel of Rogues  1973         4\n",
       "17   Please to See the King  1971         4\n",
       "18          Storm Force Ten  1977         4"
      ]
     },
     "execution_count": 4,
     "metadata": {},
     "output_type": "execute_result"
    }
   ],
   "source": [
    "albums = pandas.read_excel(filepath, sheet_name='albums')\n",
    "\n",
    "albums"
   ]
  },
  {
   "cell_type": "markdown",
   "metadata": {},
   "source": [
    "And finally, the same pattern is repeated in order to link the albums to the information about their respective artists. The 'ArtistID' column in the albums table refers to the corresponding row of the artists table:"
   ]
  },
  {
   "cell_type": "code",
   "execution_count": 5,
   "metadata": {},
   "outputs": [
    {
     "data": {
      "text/html": [
       "<div>\n",
       "<style scoped>\n",
       "    .dataframe tbody tr th:only-of-type {\n",
       "        vertical-align: middle;\n",
       "    }\n",
       "\n",
       "    .dataframe tbody tr th {\n",
       "        vertical-align: top;\n",
       "    }\n",
       "\n",
       "    .dataframe thead th {\n",
       "        text-align: right;\n",
       "    }\n",
       "</style>\n",
       "<table border=\"1\" class=\"dataframe\">\n",
       "  <thead>\n",
       "    <tr style=\"text-align: right;\">\n",
       "      <th></th>\n",
       "      <th>Artist</th>\n",
       "      <th>Country</th>\n",
       "    </tr>\n",
       "  </thead>\n",
       "  <tbody>\n",
       "    <tr>\n",
       "      <th>0</th>\n",
       "      <td>Blue Öyster Cult</td>\n",
       "      <td>USA</td>\n",
       "    </tr>\n",
       "    <tr>\n",
       "      <th>1</th>\n",
       "      <td>Cliff Richard</td>\n",
       "      <td>GB</td>\n",
       "    </tr>\n",
       "    <tr>\n",
       "      <th>2</th>\n",
       "      <td>Marillion</td>\n",
       "      <td>GB</td>\n",
       "    </tr>\n",
       "    <tr>\n",
       "      <th>3</th>\n",
       "      <td>Miranda</td>\n",
       "      <td>RA</td>\n",
       "    </tr>\n",
       "    <tr>\n",
       "      <th>4</th>\n",
       "      <td>Steeleye Span</td>\n",
       "      <td>GB</td>\n",
       "    </tr>\n",
       "  </tbody>\n",
       "</table>\n",
       "</div>"
      ],
      "text/plain": [
       "             Artist Country\n",
       "0  Blue Öyster Cult     USA\n",
       "1     Cliff Richard      GB\n",
       "2         Marillion      GB\n",
       "3           Miranda      RA\n",
       "4     Steeleye Span      GB"
      ]
     },
     "execution_count": 5,
     "metadata": {},
     "output_type": "execute_result"
    }
   ],
   "source": [
    "artists = pandas.read_excel(filepath, sheet_name='artists')\n",
    "\n",
    "artists"
   ]
  },
  {
   "cell_type": "markdown",
   "metadata": {},
   "source": [
    "The basic principle here is that integer row IDs 'relate' the rows in one table to those in one or more other tables. This general concept of multiple linked tables is often called a 'relational database', and it is well suited to cases in which the data have a certain hierarchical or interconnected structure. In our case, we have a hierarchical structure in which songs are grouped within albums, which are grouped within artists.\n",
    "\n",
    "### Joining\n",
    "\n",
    "A relational database provides a tidy, efficient way of storing more complex data. However, when we actually come to view the data and work with them, we will often need to 'reunite' the information from multiple tables and get back to a 'long format' table, at least temporarily. For example, we might want to see a table of all the albums by artists from the UK. Since the artists' country of origin is contained in the artists table, we need to put this table together with the albums table before we can select albums by country.\n",
    "\n",
    "The process of reuniting related information from more than one table in a relational database is known as 'joining' the tables. `pandas.DataFrame`s have a `join()` [method](extras/glossary.ipynb#method) for this operation. The first [argument](extras/glossary.ipynb#argument) is the additional table we want to join, and the `on` argument is the column that specifies which rows in this table relate to which rows in the first table:"
   ]
  },
  {
   "cell_type": "code",
   "execution_count": 6,
   "metadata": {},
   "outputs": [
    {
     "data": {
      "text/html": [
       "<div>\n",
       "<style scoped>\n",
       "    .dataframe tbody tr th:only-of-type {\n",
       "        vertical-align: middle;\n",
       "    }\n",
       "\n",
       "    .dataframe tbody tr th {\n",
       "        vertical-align: top;\n",
       "    }\n",
       "\n",
       "    .dataframe thead th {\n",
       "        text-align: right;\n",
       "    }\n",
       "</style>\n",
       "<table border=\"1\" class=\"dataframe\">\n",
       "  <thead>\n",
       "    <tr style=\"text-align: right;\">\n",
       "      <th></th>\n",
       "      <th>Album</th>\n",
       "      <th>Year</th>\n",
       "      <th>ArtistID</th>\n",
       "      <th>Artist</th>\n",
       "      <th>Country</th>\n",
       "    </tr>\n",
       "  </thead>\n",
       "  <tbody>\n",
       "    <tr>\n",
       "      <th>0</th>\n",
       "      <td>Agents of Fortune</td>\n",
       "      <td>1976</td>\n",
       "      <td>0</td>\n",
       "      <td>Blue Öyster Cult</td>\n",
       "      <td>USA</td>\n",
       "    </tr>\n",
       "    <tr>\n",
       "      <th>1</th>\n",
       "      <td>Club Ninja</td>\n",
       "      <td>1985</td>\n",
       "      <td>0</td>\n",
       "      <td>Blue Öyster Cult</td>\n",
       "      <td>USA</td>\n",
       "    </tr>\n",
       "    <tr>\n",
       "      <th>2</th>\n",
       "      <td>Fire of Unknown Origin</td>\n",
       "      <td>1981</td>\n",
       "      <td>0</td>\n",
       "      <td>Blue Öyster Cult</td>\n",
       "      <td>USA</td>\n",
       "    </tr>\n",
       "    <tr>\n",
       "      <th>3</th>\n",
       "      <td>Spectres</td>\n",
       "      <td>1977</td>\n",
       "      <td>0</td>\n",
       "      <td>Blue Öyster Cult</td>\n",
       "      <td>USA</td>\n",
       "    </tr>\n",
       "    <tr>\n",
       "      <th>4</th>\n",
       "      <td>The Revölution by Night</td>\n",
       "      <td>1983</td>\n",
       "      <td>0</td>\n",
       "      <td>Blue Öyster Cult</td>\n",
       "      <td>USA</td>\n",
       "    </tr>\n",
       "    <tr>\n",
       "      <th>5</th>\n",
       "      <td>I’m No Hero</td>\n",
       "      <td>1980</td>\n",
       "      <td>1</td>\n",
       "      <td>Cliff Richard</td>\n",
       "      <td>GB</td>\n",
       "    </tr>\n",
       "    <tr>\n",
       "      <th>6</th>\n",
       "      <td>The Young Ones</td>\n",
       "      <td>1961</td>\n",
       "      <td>1</td>\n",
       "      <td>Cliff Richard</td>\n",
       "      <td>GB</td>\n",
       "    </tr>\n",
       "    <tr>\n",
       "      <th>7</th>\n",
       "      <td>Clutching at Straws</td>\n",
       "      <td>1987</td>\n",
       "      <td>2</td>\n",
       "      <td>Marillion</td>\n",
       "      <td>GB</td>\n",
       "    </tr>\n",
       "    <tr>\n",
       "      <th>8</th>\n",
       "      <td>Misplaced Childhood</td>\n",
       "      <td>1985</td>\n",
       "      <td>2</td>\n",
       "      <td>Marillion</td>\n",
       "      <td>GB</td>\n",
       "    </tr>\n",
       "    <tr>\n",
       "      <th>9</th>\n",
       "      <td>El disco de tu corazón</td>\n",
       "      <td>2007</td>\n",
       "      <td>3</td>\n",
       "      <td>Miranda</td>\n",
       "      <td>RA</td>\n",
       "    </tr>\n",
       "    <tr>\n",
       "      <th>10</th>\n",
       "      <td>Sin restricciones</td>\n",
       "      <td>2004</td>\n",
       "      <td>3</td>\n",
       "      <td>Miranda</td>\n",
       "      <td>RA</td>\n",
       "    </tr>\n",
       "    <tr>\n",
       "      <th>11</th>\n",
       "      <td>All Around My Hat</td>\n",
       "      <td>1975</td>\n",
       "      <td>4</td>\n",
       "      <td>Steeleye Span</td>\n",
       "      <td>GB</td>\n",
       "    </tr>\n",
       "    <tr>\n",
       "      <th>12</th>\n",
       "      <td>Below the Salt</td>\n",
       "      <td>1972</td>\n",
       "      <td>4</td>\n",
       "      <td>Steeleye Span</td>\n",
       "      <td>GB</td>\n",
       "    </tr>\n",
       "    <tr>\n",
       "      <th>13</th>\n",
       "      <td>Commoners Crown</td>\n",
       "      <td>1975</td>\n",
       "      <td>4</td>\n",
       "      <td>Steeleye Span</td>\n",
       "      <td>GB</td>\n",
       "    </tr>\n",
       "    <tr>\n",
       "      <th>14</th>\n",
       "      <td>Hark! The Village Wait</td>\n",
       "      <td>1970</td>\n",
       "      <td>4</td>\n",
       "      <td>Steeleye Span</td>\n",
       "      <td>GB</td>\n",
       "    </tr>\n",
       "    <tr>\n",
       "      <th>15</th>\n",
       "      <td>Now We Are Six</td>\n",
       "      <td>1974</td>\n",
       "      <td>4</td>\n",
       "      <td>Steeleye Span</td>\n",
       "      <td>GB</td>\n",
       "    </tr>\n",
       "    <tr>\n",
       "      <th>16</th>\n",
       "      <td>Parcel of Rogues</td>\n",
       "      <td>1973</td>\n",
       "      <td>4</td>\n",
       "      <td>Steeleye Span</td>\n",
       "      <td>GB</td>\n",
       "    </tr>\n",
       "    <tr>\n",
       "      <th>17</th>\n",
       "      <td>Please to See the King</td>\n",
       "      <td>1971</td>\n",
       "      <td>4</td>\n",
       "      <td>Steeleye Span</td>\n",
       "      <td>GB</td>\n",
       "    </tr>\n",
       "    <tr>\n",
       "      <th>18</th>\n",
       "      <td>Storm Force Ten</td>\n",
       "      <td>1977</td>\n",
       "      <td>4</td>\n",
       "      <td>Steeleye Span</td>\n",
       "      <td>GB</td>\n",
       "    </tr>\n",
       "  </tbody>\n",
       "</table>\n",
       "</div>"
      ],
      "text/plain": [
       "                      Album  Year  ArtistID            Artist Country\n",
       "0         Agents of Fortune  1976         0  Blue Öyster Cult     USA\n",
       "1                Club Ninja  1985         0  Blue Öyster Cult     USA\n",
       "2    Fire of Unknown Origin  1981         0  Blue Öyster Cult     USA\n",
       "3                  Spectres  1977         0  Blue Öyster Cult     USA\n",
       "4   The Revölution by Night  1983         0  Blue Öyster Cult     USA\n",
       "5               I’m No Hero  1980         1     Cliff Richard      GB\n",
       "6            The Young Ones  1961         1     Cliff Richard      GB\n",
       "7       Clutching at Straws  1987         2         Marillion      GB\n",
       "8       Misplaced Childhood  1985         2         Marillion      GB\n",
       "9    El disco de tu corazón  2007         3           Miranda      RA\n",
       "10        Sin restricciones  2004         3           Miranda      RA\n",
       "11        All Around My Hat  1975         4     Steeleye Span      GB\n",
       "12           Below the Salt  1972         4     Steeleye Span      GB\n",
       "13          Commoners Crown  1975         4     Steeleye Span      GB\n",
       "14   Hark! The Village Wait  1970         4     Steeleye Span      GB\n",
       "15           Now We Are Six  1974         4     Steeleye Span      GB\n",
       "16         Parcel of Rogues  1973         4     Steeleye Span      GB\n",
       "17   Please to See the King  1971         4     Steeleye Span      GB\n",
       "18          Storm Force Ten  1977         4     Steeleye Span      GB"
      ]
     },
     "execution_count": 6,
     "metadata": {},
     "output_type": "execute_result"
    }
   ],
   "source": [
    "albums_artists = albums.join(artists, on='ArtistID')\n",
    "\n",
    "albums_artists"
   ]
  },
  {
   "cell_type": "markdown",
   "metadata": {},
   "source": [
    "And now we can filter the albums by country:"
   ]
  },
  {
   "cell_type": "code",
   "execution_count": 7,
   "metadata": {},
   "outputs": [
    {
     "data": {
      "text/html": [
       "<div>\n",
       "<style scoped>\n",
       "    .dataframe tbody tr th:only-of-type {\n",
       "        vertical-align: middle;\n",
       "    }\n",
       "\n",
       "    .dataframe tbody tr th {\n",
       "        vertical-align: top;\n",
       "    }\n",
       "\n",
       "    .dataframe thead th {\n",
       "        text-align: right;\n",
       "    }\n",
       "</style>\n",
       "<table border=\"1\" class=\"dataframe\">\n",
       "  <thead>\n",
       "    <tr style=\"text-align: right;\">\n",
       "      <th></th>\n",
       "      <th>Album</th>\n",
       "      <th>Year</th>\n",
       "      <th>ArtistID</th>\n",
       "      <th>Artist</th>\n",
       "      <th>Country</th>\n",
       "    </tr>\n",
       "  </thead>\n",
       "  <tbody>\n",
       "    <tr>\n",
       "      <th>5</th>\n",
       "      <td>I’m No Hero</td>\n",
       "      <td>1980</td>\n",
       "      <td>1</td>\n",
       "      <td>Cliff Richard</td>\n",
       "      <td>GB</td>\n",
       "    </tr>\n",
       "    <tr>\n",
       "      <th>6</th>\n",
       "      <td>The Young Ones</td>\n",
       "      <td>1961</td>\n",
       "      <td>1</td>\n",
       "      <td>Cliff Richard</td>\n",
       "      <td>GB</td>\n",
       "    </tr>\n",
       "    <tr>\n",
       "      <th>7</th>\n",
       "      <td>Clutching at Straws</td>\n",
       "      <td>1987</td>\n",
       "      <td>2</td>\n",
       "      <td>Marillion</td>\n",
       "      <td>GB</td>\n",
       "    </tr>\n",
       "    <tr>\n",
       "      <th>8</th>\n",
       "      <td>Misplaced Childhood</td>\n",
       "      <td>1985</td>\n",
       "      <td>2</td>\n",
       "      <td>Marillion</td>\n",
       "      <td>GB</td>\n",
       "    </tr>\n",
       "    <tr>\n",
       "      <th>11</th>\n",
       "      <td>All Around My Hat</td>\n",
       "      <td>1975</td>\n",
       "      <td>4</td>\n",
       "      <td>Steeleye Span</td>\n",
       "      <td>GB</td>\n",
       "    </tr>\n",
       "    <tr>\n",
       "      <th>12</th>\n",
       "      <td>Below the Salt</td>\n",
       "      <td>1972</td>\n",
       "      <td>4</td>\n",
       "      <td>Steeleye Span</td>\n",
       "      <td>GB</td>\n",
       "    </tr>\n",
       "    <tr>\n",
       "      <th>13</th>\n",
       "      <td>Commoners Crown</td>\n",
       "      <td>1975</td>\n",
       "      <td>4</td>\n",
       "      <td>Steeleye Span</td>\n",
       "      <td>GB</td>\n",
       "    </tr>\n",
       "    <tr>\n",
       "      <th>14</th>\n",
       "      <td>Hark! The Village Wait</td>\n",
       "      <td>1970</td>\n",
       "      <td>4</td>\n",
       "      <td>Steeleye Span</td>\n",
       "      <td>GB</td>\n",
       "    </tr>\n",
       "    <tr>\n",
       "      <th>15</th>\n",
       "      <td>Now We Are Six</td>\n",
       "      <td>1974</td>\n",
       "      <td>4</td>\n",
       "      <td>Steeleye Span</td>\n",
       "      <td>GB</td>\n",
       "    </tr>\n",
       "    <tr>\n",
       "      <th>16</th>\n",
       "      <td>Parcel of Rogues</td>\n",
       "      <td>1973</td>\n",
       "      <td>4</td>\n",
       "      <td>Steeleye Span</td>\n",
       "      <td>GB</td>\n",
       "    </tr>\n",
       "    <tr>\n",
       "      <th>17</th>\n",
       "      <td>Please to See the King</td>\n",
       "      <td>1971</td>\n",
       "      <td>4</td>\n",
       "      <td>Steeleye Span</td>\n",
       "      <td>GB</td>\n",
       "    </tr>\n",
       "    <tr>\n",
       "      <th>18</th>\n",
       "      <td>Storm Force Ten</td>\n",
       "      <td>1977</td>\n",
       "      <td>4</td>\n",
       "      <td>Steeleye Span</td>\n",
       "      <td>GB</td>\n",
       "    </tr>\n",
       "  </tbody>\n",
       "</table>\n",
       "</div>"
      ],
      "text/plain": [
       "                     Album  Year  ArtistID         Artist Country\n",
       "5              I’m No Hero  1980         1  Cliff Richard      GB\n",
       "6           The Young Ones  1961         1  Cliff Richard      GB\n",
       "7      Clutching at Straws  1987         2      Marillion      GB\n",
       "8      Misplaced Childhood  1985         2      Marillion      GB\n",
       "11       All Around My Hat  1975         4  Steeleye Span      GB\n",
       "12          Below the Salt  1972         4  Steeleye Span      GB\n",
       "13         Commoners Crown  1975         4  Steeleye Span      GB\n",
       "14  Hark! The Village Wait  1970         4  Steeleye Span      GB\n",
       "15          Now We Are Six  1974         4  Steeleye Span      GB\n",
       "16        Parcel of Rogues  1973         4  Steeleye Span      GB\n",
       "17  Please to See the King  1971         4  Steeleye Span      GB\n",
       "18         Storm Force Ten  1977         4  Steeleye Span      GB"
      ]
     },
     "execution_count": 7,
     "metadata": {},
     "output_type": "execute_result"
    }
   ],
   "source": [
    "albums_artists[albums_artists['Country']=='GB']"
   ]
  },
  {
   "cell_type": "markdown",
   "metadata": {},
   "source": [
    "## Constraints\n",
    "\n",
    "So a relational database is somewhat like a spreadsheet containing multiple related tables. But please don't tell anyone that I said this. Most programmers who work with relational databases would be horrified at the suggestion of using a Microsoft Excel file as a database. Justifiably so. Microsoft Excel is a spectacularly awful program in lots of very creative ways. There is also one more very desirable feature of a database that neither an Excel spreadsheet nor the collection of [dataframes](extras/glossary.ipynb#dataframe) stored in it fulfills.\n",
    "\n",
    "To see what this feature is and why it is desirable, let's try adding a new artist to our table of artists. But let's make a deliberate mistake in doing so, and add an artist that is in fact already present. (You can imagine that this sort of mistake is bound to occur eventually in a big database that might be used by more than one member of a team)."
   ]
  },
  {
   "cell_type": "code",
   "execution_count": 8,
   "metadata": {},
   "outputs": [
    {
     "data": {
      "text/html": [
       "<div>\n",
       "<style scoped>\n",
       "    .dataframe tbody tr th:only-of-type {\n",
       "        vertical-align: middle;\n",
       "    }\n",
       "\n",
       "    .dataframe tbody tr th {\n",
       "        vertical-align: top;\n",
       "    }\n",
       "\n",
       "    .dataframe thead th {\n",
       "        text-align: right;\n",
       "    }\n",
       "</style>\n",
       "<table border=\"1\" class=\"dataframe\">\n",
       "  <thead>\n",
       "    <tr style=\"text-align: right;\">\n",
       "      <th></th>\n",
       "      <th>Artist</th>\n",
       "      <th>Country</th>\n",
       "    </tr>\n",
       "  </thead>\n",
       "  <tbody>\n",
       "    <tr>\n",
       "      <th>0</th>\n",
       "      <td>Blue Öyster Cult</td>\n",
       "      <td>USA</td>\n",
       "    </tr>\n",
       "    <tr>\n",
       "      <th>1</th>\n",
       "      <td>Cliff Richard</td>\n",
       "      <td>GB</td>\n",
       "    </tr>\n",
       "    <tr>\n",
       "      <th>2</th>\n",
       "      <td>Marillion</td>\n",
       "      <td>GB</td>\n",
       "    </tr>\n",
       "    <tr>\n",
       "      <th>3</th>\n",
       "      <td>Miranda</td>\n",
       "      <td>RA</td>\n",
       "    </tr>\n",
       "    <tr>\n",
       "      <th>4</th>\n",
       "      <td>Steeleye Span</td>\n",
       "      <td>GB</td>\n",
       "    </tr>\n",
       "    <tr>\n",
       "      <th>5</th>\n",
       "      <td>Blue Öyster Cult</td>\n",
       "      <td>USA</td>\n",
       "    </tr>\n",
       "  </tbody>\n",
       "</table>\n",
       "</div>"
      ],
      "text/plain": [
       "             Artist Country\n",
       "0  Blue Öyster Cult     USA\n",
       "1     Cliff Richard      GB\n",
       "2         Marillion      GB\n",
       "3           Miranda      RA\n",
       "4     Steeleye Span      GB\n",
       "5  Blue Öyster Cult     USA"
      ]
     },
     "execution_count": 8,
     "metadata": {},
     "output_type": "execute_result"
    }
   ],
   "source": [
    "new_row = {'Artist':'Blue Öyster Cult', 'Country':'USA'}\n",
    "artists = artists.append(new_row, ignore_index=True)\n",
    "\n",
    "artists"
   ]
  },
  {
   "cell_type": "markdown",
   "metadata": {},
   "source": [
    "Our table doesn't care about the duplication. Why should it? It's just a dumb table.\n",
    "\n",
    "Other more subtle mistakes are also possible. For example, we might add a new album to the albums table and accidentally assign it an artist ID that is not one of the rows of the artists table:"
   ]
  },
  {
   "cell_type": "code",
   "execution_count": 9,
   "metadata": {},
   "outputs": [
    {
     "data": {
      "text/html": [
       "<div>\n",
       "<style scoped>\n",
       "    .dataframe tbody tr th:only-of-type {\n",
       "        vertical-align: middle;\n",
       "    }\n",
       "\n",
       "    .dataframe tbody tr th {\n",
       "        vertical-align: top;\n",
       "    }\n",
       "\n",
       "    .dataframe thead th {\n",
       "        text-align: right;\n",
       "    }\n",
       "</style>\n",
       "<table border=\"1\" class=\"dataframe\">\n",
       "  <thead>\n",
       "    <tr style=\"text-align: right;\">\n",
       "      <th></th>\n",
       "      <th>Album</th>\n",
       "      <th>Year</th>\n",
       "      <th>ArtistID</th>\n",
       "    </tr>\n",
       "  </thead>\n",
       "  <tbody>\n",
       "    <tr>\n",
       "      <th>0</th>\n",
       "      <td>Agents of Fortune</td>\n",
       "      <td>1976</td>\n",
       "      <td>0</td>\n",
       "    </tr>\n",
       "    <tr>\n",
       "      <th>1</th>\n",
       "      <td>Club Ninja</td>\n",
       "      <td>1985</td>\n",
       "      <td>0</td>\n",
       "    </tr>\n",
       "    <tr>\n",
       "      <th>2</th>\n",
       "      <td>Fire of Unknown Origin</td>\n",
       "      <td>1981</td>\n",
       "      <td>0</td>\n",
       "    </tr>\n",
       "    <tr>\n",
       "      <th>3</th>\n",
       "      <td>Spectres</td>\n",
       "      <td>1977</td>\n",
       "      <td>0</td>\n",
       "    </tr>\n",
       "    <tr>\n",
       "      <th>4</th>\n",
       "      <td>The Revölution by Night</td>\n",
       "      <td>1983</td>\n",
       "      <td>0</td>\n",
       "    </tr>\n",
       "    <tr>\n",
       "      <th>5</th>\n",
       "      <td>I’m No Hero</td>\n",
       "      <td>1980</td>\n",
       "      <td>1</td>\n",
       "    </tr>\n",
       "    <tr>\n",
       "      <th>6</th>\n",
       "      <td>The Young Ones</td>\n",
       "      <td>1961</td>\n",
       "      <td>1</td>\n",
       "    </tr>\n",
       "    <tr>\n",
       "      <th>7</th>\n",
       "      <td>Clutching at Straws</td>\n",
       "      <td>1987</td>\n",
       "      <td>2</td>\n",
       "    </tr>\n",
       "    <tr>\n",
       "      <th>8</th>\n",
       "      <td>Misplaced Childhood</td>\n",
       "      <td>1985</td>\n",
       "      <td>2</td>\n",
       "    </tr>\n",
       "    <tr>\n",
       "      <th>9</th>\n",
       "      <td>El disco de tu corazón</td>\n",
       "      <td>2007</td>\n",
       "      <td>3</td>\n",
       "    </tr>\n",
       "    <tr>\n",
       "      <th>10</th>\n",
       "      <td>Sin restricciones</td>\n",
       "      <td>2004</td>\n",
       "      <td>3</td>\n",
       "    </tr>\n",
       "    <tr>\n",
       "      <th>11</th>\n",
       "      <td>All Around My Hat</td>\n",
       "      <td>1975</td>\n",
       "      <td>4</td>\n",
       "    </tr>\n",
       "    <tr>\n",
       "      <th>12</th>\n",
       "      <td>Below the Salt</td>\n",
       "      <td>1972</td>\n",
       "      <td>4</td>\n",
       "    </tr>\n",
       "    <tr>\n",
       "      <th>13</th>\n",
       "      <td>Commoners Crown</td>\n",
       "      <td>1975</td>\n",
       "      <td>4</td>\n",
       "    </tr>\n",
       "    <tr>\n",
       "      <th>14</th>\n",
       "      <td>Hark! The Village Wait</td>\n",
       "      <td>1970</td>\n",
       "      <td>4</td>\n",
       "    </tr>\n",
       "    <tr>\n",
       "      <th>15</th>\n",
       "      <td>Now We Are Six</td>\n",
       "      <td>1974</td>\n",
       "      <td>4</td>\n",
       "    </tr>\n",
       "    <tr>\n",
       "      <th>16</th>\n",
       "      <td>Parcel of Rogues</td>\n",
       "      <td>1973</td>\n",
       "      <td>4</td>\n",
       "    </tr>\n",
       "    <tr>\n",
       "      <th>17</th>\n",
       "      <td>Please to See the King</td>\n",
       "      <td>1971</td>\n",
       "      <td>4</td>\n",
       "    </tr>\n",
       "    <tr>\n",
       "      <th>18</th>\n",
       "      <td>Storm Force Ten</td>\n",
       "      <td>1977</td>\n",
       "      <td>4</td>\n",
       "    </tr>\n",
       "    <tr>\n",
       "      <th>19</th>\n",
       "      <td>憶蓮</td>\n",
       "      <td>1987</td>\n",
       "      <td>10</td>\n",
       "    </tr>\n",
       "  </tbody>\n",
       "</table>\n",
       "</div>"
      ],
      "text/plain": [
       "                      Album  Year  ArtistID\n",
       "0         Agents of Fortune  1976         0\n",
       "1                Club Ninja  1985         0\n",
       "2    Fire of Unknown Origin  1981         0\n",
       "3                  Spectres  1977         0\n",
       "4   The Revölution by Night  1983         0\n",
       "5               I’m No Hero  1980         1\n",
       "6            The Young Ones  1961         1\n",
       "7       Clutching at Straws  1987         2\n",
       "8       Misplaced Childhood  1985         2\n",
       "9    El disco de tu corazón  2007         3\n",
       "10        Sin restricciones  2004         3\n",
       "11        All Around My Hat  1975         4\n",
       "12           Below the Salt  1972         4\n",
       "13          Commoners Crown  1975         4\n",
       "14   Hark! The Village Wait  1970         4\n",
       "15           Now We Are Six  1974         4\n",
       "16         Parcel of Rogues  1973         4\n",
       "17   Please to See the King  1971         4\n",
       "18          Storm Force Ten  1977         4\n",
       "19                       憶蓮  1987        10"
      ]
     },
     "execution_count": 9,
     "metadata": {},
     "output_type": "execute_result"
    }
   ],
   "source": [
    "new_row = {'Album':'憶蓮', 'Year':1987, 'ArtistID':10}\n",
    "albums = albums.append(new_row, ignore_index=True)\n",
    "\n",
    "albums"
   ]
  },
  {
   "cell_type": "markdown",
   "metadata": {},
   "source": [
    "Our table doesn't care about this kind of illogic either.\n",
    "\n",
    "Of course, we could just try to make sure that we and our colleagues don't make this kind of mistake when working with the database. But we are human beings; trying hard not to make mistakes doesn't usually work out too well for us.\n",
    "\n",
    "What we would really like from a good database is for it to be a little more than just an inert place of storage. As well as storing our data, it should also store and enforce a set of logical rules that describe how our data are organized. We can then rely on the database to alert us when we accidentally break one of our own rules. Rules about what constitutes a valid entry for a database are often termed 'constraints'.\n",
    "\n",
    "For our example task, we would like to be able to set the following constraints:\n",
    "\n",
    "* Every artist name must be unique (i.e. no duplicate artists).\n",
    "* Every combination of artist and album must be unique (i.e. so that duplicate album names are allowed if they are by different artists, but not the same album for the same artist).\n",
    "* The name of a song must be unique within the album (i.e. no duplicate songs on the same album).\n",
    "* The number of a song must be unique within the album (i.e. not two first songs or two second songs on the same album).\n",
    "* Every artist ID in the albums table must have a corresponding row in the artists table.\n",
    "* Every album ID in the songs table must have a corresponding row in the albums table.\n",
    "\n",
    "## SQL\n",
    "\n",
    "To get a 'proper' relational database that doesn't just store multiple related tables but also implements constraints on their relations, we need to move on from spreadsheets and dataframes. In fact, we need to learn a little bit of a completely new programming language, one that is designed specially for working with relational databases. [SQL](extras/glossary.ipynb#sql) (Structured Query Language) is a programming language that is very widely used in database management.\n",
    "\n",
    "SQL provides commands that are broadly of three different types:\n",
    "\n",
    "* Define the relations and constraints that give a database its structure.\n",
    "* Modify the data in a database, for example by inserting, deleting, or changing information.\n",
    "* Fetch different combinations of information from a database (usually called 'querying' the database).\n",
    "\n",
    "### Pronunciation\n",
    "\n",
    "Some people like to pronounce 'SQL' as 'sequel'. But other less imaginative people, like me, have always just pronounced it by spelling out the letters, 'es queue ell'. Say it however you like and don't let cool people snub you for not saying 'sequel'.\n",
    "\n",
    "### DB Browser\n",
    "\n",
    "We will now learn a bit of SQL. We will work our way up to creating our target database, but let's first take a quick look at one I made earlier, so that we know what we are aiming for. You can find it in the file [songs.db](examples/data/songs.db). You may of course wonder how to even open this file. There are a number of ways to interact with an SQL-compatible database file. One of those is of course by running SQL commands, as we will see shortly. But there are also programs that can display database contents in a friendlier clickable interface. The best basic one is the [DB Browser for SQLite](https://sqlitebrowser.org/). It is free to download. If you would like, you can install it and then use it to open up our example database file. You should see something like this:\n",
    "\n",
    "![](images/db_browser.png)\n",
    "\n",
    "This 'Database Structure' view lists the tables in the database. Along with each table, you can see the SQL commands that set the structure and constraints of the table. You might already be able to work out what some of this means. SQL is a fairly human-readable programming language.\n",
    "\n",
    "We will learn about these commands in a moment. For now, just explore the DB Browser app. You can browse the individual tables from the 'Browse Data' tab:\n",
    "\n",
    "![](images/db_browser_browse.png)\n",
    "\n",
    "Switch between tables using the drop-down menu, and take a look at the albums table. You will see that it has an 'artist_id' column that refers to the 'id' column in the artists table. Likewise, the songs table has an 'album_id' column that refers to the 'id' column in the albums table.\n",
    "\n",
    "You can also edit the database from the 'Browse Data' tab, via the 'New Record' button. Try this out. A new row will appear, in which you can enter values, much as in a normal spreadsheet. However, note that if you enter something that violates one of the constraints of the database, you will be suitably admonished:\n",
    "\n",
    "![](images/db_browser_unique.png)\n",
    "\n",
    "Great! The database has got us covered if we make stupid mistakes. If you want to see what the warning looks like for one of the other constraints, go to the albums table and try to add an album with an artistID that is not in the artists table.\n",
    "\n",
    "Also note that nothing you do in the browser will alter the database unless you click the 'Write Changes' button. If you would like to erase any temporary changes you have made in the browser, you can click the 'Revert Changes' button:\n",
    "\n",
    "![](images/db_browser_write_revert.png)\n",
    "\n",
    "Finally, take a look at the 'Execute SQL' tab. This tab provides a text field where you can enter SQL commands, run them, and see the results. Try typing in the following command, and then press the 'Play' (▶) button (we will learn what this command means in a moment):\n",
    "\n",
    "`SELECT album, year FROM albums;`\n",
    "\n",
    "Like this:\n",
    "\n",
    "![](images/db_browser_select.png)\n",
    "\n",
    "For the remaining SQL examples, I will abandon the DB browser and instead show how to run SQL commands from within a Python program. You can follow along in Python or if you prefer, you can try some of the SQL commands out in the DB browser 'Execute SQL' tab instead. However, the database file does not appreciate being open both in Python and in the DB Browser, since this could lead to conflicting edits, so you will need to use only one or the other at any one time.\n",
    "\n",
    "### sqlite3\n",
    "\n",
    "As usual, we need to [import](extras/glossary.ipynb#import) an additional module for our task.  There are a few third-party [packages](extras/glossary.ipynb#package) that enable us to work with SQL from Python. Some of these are very good, but I will instead show here a very simple one that is already part of the Python [standard library](standard_library.ipynb), called `sqlite3`. This module provides a fairly limited set of functions, and its use mostly involves just sending SQL commands to the database. This simplicity will allow us to focus on learning SQL without introducing too much additional Python complexity."
   ]
  },
  {
   "cell_type": "code",
   "execution_count": 10,
   "metadata": {},
   "outputs": [],
   "source": [
    "import sqlite3"
   ]
  },
  {
   "cell_type": "markdown",
   "metadata": {},
   "source": [
    "Let's work with the example finished database first, before we learn how to create a new one. The first step is to 'connect' to the database, with the `connect()` function and the [path](extras/glossary.ipynb#path) to the database file. This is very much like using `open()` to connect to a file as we learned in the [lesson on files](files.ipynb), in the sense that this command merely sets up a channel of communication from our program to the database, and does not yet 'read in' any of its contents."
   ]
  },
  {
   "cell_type": "code",
   "execution_count": 11,
   "metadata": {},
   "outputs": [],
   "source": [
    "db_filepath = os.path.join('data', 'songs.db') \n",
    "\n",
    "conn = sqlite3.connect(db_filepath)"
   ]
  },
  {
   "cell_type": "markdown",
   "metadata": {},
   "source": [
    "And let's check the [type](extras/glossary.ipynb#type) and [attributes](extras/glossary.ipynb#attribute) of the resulting object:"
   ]
  },
  {
   "cell_type": "code",
   "execution_count": 12,
   "metadata": {},
   "outputs": [
    {
     "data": {
      "text/plain": [
       "sqlite3.Connection"
      ]
     },
     "execution_count": 12,
     "metadata": {},
     "output_type": "execute_result"
    }
   ],
   "source": [
    "type(conn)"
   ]
  },
  {
   "cell_type": "code",
   "execution_count": 13,
   "metadata": {},
   "outputs": [
    {
     "data": {
      "text/plain": [
       "['DataError',\n",
       " 'DatabaseError',\n",
       " 'Error',\n",
       " 'IntegrityError',\n",
       " 'InterfaceError',\n",
       " 'InternalError',\n",
       " 'NotSupportedError',\n",
       " 'OperationalError',\n",
       " 'ProgrammingError',\n",
       " 'Warning',\n",
       " '__call__',\n",
       " '__class__',\n",
       " '__delattr__',\n",
       " '__dir__',\n",
       " '__doc__',\n",
       " '__enter__',\n",
       " '__eq__',\n",
       " '__exit__',\n",
       " '__format__',\n",
       " '__ge__',\n",
       " '__getattribute__',\n",
       " '__gt__',\n",
       " '__hash__',\n",
       " '__init__',\n",
       " '__init_subclass__',\n",
       " '__le__',\n",
       " '__lt__',\n",
       " '__ne__',\n",
       " '__new__',\n",
       " '__reduce__',\n",
       " '__reduce_ex__',\n",
       " '__repr__',\n",
       " '__setattr__',\n",
       " '__sizeof__',\n",
       " '__str__',\n",
       " '__subclasshook__',\n",
       " 'close',\n",
       " 'commit',\n",
       " 'create_aggregate',\n",
       " 'create_collation',\n",
       " 'create_function',\n",
       " 'cursor',\n",
       " 'enable_load_extension',\n",
       " 'execute',\n",
       " 'executemany',\n",
       " 'executescript',\n",
       " 'in_transaction',\n",
       " 'interrupt',\n",
       " 'isolation_level',\n",
       " 'iterdump',\n",
       " 'load_extension',\n",
       " 'rollback',\n",
       " 'row_factory',\n",
       " 'set_authorizer',\n",
       " 'set_progress_handler',\n",
       " 'set_trace_callback',\n",
       " 'text_factory',\n",
       " 'total_changes']"
      ]
     },
     "execution_count": 13,
     "metadata": {},
     "output_type": "execute_result"
    }
   ],
   "source": [
    "dir(conn)"
   ]
  },
  {
   "cell_type": "markdown",
   "metadata": {},
   "source": [
    "We will work with three main [methods](extras/glossary.ipynb#method) of our `sqlite3.Connection` variable:\n",
    "\n",
    "* `execute()`: run some SQL commands\n",
    "* `commit()`: actually write the current changes to the database file (note that this is similar to the sense of [commit](extras/glossary.ipynb#commit) in [version control](extras/glossary.ipynb#versioning))\n",
    "* `close()`: close the connection to the database\n",
    "\n",
    "In particular, it is a good idea to have `close()` ready to hand. We can occasionally get into trouble if we leave a connection to a database open. If we are writing a Python program, we should put the `close()` command at the bottom of our program file right from the start, so that each time we run and test our program, the database connection is properly closed before the next time we run the program.\n",
    "\n",
    "### Queries\n",
    "\n",
    "#### SELECT\n",
    "\n",
    "We can begin with the example SQL command that we saw above. This command involves two SQL [keywords](extras/glossary.ipynb): `SELECT` and `FROM`. Thanks to their intuitive names, it is pretty clear what these keywords accomplish: together they select some columns from a table.\n",
    "\n",
    "There are just two other aspects of SQL [syntax](extras/glossary.ipynb#syntax) on display in this first command:\n",
    "\n",
    "* Separate multiple names with commas.\n",
    "* End the command with a semicolon (`;`). This indicates that a command is complete, and does not for example continue on the next line. This is a little different from Python; in Python the end of a line usually also indicates the end of a command, with only some exceptions.\n",
    "\n",
    "Since SQL commands are not valid Python expressions, we can't simply type them as-is in our Python program. Instead, they need to be contained in a [string](extras/glossary.ipynb#string). This string is then passed in as the [argument](extras/glossary.ipynb#argument) to the `execute()` [method](extras/glossary.ipynb#method) of our database connection variable:"
   ]
  },
  {
   "cell_type": "code",
   "execution_count": 14,
   "metadata": {},
   "outputs": [],
   "source": [
    "result = conn.execute('SELECT album, year FROM albums;')"
   ]
  },
  {
   "cell_type": "markdown",
   "metadata": {},
   "source": [
    "What did we get from `execute()`?"
   ]
  },
  {
   "cell_type": "code",
   "execution_count": 15,
   "metadata": {},
   "outputs": [
    {
     "data": {
      "text/plain": [
       "sqlite3.Cursor"
      ]
     },
     "execution_count": 15,
     "metadata": {},
     "output_type": "execute_result"
    }
   ],
   "source": [
    "type(result)"
   ]
  },
  {
   "cell_type": "code",
   "execution_count": 16,
   "metadata": {},
   "outputs": [
    {
     "data": {
      "text/plain": [
       "['__class__',\n",
       " '__delattr__',\n",
       " '__dir__',\n",
       " '__doc__',\n",
       " '__eq__',\n",
       " '__format__',\n",
       " '__ge__',\n",
       " '__getattribute__',\n",
       " '__gt__',\n",
       " '__hash__',\n",
       " '__init__',\n",
       " '__init_subclass__',\n",
       " '__iter__',\n",
       " '__le__',\n",
       " '__lt__',\n",
       " '__ne__',\n",
       " '__new__',\n",
       " '__next__',\n",
       " '__reduce__',\n",
       " '__reduce_ex__',\n",
       " '__repr__',\n",
       " '__setattr__',\n",
       " '__sizeof__',\n",
       " '__str__',\n",
       " '__subclasshook__',\n",
       " 'arraysize',\n",
       " 'close',\n",
       " 'connection',\n",
       " 'description',\n",
       " 'execute',\n",
       " 'executemany',\n",
       " 'executescript',\n",
       " 'fetchall',\n",
       " 'fetchmany',\n",
       " 'fetchone',\n",
       " 'lastrowid',\n",
       " 'row_factory',\n",
       " 'rowcount',\n",
       " 'setinputsizes',\n",
       " 'setoutputsize']"
      ]
     },
     "execution_count": 16,
     "metadata": {},
     "output_type": "execute_result"
    }
   ],
   "source": [
    "dir(result)"
   ]
  },
  {
   "cell_type": "markdown",
   "metadata": {},
   "source": [
    "We get a somewhat unintuitively-named `Cursor`. The idea here is that the SQL `SELECT` command has inserted a 'cursor' into the database (rather like the cursor in a text editor) such that it is ready to read at the rows we selected.\n",
    "\n",
    "The `Cursor` is [iterable](exrtas/glossary.ipynb#method). If we iterate through it in a `for` [loop](extras/glossary.ipynb#loop), we get each selected row in turn:"
   ]
  },
  {
   "cell_type": "code",
   "execution_count": 17,
   "metadata": {},
   "outputs": [
    {
     "name": "stdout",
     "output_type": "stream",
     "text": [
      "('Agents of Fortune', 1976)\n",
      "('Club Ninja', 1985)\n",
      "('Fire of Unknown Origin', 1981)\n",
      "('Spectres', 1977)\n",
      "('The Revölution by Night', 1983)\n",
      "('I’m No Hero', 1980)\n",
      "('The Young Ones', 1961)\n",
      "('Clutching at Straws', 1987)\n",
      "('Misplaced Childhood', 1985)\n",
      "('El disco de tu corazón', 2007)\n",
      "('Sin restricciones', 2004)\n",
      "('All Around My Hat', 1975)\n",
      "('Below the Salt', 1972)\n",
      "('Commoners Crown', 1975)\n",
      "('Hark! The Village Wait', 1970)\n",
      "('Now We Are Six', 1974)\n",
      "('Parcel of Rogues', 1973)\n",
      "('Please to See the King', 1971)\n",
      "('Storm Force Ten', 1977)\n"
     ]
    }
   ],
   "source": [
    "for row in result:\n",
    "    print(row)"
   ]
  },
  {
   "cell_type": "markdown",
   "metadata": {},
   "source": [
    "What Python [data type](extras/glossary.ipynb#type) are the rows that we get? They are [tuples](extras/glossary.ipynb#tuple) (We can see this by checking the final row variable left over from the loop that we just ran above):"
   ]
  },
  {
   "cell_type": "code",
   "execution_count": 18,
   "metadata": {},
   "outputs": [
    {
     "data": {
      "text/plain": [
       "tuple"
      ]
     },
     "execution_count": 18,
     "metadata": {},
     "output_type": "execute_result"
    }
   ],
   "source": [
    "type(row)"
   ]
  },
  {
   "cell_type": "markdown",
   "metadata": {},
   "source": [
    "The type of each entry in the tuple depends on the type of data stored in the corresponding column of the table in our database:"
   ]
  },
  {
   "cell_type": "code",
   "execution_count": 19,
   "metadata": {},
   "outputs": [
    {
     "data": {
      "text/plain": [
       "str"
      ]
     },
     "execution_count": 19,
     "metadata": {},
     "output_type": "execute_result"
    }
   ],
   "source": [
    "type(row[0])"
   ]
  },
  {
   "cell_type": "code",
   "execution_count": 20,
   "metadata": {},
   "outputs": [
    {
     "data": {
      "text/plain": [
       "int"
      ]
     },
     "execution_count": 20,
     "metadata": {},
     "output_type": "execute_result"
    }
   ],
   "source": [
    "type(row[1])"
   ]
  },
  {
   "cell_type": "markdown",
   "metadata": {},
   "source": [
    "The order of the entries in each tuple will match the order in which we requested the columns in the original SQL `SELECT` command. So for example if it happened to be convenient to have the year first, we can ask for this column ordering:"
   ]
  },
  {
   "cell_type": "code",
   "execution_count": 21,
   "metadata": {},
   "outputs": [
    {
     "name": "stdout",
     "output_type": "stream",
     "text": [
      "(1976, 'Agents of Fortune')\n",
      "(1985, 'Club Ninja')\n",
      "(1981, 'Fire of Unknown Origin')\n",
      "(1977, 'Spectres')\n",
      "(1983, 'The Revölution by Night')\n",
      "(1980, 'I’m No Hero')\n",
      "(1961, 'The Young Ones')\n",
      "(1987, 'Clutching at Straws')\n",
      "(1985, 'Misplaced Childhood')\n",
      "(2007, 'El disco de tu corazón')\n",
      "(2004, 'Sin restricciones')\n",
      "(1975, 'All Around My Hat')\n",
      "(1972, 'Below the Salt')\n",
      "(1975, 'Commoners Crown')\n",
      "(1970, 'Hark! The Village Wait')\n",
      "(1974, 'Now We Are Six')\n",
      "(1973, 'Parcel of Rogues')\n",
      "(1971, 'Please to See the King')\n",
      "(1977, 'Storm Force Ten')\n"
     ]
    }
   ],
   "source": [
    "for row in conn.execute('SELECT year, album FROM albums;'):\n",
    "    print(row)"
   ]
  },
  {
   "cell_type": "markdown",
   "metadata": {},
   "source": [
    "Alternatively, if we would just like to have all the selected rows at once and work with them as a whole, then the `fetchall()` [method](extras/glossary.ipynb#method) puts them all into a [list](extras/glossary.ipynb#list) of [tuples](extras/glossary.ipynb#tuple):"
   ]
  },
  {
   "cell_type": "code",
   "execution_count": 22,
   "metadata": {},
   "outputs": [
    {
     "data": {
      "text/plain": [
       "list"
      ]
     },
     "execution_count": 22,
     "metadata": {},
     "output_type": "execute_result"
    }
   ],
   "source": [
    "result = conn.execute('SELECT album, year FROM albums;')\n",
    "all_albums = result.fetchall()\n",
    "\n",
    "type(all_albums)"
   ]
  },
  {
   "cell_type": "code",
   "execution_count": 23,
   "metadata": {},
   "outputs": [
    {
     "data": {
      "text/plain": [
       "('Agents of Fortune', 1976)"
      ]
     },
     "execution_count": 23,
     "metadata": {},
     "output_type": "execute_result"
    }
   ],
   "source": [
    "all_albums[0]"
   ]
  },
  {
   "cell_type": "markdown",
   "metadata": {},
   "source": [
    "If we would simply like all the columns from a table, the [wildcard](extras/glossary.ipynb#wildcard) symbol `*` can stand for 'all columns'."
   ]
  },
  {
   "cell_type": "code",
   "execution_count": 24,
   "metadata": {},
   "outputs": [
    {
     "name": "stdout",
     "output_type": "stream",
     "text": [
      "(0, 'Agents of Fortune', 1976, 0)\n",
      "(1, 'Club Ninja', 1985, 0)\n",
      "(2, 'Fire of Unknown Origin', 1981, 0)\n",
      "(3, 'Spectres', 1977, 0)\n",
      "(4, 'The Revölution by Night', 1983, 0)\n",
      "(5, 'I’m No Hero', 1980, 1)\n",
      "(6, 'The Young Ones', 1961, 1)\n",
      "(7, 'Clutching at Straws', 1987, 2)\n",
      "(8, 'Misplaced Childhood', 1985, 2)\n",
      "(9, 'El disco de tu corazón', 2007, 3)\n",
      "(10, 'Sin restricciones', 2004, 3)\n",
      "(11, 'All Around My Hat', 1975, 4)\n",
      "(12, 'Below the Salt', 1972, 4)\n",
      "(13, 'Commoners Crown', 1975, 4)\n",
      "(14, 'Hark! The Village Wait', 1970, 4)\n",
      "(15, 'Now We Are Six', 1974, 4)\n",
      "(16, 'Parcel of Rogues', 1973, 4)\n",
      "(17, 'Please to See the King', 1971, 4)\n",
      "(18, 'Storm Force Ten', 1977, 4)\n"
     ]
    }
   ],
   "source": [
    "for row in conn.execute('SELECT * FROM albums;'):\n",
    "    print(row)"
   ]
  },
  {
   "cell_type": "markdown",
   "metadata": {},
   "source": [
    "But it is best to reserve use of `*` for just exploring the database and seeing what columns it contains. When actually working with the data we should explicitly select the columns we want, so that we can be sure of what we are getting.\n",
    "\n",
    "#### ORDER BY\n",
    "\n",
    "If we plan on using a [loop](extras/glossary.ipynb#loop) to go through rows one by one, then it sometimes makes sense to state explicitly what order we would like to get them in. The additional SQL [keywords](extras/glossary.ipynb#keyword) `ORDER BY` accomplish this:"
   ]
  },
  {
   "cell_type": "code",
   "execution_count": 25,
   "metadata": {},
   "outputs": [
    {
     "name": "stdout",
     "output_type": "stream",
     "text": [
      "('The Young Ones', 1961)\n",
      "('Hark! The Village Wait', 1970)\n",
      "('Please to See the King', 1971)\n",
      "('Below the Salt', 1972)\n",
      "('Parcel of Rogues', 1973)\n",
      "('Now We Are Six', 1974)\n",
      "('All Around My Hat', 1975)\n",
      "('Commoners Crown', 1975)\n",
      "('Agents of Fortune', 1976)\n",
      "('Spectres', 1977)\n",
      "('Storm Force Ten', 1977)\n",
      "('I’m No Hero', 1980)\n",
      "('Fire of Unknown Origin', 1981)\n",
      "('The Revölution by Night', 1983)\n",
      "('Club Ninja', 1985)\n",
      "('Misplaced Childhood', 1985)\n",
      "('Clutching at Straws', 1987)\n",
      "('Sin restricciones', 2004)\n",
      "('El disco de tu corazón', 2007)\n"
     ]
    }
   ],
   "source": [
    "for row in conn.execute('SELECT album, year FROM albums ORDER BY year;'):\n",
    "    print(row)"
   ]
  },
  {
   "cell_type": "markdown",
   "metadata": {},
   "source": [
    "The default is ascending order, but we can request descending order with `DESC`:"
   ]
  },
  {
   "cell_type": "code",
   "execution_count": 26,
   "metadata": {},
   "outputs": [
    {
     "name": "stdout",
     "output_type": "stream",
     "text": [
      "('El disco de tu corazón', 2007)\n",
      "('Sin restricciones', 2004)\n",
      "('Clutching at Straws', 1987)\n",
      "('Club Ninja', 1985)\n",
      "('Misplaced Childhood', 1985)\n",
      "('The Revölution by Night', 1983)\n",
      "('Fire of Unknown Origin', 1981)\n",
      "('I’m No Hero', 1980)\n",
      "('Spectres', 1977)\n",
      "('Storm Force Ten', 1977)\n",
      "('Agents of Fortune', 1976)\n",
      "('All Around My Hat', 1975)\n",
      "('Commoners Crown', 1975)\n",
      "('Now We Are Six', 1974)\n",
      "('Parcel of Rogues', 1973)\n",
      "('Below the Salt', 1972)\n",
      "('Please to See the King', 1971)\n",
      "('Hark! The Village Wait', 1970)\n",
      "('The Young Ones', 1961)\n"
     ]
    }
   ],
   "source": [
    "for row in conn.execute('SELECT album, year FROM albums ORDER BY year DESC;'):\n",
    "    print(row)"
   ]
  },
  {
   "cell_type": "markdown",
   "metadata": {},
   "source": [
    "#### WHERE\n",
    "\n",
    "What if we want only certain rows? We could use Python [conditions](extras/glossary.ipynb#condition) to get only those that we want:"
   ]
  },
  {
   "cell_type": "code",
   "execution_count": 27,
   "metadata": {},
   "outputs": [
    {
     "name": "stdout",
     "output_type": "stream",
     "text": [
      "('Spectres', 1977)\n",
      "('Storm Force Ten', 1977)\n"
     ]
    }
   ],
   "source": [
    "for row in conn.execute('SELECT album, year FROM albums;'):\n",
    "    if row[1] == 1977:\n",
    "        print(row)"
   ]
  },
  {
   "cell_type": "markdown",
   "metadata": {},
   "source": [
    "However, behind the scenes this isn't such an efficient way of applying conditions to a database. Although the details are hidden from us here, deep in the bowels of our computer the above commands result in the database doing some computational work getting certain rows, and then Python doing some additional work separately checking each of those rows.\n",
    "\n",
    "It is instead a good habit to let the database do as much filtering and organizing as possible first, and then just use Python to work with the finished set of selected data. Since database software has been optimized specially for reading and selecting data, it will almost always be computationally faster and more memory-efficient at these tasks than a general-purpose program like Python. The difference will be imperceptible for a small database and simple condition like this one, but if you one day work with really big quantities of data you may notice that selection with Python is slower than with the database itself.\n",
    "\n",
    "The SQL `WHERE` keyword applies a condition for selecting only certain rows:"
   ]
  },
  {
   "cell_type": "code",
   "execution_count": 28,
   "metadata": {},
   "outputs": [
    {
     "name": "stdout",
     "output_type": "stream",
     "text": [
      "('Spectres', 1977)\n",
      "('Storm Force Ten', 1977)\n"
     ]
    }
   ],
   "source": [
    "for row in conn.execute('SELECT album, year FROM albums WHERE year=1977;'):\n",
    "    print(row)"
   ]
  },
  {
   "cell_type": "markdown",
   "metadata": {},
   "source": [
    "If you read the example above carefully, you may have noticed a subtle syntactical difference between Python conditions and SQL conditions. The 'is equal to' [operator](extras/glossary.ipynb#operator) is `==` in Python (because the single `=` is used for [assignment](extras/glossary.ipynb#assignment) instead), but in SQL it is just `=`.\n",
    "\n",
    "Most other logical conditions are the same in the two languages. For example 'greater than' `>` and 'less than' `<`: "
   ]
  },
  {
   "cell_type": "code",
   "execution_count": 29,
   "metadata": {},
   "outputs": [
    {
     "name": "stdout",
     "output_type": "stream",
     "text": [
      "('Club Ninja', 1985)\n",
      "('Fire of Unknown Origin', 1981)\n",
      "('The Revölution by Night', 1983)\n",
      "('I’m No Hero', 1980)\n",
      "('Clutching at Straws', 1987)\n",
      "('Misplaced Childhood', 1985)\n",
      "('El disco de tu corazón', 2007)\n",
      "('Sin restricciones', 2004)\n"
     ]
    }
   ],
   "source": [
    "for row in conn.execute('SELECT album, year FROM albums WHERE year>1977;'):\n",
    "    print(row)"
   ]
  },
  {
   "cell_type": "markdown",
   "metadata": {},
   "source": [
    "#### JOIN\n",
    "\n",
    "So far we have been selecting data from a single table. We haven't yet made use of one of the key features of a relational database, relations among tables. What if we want information about some of the albums, but we also want the associated artist information from the artists table?\n",
    "\n",
    "We learned already about the concept of 'joining' related tables above, and we implemented it (somewhat primitively) using just `pandas` [dataframes](extras/glossary.ipynb#dataframe). Now let's see how to do it with an SQL command. The [keyword](extras/glossary.ipynb#keyword) that we need is `JOIN`. If we add a `JOIN` to a `SELECT`, we can select columns from more than one table after the tables have been joined. The slight additional complexity here is that we need to specify which column in one table relates to which column in the other table. Following `JOIN` and the name of the table to join, the `ON` keyword specifies which columns are related. The syntax for this is to link the columns with `=` and to specify the columns as '*table.column*'.\n",
    "\n",
    "An example is clearer than an explanation. Recall that the artists table has an 'id' column and that the albums table has a corresponding 'artist_id' column:"
   ]
  },
  {
   "cell_type": "code",
   "execution_count": 30,
   "metadata": {},
   "outputs": [
    {
     "name": "stdout",
     "output_type": "stream",
     "text": [
      "('Agents of Fortune', 'Blue Öyster Cult', 'USA')\n",
      "('All Around My Hat', 'Steeleye Span', 'GB')\n",
      "('Below the Salt', 'Steeleye Span', 'GB')\n",
      "('Club Ninja', 'Blue Öyster Cult', 'USA')\n",
      "('Clutching at Straws', 'Marillion', 'GB')\n",
      "('Commoners Crown', 'Steeleye Span', 'GB')\n",
      "('El disco de tu corazón', 'Miranda', 'RA')\n",
      "('Fire of Unknown Origin', 'Blue Öyster Cult', 'USA')\n",
      "('Hark! The Village Wait', 'Steeleye Span', 'GB')\n",
      "('I’m No Hero', 'Cliff Richard', 'GB')\n",
      "('Misplaced Childhood', 'Marillion', 'GB')\n",
      "('Now We Are Six', 'Steeleye Span', 'GB')\n",
      "('Parcel of Rogues', 'Steeleye Span', 'GB')\n",
      "('Please to See the King', 'Steeleye Span', 'GB')\n",
      "('Sin restricciones', 'Miranda', 'RA')\n",
      "('Spectres', 'Blue Öyster Cult', 'USA')\n",
      "('Storm Force Ten', 'Steeleye Span', 'GB')\n",
      "('The Revölution by Night', 'Blue Öyster Cult', 'USA')\n",
      "('The Young Ones', 'Cliff Richard', 'GB')\n"
     ]
    }
   ],
   "source": [
    "for row in conn.execute('SELECT album, artist, country FROM albums JOIN artists ON albums.artist_id=artists.id;'):\n",
    "    print(row)"
   ]
  },
  {
   "cell_type": "markdown",
   "metadata": {},
   "source": [
    "Nice. Joining is my favorite bit of SQL. I like to imagine a robot saying 'yes, master' in a computery voice and then flying around among the shelves of a medieval library joining up all the requested pages of magical books.\n",
    "\n",
    "### Miscellaneous SQL syntax\n",
    "\n",
    "We now know the basics of the 'Q' part of SQL: querying the database for combinations of rows and columns from one or more tables. Before we move on to creating our own new database, let's note a few odds and ends about the structure of SQL.\n",
    "\n",
    "#### Complex commands\n",
    "\n",
    "First of all, we may combine multiple keywords for more complex operations. A common combination is a `JOIN` to combine tables plus a `WHERE` to filter to certain rows. For example, to get only the first song from each album, and display its name together with the album name:"
   ]
  },
  {
   "cell_type": "code",
   "execution_count": 31,
   "metadata": {},
   "outputs": [
    {
     "name": "stdout",
     "output_type": "stream",
     "text": [
      "('This Ain’t the Summer of Love', 'Agents of Fortune')\n",
      "('White Flags', 'Club Ninja')\n",
      "('Fire of Unknown Origin', 'Fire of Unknown Origin')\n",
      "('Godzilla', 'Spectres')\n",
      "('Take Me Away', 'The Revölution by Night')\n",
      "('Take Another Look', 'I’m No Hero')\n",
      "('Friday Night', 'The Young Ones')\n",
      "('Hotel Hobbies', 'Clutching at Straws')\n",
      "('Pseudo Silk Kimono', 'Misplaced Childhood')\n",
      "('Prisionero', 'El disco de tu corazón')\n",
      "('Yo te diré', 'Sin restricciones')\n",
      "('Black Jack Davy', 'All Around My Hat')\n",
      "('Spotted Cow', 'Below the Salt')\n",
      "('Little Sir Hugh', 'Commoners Crown')\n",
      "('A Calling-On Song', 'Hark! The Village Wait')\n",
      "('Seven Hundred Elves', 'Now We Are Six')\n",
      "('One Misty Moisty Morning', 'Parcel of Rogues')\n",
      "('The Blacksmith', 'Please to See the King')\n",
      "('Awake Awake', 'Storm Force Ten')\n"
     ]
    }
   ],
   "source": [
    "for row in conn.execute('SELECT song, album FROM songs JOIN albums ON songs.album_id=albums.id WHERE number=1;'):\n",
    "    print(row)"
   ]
  },
  {
   "cell_type": "markdown",
   "metadata": {},
   "source": [
    "For all but the simplest SQL commands, it can improve the clarity of our program a lot if we put each new keyword on a separate line. If we are running our SQL in a Python program, we can do this with a triple-quoted string, which may span multiple lines:"
   ]
  },
  {
   "cell_type": "code",
   "execution_count": 32,
   "metadata": {},
   "outputs": [
    {
     "name": "stdout",
     "output_type": "stream",
     "text": [
      "('This Ain’t the Summer of Love', 'Blue Öyster Cult', 'Agents of Fortune')\n",
      "('Fire of Unknown Origin', 'Blue Öyster Cult', 'Fire of Unknown Origin')\n",
      "('Godzilla', 'Blue Öyster Cult', 'Spectres')\n",
      "('Take Another Look', 'Cliff Richard', 'I’m No Hero')\n",
      "('Friday Night', 'Cliff Richard', 'The Young Ones')\n",
      "('Black Jack Davy', 'Steeleye Span', 'All Around My Hat')\n",
      "('Spotted Cow', 'Steeleye Span', 'Below the Salt')\n",
      "('Little Sir Hugh', 'Steeleye Span', 'Commoners Crown')\n",
      "('A Calling-On Song', 'Steeleye Span', 'Hark! The Village Wait')\n",
      "('Seven Hundred Elves', 'Steeleye Span', 'Now We Are Six')\n",
      "('One Misty Moisty Morning', 'Steeleye Span', 'Parcel of Rogues')\n",
      "('The Blacksmith', 'Steeleye Span', 'Please to See the King')\n",
      "('Awake Awake', 'Steeleye Span', 'Storm Force Ten')\n"
     ]
    }
   ],
   "source": [
    "command = \"\"\"\n",
    "SELECT song, artist, album FROM songs\n",
    "JOIN albums ON songs.album_id=albums.id\n",
    "JOIN artists ON albums.artist_id=artists.id\n",
    "WHERE year<1982 AND number=1;\n",
    "\"\"\"\n",
    "\n",
    "for row in conn.execute(command):\n",
    "    print(row)"
   ]
  },
  {
   "cell_type": "markdown",
   "metadata": {},
   "source": [
    "In multi-line SQL commands like this one we can see the importance of the semicolon rule to indicate that the whole command is finished. In SQL, each new keyword in the command just adds on one more refinement to our query, so the computer needs some way of knowing when we are done adding refinements.\n",
    "\n",
    "(In fact, Python's `sqlite3` module lets you get away with omitting the semicolon, since it assumes that the end of the command [string](extras/glossary.ipynb#string) must be the end of the command. But this is special to `sqlite3`. If you use SQL in other contexts, you must end commands with the semicolon, so you might as well get used to it in Python as well.)\n",
    "\n",
    "#### Case\n",
    "\n",
    "Unlike in Python, SQL keywords are not case-sensitive. We can in fact write them in lowercase and the result is the same:"
   ]
  },
  {
   "cell_type": "code",
   "execution_count": 33,
   "metadata": {},
   "outputs": [
    {
     "name": "stdout",
     "output_type": "stream",
     "text": [
      "('Agents of Fortune', 1976)\n",
      "('Club Ninja', 1985)\n",
      "('Fire of Unknown Origin', 1981)\n",
      "('Spectres', 1977)\n",
      "('The Revölution by Night', 1983)\n",
      "('I’m No Hero', 1980)\n",
      "('The Young Ones', 1961)\n",
      "('Clutching at Straws', 1987)\n",
      "('Misplaced Childhood', 1985)\n",
      "('El disco de tu corazón', 2007)\n",
      "('Sin restricciones', 2004)\n",
      "('All Around My Hat', 1975)\n",
      "('Below the Salt', 1972)\n",
      "('Commoners Crown', 1975)\n",
      "('Hark! The Village Wait', 1970)\n",
      "('Now We Are Six', 1974)\n",
      "('Parcel of Rogues', 1973)\n",
      "('Please to See the King', 1971)\n",
      "('Storm Force Ten', 1977)\n"
     ]
    }
   ],
   "source": [
    "for row in conn.execute('select album, year from albums;'):\n",
    "    print(row)"
   ]
  },
  {
   "cell_type": "markdown",
   "metadata": {},
   "source": [
    "However, it is a widespread convention to write SQL keywords in UPPERCASE. This helps to visually distinguish them from the names of tables and columns. I personally like this style convention, because SQL does not have so many other syntactical features to mark out the components of its commands, but not everybody agrees so be prepared for the occasional angry pedant to explain to you *at great length* why it is not necessary to write SQL keywords in uppercase (they will probably also be chanting 'sequel, sequel, sequel' at you).\n",
    "\n",
    "#### Comments\n",
    "\n",
    "Finally, [comments](extras/glossary.ipynb#comment) are possible in SQL, as they are in Python. SQL comments are preceded by two dashes (`--`) rather than the Python hash symbol (`#`). If you are just writing SQL commands in a Python program, you won't really need comments within your SQL, since you can just put them in your Python program instead. But you can also put SQL commands in their own text files, and in this case you might want to add some explanatory comments for yourself or for your collaborators.\n",
    "\n",
    "Let's close the example database since we have finished with it for now:"
   ]
  },
  {
   "cell_type": "code",
   "execution_count": 34,
   "metadata": {},
   "outputs": [],
   "source": [
    "conn.close()"
   ]
  },
  {
   "cell_type": "markdown",
   "metadata": {},
   "source": [
    "### Creating tables\n",
    "\n",
    "Now let's create our own new database. To keep the example brief, we will start by just creating the artists and albums tables. This should give you enough examples for your to be able to finish the songs table yourself as an exercise afterwards if you wish.\n",
    "\n",
    "The first step is to connect to a new database file, one that does not yet exist:"
   ]
  },
  {
   "cell_type": "code",
   "execution_count": 35,
   "metadata": {},
   "outputs": [],
   "source": [
    "conn = sqlite3.connect('example.db')"
   ]
  },
  {
   "cell_type": "markdown",
   "metadata": {},
   "source": [
    "Now we want to create our tables in the new database. Let's start with the artists table. Believe it or not, the command we need is `CREATE TABLE`.\n",
    "\n",
    "However, there is a bit more that we will need to add to the `CREATE TABLE` command. We need to specify the following things for our new table:\n",
    "\n",
    "* what columns it should contain\n",
    "* what data type each column should contain (e.g. text, numbers, or something else like a date)\n",
    "* what constraints should apply to the table (e.g. what duplicate values are not allowed)\n",
    "\n",
    "Following `CREATE TABLE` and the name of the new table, in parentheses we place the column names, followed by their types, and possibly further information about the column.\n",
    "\n",
    "Let's see the full command for creating the artists table, then go through it line by line."
   ]
  },
  {
   "cell_type": "code",
   "execution_count": 36,
   "metadata": {},
   "outputs": [],
   "source": [
    "create_artists = \"\"\"\n",
    "CREATE TABLE artists\n",
    "(id INTEGER PRIMARY KEY,\n",
    "artist TEXT UNIQUE,\n",
    "country TEXT);\n",
    "\"\"\""
   ]
  },
  {
   "cell_type": "markdown",
   "metadata": {},
   "source": [
    "The first column we have called 'id'. This column will store an identifying number for each artist. The `INTEGER` keyword states that this column will contain [integers](extras/glossary.ipynb#integer) (the names of most [data types](extras/glossary.ipynb#type) in SQL are easily understandable). The `PRIMARY KEY` statement is a bit more cryptic. These keywords together state that this column should be used as the main 'ID' column for the table. Telling our database explicitly that one of the columns is the `PRIMARY KEY` column has two main advantages. First, the database will ensure automatically that the numbers in this column are never duplicated, so that each artist row has a unique ID number. Second, when we add new artists, the database will automatically assign them an ID number in this column, without us having to decide on ID numbers ourselves.\n",
    "\n",
    "The second column we have called 'artist'. Since this column is for the name of the artist, we have made it of type `TEXT`. In addition, we have used the `UNIQUE` keyword to apply the constraint that no duplicate artist names are allowed.\n",
    "\n",
    "Finally, the third column is the name of the artist's country of origin. This too is of type `TEXT`. We have not added a `UNIQUE` constraint here, since more than one artist may come from the same country, so duplicate countries are allowed.\n",
    "\n",
    "Let's run our command with the connection to the new database:"
   ]
  },
  {
   "cell_type": "code",
   "execution_count": 37,
   "metadata": {},
   "outputs": [
    {
     "data": {
      "text/plain": [
       "<sqlite3.Cursor at 0x7f016be3fd50>"
      ]
     },
     "execution_count": 37,
     "metadata": {},
     "output_type": "execute_result"
    }
   ],
   "source": [
    "conn.execute(create_artists)"
   ]
  },
  {
   "cell_type": "markdown",
   "metadata": {},
   "source": [
    "As you can see from the output of our `execute()` command, we get a `Cursor` back from a `CREATE TABLE` operation too, just as we do from a `SELECT` operation. But we don't want to read anything this time, so there is no need for us to [assign](extras/glossary.ipynb#assignment) it into a variable and then work with it as we did after a `SELECT`.\n",
    "\n",
    "Before we move on and add data to our new table, let's also create the albums table, to see a few more useful bits of SQL:"
   ]
  },
  {
   "cell_type": "code",
   "execution_count": 38,
   "metadata": {},
   "outputs": [
    {
     "data": {
      "text/plain": [
       "<sqlite3.Cursor at 0x7f016be3ff10>"
      ]
     },
     "execution_count": 38,
     "metadata": {},
     "output_type": "execute_result"
    }
   ],
   "source": [
    "create_albums = \"\"\"\n",
    "CREATE TABLE albums\n",
    "(id INTEGER PRIMARY KEY,\n",
    "album TEXT,\n",
    "year INTEGER,\n",
    "artist_id INTEGER,\n",
    "UNIQUE(album, artist_id),\n",
    "FOREIGN KEY(artist_id) REFERENCES artists(id));\n",
    "\"\"\"\n",
    "\n",
    "conn.execute(create_albums)"
   ]
  },
  {
   "cell_type": "markdown",
   "metadata": {},
   "source": [
    "The first few lines of this `CREATE TABLE` command should be clear given what we already saw when we created the artists table. The albums table too has a `PRIMARY KEY`, and it has some `INTEGER` and `TEXT` columns.\n",
    "\n",
    "There are two new features of SQL here. The first is that in this table we have a `UNIQUE` constraint that refers to a *combination* of columns rather than a single column. We want to allow for the possibility that two different artists have albums with the same name (for example '[Smile](https://en.wikipedia.org/wiki/Smile_(disambiguation)#Albums)'), but prevent the same artist from having two albums in the database with the same name. So it is the combination of values in the 'album' and 'artist_id' columns that must be unique. For this, we place the `UNIQUE` constraint on its own line, followed by the combination of columns, in parentheses and separated by commas.\n",
    "\n",
    "The second new feature is the final line, containing the keywords `FOREIGN KEY` and `REFERENCES`. This line declares that the numbers in the 'artist_id' column refer to the 'id' column in the artists table. A column that links to another table is known as a 'foreign key' ('foreign' because it refers to something outside the current table). The name of the linking column in the current table is in the first set of parentheses, and the name of the 'foreign' table, along with the name of its corresponding linking column, follows the `REFERENCES` keyword.\n",
    "\n",
    "We have created our first two tables. To make any changes to a database actually take effect, we need to '[commit](extras/glossary.ipynb#commit)' them to the database."
   ]
  },
  {
   "cell_type": "code",
   "execution_count": 39,
   "metadata": {},
   "outputs": [],
   "source": [
    "conn.commit()"
   ]
  },
  {
   "cell_type": "markdown",
   "metadata": {},
   "source": [
    "Then let's also close the connection to the database file, so that we are free to go and open it in the DB Browser program."
   ]
  },
  {
   "cell_type": "code",
   "execution_count": 40,
   "metadata": {},
   "outputs": [],
   "source": [
    "conn.close()"
   ]
  },
  {
   "cell_type": "markdown",
   "metadata": {},
   "source": [
    "If you now head to the DB Browser and open the new file there, you should see the new tables. They will of course be empty of data, since we haven't added any rows to the tables yet. You can try adding some manually, by going to the 'Browse Data' tab and clicking 'New Record' (in the vocabulary of relational databases, rows are often called 'records'). Test out some of the constraints that we set, for example by trying to add two artists with the same name. You should see that a warning window prevents you from doing so.\n",
    "\n",
    "### Adding data\n",
    "\n",
    "Make sure you close the DB Browser if you opened it, because we now want to open our database file again in Python so that we can add data to it."
   ]
  },
  {
   "cell_type": "code",
   "execution_count": 41,
   "metadata": {},
   "outputs": [],
   "source": [
    "conn = sqlite3.connect('example.db')"
   ]
  },
  {
   "cell_type": "markdown",
   "metadata": {},
   "source": [
    "#### INSERT\n",
    "\n",
    "To put new rows into a table, we need to specify what values should go into what columns. For our artists table, this means that we need to specify a value for the artist's name and for their country of origin (remember that the 'id' column is a `PRIMARY KEY`, so the database will generate values for this column automatically).\n",
    "\n",
    "The keywords we need are `INSERT INTO`. Then we need:\n",
    "\n",
    "* the name of the table to put the row into\n",
    "* the column names, in parentheses and separated by commas\n",
    "* the keyword `VALUES`, followed by the values to insert into those columns, also in parentheses and separated by commas\n",
    "  * The order of the values should correspond to the order that we used for the columns.\n",
    "  * `TEXT` values should be enclosed in quote marks (`''`), just as for text in Python.\n",
    "\n",
    "Like this:"
   ]
  },
  {
   "cell_type": "code",
   "execution_count": 42,
   "metadata": {},
   "outputs": [
    {
     "data": {
      "text/plain": [
       "<sqlite3.Cursor at 0x7f016be99a40>"
      ]
     },
     "execution_count": 42,
     "metadata": {},
     "output_type": "execute_result"
    }
   ],
   "source": [
    "conn.execute(\"INSERT INTO artists (artist, country) VALUES('Blue Öyster Cult', 'USA');\")"
   ]
  },
  {
   "cell_type": "markdown",
   "metadata": {},
   "source": [
    "Let's check the result with a `SELECT`:"
   ]
  },
  {
   "cell_type": "code",
   "execution_count": 43,
   "metadata": {},
   "outputs": [
    {
     "name": "stdout",
     "output_type": "stream",
     "text": [
      "(1, 'Blue Öyster Cult', 'USA')\n"
     ]
    }
   ],
   "source": [
    "for row in conn.execute('SELECT id, artist, country FROM artists;'):\n",
    "    print(row)"
   ]
  },
  {
   "cell_type": "markdown",
   "metadata": {},
   "source": [
    "Notice that we got a value for the 'id' `PRIMARY KEY` column without specifying it explicitly. More importantly, note that when we specify the values, their order must match the order of the column names *as given in our SQL INSERT command*, not their order *in the table*. For example:"
   ]
  },
  {
   "cell_type": "code",
   "execution_count": 44,
   "metadata": {},
   "outputs": [
    {
     "name": "stdout",
     "output_type": "stream",
     "text": [
      "(1, 'Blue Öyster Cult', 'USA')\n",
      "(2, '林憶蓮', 'HK')\n"
     ]
    }
   ],
   "source": [
    "conn.execute(\"INSERT INTO artists (country, artist) VALUES('HK', '林憶蓮');\")\n",
    "\n",
    "for row in conn.execute('SELECT * FROM artists;'):\n",
    "    print(row)"
   ]
  },
  {
   "cell_type": "markdown",
   "metadata": {},
   "source": [
    "#### Constraints again\n",
    "\n",
    "`INSERT` commands are subject to the constraints that we set when we created the tables in the database. If we try an `INSERT` that violates one of these constraints, we get an [exception](extras/glossary.ipynb#exception), and the accompanying error message is fairly clear:"
   ]
  },
  {
   "cell_type": "code",
   "execution_count": 45,
   "metadata": {
    "tags": [
     "raises-exception"
    ]
   },
   "outputs": [
    {
     "ename": "IntegrityError",
     "evalue": "UNIQUE constraint failed: artists.artist",
     "output_type": "error",
     "traceback": [
      "\u001b[0;31m---------------------------------------------------------------------------\u001b[0m",
      "\u001b[0;31mIntegrityError\u001b[0m                            Traceback (most recent call last)",
      "\u001b[0;32m<ipython-input-45-88f83c01b347>\u001b[0m in \u001b[0;36m<module>\u001b[0;34m\u001b[0m\n\u001b[0;32m----> 1\u001b[0;31m \u001b[0mconn\u001b[0m\u001b[0;34m.\u001b[0m\u001b[0mexecute\u001b[0m\u001b[0;34m(\u001b[0m\u001b[0;34m\"INSERT INTO artists (artist, country) VALUES('Blue Öyster Cult', 'USA');\"\u001b[0m\u001b[0;34m)\u001b[0m\u001b[0;34m\u001b[0m\u001b[0;34m\u001b[0m\u001b[0m\n\u001b[0m",
      "\u001b[0;31mIntegrityError\u001b[0m: UNIQUE constraint failed: artists.artist"
     ]
    }
   ],
   "source": [
    "conn.execute(\"INSERT INTO artists (artist, country) VALUES('Blue Öyster Cult', 'USA');\")"
   ]
  },
  {
   "cell_type": "markdown",
   "metadata": {},
   "source": [
    "We can handle these exceptions with a `try` and `except` [control statement](extras/glossary.ipynb#control), as we learned in the [lesson on conditions](conditions.ipynb). Since the `IntegrityError` exception that we want to catch comes from the `sqlite3` module, we need to specify that it is to be found in the `sqlite3` [namespace](extras/glossary.ipynb#namespace), using the 'dot' syntax (which we learned about in the [lesson on modules](modules.ipynb#namespaces):"
   ]
  },
  {
   "cell_type": "code",
   "execution_count": 46,
   "metadata": {},
   "outputs": [
    {
     "name": "stdout",
     "output_type": "stream",
     "text": [
      "That one is already in the database.\n"
     ]
    }
   ],
   "source": [
    "try:\n",
    "    conn.execute(\"INSERT INTO artists (artist, country) VALUES('Blue Öyster Cult', 'USA');\")\n",
    "except sqlite3.IntegrityError:\n",
    "    print('That one is already in the database.')"
   ]
  },
  {
   "cell_type": "markdown",
   "metadata": {},
   "source": [
    "Alternatively, SQL provides an `OR IGNORE` option for `INSERT`, which either inserts a new row or just silently ignores our request to do so if the `INSERT` violates a constraint:"
   ]
  },
  {
   "cell_type": "code",
   "execution_count": 47,
   "metadata": {},
   "outputs": [
    {
     "data": {
      "text/plain": [
       "<sqlite3.Cursor at 0x7f016bd7b1f0>"
      ]
     },
     "execution_count": 47,
     "metadata": {},
     "output_type": "execute_result"
    }
   ],
   "source": [
    "conn.execute(\"INSERT OR IGNORE INTO artists (artist, country) VALUES('Blue Öyster Cult', 'USA');\")"
   ]
  },
  {
   "cell_type": "markdown",
   "metadata": {},
   "source": [
    "#### Python variables\n",
    "\n",
    "A Python program for interacting with a database is not going to be very useful if it can only execute fixed SQL commands that are already written explicitly in the Python code, like in the two `INSERT` examples above. More often we will want to get some information from elsewhere, for example from a file, from the internet, or from the human user of the program, and then `INSERT` this information into our database, whatever it happens to be.\n",
    "\n",
    "The `sqlite3` module of course allows us to do this. After the [string](extras/glossary.ipynb#string) containing the SQL command, the second [argument](extras/glossary.ipynb#argument) to `execute()` can be a [tuple](extras/glossary.ipynb#tuple) of values. These will be inserted into the SQL command wherever the placeholder `'?'` character appears.\n",
    "\n",
    "Like this:"
   ]
  },
  {
   "cell_type": "code",
   "execution_count": 48,
   "metadata": {},
   "outputs": [
    {
     "name": "stdout",
     "output_type": "stream",
     "text": [
      "(1, 'Blue Öyster Cult', 'USA')\n",
      "(2, '林憶蓮', 'HK')\n",
      "(3, 'سيد خليفة', 'SUD')\n"
     ]
    }
   ],
   "source": [
    "new_artist = 'سيد خليفة'\n",
    "country = 'SUD'\n",
    "\n",
    "conn.execute('INSERT INTO artists (artist, country) VALUES(?, ?);', (new_artist, country))\n",
    "\n",
    "for row in conn.execute('SELECT * FROM artists;'):\n",
    "    print(row)"
   ]
  },
  {
   "cell_type": "markdown",
   "metadata": {},
   "source": [
    "The variables in the tuple can for example come from user input, possibly followed by some checking or modification, for example:"
   ]
  },
  {
   "cell_type": "code",
   "execution_count": 49,
   "metadata": {},
   "outputs": [
    {
     "name": "stdout",
     "output_type": "stream",
     "text": [
      "Name an artist to add to the database: Dexys Midnight Runners\n",
      "What country does that artist come from? GB\n",
      "(1, 'Blue Öyster Cult', 'USA')\n",
      "(2, '林憶蓮', 'HK')\n",
      "(3, 'سيد خليفة', 'SUD')\n",
      "(4, 'Dexys Midnight Runners', 'GB')\n"
     ]
    }
   ],
   "source": [
    "new_artist = input('Name an artist to add to the database: ')\n",
    "new_artist = new_artist.title()\n",
    "\n",
    "if new_artist == 'Kanye West':\n",
    "    print('No.')\n",
    "else:\n",
    "    country = input('What country does that artist come from? ')\n",
    "    conn.execute('INSERT INTO artists (artist, country) VALUES(?, ?);', (new_artist, country))\n",
    "\n",
    "for row in conn.execute('SELECT * FROM artists;'):\n",
    "    print(row)"
   ]
  },
  {
   "cell_type": "markdown",
   "metadata": {},
   "source": [
    "#### Foreign keys\n",
    "\n",
    "Now we would like to add a new album for one of our new artists. This is very slightly trickier, because we need first to find out what artist ID number the database has assigned the artist in the artists table, so that we can put this ID number into the 'artist_id' column of the albums table.\n",
    "\n",
    "We can find out the artist ID number for an existing artist by using an SQL `SELECT` to get that artist from the artists table. In this case, we know that our `SELECT` is only going to get one row, so we can use the `fetchone()` method rather than a loop or `fetchall()`:"
   ]
  },
  {
   "cell_type": "code",
   "execution_count": 50,
   "metadata": {},
   "outputs": [
    {
     "name": "stdout",
     "output_type": "stream",
     "text": [
      "(2, '林憶蓮')\n"
     ]
    }
   ],
   "source": [
    "result = conn.execute(\"SELECT id, artist FROM artists WHERE artist='林憶蓮';\")\n",
    "artist_row = result.fetchone()\n",
    "\n",
    "print(artist_row)"
   ]
  },
  {
   "cell_type": "markdown",
   "metadata": {},
   "source": [
    "And now we can put just the artist ID number into a Python variable:"
   ]
  },
  {
   "cell_type": "code",
   "execution_count": 51,
   "metadata": {},
   "outputs": [],
   "source": [
    "artist_id = artist_row[0]"
   ]
  },
  {
   "cell_type": "markdown",
   "metadata": {},
   "source": [
    "And use it for the 'artist_id' column in an `INSERT` into the albums table:"
   ]
  },
  {
   "cell_type": "code",
   "execution_count": 52,
   "metadata": {},
   "outputs": [
    {
     "name": "stdout",
     "output_type": "stream",
     "text": [
      "(1, '憶蓮', 1987, 2)\n"
     ]
    }
   ],
   "source": [
    "new_album = '憶蓮'\n",
    "year = 1987\n",
    "\n",
    "conn.execute('INSERT INTO albums (album, year, artist_id) VALUES(?, ?, ?);', (new_album, year, artist_id))\n",
    "\n",
    "for row in conn.execute('SELECT * FROM albums;'):\n",
    "    print(row)"
   ]
  },
  {
   "cell_type": "markdown",
   "metadata": {},
   "source": [
    "To make sure, let's just check that we really fetched the correct artist ID. We can confirm this by trying to use it in a `JOIN`:"
   ]
  },
  {
   "cell_type": "code",
   "execution_count": 53,
   "metadata": {},
   "outputs": [
    {
     "name": "stdout",
     "output_type": "stream",
     "text": [
      "('憶蓮', '林憶蓮')\n"
     ]
    }
   ],
   "source": [
    "for row in conn.execute('SELECT album, artist FROM albums JOIN artists ON albums.artist_id=artists.id;'):\n",
    "    print(row)"
   ]
  },
  {
   "cell_type": "markdown",
   "metadata": {},
   "source": [
    "Great.\n",
    "\n",
    "Inserting new rows for which we might need to first fetch the right foreign keys from other tables is a bit tedious. If we are writing a program that will need to do this sequence of operations often, it is a good idea to put it into a [function](extras/glossary.ipynb#function):"
   ]
  },
  {
   "cell_type": "code",
   "execution_count": 54,
   "metadata": {},
   "outputs": [],
   "source": [
    "def insert_new_album(connection, album, artist, year):\n",
    "    \"\"\"Inserts a new album into the albums table.\n",
    "    \n",
    "    Arguments:\n",
    "        connection: sqlite3.Connection to the database\n",
    "        album: str album name\n",
    "        artist: str artist name\n",
    "        year: int album release year\n",
    "    \"\"\"\n",
    "    \n",
    "    artists_result = connection.execute('SELECT id FROM artists WHERE artist=?;', (artist,))\n",
    "    artist_id = artists_result.fetchone()[0]\n",
    "    album_values = (album, year, artist_id)\n",
    "    connection.execute('INSERT INTO albums (album, year, artist_id) VALUES(?, ?, ?);', album_values)"
   ]
  },
  {
   "cell_type": "markdown",
   "metadata": {},
   "source": [
    "Then we can use the function to add many new albums without having to repeat all the SQL commands in our program every time:"
   ]
  },
  {
   "cell_type": "code",
   "execution_count": 55,
   "metadata": {},
   "outputs": [
    {
     "name": "stdout",
     "output_type": "stream",
     "text": [
      "('Cultösaurus Erectus', 'Blue Öyster Cult')\n",
      "('Imaginos', 'Blue Öyster Cult')\n",
      "('憶蓮', '林憶蓮')\n",
      "('野花', '林憶蓮')\n"
     ]
    }
   ],
   "source": [
    "insert_new_album(conn, album='Cultösaurus Erectus', artist='Blue Öyster Cult', year=1980)\n",
    "insert_new_album(conn, album='Imaginos', artist='Blue Öyster Cult', year=1988)\n",
    "insert_new_album(conn, album='野花', artist='林憶蓮', year=1991)\n",
    "\n",
    "for row in conn.execute('SELECT album, artist FROM albums JOIN artists ON albums.artist_id=artists.id;'):\n",
    "    print(row)"
   ]
  },
  {
   "cell_type": "markdown",
   "metadata": {},
   "source": [
    "### SQL scripts\n",
    "\n",
    "That covers everything we need to know in order to write a Python program that creates our target database file and allows us to write new data into it. We haven't yet created the songs table or added any songs, but this can be accomplished by adapting some of the SQL examples from above. If you would like to try writing SQL commands to create the songs table and to add a new song, you can try it out now as an exercise.\n",
    "\n",
    "If you want to see the final `CREATE TABLE` command for the songs table, you can find it in the file [songs_tables.sql](examples/songs_tables.sql), along with the commands for the other two tables. This file is a complete SQL [script](extras/glossary.ipynb#script), i.e. a text file containing commands intended to be run one after the other. We can create script files for SQL just as we can for Python.\n",
    "\n",
    "If we have a series of fairly long SQL commands that we would like to use in a Python program (or indeed some other program), then we can store them in a separate script file and run this file when necessary. Let's see this in action. First we read in the commands in *songs_tables.sql*, using Python's functions for reading files as we learned about in the [lesson on files](files.ipynb):"
   ]
  },
  {
   "cell_type": "code",
   "execution_count": 56,
   "metadata": {},
   "outputs": [],
   "source": [
    "create_tables = open('songs_tables.sql').read()"
   ]
  },
  {
   "cell_type": "markdown",
   "metadata": {},
   "source": [
    "To check it, let's look only at the first `CREATE TABLE` command, so as not to spoil the fun if you want to try writing the one for the songs table yourself:"
   ]
  },
  {
   "cell_type": "code",
   "execution_count": 57,
   "metadata": {},
   "outputs": [
    {
     "name": "stdout",
     "output_type": "stream",
     "text": [
      "-- SQL script for creating the tables in the 'songs.db' database.\n",
      "\n",
      "-- artists:\n",
      "-- no duplicate artist names\n",
      "CREATE TABLE IF NOT EXISTS artists\n",
      "(id INTEGER PRIMARY KEY,\n",
      "artist TEXT UNIQUE,\n",
      "country TEXT);\n",
      "\n"
     ]
    }
   ],
   "source": [
    "for line in create_tables.splitlines():\n",
    "    if line == '-- albums:':\n",
    "        break\n",
    "    print(line)"
   ]
  },
  {
   "cell_type": "markdown",
   "metadata": {},
   "source": [
    "We can see some SQL [comments](extras/glossary.ipynb#comment), preceded by `--`. There is also one other tiny new flourish here. The self-explanatory `IF NOT EXISTS` keywords ensure that a table is only created if it does not already exist in the database. This is sometimes useful in a program that could be either connecting to an existing database or to a new one, depending on when and where we are running the program.\n",
    "\n",
    "We can run the commands we just loaded from the SQL script file using the `executescript()` [method](extras/glossary.ipynb#method) of our database `Connection`."
   ]
  },
  {
   "cell_type": "code",
   "execution_count": 58,
   "metadata": {},
   "outputs": [
    {
     "data": {
      "text/plain": [
       "<sqlite3.Cursor at 0x7f016bd303b0>"
      ]
     },
     "execution_count": 58,
     "metadata": {},
     "output_type": "execute_result"
    }
   ],
   "source": [
    "conn.executescript(create_tables)"
   ]
  },
  {
   "cell_type": "markdown",
   "metadata": {},
   "source": [
    "And now the songs table has been created (the other two tables exist already as a result of our earlier commands and so their `CREATE TABLE` commands were ignored). We can go ahead and insert a new song (not forgetting that we need to first fetch the corresponding album ID number from the albums table):"
   ]
  },
  {
   "cell_type": "code",
   "execution_count": 59,
   "metadata": {},
   "outputs": [
    {
     "name": "stdout",
     "output_type": "stream",
     "text": [
      "('激情', '憶蓮', '林憶蓮')\n"
     ]
    }
   ],
   "source": [
    "new_song = '激情'\n",
    "number = 6\n",
    "album = '憶蓮'\n",
    "\n",
    "result = conn.execute('SELECT id FROM albums WHERE album=?;', (album,))\n",
    "album_id = result.fetchone()[0]\n",
    "conn.execute('INSERT INTO songs (song, number, album_id) VALUES(?, ?, ?);', (new_song, number, album_id))\n",
    "\n",
    "command = \"\"\"\n",
    "SELECT song, album, artist FROM songs\n",
    "JOIN albums ON songs.album_id=albums.id\n",
    "JOIN artists ON albums.artist_id=artists.id;\n",
    "\"\"\"\n",
    "\n",
    "for row in conn.execute(command):\n",
    "    print(row)"
   ]
  },
  {
   "cell_type": "markdown",
   "metadata": {},
   "source": [
    "Of course, this too would be better turned into a function, like the one we created above for inserting a new album. Another exercise for you.\n",
    "\n",
    "We have made quite a few changes to our new database since we last opened it, so let's commit the changes:"
   ]
  },
  {
   "cell_type": "code",
   "execution_count": 60,
   "metadata": {},
   "outputs": [],
   "source": [
    "conn.commit()"
   ]
  },
  {
   "cell_type": "markdown",
   "metadata": {},
   "source": [
    "### SQL injection\n",
    "\n",
    "Something might be bothering you about many of the examples above. Why does `sqlite` have its own 'placeholder' character (the `'?'`) for inserting values into SQL commands? Why not just use the existing Python [string](extras/glossary.ipynb#srting) [method](extras/glossary.ipynb#method) `format()` with its `'{}'` placeholder?\n",
    "\n",
    "For example, we could insert Python variables into an SQL command with string formatting like this instead:"
   ]
  },
  {
   "cell_type": "code",
   "execution_count": 61,
   "metadata": {},
   "outputs": [
    {
     "name": "stdout",
     "output_type": "stream",
     "text": [
      "INSERT INTO songs (song, number, album_id) VALUES('激情', 6, 1);\n"
     ]
    }
   ],
   "source": [
    "command = \"INSERT INTO songs (song, number, album_id) VALUES('{}', {}, {});\".format(new_song, number, album_id)\n",
    "\n",
    "print(command)"
   ]
  },
  {
   "cell_type": "markdown",
   "metadata": {},
   "source": [
    "This works. But there is a reason that `sqlite` provides its own way of inserting variables into SQL commands, and there is a good reason not to do it with standard Python string formatting instead.\n",
    "\n",
    "The reason is that the variables that we insert won't necessarily always come from trusted sources. If they come from unknown users, for example people entering them in an online form on our website, then someone could make mischief by entering *an SQL command* instead of whatever value we expect them to enter. If our program just inserts the user's input and runs the resulting SQL without checking it, then it is allowing anyone to just run their own SQL commands with our database.\n",
    "\n",
    "Let's make this more concrete with an example:"
   ]
  },
  {
   "cell_type": "code",
   "execution_count": 62,
   "metadata": {},
   "outputs": [
    {
     "name": "stdout",
     "output_type": "stream",
     "text": [
      "Name an artist to add to the database: foo\n",
      "What country does that artist come from? foo'); DROP TABLE artists; CREATE TABLE artists (name TEXT); INSERT INTO artists (name) VALUES ('Kanye West'), ('Kanye West'), ('Kanye West'), ('Kanye West'), ('Kanye West'); --\n"
     ]
    },
    {
     "data": {
      "text/plain": [
       "<sqlite3.Cursor at 0x7f016bd7bea0>"
      ]
     },
     "execution_count": 62,
     "metadata": {},
     "output_type": "execute_result"
    }
   ],
   "source": [
    "new_artist = input('Name an artist to add to the database: ')\n",
    "country = input('What country does that artist come from? ')\n",
    "\n",
    "command = \"INSERT INTO artists (artist, country) VALUES('{}', '{}');\".format(new_artist, country)\n",
    "conn.executescript(command)"
   ]
  },
  {
   "cell_type": "markdown",
   "metadata": {},
   "source": [
    "That user's input looked a bit suspicious. Let's see the SQL command that resulted from inserting their input into our SQL string:"
   ]
  },
  {
   "cell_type": "code",
   "execution_count": 63,
   "metadata": {},
   "outputs": [
    {
     "name": "stdout",
     "output_type": "stream",
     "text": [
      "INSERT INTO artists (artist, country) VALUES('foo', 'foo'); DROP TABLE artists; CREATE TABLE artists (name TEXT); INSERT INTO artists (name) VALUES ('Kanye West'), ('Kanye West'), ('Kanye West'), ('Kanye West'), ('Kanye West'); --');\n"
     ]
    }
   ],
   "source": [
    "print(command)"
   ]
  },
  {
   "cell_type": "markdown",
   "metadata": {},
   "source": [
    "This naughty user made use of a few features of SQL syntax to insert some new commands into our string of SQL. First, they used the semicolon to prematurely end our intended SQL command. As we have seen, the semicolon marks the end of a command in SQL. Then at the end of their input, the naughty user placed the [comment](extras/glossary.ipynb#comment) characters `--` to prevent the remainder of our SQL from being run. In between these two things, the user inserted some of their own SQL commands.\n",
    "\n",
    "This method of hacking someone else's database is known as 'SQL injection'. In this particular case, the attacker has deleted our artists table, created one of their own, and filled it with 'Kanye West':"
   ]
  },
  {
   "cell_type": "code",
   "execution_count": 64,
   "metadata": {},
   "outputs": [
    {
     "name": "stdout",
     "output_type": "stream",
     "text": [
      "('Kanye West',)\n",
      "('Kanye West',)\n",
      "('Kanye West',)\n",
      "('Kanye West',)\n",
      "('Kanye West',)\n"
     ]
    }
   ],
   "source": [
    "for row in conn.execute('SELECT * FROM artists;'):\n",
    "    print(row)"
   ]
  },
  {
   "cell_type": "markdown",
   "metadata": {},
   "source": [
    "But in more serious cases, attackers could fetch private data such as passwords or billing information, erase particular data, or change the constraints set on the database so as to allow other malicious activity. You can see a humorous example of SQL injection in [this famous xkccd comic](https://xkcd.com/327).\n",
    "\n",
    "Behind the scenes, a decent SQL package like `sqlite3` has its own checks for SQL injection. Whenever possible, we should use whatever method the package documentation recommends for inserting values from Python variables, rather than try to do it directly by formatting or [concatenating](extras/glossary.ipynb#concatenate) strings into SQL commands.\n",
    "\n",
    "On that note, we are done with SQL. Try an exercise.\n",
    "\n",
    "## Exercise\n",
    "\n",
    "Open the example database file [songs.db](examples/data/songs.db) in the DB Browser program. Go to the 'Execute SQL' tab and run SQL commands there for each of the following tasks:\n",
    "\n",
    "* Insert a new artist called Я́нка, from Russia ('RUS').\n",
    "* Show all the artists and their countries of origin.\n",
    "* Show the names of the first three songs from every album.\n",
    "* Show the names of all the albums by Steeleye Span, ordered from oldest to newest.\n",
    "* Show the names of all the songs by Blue Öyster Cult from albums before 1975.\n",
    "\n",
    "As an extension, you can also try writing a Python program that opens the database, runs the same commands, then commits the changes and closes the database."
   ]
  },
  {
   "cell_type": "code",
   "execution_count": 65,
   "metadata": {
    "tags": [
     "remove-cell"
    ]
   },
   "outputs": [],
   "source": [
    "conn.close()\n",
    "cleanup()"
   ]
  }
 ],
 "metadata": {
  "celltoolbar": "Tags",
  "kernelspec": {
   "display_name": "Python 3",
   "language": "python",
   "name": "python3"
  },
  "language_info": {
   "codemirror_mode": {
    "name": "ipython",
    "version": 3
   },
   "file_extension": ".py",
   "mimetype": "text/x-python",
   "name": "python",
   "nbconvert_exporter": "python",
   "pygments_lexer": "ipython3",
   "version": "3.6.9"
  },
  "toc": {
   "base_numbering": 1,
   "nav_menu": {},
   "number_sections": false,
   "sideBar": true,
   "skip_h1_title": true,
   "title_cell": "Contents",
   "title_sidebar": "Contents",
   "toc_cell": true,
   "toc_position": {},
   "toc_section_display": true,
   "toc_window_display": false
  }
 },
 "nbformat": 4,
 "nbformat_minor": 4
}
