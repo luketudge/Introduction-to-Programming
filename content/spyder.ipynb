{
 "cells": [
  {
   "cell_type": "markdown",
   "metadata": {},
   "source": [
    "# Spyder configuration\n",
    "\n",
    "In order to avoid some common difficulties, you should change a few important options within Spyder. Start up Spyder. Go to the **Tools** menu and select **Preferences**. You should change a few of the preferences.\n",
    "\n",
    "## Running programs\n",
    "\n",
    "![](images/spyder.png)\n",
    "\n",
    "Under the section **Run**, make sure that the option **Remove all variables before execution** is selected, and that the section **Default working directory is:** is set to **The directory of the file being executed**. Click **Apply** to make these options take effect. Together, these options ensure that each Python program that we run will start from a clean slate in its own directory and will not be affected by the actions carried out by a previous program or by files contained in some other directory. This is important because we want our programs to work for anyone, and not be dependent on other actions that we have taken before running the program or on the contents of our home folder.\n",
    "\n",
    "![](images/spyder_run.png)\n",
    "\n",
    "## Default working directory\n",
    "\n",
    "Second, outside of Spyder create for yourself a new directory somewhere on your computer. This is the directory where you will save all your notes for the class, and where you will save any extra files that we work with during the class demonstrations. Now return to the **Preferences** window in Spyder and under the section **Current working directory** select **the following directory** and click the button on the right to navigate to the directory that you just created. Again, click **Apply** once you have done this. This sets the default directory that Spyder will look in when it launches. As long as you save the course materials in this directory, you will be able to find them easily from Spyder. If you now close and restart Spyder you should see that the path to the directory you chose now appears at the top right of the Spyder window.\n",
    "\n",
    "![](images/spyder_directory.png)\n",
    "\n",
    "It is totally fine to create subdirectories within this directory if you would like to organize your notes more neatly. But just remember that each program you write must be stored in the same subdirectory as any additional files that that program requires in order to run. So for example if you write a program called *amazing_machine_learning.py* and this program reads data from a file called *really_big_data.db*, then these two files must be located in the same directory in order for your program to work.\n",
    "\n",
    "## Variable explorer\n",
    "\n",
    "Finally, under the section **Variable explorer**, make sure that the options **Exclude capitalized references**, **Exclude all-uppercase references**, and **Exclude unsupported data types** are all *unselected*. Again, click **Apply** once you have unselected them.\n",
    "\n",
    "![](images/spyder_variable_explorer.png)\n",
    "\n",
    "This option is less important, but it ensures that when you use Spyder to explore the contents of Python's 'memory', it will show you all the relevant contents, and won't hide from you things that might be important."
   ]
  }
 ],
 "metadata": {
  "celltoolbar": "Tags",
  "kernelspec": {
   "display_name": "Python 3",
   "language": "python",
   "name": "python3"
  },
  "language_info": {
   "codemirror_mode": {
    "name": "ipython",
    "version": 3
   },
   "file_extension": ".py",
   "mimetype": "text/x-python",
   "name": "python",
   "nbconvert_exporter": "python",
   "pygments_lexer": "ipython3",
   "version": "3.8.5"
  },
  "toc": {
   "base_numbering": 1,
   "nav_menu": {},
   "number_sections": false,
   "sideBar": true,
   "skip_h1_title": true,
   "title_cell": "Contents",
   "title_sidebar": "Contents",
   "toc_cell": true,
   "toc_position": {},
   "toc_section_display": true,
   "toc_window_display": false
  }
 },
 "nbformat": 4,
 "nbformat_minor": 4
}
