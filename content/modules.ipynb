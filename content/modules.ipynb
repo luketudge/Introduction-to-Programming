{
 "cells": [
  {
   "cell_type": "code",
   "execution_count": 1,
   "metadata": {
    "hide_input": true,
    "tags": [
     "remove-cell"
    ]
   },
   "outputs": [],
   "source": [
    "import os\n",
    "import sys\n",
    "\n",
    "sys.path.insert(0, os.path.abspath('examples'))"
   ]
  },
  {
   "cell_type": "markdown",
   "metadata": {},
   "source": [
    "# Modules\n",
    "\n",
    "In the [previous lesson](functions.ipynb) we learned how to define our own [functions](glossary.ipynb#function). I mentioned the possibility of re-using functions in a different file from the file in which the functions are defined. This is the main thing that we will learn about in this lesson.\n",
    "\n",
    "You may reasonably ask why we would want to do this. If we are writing a program that requires one or more custom-defined functions, why not just define them in the same file that contains the program in which they are used? After all, this simpler one-file structure is the way that the [fun_facts.py](examples/fun_facts.py) example program is organized, and that program was written by a well-respected expert programmer.\n",
    "\n",
    "For a simple program like *fun_facts.py*, a single file is fine, and is even a good idea. Multiple files are unnecessary for simple, short programs. But for more complex programs, separating functions off from the rest of the program has some advantages:\n",
    "\n",
    "* **Clarity**. The functions file shows the algorithmic workings of each component of the program, but the main program file shows how those components are combined to create the overall program structure. We know which file to go to if we want to change either the overall structure or the details of the program.\n",
    "* **Portability**. A file that contains only functions can be re-used by a different program. The alternative, copying and pasting the function definition into every new program that needs it, is prone to mistakes and makes our programs inflexible ('[DRY](https://en.wikipedia.org/wiki/Don't_repeat_yourself)').\n",
    "\n",
    "A Python file that contains an actual program that will 'do something' when run is often termed a [script](glossary.ipynb#script), because it is providing the Python [interpreter](glossary.ipynb#interpreter) with line-by-line instructions telling it what to do, like the script for an actor. A file that instead contains only function definitions (and possibly also some variables) intended to be used elsewhere is often termed a [module](glossary.ipynb#module). A basic structure for a simple multi-file Python program is to have one module file providing some functions, along with a script file (the 'main' file) that gets those functions and actually does something with them.\n",
    "\n",
    "Let's see how this works, using the [initials.py](examples/initials.py) file that we saw in the previous lesson. Take a look at the example program [ids.py](examples/ids.py). This program makes use of the `get_initials()` function that is defined in *initials.py*.\n",
    "\n",
    "## Imports\n",
    "\n",
    "We can almost already create a multi-file program given what we have learned so far, and there is very little in *ids.py* that is unfamiliar. We know how to use functions, and we know how to use additional [control statements](glossary.ipynb#control) to determine what actions are taken when, how often, and so on.\n",
    "\n",
    "The only new ingredient is how to 'get' the contents of one file into another. This is fairly easy. The [keyword](glossary.ipynb#keyword) `import` runs another Python file and then makes its contents (i.e. any functions or variables that were created in the course of running it) available in the current program. The [syntax](glossary.ipynb#syntax) for importing the contents of a file is simply to write `import` followed by the name of the file, without the *.py* file extension.\n",
    "\n",
    "So this is how we can import the contents of *initials.py* into another Python program:"
   ]
  },
  {
   "cell_type": "code",
   "execution_count": 2,
   "metadata": {},
   "outputs": [],
   "source": [
    "import initials"
   ]
  },
  {
   "cell_type": "markdown",
   "metadata": {},
   "source": [
    "We can see this command on [line 12](examples/ids.py#L12) of *ids.py*.\n",
    "\n",
    "### Debugging\n",
    "\n",
    "Note that in order for an `import` statement to work, the file that we are importing must be located in the directory that we are working in. This is the directory in which our main program file is saved. So if you are writing your own example program in the Spyder editor to test the example commands as we go along, make sure that your copy of *initials.py* is located in the same directory in which you have saved your example program.\n",
    "\n",
    "If we try to import a module file that does not exist or is not in the current directory, we get an error:"
   ]
  },
  {
   "cell_type": "code",
   "execution_count": 3,
   "metadata": {
    "tags": [
     "raises-exception"
    ]
   },
   "outputs": [],
   "source": [
    "import nonexistent_module"
   ]
  },
  {
   "cell_type": "markdown",
   "metadata": {},
   "source": [
    "Note also that module filenames should not contain any spaces. Otherwise when we try to import them, Python sees something that looks like two or more separate names, and this is not valid Python [syntax](glossary.ipynb#syntax):"
   ]
  },
  {
   "cell_type": "code",
   "execution_count": 4,
   "metadata": {
    "tags": [
     "raises-exception"
    ]
   },
   "outputs": [],
   "source": [
    "import badly named module"
   ]
  },
  {
   "cell_type": "markdown",
   "metadata": {},
   "source": [
    "### Namespaces\n",
    "\n",
    "I promised that after [importing](glossary.ipynb#import) our *initials.py* file, the function that it defines would be available for us to use. This doesn't seem to be the case. *initials.py* contains a function called `get_initials()`, but this function still doesn't seem to be available:"
   ]
  },
  {
   "cell_type": "code",
   "execution_count": 5,
   "metadata": {
    "tags": [
     "raises-exception"
    ]
   },
   "outputs": [],
   "source": [
    "get_initials('Mildred Bonk')"
   ]
  },
  {
   "cell_type": "markdown",
   "metadata": {},
   "source": [
    "There is just one more missing ingredient (I really promise this time, only one more). Instead of just taking everything from the imported file and putting it all into individual variables that we can use in the normal way, Python's `import` puts all the imported contents into their own '[namespace](glossary.ipynb#namespace)'. A namespace is a bit like a folder for variables. It stores multiple variables all under the same name, for neatness of organization. We can access individual variables within a namespace by writing first the name of the namespace (which here is simply the name of the imported module), followed by a dot `.`, like this:"
   ]
  },
  {
   "cell_type": "code",
   "execution_count": 6,
   "metadata": {},
   "outputs": [],
   "source": [
    "initials.get_initials('Mildred Bonk')"
   ]
  },
  {
   "cell_type": "markdown",
   "metadata": {},
   "source": [
    "This is what we see on [lines 20 and 21](examples/ids.py#L20) of *ids.py*, where the `get_initials()` function from *initials.py* is first used.\n",
    "\n",
    "Isn't this just an annoying extra complexity, another chance to get something wrong when we write our programs? Like many such things, Python's use of namespaces appears an annoyance at first but is really a blessing in disguise once we start writing more complex programs.\n",
    "\n",
    "Imagine that you have a very long program containing a lot of variables. And then you decide that you want to import into this program a very useful but also very long [module](glossary.ipynb#module) that provides some great functions that you need. If `import` simply dumped everything from both files together in the same workspace, then you would need to first check carefully and make sure that none of the names of variables or functions in one file were the same as those in the other, because if they were, the names would 'clash' and one would overwrite the other. By keeping imported things in a separate namespace, such accidental overwrites are avoided. It is entirely possible to import a module (for example called *my_module.py*) containing a function or variable called `x` and also to have something called `x` in your main program. The former will be available as `my_module.x` whereas the latter will be available simply as `x`.\n",
    "\n",
    "Likewise, imagine that you need to import the contents of more than one module. Again, if these modules unfortunately happen to contain things with the same name, they would overwrite each other if simply dumped into the main workspace. But thanks to namespaces, clashing names are totally fine; for example one function can be available as `module_a.useful_function()` and the other as `module_b.useful_function()`.\n",
    "\n",
    "### Star imports\n",
    "\n",
    "If we really want to, it is possible to bypass `import`'s creation of separate namespaces for imported modules. The [keyword](glossary.ipynb#keyword) `from`, together with the `*` symbol, imports everything from a module into the main workspace of the current program:"
   ]
  },
  {
   "cell_type": "code",
   "execution_count": 7,
   "metadata": {},
   "outputs": [],
   "source": [
    "from initials import *"
   ]
  },
  {
   "cell_type": "markdown",
   "metadata": {},
   "source": [
    "And now the contents of *initials.py* are available in the normal way without prepending `initials.`:"
   ]
  },
  {
   "cell_type": "code",
   "execution_count": 8,
   "metadata": {},
   "outputs": [
    {
     "data": {
      "text/plain": [
       "'mb'"
      ]
     },
     "execution_count": 8,
     "metadata": {},
     "output_type": "execute_result"
    }
   ],
   "source": [
    "get_initials('Mildred Bonk')"
   ]
  },
  {
   "cell_type": "markdown",
   "metadata": {},
   "source": [
    "This is sometimes termed a 'star import', because of the use of the 'star' symbol `*` (you may also see it called a '[wildcard](glossary.ipynb#wildcard)'). In many contexts in programming, the `*` symbol stands for 'everything' or 'anything'. So the command above says 'import everything from *initials.py* (and dump it all into the main workspace)'.\n",
    "\n",
    "The star import shortcut is there if you really need it, but the general consensus among Python users is that it is not a good idea. It erases all the benefits that namespaces bring for the robustness and clarity of our program. My advice is to reserve it only for very short programs that only import one module, and whose purpose is simply to demonstrate the use of that one module.\n",
    "\n",
    "You will sometimes see star imports used in online examples or demonstrations, to help keep a demonstration short ([here](https://plotnine.readthedocs.io/en/stable/generated/plotnine.geoms.geom_bar.html#examples) is one example). This is fine for a quick demo, but don't copy it into your own programs.\n",
    "\n",
    "### Selective imports\n",
    "\n",
    "A better use of the `from` keyword is to select just one thing that we would like to import from a module. For example, we can import just the `get_initials()` function from *initials.py* (though this is somewhat redundant here, since `get_initials()` is the only thing in *initials.py* anyway):"
   ]
  },
  {
   "cell_type": "code",
   "execution_count": 9,
   "metadata": {},
   "outputs": [],
   "source": [
    "from initials import get_initials"
   ]
  },
  {
   "cell_type": "markdown",
   "metadata": {},
   "source": [
    "A 'selective import' like this also makes the individual function `get_initials()` available directly without having to use a namespace."
   ]
  },
  {
   "cell_type": "code",
   "execution_count": 10,
   "metadata": {},
   "outputs": [
    {
     "data": {
      "text/plain": [
       "'mb'"
      ]
     },
     "execution_count": 10,
     "metadata": {},
     "output_type": "execute_result"
    }
   ],
   "source": [
    "get_initials('Mildred Bonk')"
   ]
  },
  {
   "cell_type": "markdown",
   "metadata": {},
   "source": [
    "But note that there is a big difference in clarity when compared to the star import. A selective `import` statement at least says explicitly *what* we are importing from the module. So if we begin our main program with `from initials import get_initials`, we and our collaborators can at least be sure when reading the remainder of the program that `get_initials()` refers to something that we have imported from *initials.py* (and that we haven't imported anything else from there). By contrast, with the star import no part of our program explicitly states which functions or variables are coming from where.\n",
    "\n",
    "## Methods revisited\n",
    "\n",
    "We have in fact already met [namespaces](glossary.ipynb#namespace) in a slightly different guise. In the [lesson on types](types.ipynb#Methods) we learned about [methods](glossary.ipynb#method): functions that are 'attached' to only one [type](glossary.ipynb#type) of variable. We focused mainly on [string](glossary.ipynb#string) methods, because strings have lots of methods available to them.\n",
    "\n",
    "Recall how the syntax for methods works:"
   ]
  },
  {
   "cell_type": "code",
   "execution_count": 11,
   "metadata": {},
   "outputs": [
    {
     "data": {
      "text/plain": [
       "'MILDRED BONK'"
      ]
     },
     "execution_count": 11,
     "metadata": {},
     "output_type": "execute_result"
    }
   ],
   "source": [
    "user_name = 'Mildred Bonk'\n",
    "\n",
    "user_name.upper()"
   ]
  },
  {
   "cell_type": "markdown",
   "metadata": {},
   "source": [
    "This is the same 'dot' notation that we just used for getting something from an imported module's namespace, because the underlying mechanism is essentially the same. Each variable in Python has its own namespace, and in that namespace are stored links to the methods available for variables of that type.\n",
    "\n",
    "Likewise, just as we used the `dir()` function to find out what methods a variable has available to it, we can also use `dir()` to find out the contents of an imported module's namespace (and again, we can ignore for now the 'special' contents surrounded by double underscores `__ __`):"
   ]
  },
  {
   "cell_type": "code",
   "execution_count": 12,
   "metadata": {},
   "outputs": [
    {
     "data": {
      "text/plain": [
       "['__builtins__',\n",
       " '__cached__',\n",
       " '__doc__',\n",
       " '__file__',\n",
       " '__loader__',\n",
       " '__name__',\n",
       " '__package__',\n",
       " '__spec__',\n",
       " 'get_initials']"
      ]
     },
     "execution_count": 12,
     "metadata": {},
     "output_type": "execute_result"
    }
   ],
   "source": [
    "dir(initials)"
   ]
  },
  {
   "cell_type": "markdown",
   "metadata": {},
   "source": [
    "When we have imported a new module, it is a good idea to go to the console and use `dir()` to see what things it has made available to us.\n",
    "\n",
    "## Special names\n",
    "\n",
    "By now you will of course be burning with curiosity about those things that keep appearing surrounded by double underscores `__ __`. What are those? We have encountered them twice: once when we used `dir()` to see a list of [methods](glossary.ipynb#method) available for a variable, and once again just now when we used `dir()` to see a list of the contents of the [namespace](glossary.ipynb#namespace) of an imported [module](glossary.ipynb#module).\n",
    "\n",
    "Python uses the 'double underscore' (you may sometimes see this called a '[dunder](glossary.ipynb#dunder)') to mark something as being involved in the 'behind the scenes' inner workings of a Python program. These things are not normally intended to be used directly, which is why I have so far instructed you on pain of benevolent chastisement to ignore them. However, we are now ready to learn a little bit more about these 'special' names.\n",
    "\n",
    "### Special variables\n",
    "\n",
    "Take a look at the list of the contents of the `initials` namespace above, and compare it with the actual contents of [initials.py](examples/initials.py). You will notice that the things that appear enclosed in double underscores in the list above are not variables that are [assigned](glossary.ipynb#assignment) explicitly anywhere in the *initials.py* file.\n",
    "\n",
    "Python has added these special variables automatically, and does so for every Python file that we run or [import](glossary.ipynb#import). They contain various pieces of information that track the role of that file in our overall program. For example, the automatically-created `__file__` variable stores the full [path](glossary.ipynb#path) to the file that the contents of a namespace came from."
   ]
  },
  {
   "cell_type": "code",
   "execution_count": 13,
   "metadata": {},
   "outputs": [
    {
     "data": {
      "text/plain": [
       "'/home/lt/GitHub/introduction-to-programming/content/examples/initials.py'"
      ]
     },
     "execution_count": 13,
     "metadata": {},
     "output_type": "execute_result"
    }
   ],
   "source": [
    "initials.__file__"
   ]
  },
  {
   "cell_type": "markdown",
   "metadata": {},
   "source": [
    "And `__doc__` stores the [docstring](glossary.ipynb#docstring) that we wrote for the file (if we were diligent and did so):"
   ]
  },
  {
   "cell_type": "code",
   "execution_count": 14,
   "metadata": {},
   "outputs": [
    {
     "name": "stdout",
     "output_type": "stream",
     "text": [
      "\n",
      "A module providing a single function for getting the intials from a name.\n",
      "\n"
     ]
    }
   ],
   "source": [
    "print(initials.__doc__)"
   ]
  },
  {
   "cell_type": "markdown",
   "metadata": {},
   "source": [
    "#### `__name__`\n",
    "\n",
    "It is rare that we will want to refer to these special variables in a simple program. But there is one common exception to this. Take a look at [line 43](examples/initials.py#L43) of *initials.py*. This line refers to a special variable, called `__name__`.\n",
    "\n",
    "To understand how this special variable is being used here, let's first look at its contents:"
   ]
  },
  {
   "cell_type": "code",
   "execution_count": 15,
   "metadata": {},
   "outputs": [
    {
     "data": {
      "text/plain": [
       "'initials'"
      ]
     },
     "execution_count": 15,
     "metadata": {},
     "output_type": "execute_result"
    }
   ],
   "source": [
    "initials.__name__"
   ]
  },
  {
   "cell_type": "markdown",
   "metadata": {},
   "source": [
    "The somewhat underwhelming answer is that the `__name__` special variable stores the name of an imported module's namespace, which in the case of the *initials* module is... wait for it... `'initials'`!\n",
    "\n",
    "This seems at first a completely useless thing to know. To even access the `__name__` variable in a namespace, we need to already know the namespace's name, because this is what we must write before the dot.\n",
    "\n",
    "The usefulness of the `__name__` variable only becomes apparent when we see what value it takes on when it does not find itself inside the namespace of an imported module, but instead finds itself in Python's 'main' overall namespace. The main namespace is just the place that Python puts anything that we define while using the console or running a program. We can see the contents of the main namespace using the `dir()` function again, but with no input [argument](glossary.ipynb#argument). By default, the `dir()` function lists the contents of the main namespace. If we have been messing around for a while in the console creating a few variables or if we have run a program, there may be quite a few things in there:"
   ]
  },
  {
   "cell_type": "code",
   "execution_count": 16,
   "metadata": {},
   "outputs": [
    {
     "data": {
      "text/plain": [
       "['In',\n",
       " 'Out',\n",
       " '_',\n",
       " '_10',\n",
       " '_11',\n",
       " '_12',\n",
       " '_13',\n",
       " '_15',\n",
       " '_6',\n",
       " '_8',\n",
       " '__',\n",
       " '___',\n",
       " '__builtin__',\n",
       " '__builtins__',\n",
       " '__doc__',\n",
       " '__loader__',\n",
       " '__name__',\n",
       " '__package__',\n",
       " '__spec__',\n",
       " '_dh',\n",
       " '_i',\n",
       " '_i1',\n",
       " '_i10',\n",
       " '_i11',\n",
       " '_i12',\n",
       " '_i13',\n",
       " '_i14',\n",
       " '_i15',\n",
       " '_i16',\n",
       " '_i2',\n",
       " '_i3',\n",
       " '_i4',\n",
       " '_i5',\n",
       " '_i6',\n",
       " '_i7',\n",
       " '_i8',\n",
       " '_i9',\n",
       " '_ih',\n",
       " '_ii',\n",
       " '_iii',\n",
       " '_oh',\n",
       " 'exit',\n",
       " 'get_initials',\n",
       " 'get_ipython',\n",
       " 'initials',\n",
       " 'os',\n",
       " 'quit',\n",
       " 'sys',\n",
       " 'user_name']"
      ]
     },
     "execution_count": 16,
     "metadata": {},
     "output_type": "execute_result"
    }
   ],
   "source": [
    "dir()"
   ]
  },
  {
   "cell_type": "markdown",
   "metadata": {},
   "source": [
    "Ignore the various other weird things that Python has put in there for us and just note a few things that we recognize.\n",
    "\n",
    "First of all, among the 'non-underscored' things at the end of the list is the `user_name` string variable that we created earlier in the lesson. Python puts all the variables that we create into the main namespace.\n",
    "\n",
    "Likewise, the imported module `initials` is in there. As we saw above, `initials` is a subsidiary namespace that gathers everything that gets defined as a result of running *initials.py*. It itself is located in the main namespace, in conceptually the same way that a subfolder with its own file contents may be located in our 'home folder' on a computer.\n",
    "\n",
    "But most importantly, among the double-underscored special variables, there appears the `__name__` variable that we just learned about. The main namespace has a `__name__` too. What is its `__name__`?"
   ]
  },
  {
   "cell_type": "code",
   "execution_count": 17,
   "metadata": {},
   "outputs": [
    {
     "data": {
      "text/plain": [
       "'__main__'"
      ]
     },
     "execution_count": 17,
     "metadata": {},
     "output_type": "execute_result"
    }
   ],
   "source": [
    "__name__"
   ]
  },
  {
   "cell_type": "markdown",
   "metadata": {},
   "source": [
    "The main namespace (i.e. the place where everything goes that wasn't imported from elsewhere) is called `'__main__'`.\n",
    "\n",
    "We can make use of this fact within our programs to find out whether our program has been imported into another program (in which case it will have its own `__name__`, such as `'initials'` or `'my_module'` or whatever) or whether it is being run directly on its own (in which case its `__name__` will be `'__main__'`).\n",
    "\n",
    "The short educational program [slim_shady.py](examples/slim_shady.py) demonstrates this difference in action. Let's see first of all what happens if we import *slim_shady.py* as a module:"
   ]
  },
  {
   "cell_type": "code",
   "execution_count": 18,
   "metadata": {},
   "outputs": [
    {
     "name": "stdout",
     "output_type": "stream",
     "text": [
      "Hi!\n",
      "My __name__ is ... What?\n",
      "My __name__ is ... Who?\n",
      "My __name__ is ... slim_shady\n"
     ]
    }
   ],
   "source": [
    "import slim_shady"
   ]
  },
  {
   "cell_type": "markdown",
   "metadata": {},
   "source": [
    "The file is run. And since it contains some `print()` statements and a reference to the automatically-created `__name__` variable, it prints for us the value that Python has assigned into `__name__`.\n",
    "\n",
    "Now open up *slim_shady.py* in the Spyder editor and instead of importing it, just run it on its own, in the same way that we have been running all our programs up until now, by clicking the 'Run' button. When *slim_shady.py* is run as its own program, its `__name__` becomes `'__main__'`.\n",
    "\n",
    "You may now be asking yourself a question that has become quite familiar: This is amazing fun, but what use is it?\n",
    "\n",
    "Take a look at [line 44](examples/initials.py#L44) of the *initials.py* module. This line applies a [condition](glossary.ipynb#condition), which is something that we are already familiar with. The condition checks whether the value of `__name__` is `'__main__'`, and so is effectively asking: 'Am I being run as the main program (or am I just being imported into another program)?' This means that the indented lines following the condition will only be run if we have run the file as its own program, not if we import the file into another program. Try it out. Open *initials.py* in the Spyder editor and run it as a stand-alone program by just clicking 'run'. You will see the results of the final two `print()` statements displayed in the console. Note that we did not see these when we [imported](glossary.ipynb#import) *initials.py* earlier.\n",
    "\n",
    "The `if __name__ == '__main__':` condition can be useful for us as programmers while developing and testing a [module](glossary.ipynb#module). If we place a few quick checks of our module's behavior beneath this condition, we can keep checking that our module still works as desired each time we make improvements or additions, by just running the module as a [script](glossary.ipynb#script). But our tests won't disturb us or our collaborators when we come to actually use the module by importing it into another program.\n",
    "\n",
    "This concept of building in tests to our programs and checking their behavior as we go along is an important one, and we will come back to it later.\n",
    "\n",
    "### Special methods\n",
    "\n",
    "We are done with the most important concepts for this lesson: [modules](glossary.ipynb#module) and [namespaces](glossary.ipynb#namespace). For the sake of completeness, we will now also look briefly at the double-underscored [methods](glossary.ipynb#method) that appear when we `dir()` a variable. But consider this bonus material; it provides a peek behind the scenes in Python and is included just to satisfy your curiosity.\n",
    "\n",
    "Let's take a look at these special string methods again, using a new [string](glossary.ipynb#string) variable:"
   ]
  },
  {
   "cell_type": "code",
   "execution_count": 19,
   "metadata": {},
   "outputs": [
    {
     "name": "stdout",
     "output_type": "stream",
     "text": [
      "__add__\n",
      "__class__\n",
      "__contains__\n",
      "__delattr__\n",
      "__dir__\n",
      "__doc__\n",
      "__eq__\n",
      "__format__\n",
      "__ge__\n",
      "__getattribute__\n",
      "__getitem__\n",
      "__getnewargs__\n",
      "__gt__\n",
      "__hash__\n",
      "__init__\n",
      "__init_subclass__\n",
      "__iter__\n",
      "__le__\n",
      "__len__\n",
      "__lt__\n",
      "__mod__\n",
      "__mul__\n",
      "__ne__\n",
      "__new__\n",
      "__reduce__\n",
      "__reduce_ex__\n",
      "__repr__\n",
      "__rmod__\n",
      "__rmul__\n",
      "__setattr__\n",
      "__sizeof__\n",
      "__str__\n",
      "__subclasshook__\n"
     ]
    }
   ],
   "source": [
    "word = 'Hello'\n",
    "\n",
    "for x in dir(word):\n",
    "    if x.startswith('__'):\n",
    "        print(x)"
   ]
  },
  {
   "cell_type": "markdown",
   "metadata": {},
   "source": [
    "These special methods govern the behavior of a variable in different circumstances. For example, when we 'add to' a variable using the `+` [operator](glossary.ipynb#operator), behind the scenes the special method `__add__()` is [called](glossary.ipynb#call). So the following two statements achieve the same thing:"
   ]
  },
  {
   "cell_type": "code",
   "execution_count": 20,
   "metadata": {},
   "outputs": [
    {
     "data": {
      "text/plain": [
       "'Hello world!'"
      ]
     },
     "execution_count": 20,
     "metadata": {},
     "output_type": "execute_result"
    }
   ],
   "source": [
    "word + ' world!'"
   ]
  },
  {
   "cell_type": "code",
   "execution_count": 21,
   "metadata": {},
   "outputs": [
    {
     "data": {
      "text/plain": [
       "'Hello world!'"
      ]
     },
     "execution_count": 21,
     "metadata": {},
     "output_type": "execute_result"
    }
   ],
   "source": [
    "word.__add__(' world!')"
   ]
  },
  {
   "cell_type": "markdown",
   "metadata": {},
   "source": [
    "Likewise, the `__eq__()` special method is called when we ask whether a variable is equal to something with `==`:"
   ]
  },
  {
   "cell_type": "code",
   "execution_count": 22,
   "metadata": {},
   "outputs": [
    {
     "data": {
      "text/plain": [
       "True"
      ]
     },
     "execution_count": 22,
     "metadata": {},
     "output_type": "execute_result"
    }
   ],
   "source": [
    "word == 'Hello'"
   ]
  },
  {
   "cell_type": "code",
   "execution_count": 23,
   "metadata": {},
   "outputs": [
    {
     "data": {
      "text/plain": [
       "True"
      ]
     },
     "execution_count": 23,
     "metadata": {},
     "output_type": "execute_result"
    }
   ],
   "source": [
    "word.__eq__('Hello')"
   ]
  },
  {
   "cell_type": "markdown",
   "metadata": {},
   "source": [
    "And `__getitem__()` is called when we [index](glossary.ipynb#index) a variable using the square parentheses `[]`:"
   ]
  },
  {
   "cell_type": "code",
   "execution_count": 24,
   "metadata": {},
   "outputs": [
    {
     "data": {
      "text/plain": [
       "'H'"
      ]
     },
     "execution_count": 24,
     "metadata": {},
     "output_type": "execute_result"
    }
   ],
   "source": [
    "word[0]"
   ]
  },
  {
   "cell_type": "code",
   "execution_count": 25,
   "metadata": {},
   "outputs": [
    {
     "data": {
      "text/plain": [
       "'H'"
      ]
     },
     "execution_count": 25,
     "metadata": {},
     "output_type": "execute_result"
    }
   ],
   "source": [
    "word.__getitem__(0)"
   ]
  },
  {
   "cell_type": "markdown",
   "metadata": {},
   "source": [
    "You get the general idea.\n",
    "\n",
    "But please don't understand from this that you should actually use these double-underscored methods in your programs. You should not. They are not intended to be used directly. We will only encounter them again much later on in our programming careers, when we come to define our own new [data types](glossary.ipynb#type). Then we will need to define some of these special methods so that Python knows what to do with variables of our new type when we combine them with `+` or index them with `[]`. For now, forget about special methods.\n",
    "\n",
    "## Exercises\n",
    "\n",
    "### 1\n",
    "\n",
    "Revisit the *words.py* program that you created in [exercise 2 of the previous lesson](functions.ipynb#exercises) (or go and complete that exercise first if you haven't yet).\n",
    "\n",
    "Use the `__name__` special variable as we learned above to add a 'test section' to the end of the program. Use this section to generate a printout that confirms the correct behavior of the `first_n_words()` function using the test phrase `'Hello my name is Mildred.'` and each of the three values `0`, `4`, and `9000` for the `n` argument.\n",
    "\n",
    "Check that this printout is generated only when you open *words.py* and run it as its own program, and not when you `import` it.\n",
    "\n",
    "### 2\n",
    "\n",
    "Write a new program. Your program should:\n",
    "\n",
    "* Import the *words.py* module that you created in [exercise 2 of the previous lesson](functions.ipynb#exercises).\n",
    "* Ask the user to type in a number `n`.\n",
    "* Use the `first_n_words()` function from *words.py* to print for the user the first `n` words of the first verse of *Always Look on the Bright Side of Life* by Monty Python:\n",
    "\n",
    "> If life seems jolly rotten  \n",
    "> There's something you've forgotten  \n",
    "> And that's to laugh and smile and dance and sing  \n",
    "> When you're feeling in the dumps  \n",
    "> Don't be silly chumps  \n",
    "> Just purse your lips and whistle, that's the thing  \n",
    "\n",
    "(Or you can use another short song if you prefer.)"
   ]
  }
 ],
 "metadata": {
  "celltoolbar": "Tags",
  "kernelspec": {
   "display_name": "Python 3",
   "language": "python",
   "name": "python3"
  },
  "language_info": {
   "codemirror_mode": {
    "name": "ipython",
    "version": 3
   },
   "file_extension": ".py",
   "mimetype": "text/x-python",
   "name": "python",
   "nbconvert_exporter": "python",
   "pygments_lexer": "ipython3",
   "version": "3.8.5"
  },
  "toc": {
   "base_numbering": 1,
   "nav_menu": {},
   "number_sections": false,
   "sideBar": true,
   "skip_h1_title": true,
   "title_cell": "Contents",
   "title_sidebar": "Contents",
   "toc_cell": true,
   "toc_position": {},
   "toc_section_display": true,
   "toc_window_display": false
  }
 },
 "nbformat": 4,
 "nbformat_minor": 4
}
