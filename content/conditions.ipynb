{
 "cells": [
  {
   "cell_type": "markdown",
   "metadata": {},
   "source": [
    "# Conditions\n",
    "\n",
    "We are already able to write programs that are somewhat interactive; we get the user to type something in and then we process whatever they typed in. The next level of excitement for our users is to interact with a program that does completely *different* things depending on what they type in.\n",
    "\n",
    "So far, the 'flow' of our programs has always been linear; they carry out a series of steps in order, with no variations. We would now like to give the flow of our programs a branching structure, such that its behavior will vary depending on the circumstances. This can be achieved with [control statements](glossary.ipynb#control): lines of our program that do not on their own produce any result, but instead control when (or how often, or in what variations) other lines are run.\n",
    "\n",
    "One of the simplest kinds of control statement is a 'conditional' control statement. It tells Python to run certain lines of our program only if a certain condition is fulfilled. This is what we will learn about now.\n",
    "\n",
    "## Objective\n",
    "\n",
    "To give ourselves something to work towards, let's imagine a fairly simple toy program that we would like to create.\n",
    "\n",
    "**hoff.py**:\n",
    "\n",
    "* Ask the user to enter their name and surname.\n",
    "* Find one interesting thing to say about their name:\n",
    "  * If they are called 'David Hasselhoff', ask \"Are you THE David Hasselhoff?\"\n",
    "    * If they say yes, say \"Wow!\"\n",
    "    * If they say no, say \"Well that is quite a coincidence that you have the same name.\"\n",
    "  * Else if their surname is 'Hasselhoff', ask \"Any relation to David Hasselhoff?\"\n",
    "    * If they say yes, say \"Wow!\"\n",
    "    * If they say no, say \"You never know, you might be.\"\n",
    "  * Else if their initials are 'DH', say \"You have the same initials as David Hasselhoff!\"\n",
    "  * Else if their first name is a variant of 'David' such as 'Dave', 'Davy', 'Dafydd', say \"Your name is a bit like 'David', as in 'David Hasselhoff'.\"\n",
    "  * Else, as a last resort, say \" suppose you could change your name to something more interesting, like 'David Hasselhoff'.\"\n",
    "\n",
    "The branching structure of our target program is moderately complex. We will build it up step by step, learning about the necessary programming techniques as we go.\n",
    "\n",
    "## Booleans\n",
    "\n",
    "We have already briefly met the [booleans](glossary.ipynb#boolean). Not Mrs. Boolean and her husband Julian, but the Python [data type](glossary.ipynb#type) that stores one of just two possible values: `True` or `False`. In order to be able to build conditions into our programs, we need first to learn a bit more about booleans and the logic that governs them.\n",
    "\n",
    "### Logic\n",
    "\n",
    "Certain statements in Python result in a boolean value. These are all 'logical' statements that ask a 'yes/no' question. The symbols used in them are mostly similar to mathematical notation:\n",
    "\n",
    "* `>` 'is greater than'\n",
    "* `<` 'is less than'\n",
    "* `>=` 'is greater than or equal to'\n",
    "* `<=` 'is less than or equal to'\n",
    "\n",
    "Python allows us to combine such symbols with variables and with literal numbers in much the same way as in math:"
   ]
  },
  {
   "cell_type": "code",
   "execution_count": 1,
   "metadata": {},
   "outputs": [
    {
     "data": {
      "text/plain": [
       "False"
      ]
     },
     "execution_count": 1,
     "metadata": {},
     "output_type": "execute_result"
    }
   ],
   "source": [
    "x = 2\n",
    "y = 3\n",
    "z = 7\n",
    "\n",
    "x > y"
   ]
  },
  {
   "cell_type": "code",
   "execution_count": 2,
   "metadata": {},
   "outputs": [
    {
     "data": {
      "text/plain": [
       "True"
      ]
     },
     "execution_count": 2,
     "metadata": {},
     "output_type": "execute_result"
    }
   ],
   "source": [
    "x >= 2"
   ]
  },
  {
   "cell_type": "code",
   "execution_count": 3,
   "metadata": {},
   "outputs": [
    {
     "data": {
      "text/plain": [
       "True"
      ]
     },
     "execution_count": 3,
     "metadata": {},
     "output_type": "execute_result"
    }
   ],
   "source": [
    "0 < x <= z"
   ]
  },
  {
   "cell_type": "markdown",
   "metadata": {},
   "source": [
    "What if we want to check whether two things are exactly equal? Here there is a small syntactical problem, because the equals symbol `=` is already in use for [assigning](glossary.ipynb#assignment) to a variable. Python therefore uses a double equals symbol `==` to mean 'is equal to' in the mathematical sense."
   ]
  },
  {
   "cell_type": "code",
   "execution_count": 4,
   "metadata": {},
   "outputs": [
    {
     "data": {
      "text/plain": [
       "False"
      ]
     },
     "execution_count": 4,
     "metadata": {},
     "output_type": "execute_result"
    }
   ],
   "source": [
    "x == y"
   ]
  },
  {
   "cell_type": "code",
   "execution_count": 5,
   "metadata": {},
   "outputs": [
    {
     "data": {
      "text/plain": [
       "True"
      ]
     },
     "execution_count": 5,
     "metadata": {},
     "output_type": "execute_result"
    }
   ],
   "source": [
    "x == 2"
   ]
  },
  {
   "cell_type": "markdown",
   "metadata": {},
   "source": [
    "`==` is also applicable to strings. As you might expect, it checks whether the contents of the two strings are exactly the same."
   ]
  },
  {
   "cell_type": "code",
   "execution_count": 6,
   "metadata": {},
   "outputs": [
    {
     "data": {
      "text/plain": [
       "True"
      ]
     },
     "execution_count": 6,
     "metadata": {},
     "output_type": "execute_result"
    }
   ],
   "source": [
    "name1 = 'David Hasselhoff'\n",
    "name2 = 'David Hasselhoff'\n",
    "\n",
    "name1 == name2"
   ]
  },
  {
   "cell_type": "markdown",
   "metadata": {},
   "source": [
    "Remember that lowercase and uppercase letters are not considered to be the same character, and that a space counts as a character."
   ]
  },
  {
   "cell_type": "code",
   "execution_count": 7,
   "metadata": {},
   "outputs": [
    {
     "data": {
      "text/plain": [
       "False"
      ]
     },
     "execution_count": 7,
     "metadata": {},
     "output_type": "execute_result"
    }
   ],
   "source": [
    "name1 == 'david hasselhoff'"
   ]
  },
  {
   "cell_type": "code",
   "execution_count": 8,
   "metadata": {},
   "outputs": [
    {
     "data": {
      "text/plain": [
       "False"
      ]
     },
     "execution_count": 8,
     "metadata": {},
     "output_type": "execute_result"
    }
   ],
   "source": [
    "name1 == 'David Hasselhoff '"
   ]
  },
  {
   "cell_type": "markdown",
   "metadata": {},
   "source": [
    "Finally, we may combine or negate logical statements using the Python [keywords](glossary.ipynb#keyword) `and`, `or`, and `not`."
   ]
  },
  {
   "cell_type": "code",
   "execution_count": 9,
   "metadata": {},
   "outputs": [
    {
     "data": {
      "text/plain": [
       "True"
      ]
     },
     "execution_count": 9,
     "metadata": {},
     "output_type": "execute_result"
    }
   ],
   "source": [
    "2 + 2 == 4 or 1 > 2"
   ]
  },
  {
   "cell_type": "code",
   "execution_count": 10,
   "metadata": {},
   "outputs": [
    {
     "data": {
      "text/plain": [
       "False"
      ]
     },
     "execution_count": 10,
     "metadata": {},
     "output_type": "execute_result"
    }
   ],
   "source": [
    "2 + 2 == 4 and 1 > 2"
   ]
  },
  {
   "cell_type": "code",
   "execution_count": 11,
   "metadata": {},
   "outputs": [
    {
     "data": {
      "text/plain": [
       "False"
      ]
     },
     "execution_count": 11,
     "metadata": {},
     "output_type": "execute_result"
    }
   ],
   "source": [
    "not 2 + 2 == 4"
   ]
  },
  {
   "cell_type": "markdown",
   "metadata": {},
   "source": [
    "As in math, parentheses are not always necessary, but they can help make our program clearer to read."
   ]
  },
  {
   "cell_type": "code",
   "execution_count": 12,
   "metadata": {},
   "outputs": [
    {
     "data": {
      "text/plain": [
       "True"
      ]
     },
     "execution_count": 12,
     "metadata": {},
     "output_type": "execute_result"
    }
   ],
   "source": [
    "(2 + 2 == 4) or (1 > 2)"
   ]
  },
  {
   "cell_type": "code",
   "execution_count": 13,
   "metadata": {},
   "outputs": [
    {
     "data": {
      "text/plain": [
       "False"
      ]
     },
     "execution_count": 13,
     "metadata": {},
     "output_type": "execute_result"
    }
   ],
   "source": [
    "not (2 + 2 == 4)"
   ]
  },
  {
   "cell_type": "markdown",
   "metadata": {},
   "source": [
    "Python provides an abbreviation for `not` together with `==`. The symbols `!=` stand for 'is not equal to'."
   ]
  },
  {
   "cell_type": "code",
   "execution_count": 14,
   "metadata": {},
   "outputs": [
    {
     "data": {
      "text/plain": [
       "False"
      ]
     },
     "execution_count": 14,
     "metadata": {},
     "output_type": "execute_result"
    }
   ],
   "source": [
    "2 + 2 != 4"
   ]
  },
  {
   "cell_type": "markdown",
   "metadata": {},
   "source": [
    "### Conversion to boolean\n",
    "\n",
    "That covers the very basics of logical statements in Python. Before we see how to turn logical statements into conditions for carrying out a part of a our program, let's take a brief detour to consider a slight quirk in the way Python handles the boolean data type.\n",
    "\n",
    "We have learned that some data types can be converted into others, using [built-in](glossary.ipynb#builtin) functions that have the same names as the type we wish to convert to (for example `int()` for converting to integer, and `str()` for converting to string). Initially, it may seem strange to allow converting other types into booleans, since booleans are always just `True` or `False`. Is the integer `42` on its own a 'true' number or a 'false' number? What about a string like `'JavaScript is a terrible programming language.'`? (Of course, some strings may contain true statements, but Python can't be expected to work this out.)\n",
    "\n",
    "Nonetheless, Python does allow us to convert other data types to boolean. How does it decide whether numbers or strings are 'true' or not? If you feel like a challenge, you might like to head to the Spyder console now and try converting a few strings and numbers to boolean (the type conversion function is `bool()`) to see whether you can discover the pattern.\n",
    "\n",
    "The answer follows after this block of text:"
   ]
  },
  {
   "cell_type": "code",
   "execution_count": 15,
   "metadata": {},
   "outputs": [
    {
     "name": "stdout",
     "output_type": "stream",
     "text": [
      "SPOILER ALERT SPOILER ALERT SPOILER ALERT SPOILER ALERT SPOILER ALERT SPOILER ALERT SPOILER ALERT SPOILER ALERT SPOILER ALERT SPOILER ALERT SPOILER ALERT SPOILER ALERT SPOILER ALERT SPOILER ALERT SPOILER ALERT SPOILER ALERT SPOILER ALERT SPOILER ALERT SPOILER ALERT SPOILER ALERT SPOILER ALERT SPOILER ALERT SPOILER ALERT SPOILER ALERT SPOILER ALERT SPOILER ALERT SPOILER ALERT SPOILER ALERT SPOILER ALERT SPOILER ALERT SPOILER ALERT SPOILER ALERT SPOILER ALERT SPOILER ALERT SPOILER ALERT SPOILER ALERT SPOILER ALERT SPOILER ALERT SPOILER ALERT SPOILER ALERT SPOILER ALERT SPOILER ALERT SPOILER ALERT SPOILER ALERT SPOILER ALERT SPOILER ALERT SPOILER ALERT SPOILER ALERT SPOILER ALERT SPOILER ALERT SPOILER ALERT SPOILER ALERT SPOILER ALERT SPOILER ALERT SPOILER ALERT SPOILER ALERT SPOILER ALERT SPOILER ALERT SPOILER ALERT SPOILER ALERT SPOILER ALERT SPOILER ALERT SPOILER ALERT SPOILER ALERT SPOILER ALERT SPOILER ALERT SPOILER ALERT SPOILER ALERT SPOILER ALERT SPOILER ALERT SPOILER ALERT SPOILER ALERT SPOILER ALERT SPOILER ALERT SPOILER ALERT SPOILER ALERT SPOILER ALERT SPOILER ALERT SPOILER ALERT SPOILER ALERT SPOILER ALERT SPOILER ALERT SPOILER ALERT SPOILER ALERT SPOILER ALERT SPOILER ALERT SPOILER ALERT SPOILER ALERT SPOILER ALERT SPOILER ALERT SPOILER ALERT SPOILER ALERT SPOILER ALERT SPOILER ALERT SPOILER ALERT SPOILER ALERT SPOILER ALERT SPOILER ALERT SPOILER ALERT SPOILER ALERT \n"
     ]
    }
   ],
   "source": [
    "print('SPOILER ALERT ' * 100)"
   ]
  },
  {
   "cell_type": "markdown",
   "metadata": {},
   "source": [
    "Let's try a string first:"
   ]
  },
  {
   "cell_type": "code",
   "execution_count": 16,
   "metadata": {},
   "outputs": [
    {
     "data": {
      "text/plain": [
       "True"
      ]
     },
     "execution_count": 16,
     "metadata": {},
     "output_type": "execute_result"
    }
   ],
   "source": [
    "bool('JavaScript is a terrible programming language.')"
   ]
  },
  {
   "cell_type": "markdown",
   "metadata": {},
   "source": [
    "That seems like a sensible answer. But what about other strings?"
   ]
  },
  {
   "cell_type": "code",
   "execution_count": 17,
   "metadata": {},
   "outputs": [
    {
     "data": {
      "text/plain": [
       "True"
      ]
     },
     "execution_count": 17,
     "metadata": {},
     "output_type": "execute_result"
    }
   ],
   "source": [
    "bool('JavaScript is an excellent programming language.')"
   ]
  },
  {
   "cell_type": "markdown",
   "metadata": {},
   "source": [
    "No! That's not right.\n",
    "\n",
    "In fact, Python treats any string as `True`, with just one exception: an empty string with no characters in it at all:"
   ]
  },
  {
   "cell_type": "code",
   "execution_count": 18,
   "metadata": {},
   "outputs": [
    {
     "data": {
      "text/plain": [
       "False"
      ]
     },
     "execution_count": 18,
     "metadata": {},
     "output_type": "execute_result"
    }
   ],
   "source": [
    "bool('')"
   ]
  },
  {
   "cell_type": "markdown",
   "metadata": {},
   "source": [
    "This principle generalizes to the other data types. 'Empty' things are `False`, and all other things are `True`. An empty list `[]`, for example, is treated as `False`, but a list that has any contents at all is treated as `True`."
   ]
  },
  {
   "cell_type": "code",
   "execution_count": 19,
   "metadata": {},
   "outputs": [
    {
     "data": {
      "text/plain": [
       "False"
      ]
     },
     "execution_count": 19,
     "metadata": {},
     "output_type": "execute_result"
    }
   ],
   "source": [
    "bool([])"
   ]
  },
  {
   "cell_type": "code",
   "execution_count": 20,
   "metadata": {},
   "outputs": [
    {
     "data": {
      "text/plain": [
       "True"
      ]
     },
     "execution_count": 20,
     "metadata": {},
     "output_type": "execute_result"
    }
   ],
   "source": [
    "bool(['eggs', 'bacon', 'black pudding'])"
   ]
  },
  {
   "cell_type": "markdown",
   "metadata": {},
   "source": [
    "For numbers, `0` is the only 'empty number', and all others are treated as `True`."
   ]
  },
  {
   "cell_type": "code",
   "execution_count": 21,
   "metadata": {},
   "outputs": [
    {
     "data": {
      "text/plain": [
       "False"
      ]
     },
     "execution_count": 21,
     "metadata": {},
     "output_type": "execute_result"
    }
   ],
   "source": [
    "bool(0)"
   ]
  },
  {
   "cell_type": "code",
   "execution_count": 22,
   "metadata": {},
   "outputs": [
    {
     "data": {
      "text/plain": [
       "True"
      ]
     },
     "execution_count": 22,
     "metadata": {},
     "output_type": "execute_result"
    }
   ],
   "source": [
    "bool(42)"
   ]
  },
  {
   "cell_type": "code",
   "execution_count": 23,
   "metadata": {},
   "outputs": [
    {
     "data": {
      "text/plain": [
       "True"
      ]
     },
     "execution_count": 23,
     "metadata": {},
     "output_type": "execute_result"
    }
   ],
   "source": [
    "bool(-1)"
   ]
  },
  {
   "cell_type": "markdown",
   "metadata": {},
   "source": [
    "This may seem slightly weird. But this convention of treating non-empty things as being somehow 'true' is common to many programming languages. As we will see later, it is important to be aware of this behavior.\n",
    "\n",
    "## if\n",
    "\n",
    "Now that we know how to express conditions in Python, we just need to know how to apply them to certain commands, so that those commands are only carried out if the condition is true. The [keyword](glossary.ipynb#keyword) that we need for this is `if`, which has essentially the same meaning in Python as in English.\n",
    "\n",
    "This is how it is used, applied to the very first condition in our target program:"
   ]
  },
  {
   "cell_type": "code",
   "execution_count": 24,
   "metadata": {},
   "outputs": [
    {
     "name": "stdout",
     "output_type": "stream",
     "text": [
      "What is your name and surname? David Hasselhoff\n",
      "Are you THE Hoff?\n"
     ]
    }
   ],
   "source": [
    "user_name = input('What is your name and surname? ')\n",
    "\n",
    "if user_name == 'David Hasselhoff':\n",
    "    print('Are you THE Hoff?')"
   ]
  },
  {
   "cell_type": "markdown",
   "metadata": {},
   "source": [
    "Because the user entered the exact string `'David Hasselhoff'`, the condition following the `if` keyword [evaluated](glossary.ipynb#evaluate) to `True` and so the `print()` command just below it was executed.\n",
    "\n",
    "We should always test our conditions with both the positive and negative case to check that we have got them right. So let's try it again, this time entering a name that should not trigger the `print()` command:"
   ]
  },
  {
   "cell_type": "code",
   "execution_count": 25,
   "metadata": {},
   "outputs": [
    {
     "name": "stdout",
     "output_type": "stream",
     "text": [
      "What is your name and surname? Mildred Bonk\n"
     ]
    }
   ],
   "source": [
    "user_name = input('What is your name and surname? ')\n",
    "\n",
    "if user_name == 'David Hasselhoff':\n",
    "    print('Are you THE Hoff?')"
   ]
  },
  {
   "cell_type": "markdown",
   "metadata": {},
   "source": [
    "Good. This time we did not see the printed output.\n",
    "\n",
    "So here is the general [syntax](glossary.ipynb#syntax) for an `if` statement:\n",
    "\n",
    "* write `if`\n",
    "* then write your condition\n",
    "  * this should be something that results in a boolean `True` or `False`\n",
    "* then write a colon `:`\n",
    "* underneath all this, write the command (or multiple commands) that should be executed if your condition is true\n",
    "  * these must be [indented](glossary.ipynb#indentation) (i.e. they should be preceded by spaces to move them rightwards)\n",
    "\n",
    "### Indentation\n",
    "\n",
    "That last rule is important. It is the indentation in our example above that marks the `print()` line as 'belonging to' the `if` statement. Let's see what happens if we forget the indentation:"
   ]
  },
  {
   "cell_type": "code",
   "execution_count": 26,
   "metadata": {
    "tags": [
     "raises-exception"
    ]
   },
   "outputs": [
    {
     "ename": "IndentationError",
     "evalue": "expected an indented block (<ipython-input-26-fdc1d519ea77>, line 4)",
     "output_type": "error",
     "traceback": [
      "\u001b[0;36m  File \u001b[0;32m\"<ipython-input-26-fdc1d519ea77>\"\u001b[0;36m, line \u001b[0;32m4\u001b[0m\n\u001b[0;31m    print('Are you THE Hoff?')\u001b[0m\n\u001b[0m    ^\u001b[0m\n\u001b[0;31mIndentationError\u001b[0m\u001b[0;31m:\u001b[0m expected an indented block\n"
     ]
    }
   ],
   "source": [
    "user_name = input('What is your name and surname? ')\n",
    "\n",
    "if user_name == 'David Hasselhoff':\n",
    "print('Are you THE Hoff?')"
   ]
  },
  {
   "cell_type": "markdown",
   "metadata": {},
   "source": [
    "The content of this error message is fairly clear: Python was expecting some indentation after the `if` statement.\n",
    "\n",
    "This use of indentation to mark lines of a program as belonging to a [control statement](glossary.ipynb#control) is specific to Python, and is not a feature of most other programming languages. It is one of Python's most controversial features, and also one of the more challenging things for beginners to get used to.\n",
    "\n",
    "So let's look at a few more variants of the `if` statement above, to check your understanding of the role of indentation. First of all, an example with more than one indented line after the `if`:"
   ]
  },
  {
   "cell_type": "code",
   "execution_count": 27,
   "metadata": {},
   "outputs": [
    {
     "name": "stdout",
     "output_type": "stream",
     "text": [
      "What is your name and surname? David Hasselhoff\n",
      "Are you THE Hoff?\n",
      "The really real Hoff?\n"
     ]
    }
   ],
   "source": [
    "user_name = input('What is your name and surname? ')\n",
    "\n",
    "if user_name == 'David Hasselhoff':\n",
    "    print('Are you THE Hoff?')\n",
    "    print('The really real Hoff?')"
   ]
  },
  {
   "cell_type": "markdown",
   "metadata": {},
   "source": [
    "Because both of these lines are indented, they both belong to the `if` statement, and so both of them will be run if the condition is true.\n",
    "\n",
    "Where we have multiple indented lines that all belong together, they must all be indented to the same extent. Varying indentation doesn't just look untidy, it also prevents Python from interpreting our program correctly:"
   ]
  },
  {
   "cell_type": "code",
   "execution_count": 29,
   "metadata": {
    "tags": [
     "raises-exception"
    ]
   },
   "outputs": [
    {
     "ename": "IndentationError",
     "evalue": "unindent does not match any outer indentation level (<tokenize>, line 5)",
     "output_type": "error",
     "traceback": [
      "\u001b[0;36m  File \u001b[0;32m\"<tokenize>\"\u001b[0;36m, line \u001b[0;32m5\u001b[0m\n\u001b[0;31m    print('The really real Hoff?')\u001b[0m\n\u001b[0m    ^\u001b[0m\n\u001b[0;31mIndentationError\u001b[0m\u001b[0;31m:\u001b[0m unindent does not match any outer indentation level\n"
     ]
    }
   ],
   "source": [
    "user_name = input('What is your name and surname? ')\n",
    "\n",
    "if user_name == 'David Hasselhoff':\n",
    "    print('Are you THE Hoff?')\n",
    "   print('The really real Hoff?')"
   ]
  },
  {
   "cell_type": "markdown",
   "metadata": {},
   "source": [
    "If you have written an `if` statement followed by multiple indented lines, you may find it helpful to hold up a ruler to your computer screen to check that the indentation is consistent throughout. This is a technique that even expert Python programmers have to resort to at some point.\n",
    "\n",
    "Now consider what happens in the variation below:"
   ]
  },
  {
   "cell_type": "code",
   "execution_count": 30,
   "metadata": {},
   "outputs": [
    {
     "name": "stdout",
     "output_type": "stream",
     "text": [
      "What is your name and surname? Mildred Bonk\n",
      "The really real Hoff?\n"
     ]
    }
   ],
   "source": [
    "user_name = input('What is your name and surname? ')\n",
    "\n",
    "if user_name == 'David Hasselhoff':\n",
    "    print('Are you THE Hoff?')\n",
    "print('The really real Hoff?')"
   ]
  },
  {
   "cell_type": "markdown",
   "metadata": {},
   "source": [
    "This one does not result in an error. It is [syntactically](glossary.ipynb#syntax) valid, but it does something a bit different from what we want.\n",
    "\n",
    "Notice that the user typed in a name that did not make the `if` condition true. So the first `print()` line was not run. But the second `print()` line *was* run. This is because it was not indented. As we learned above, indentation tells Python which lines belong to a control statement. If a line is not indented, it is not influenced by the preceding control statement, and so is always run, just like any normal line of the program. The first 'unindented' line after a block of indented lines marks the end of a control statement's influence, and a return to the normal linear structure of a Python program, where every line is always run.\n",
    "\n",
    "For the sake of clarity, it is a good idea to also place blank lines before and after a block of indented lines, to mark them out clearly from the rest of the program.\n",
    "\n",
    "### Debugging\n",
    "\n",
    "If you are trying to write an `if` statement and you keep encountering [errors](glossary.ipynb#error), here are some of the most common mistakes to check for:\n",
    "\n",
    "* Have you forgotten the colon `:` at the end of the if statement?\n",
    "* Have you used `=` where you meant to use `==`?\n",
    "* Have you forgotten to indent, or indented inconsistently?\n",
    "\n",
    "## if elif else\n",
    "\n",
    "We now have the main ingredient of our target program: conditional statements. Most of the rest of what we will learn in this lesson is elaborating on this basic ingredient.\n",
    "\n",
    "The English-language description of our target program is structured as a series of conditions. The first begins with 'if', subsequent ones begin with 'else if', and the last begins simply with 'else'. That is, we want to keep checking a series of conditions until we find one that is true, and have a final 'last resort' condition that only applies if none of the others was true. This is fairly easy to put together, so long as we remember the basic syntax for a conditional statement. We just need to introduce new [keywords](glossary.ipynb#keyword).\n",
    "\n",
    "Python abbreviates 'else if' to `elif`. The `elif` keyword checks a new condition, but only if none of the preceding conditions was true.\n",
    "\n",
    "'Else' is the same in Python as it is in English. The `else` keyword does not require any condition, since it merely specifies what to do if none of the preceding conditions was true. But like all [control statements](glossary.ipynb#control) it does still require a colon.\n",
    "\n",
    "Let's see an `if` ... `elif` ... `else` structure in action, using a simplified version of our target program:"
   ]
  },
  {
   "cell_type": "code",
   "execution_count": 31,
   "metadata": {},
   "outputs": [
    {
     "name": "stdout",
     "output_type": "stream",
     "text": [
      "What is your name and surname? Davinia Hasselhoff\n",
      "Any relation to David Hasselhoff?\n"
     ]
    }
   ],
   "source": [
    "user_name = input('What is your name and surname? ')\n",
    "\n",
    "# Get the separate names and initials.\n",
    "user_names = user_name.split()\n",
    "user_firstname = user_names[0]\n",
    "user_surname = user_names[1]\n",
    "user_initials = user_firstname[0] + user_surname[0]\n",
    "\n",
    "if user_name == 'David Hasselhoff':\n",
    "    print('Are you THE Hoff?')\n",
    "elif user_surname == 'Hasselhoff':\n",
    "    print('Any relation to David Hasselhoff?')\n",
    "elif user_initials == 'DH':\n",
    "    print('You have the same initials as David Hasselhoff!')\n",
    "else:\n",
    "    print(\"Never mind, I suppose you could change it to something more interesting, like 'David Hasselhoff'.\")"
   ]
  },
  {
   "cell_type": "markdown",
   "metadata": {},
   "source": [
    "(If you are wondering about that bit where we extract the user's two names and initials, go to the Spyder console and explore the string [method](glossary.ipynb#method) `split()` and also look back at [indexing](glossary.ipynb#index).)\n",
    "\n",
    "The user entered a name that triggered the first `elif` statement above. Notice that the condition for the second `elif` statement is also true, since the initials are also 'DH', but this second `elif` was not triggered; an `elif` statement is only applied if none of the preceding conditions was true.\n",
    "\n",
    "Notice also the pattern of indentation. The additional [control statements](glossary.ipynb#control) with `elif` and `else` are not themselves indented, but the `print()` commands that belong to them are.\n",
    "\n",
    "## Nested conditions\n",
    "\n",
    "We need one more major insight into Python's [syntax](glossary.ipynb#syntax) for conditionals before we are ready to write a complete version of our target program. For the first two conditions in our program (whether the full name is 'David Hasselhoff' or the surname is 'Hasselhoff'), we need to ask a follow up question and then apply another condition to the answer to that follow-up question. We can almost achieve this already using the techniquess we have just learned, if we add a little leap of imagination.\n",
    "\n",
    "Remember that Python uses [indentation](glossary.ipynb#indentation) to mark lines of a program as belonging to a preceding control statement. If we have one control statement inside another (for example one condition that only needs to be checked once another has been found to be true), then the lines that belong to the 'inner' control statement must be indented yet further, to indicate that they belong to that inner control statement and not to the 'outer' one.\n",
    "\n",
    "This is easiest to understand by just looking at an example. So here is the first condition of our program, with the additional follow-up question added:"
   ]
  },
  {
   "cell_type": "code",
   "execution_count": 32,
   "metadata": {},
   "outputs": [
    {
     "name": "stdout",
     "output_type": "stream",
     "text": [
      "What is your name and surname? David Hasselhoff\n",
      "Are you THE Hoff? No, I changed my name to match his.\n"
     ]
    }
   ],
   "source": [
    "user_name = input('What is your name and surname? ')\n",
    "\n",
    "if user_name == 'David Hasselhoff':\n",
    "    is_hoff = input('Are you THE Hoff? ')\n",
    "    if is_hoff == 'yes':\n",
    "        print('Wow!')\n",
    "        print(\"That's amazing!\")"
   ]
  },
  {
   "cell_type": "markdown",
   "metadata": {},
   "source": [
    "The user answered 'no' to the second question we posed, so the 'inner' `if` statement was not triggered, and the indented lines that followed it were not run.\n",
    "\n",
    "And note that if the first `if` statement is not triggered, none of the rest is run:"
   ]
  },
  {
   "cell_type": "code",
   "execution_count": 33,
   "metadata": {},
   "outputs": [
    {
     "name": "stdout",
     "output_type": "stream",
     "text": [
      "What is your name and surname? Dilbert Hoffelhass\n"
     ]
    }
   ],
   "source": [
    "user_name = input('What is your name and surname? ')\n",
    "\n",
    "if user_name == 'David Hasselhoff':\n",
    "    is_hoff = input('Are you THE Hoff? ')\n",
    "    if is_hoff == 'yes':\n",
    "        print('Wow!')\n",
    "        print(\"That's amazing!\")"
   ]
  },
  {
   "cell_type": "markdown",
   "metadata": {},
   "source": [
    "Again, to really firm up our understanding of the role of indentation, let's consider a variation that behaves differently:"
   ]
  },
  {
   "cell_type": "code",
   "execution_count": 34,
   "metadata": {},
   "outputs": [
    {
     "name": "stdout",
     "output_type": "stream",
     "text": [
      "What is your name and surname? David Hasselhoff\n",
      "Are you THE Hoff? Sadly not.\n",
      "That's amazing!\n"
     ]
    }
   ],
   "source": [
    "user_name = input('What is your name and surname? ')\n",
    "\n",
    "if user_name == 'David Hasselhoff':\n",
    "    is_hoff = input('Are you THE Hoff? ')\n",
    "    if is_hoff == 'yes':\n",
    "        print('Wow!')\n",
    "    print(\"That's amazing!\")"
   ]
  },
  {
   "cell_type": "markdown",
   "metadata": {},
   "source": [
    "This time, the second `print()` was indented, but only to the same extent as the other lines that follow the 'outer' `if` statement. This marks it as belonging to the outer `if` statement, so it is run if the outer `if` condition is true, regardless of whether the 'inner' one is also true.\n",
    "\n",
    "You can think of the role of indentation in Python as similar to its role in a series of nested bullet points in an ordinary document:\n",
    "\n",
    "* This is a bullet point.\n",
    "  * This is a sub-point related to the first.\n",
    "  * So is this.\n",
    "    * And this is a sub-sub-point related to the one just above.\n",
    "  * But this is back to being a sub-point related to the very first one.\n",
    "* And this finally is just yet another bullet point in the main list of bullet points.\n",
    "\n",
    "## More debugging\n",
    "\n",
    "We haven't yet attempted the last condition in our target program, which checks whether the user's first name is one of a few variants of 'David'. Let's give it a try. We will for now skip the preceding conditions, and also ask only for the user's first name, just to keep the example clear and simple.\n",
    "\n",
    "We learned earlier that we can combine conditions using the `or` [keyword](glossary.ipynb#keyword), and that this keyword seems to have more or less the same meaning as it does in English. So how about this:"
   ]
  },
  {
   "cell_type": "code",
   "execution_count": 35,
   "metadata": {},
   "outputs": [
    {
     "name": "stdout",
     "output_type": "stream",
     "text": [
      "What is your name? Dave\n",
      "Your name is a bit like 'David', as in 'David Hasselhoff'.\n"
     ]
    }
   ],
   "source": [
    "user_firstname = input('What is your name? ')\n",
    "\n",
    "if user_firstname == 'Dave' or 'Dafydd':\n",
    "    print(\"Your name is a bit like 'David', as in 'David Hasselhoff'.\")"
   ]
  },
  {
   "cell_type": "markdown",
   "metadata": {},
   "source": [
    "That looks right. But we should always test our conditions with both the positive and the negative case:"
   ]
  },
  {
   "cell_type": "code",
   "execution_count": 36,
   "metadata": {},
   "outputs": [
    {
     "name": "stdout",
     "output_type": "stream",
     "text": [
      "What is your name? Mildred\n",
      "Your name is a bit like 'David', as in 'David Hasselhoff'.\n"
     ]
    }
   ],
   "source": [
    "user_firstname = input('What is your name? ')\n",
    "\n",
    "if user_firstname == 'Dave' or 'Dafydd':\n",
    "    print(\"Your name is a bit like 'David', as in 'David Hasselhoff'.\")"
   ]
  },
  {
   "cell_type": "markdown",
   "metadata": {},
   "source": [
    "What just happened? The user entered a name that shouldn't trigger the `if` statement. But it did. Our program did not work as expected. We did not get an [error](glossary.ipynb#error), it is just that the program's behavior is wrong. This can be the hardest kind of problem to diagnose.\n",
    "\n",
    "Let's check a few things step by step. First of all, did the `input()` function really correctly store what the user entered?"
   ]
  },
  {
   "cell_type": "code",
   "execution_count": 37,
   "metadata": {},
   "outputs": [
    {
     "name": "stdout",
     "output_type": "stream",
     "text": [
      "Mildred\n"
     ]
    }
   ],
   "source": [
    "print(user_firstname)"
   ]
  },
  {
   "cell_type": "markdown",
   "metadata": {},
   "source": [
    "Ok. Does the first bit of the `if` condition somehow not work properly?"
   ]
  },
  {
   "cell_type": "code",
   "execution_count": 38,
   "metadata": {},
   "outputs": [
    {
     "name": "stdout",
     "output_type": "stream",
     "text": [
      "not triggered\n"
     ]
    }
   ],
   "source": [
    "if user_firstname == 'Dave':\n",
    "    print('triggered')\n",
    "else:\n",
    "    print('not triggered')"
   ]
  },
  {
   "cell_type": "markdown",
   "metadata": {},
   "source": [
    "That still seems right. So is it the full condition that is the problem?"
   ]
  },
  {
   "cell_type": "code",
   "execution_count": 39,
   "metadata": {},
   "outputs": [
    {
     "name": "stdout",
     "output_type": "stream",
     "text": [
      "triggered\n"
     ]
    }
   ],
   "source": [
    "if user_firstname == 'Dave' or 'Dafydd':\n",
    "    print('triggered')\n",
    "else:\n",
    "    print('not triggered')"
   ]
  },
  {
   "cell_type": "markdown",
   "metadata": {},
   "source": [
    "Aha! So it seems to be the inclusion of `or` that is the problem. Let's confirm with another example, using some other string than the user's name:"
   ]
  },
  {
   "cell_type": "code",
   "execution_count": 40,
   "metadata": {},
   "outputs": [
    {
     "name": "stdout",
     "output_type": "stream",
     "text": [
      "triggered\n"
     ]
    }
   ],
   "source": [
    "if 'Ishmael' == 'Dave' or 'Dafydd':\n",
    "    print('triggered')\n",
    "else:\n",
    "    print('not triggered')"
   ]
  },
  {
   "cell_type": "markdown",
   "metadata": {},
   "source": [
    "So what was going on in the statements above?\n",
    "\n",
    "In everyday English, the word 'or' can be used to join a set of possible alternatives, as in 'Dave, or Davy, or Dafydd'. In logic, and in Python, 'or' has a more specific meaning. It means:\n",
    "\n",
    "* Look to the left of the 'or', and find out whether the statement written there is true.\n",
    "* Independently of whatever is to the left, look to the right of the 'or', and find out whether the statement written there is true.\n",
    "* If at least one of the two statements is true, the whole statement is true.\n",
    "\n",
    "So `or` expects to find a fully-formed logical statement on either side of itself. This was the case in our earlier example of `or`, in which either side of the `or` was a complete statement on its own:"
   ]
  },
  {
   "cell_type": "code",
   "execution_count": 41,
   "metadata": {},
   "outputs": [
    {
     "data": {
      "text/plain": [
       "True"
      ]
     },
     "execution_count": 41,
     "metadata": {},
     "output_type": "execute_result"
    }
   ],
   "source": [
    "2 + 2 == 4"
   ]
  },
  {
   "cell_type": "code",
   "execution_count": 42,
   "metadata": {},
   "outputs": [
    {
     "data": {
      "text/plain": [
       "False"
      ]
     },
     "execution_count": 42,
     "metadata": {},
     "output_type": "execute_result"
    }
   ],
   "source": [
    "1 > 2"
   ]
  },
  {
   "cell_type": "code",
   "execution_count": 43,
   "metadata": {},
   "outputs": [
    {
     "data": {
      "text/plain": [
       "True"
      ]
     },
     "execution_count": 43,
     "metadata": {},
     "output_type": "execute_result"
    }
   ],
   "source": [
    "(2 + 2 == 4) or (1 > 2)"
   ]
  },
  {
   "cell_type": "markdown",
   "metadata": {},
   "source": [
    "If `or` expects to find a fully-formed logical statement on either side of itself, why did our condition for the user's name not simply result in an error? After all, `'Dafydd'` is not a fully-formed logical statement on his own.\n",
    "\n",
    "Remember the slightly weird convention that all non-empty things are `True` when converted to [boolean](glossary.ipynb#boolean). So for the purposes of logical conditions, `'Dafydd'` is `True`, as is any non-empty string. This means that the statement `user_firstname == 'Dave' or 'Dafydd'` is always `True`, regardless of what the contents of the `user_firstname` variable are, because at least one of the two things either side of the `or` is `True`.\n",
    "\n",
    "So here is the correct way to use `or` in our example. Each side of the `or` must be a statement involving the `user_firstname` variable:"
   ]
  },
  {
   "cell_type": "code",
   "execution_count": 44,
   "metadata": {},
   "outputs": [
    {
     "name": "stdout",
     "output_type": "stream",
     "text": [
      "What is your name? Mildred\n"
     ]
    }
   ],
   "source": [
    "user_firstname = input('What is your name? ')\n",
    "\n",
    "if user_firstname == 'Dave' or user_firstname == 'Dafydd':\n",
    "    print(\"Your name is a bit like 'David', as in 'David Hasselhoff'.\")"
   ]
  },
  {
   "cell_type": "markdown",
   "metadata": {},
   "source": [
    "## in\n",
    "\n",
    "Using `or` to join up multiple statements that all check the same variable quickly gets tedious and difficult to read. For example if we want to check three variants of 'David' rather than just two, the condition would be:"
   ]
  },
  {
   "cell_type": "code",
   "execution_count": 45,
   "metadata": {},
   "outputs": [
    {
     "data": {
      "text/plain": [
       "False"
      ]
     },
     "execution_count": 45,
     "metadata": {},
     "output_type": "execute_result"
    }
   ],
   "source": [
    "user_firstname == 'Dave' or user_firstname == 'Davy' or user_firstname == 'Dafydd'"
   ]
  },
  {
   "cell_type": "markdown",
   "metadata": {},
   "source": [
    "There is a better option in such cases. If we want to check whether a variable has one of several possible values, we can ask whether that variable's value is 'in' a [list](glossary.ipynb#list) of possibilities, using the `in` [keyword](glossary.ipynb#keyword).\n",
    "\n",
    "For example:"
   ]
  },
  {
   "cell_type": "code",
   "execution_count": 46,
   "metadata": {},
   "outputs": [
    {
     "data": {
      "text/plain": [
       "False"
      ]
     },
     "execution_count": 46,
     "metadata": {},
     "output_type": "execute_result"
    }
   ],
   "source": [
    "user_firstname in ['Dave', 'Davy', 'Dafydd']"
   ]
  },
  {
   "cell_type": "markdown",
   "metadata": {},
   "source": [
    "So if you ever find yourself checking multiple possible values of a variable using `or`, consider using `in` instead.\n",
    "\n",
    "That concludes the techniques necessary to write a basic version of our target program. You can take a look at the finished version [hoff.py](examples/hoff.py). This program looks quite complex, but it is made of the building blocks we wrote above, with some very small refinements. Some extra blank lines have been added to clearly separate the multiple conditions that are checked.\n",
    "\n",
    "## Handling errors\n",
    "\n",
    "Let's conclude by learning about another kind of control statement. To keep things simple, we won't incorporate it into **hoff.py**, though it could be useful there too.\n",
    "\n",
    "We have met [errors](glossary.ipynb#error) before. Some errors are just fatal for our program, and will always stop it from running. For example, there is nothing that Python can do about a `SyntaxError`; if we have written something that it just does not understand, then Python has to give up:"
   ]
  },
  {
   "cell_type": "code",
   "execution_count": 47,
   "metadata": {
    "tags": [
     "raises-exception"
    ]
   },
   "outputs": [
    {
     "ename": "SyntaxError",
     "evalue": "invalid syntax (<ipython-input-47-925621985029>, line 1)",
     "output_type": "error",
     "traceback": [
      "\u001b[0;36m  File \u001b[0;32m\"<ipython-input-47-925621985029>\"\u001b[0;36m, line \u001b[0;32m1\u001b[0m\n\u001b[0;31m    Python, please do some amazing machine learning.\u001b[0m\n\u001b[0m                   ^\u001b[0m\n\u001b[0;31mSyntaxError\u001b[0m\u001b[0;31m:\u001b[0m invalid syntax\n"
     ]
    }
   ],
   "source": [
    "Python, please do some amazing machine learning."
   ]
  },
  {
   "cell_type": "markdown",
   "metadata": {},
   "source": [
    "Other errors, however, are not necessarily fatal for our program.\n",
    "\n",
    "Consider an abbreviated version of one of our earlier programs, [age_next_year.py](examples/age_next_year.py), and see what happens if the user misunderstands what is required of them, and enters some input that our program cannot handle:"
   ]
  },
  {
   "cell_type": "code",
   "execution_count": 48,
   "metadata": {
    "tags": [
     "raises-exception"
    ]
   },
   "outputs": [
    {
     "name": "stdout",
     "output_type": "stream",
     "text": [
      "How old are you? fifty-two\n"
     ]
    },
    {
     "ename": "ValueError",
     "evalue": "invalid literal for int() with base 10: 'fifty-two'",
     "output_type": "error",
     "traceback": [
      "\u001b[0;31m---------------------------------------------------------------------------\u001b[0m",
      "\u001b[0;31mValueError\u001b[0m                                Traceback (most recent call last)",
      "\u001b[0;32m<ipython-input-48-3266fdc533a9>\u001b[0m in \u001b[0;36m<module>\u001b[0;34m\u001b[0m\n\u001b[1;32m      1\u001b[0m \u001b[0mage\u001b[0m \u001b[0;34m=\u001b[0m \u001b[0minput\u001b[0m\u001b[0;34m(\u001b[0m\u001b[0;34m'How old are you? '\u001b[0m\u001b[0;34m)\u001b[0m\u001b[0;34m\u001b[0m\u001b[0;34m\u001b[0m\u001b[0m\n\u001b[1;32m      2\u001b[0m \u001b[0;34m\u001b[0m\u001b[0m\n\u001b[0;32m----> 3\u001b[0;31m \u001b[0mage_next_year\u001b[0m \u001b[0;34m=\u001b[0m \u001b[0mint\u001b[0m\u001b[0;34m(\u001b[0m\u001b[0mage\u001b[0m\u001b[0;34m)\u001b[0m \u001b[0;34m+\u001b[0m \u001b[0;36m1\u001b[0m\u001b[0;34m\u001b[0m\u001b[0;34m\u001b[0m\u001b[0m\n\u001b[0m\u001b[1;32m      4\u001b[0m \u001b[0mprint\u001b[0m\u001b[0;34m(\u001b[0m\u001b[0mage_next_year\u001b[0m\u001b[0;34m)\u001b[0m\u001b[0;34m\u001b[0m\u001b[0;34m\u001b[0m\u001b[0m\n",
      "\u001b[0;31mValueError\u001b[0m: invalid literal for int() with base 10: 'fifty-two'"
     ]
    }
   ],
   "source": [
    "age = input('How old are you? ')\n",
    "\n",
    "age_next_year = int(age) + 1\n",
    "print(age_next_year)"
   ]
  },
  {
   "cell_type": "markdown",
   "metadata": {},
   "source": [
    "It is pretty clear what has gone wrong, but in case we aren't sure, the error message identifies the conversion of the string `'fifty-two'` to integer as the problem.\n",
    "\n",
    "This error is not a `SyntaxError`; our program is entirely [syntactically valid](glossary.ipynb#syntax). Instead, it is a `ValueError`. We have asked Python to do something with a variable, and the thing that we have asked for might be totally ok, it is just that the specific [value](glossary.ipynb#value) of the variable turns out not to be suitable for what we asked for. Here, for example, we have asked for conversion from string to integer, but the string variable does not contain a suitable number.\n",
    "\n",
    "Problems like this one can be dealt with without stopping our program, because they don't make it impossible for Python to understand what we want. A non-fatal error (i.e. one that does not completely flummox Python) is termed an '[exception](glossary.ipynb#exception)'. When an exception occurs, we have the option of dealing with it in some way, and it is only if we do not deal with it that it becomes an [error](glossary.ipynb#error) and stops the program. (Though in practice you will hear many people use the terms 'exception' and 'error' as synonyms.)\n",
    "\n",
    "If we wish, we can instruct Python to 'try' to do something, but then to do something else if doing the first thing results in an exception. This concept is very similar to an `if` condition, but the condition is 'if the following actions result in an exception'. To apply this, we need to specify two things. We need to say what actions we want to 'try', and what actions we want to carry out if an exception occurs while trying those actions. There are new [keywords](glossary.ipynb#keyword) `try` and `except` for each of these, respectively.\n",
    "\n",
    "Let's see an example:"
   ]
  },
  {
   "cell_type": "code",
   "execution_count": 49,
   "metadata": {},
   "outputs": [
    {
     "name": "stdout",
     "output_type": "stream",
     "text": [
      "How old are you? fifty-two\n",
      "That is not a valid age.\n"
     ]
    }
   ],
   "source": [
    "age = input('How old are you? ')\n",
    "\n",
    "try:\n",
    "    age_next_year = int(age) + 1\n",
    "    print(age_next_year)\n",
    "except ValueError:\n",
    "    print('That is not a valid age.')"
   ]
  },
  {
   "cell_type": "markdown",
   "metadata": {},
   "source": [
    "The general [syntax](glossary.ipynb#syntax) for this kind of statement is:\n",
    "\n",
    "* write `try`, followed by a colon `:`\n",
    "* then write the actions you want to try\n",
    "  * these should be [indented](glossary.ipynb#indentation)\n",
    "* write `except`\n",
    "* then write the name of the type of exception/error that might occur\n",
    "* then write a colon `:`\n",
    "* then write the alternative actions\n",
    "  * these too should be indented\n",
    "\n",
    "There are some similarities with the syntax for the `if` ... `else` statement, namely the colon and the indentation. Both of these things are part of the general syntax for all [control statements](glossary.ipynb#control), and we will encounter them again in later lessons.\n",
    "\n",
    "Let's see another example, this time to handle the possibility that the user asks for a list item that is beyond the length of the list:"
   ]
  },
  {
   "cell_type": "code",
   "execution_count": 50,
   "metadata": {},
   "outputs": [
    {
     "name": "stdout",
     "output_type": "stream",
     "text": [
      "What item of shopping would you like to see? 9000\n",
      "There aren't that many items of shopping.\n"
     ]
    }
   ],
   "source": [
    "shopping_list = ['eggs', 'bacon', 'black pudding']\n",
    "\n",
    "item_number = input('What item of shopping would you like to see? ')\n",
    "item_number = int(item_number) - 1\n",
    "\n",
    "try:\n",
    "    print(shopping_list[item_number])\n",
    "except IndexError:\n",
    "    print(\"There aren't that many items of shopping.\")"
   ]
  },
  {
   "cell_type": "markdown",
   "metadata": {},
   "source": [
    "How did I know that the exception to watch out for was `IndexError`? In a long career filled with silly programming mistakes I have seen a lot of error messages, and so I just know what a lot of the common exceptions will be. But if you are building a program and you want to write a `try` ... `except` to deal with an expected problem, then the first thing you should do is to go to the console and deliberately provoke that expected problem to see what type of exception it is. The type of exception is printed at the bottom of the error message."
   ]
  },
  {
   "cell_type": "code",
   "execution_count": 51,
   "metadata": {
    "tags": [
     "raises-exception"
    ]
   },
   "outputs": [
    {
     "ename": "IndexError",
     "evalue": "list index out of range",
     "output_type": "error",
     "traceback": [
      "\u001b[0;31m---------------------------------------------------------------------------\u001b[0m",
      "\u001b[0;31mIndexError\u001b[0m                                Traceback (most recent call last)",
      "\u001b[0;32m<ipython-input-51-4a4ff19f7982>\u001b[0m in \u001b[0;36m<module>\u001b[0;34m\u001b[0m\n\u001b[0;32m----> 1\u001b[0;31m \u001b[0mshopping_list\u001b[0m\u001b[0;34m[\u001b[0m\u001b[0;36m9000\u001b[0m\u001b[0;34m]\u001b[0m\u001b[0;34m\u001b[0m\u001b[0;34m\u001b[0m\u001b[0m\n\u001b[0m",
      "\u001b[0;31mIndexError\u001b[0m: list index out of range"
     ]
    }
   ],
   "source": [
    "shopping_list[9000]"
   ]
  },
  {
   "cell_type": "markdown",
   "metadata": {},
   "source": [
    "The glossary entry on [exceptions](glossary.ipynb#exception) lists some of the most common types of exception that you might encounter.\n",
    "\n",
    "It is important not to get carried away with `try` ... `except` and attempt to cover all possible problems so that your program is 'foolproof'. If something occurs that your program is just not supposed to deal with, then your program should stop, and this is ok. Error messages can be very informative; if you try to suppress them all, you won't be warned when your program fails or be told why it failed. Use `try` ... `except` to deal with specific, anticipated problems.\n",
    "\n",
    "## Exercises\n",
    "\n",
    "### 1\n",
    "\n",
    "Take a look at the finished [hoff.py](examples/hoff.py) program. One thing that is not so good about this program is that it is not very easily modifiable. If we later changed our minds and wanted to adapt this program so that 'Barbra Streisand' is the interesting name instead of 'David Hasselhoff', then we would need to change the name in at least 8 different places. And we would need to go quite far down in our program to find the list of names similar to 'David' and change that.\n",
    "\n",
    "Re-write this program so that the string `'David Hasselhoff'` only appears once at the very beginning of the program, and the list of variants of 'David' also appears once at the beginning of the program. Once you have improved the program in this way, check that it still works as it did before. Then check that you only need to change these two initial lines so that the whole program uses a different interesting name. For example, you can try 'Barbra Streisand', with 'Barbara', 'Barb', and 'Barbie' as the variants of 'Barbra'.\n",
    "\n",
    "(Improving a program but without changing its basic functionality is called [refactoring](glossary.ipynb#refactor) the program.)\n",
    "\n",
    "### 2\n",
    "\n",
    "Write a new program. The program asks the user for the answers to three questions:\n",
    "\n",
    "* How old are they?\n",
    "* How tall are they (in meters)?\n",
    "* Do they have their parents' permission to ride rollercoasters?\n",
    "\n",
    "Then tell the user whether they are allowed to ride the rollercoaster at the theme park. The rules are:\n",
    "\n",
    "* They must be at least 10 years old.\n",
    "* They must be at least 1 meter and 30 centimeters tall.\n",
    "* They cannot be taller than 2 meters.\n",
    "* If they are younger than 14 years old, they must have their parents' permission."
   ]
  }
 ],
 "metadata": {
  "celltoolbar": "Tags",
  "kernelspec": {
   "display_name": "Python 3",
   "language": "python",
   "name": "python3"
  },
  "language_info": {
   "codemirror_mode": {
    "name": "ipython",
    "version": 3
   },
   "file_extension": ".py",
   "mimetype": "text/x-python",
   "name": "python",
   "nbconvert_exporter": "python",
   "pygments_lexer": "ipython3",
   "version": "3.8.5"
  },
  "toc": {
   "base_numbering": 1,
   "nav_menu": {},
   "number_sections": false,
   "sideBar": true,
   "skip_h1_title": true,
   "title_cell": "Contents",
   "title_sidebar": "Contents",
   "toc_cell": true,
   "toc_position": {},
   "toc_section_display": true,
   "toc_window_display": false
  }
 },
 "nbformat": 4,
 "nbformat_minor": 4
}
