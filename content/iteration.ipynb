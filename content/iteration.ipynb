{
 "cells": [
  {
   "cell_type": "markdown",
   "metadata": {},
   "source": [
    "# Iteration\n",
    "\n",
    "In the [previous lesson](conditions.ipynb) we learned about [control statements](glossary.ipynb#control): lines of our program that do not themselves accomplish any action, but instead control something about when other lines of our program are run. That is, they determine the 'flow' of the program. We focused on 'conditional' control statements, which set a condition according to which further lines of the program are either run or not.\n",
    "\n",
    "There are other ways in which we might want to control the flow of our program. For example, we might want to run a certain line more than once, maybe many times, or even indefinitely until a certain goal is achieved. Repeating lines of our program is sometimes termed '[iteration](glossary.ipynb#iterable)'. This is what we will learn about now.\n",
    "\n",
    "## Objective\n",
    "\n",
    "As before, let's structure our learning by working towards a simple toy program.\n",
    "\n",
    "**guess_the_animal.py**\n",
    "\n",
    "* Make the computer 'think' of an animal (i.e. store the name of an animal in a variable).\n",
    "* Present the user with a series of six hints about the animal's identity.\n",
    "* For each hint, print it out and then ask the user to guess the animal.\n",
    "  * Allow them to give up by typing 'q'.\n",
    "  * If they just enter nothing, ask them again.\n",
    "  * If they get the answer right, stop the game and congratulate them\n",
    "  * If they get the answer wrong, continue to the next hint.\n",
    "\n",
    "There is some branching in this program too, so we will need to use the techniques from the previous lesson. The novel aspect is the fact that there is some repetition; we need to get and process user input at least six times. Of course, for just six repetitions, we could achieve this by just copying and pasting the same lines into our program six times over. But achieving repetition by literally writing the same lines over an over is a bad idea, for a few reasons:\n",
    "\n",
    "* **Clarity**. It makes our program unnecessarily long and difficult for others to read.\n",
    "* **Robustness**. We can easily make small mistakes while copying, pasting, and modifying the repeated lines. This may break our program.\n",
    "* **Flexibility**. If we later decide that we would like to change some aspect of the repeated actions, we must change it in multiple places in our program. This is laborious, and may again introduce mistakes if we forget to make the change in one of the repetitions.\n",
    "\n",
    "In programming, we should try to avoid repeating ourselves. This principle is so fundamental that there is a commonly-used acronym [DRY](https://en.wikipedia.org/wiki/Don't_repeat_yourself) (**D**on't **R**epeat **Y**ourself) that people use to remind each other of it. The opposite of a 'DRY' programming style is sometimes pejoratively termed a 'WET' programming style (variously either '**W**rite **E**verything **T**wice' or '**W**e **E**njoy **T**yping').\n",
    "\n",
    "## Loops\n",
    "\n",
    "One way of achieving repetition is to use a [sequence](glossary.ipynb#sequence). Remember that sequences are [data types](glossary.ipynb#type) that store multiple values in order, such as [tuples](glossary.ipynb#sequence) and [lists](glossary.ipynb#list). We have in fact already seen one way of performing an action repeatedly for each item in a sequence. Remember that list [comprehensions](glossary.ipynb#comprehension) create a new list by systematically applying the same action to all the items in another list, in order.\n",
    "\n",
    "Here again is one of the example comprehensions that we saw in the [lesson on sequences](sequences_mappings.ipynb#Comprehensions):"
   ]
  },
  {
   "cell_type": "code",
   "execution_count": 1,
   "metadata": {},
   "outputs": [
    {
     "data": {
      "text/plain": [
       "['EG', 'BA', 'BL']"
      ]
     },
     "execution_count": 1,
     "metadata": {},
     "output_type": "execute_result"
    }
   ],
   "source": [
    "shopping_list = ['eggs', 'bacon', 'black pudding']\n",
    "\n",
    "shopping_notes = [item[:2].upper() for item in shopping_list]\n",
    "\n",
    "shopping_notes"
   ]
  },
  {
   "cell_type": "markdown",
   "metadata": {},
   "source": [
    "Comprehensions are great for applying single short commands to every item in a sequence. But in our target program we would like to go through the sequence of animal clues and do not just one but lots of things for each hint, including printing it out, getting user input, applying conditions, and even asking the user repeatedly for input if they fail to enter something. For such cases, we need to group all the repeated actions together under a [control statement](glossary.ipynb#control) that instructs Python to repeat all of them. This pattern is known as a [loop](glossary.ipynb#loop). Here is a short example:"
   ]
  },
  {
   "cell_type": "code",
   "execution_count": 2,
   "metadata": {},
   "outputs": [
    {
     "name": "stdout",
     "output_type": "stream",
     "text": [
      "Next item of shopping:\n",
      "eggs\n",
      "Next item of shopping:\n",
      "bacon\n",
      "Next item of shopping:\n",
      "black pudding\n",
      "Finished.\n"
     ]
    }
   ],
   "source": [
    "for item in shopping_list:\n",
    "    print('Next item of shopping:')\n",
    "    print(item)\n",
    "print('Finished.')"
   ]
  },
  {
   "cell_type": "markdown",
   "metadata": {},
   "source": [
    "By now the general syntax for control statements should be familiar. We end the control statement with a colon `:`, and we indent the lines that belong to the control statement. Make sure again that you have understood the role of [indentation](glossary.ipynb#indentation) in Python. Consider for example what happens if we also indent the final line in the example above:"
   ]
  },
  {
   "cell_type": "code",
   "execution_count": 3,
   "metadata": {},
   "outputs": [
    {
     "name": "stdout",
     "output_type": "stream",
     "text": [
      "Next item of shopping:\n",
      "eggs\n",
      "Finished.\n",
      "Next item of shopping:\n",
      "bacon\n",
      "Finished.\n",
      "Next item of shopping:\n",
      "black pudding\n",
      "Finished.\n"
     ]
    }
   ],
   "source": [
    "for item in shopping_list:\n",
    "    print('Next item of shopping:')\n",
    "    print(item)\n",
    "    print('Finished.')"
   ]
  },
  {
   "cell_type": "markdown",
   "metadata": {},
   "source": [
    "If the final `print()` line is indented, Python considers it to be part of the loop, and so it will be repeated along with the other lines.\n",
    "\n",
    "Perhaps the only truly novel and potentially confusing aspect of the syntax for a loop is the role of the new variable that is defined after the `for` keyword (in this case `item`). This variable stands for each item in whatever list follows the `in` keyword (in this case `shopping_list`). As was the case for [comprehensions](glossary.ipynb#compehension), the variable that we define after `for` can have any valid variable name that we like. It does not have to be `item`. It matters only that we be consistent in referring to this same variable name wherever we mean 'the current item in the list'.\n",
    "\n",
    "So for example we could define it as something arbitrary like `x`, and the effect would be the same so long as we also refer to `x` among the commands that are indented after the `for` statement:"
   ]
  },
  {
   "cell_type": "code",
   "execution_count": 4,
   "metadata": {},
   "outputs": [
    {
     "name": "stdout",
     "output_type": "stream",
     "text": [
      "Next item of shopping:\n",
      "eggs\n",
      "Next item of shopping:\n",
      "bacon\n",
      "Next item of shopping:\n",
      "black pudding\n"
     ]
    }
   ],
   "source": [
    "for x in shopping_list:\n",
    "    print('Next item of shopping:')\n",
    "    print(x)"
   ]
  },
  {
   "cell_type": "markdown",
   "metadata": {},
   "source": [
    "## Iterables\n",
    "\n",
    "A [data type](glossary.ipynb#type) containing items that can be 'worked through' one by one is called an '[iterable](glossary.ipynb#iterable)' type. [Lists](glossary.ipynb#list) are iterable, as are [tuples](glossary.ipynb#tuple).\n",
    "\n",
    "[Strings](glossary.ipynb#string), too, are iterable. If we put a string variable in a `for` statement, the resulting loop will iterate through each character in the string. For example:"
   ]
  },
  {
   "cell_type": "code",
   "execution_count": 5,
   "metadata": {},
   "outputs": [
    {
     "name": "stdout",
     "output_type": "stream",
     "text": [
      "Next letter in this name:\n",
      "M\n",
      "Next letter in this name:\n",
      "i\n",
      "Next letter in this name:\n",
      "l\n",
      "Next letter in this name:\n",
      "d\n",
      "Next letter in this name:\n",
      "r\n",
      "Next letter in this name:\n",
      "e\n",
      "Next letter in this name:\n",
      "d\n"
     ]
    }
   ],
   "source": [
    "name = 'Mildred'\n",
    "\n",
    "for letter in name:\n",
    "    print('Next letter in this name:')\n",
    "    print(letter)"
   ]
  },
  {
   "cell_type": "markdown",
   "metadata": {},
   "source": [
    "Some [types](glossary.ipynb#type) are obviously not iterable. We can't iterate with a single number, as there are no multiple values to go through. The resulting [error message](glossary.ipynb#error) is pretty clear."
   ]
  },
  {
   "cell_type": "code",
   "execution_count": 6,
   "metadata": {
    "tags": [
     "raises-exception"
    ]
   },
   "outputs": [
    {
     "ename": "TypeError",
     "evalue": "'int' object is not iterable",
     "output_type": "error",
     "traceback": [
      "\u001b[0;31m---------------------------------------------------------------------------\u001b[0m",
      "\u001b[0;31mTypeError\u001b[0m                                 Traceback (most recent call last)",
      "\u001b[0;32m<ipython-input-6-3bceb7bd5fef>\u001b[0m in \u001b[0;36m<module>\u001b[0;34m\u001b[0m\n\u001b[0;32m----> 1\u001b[0;31m \u001b[0;32mfor\u001b[0m \u001b[0mx\u001b[0m \u001b[0;32min\u001b[0m \u001b[0;36m42\u001b[0m\u001b[0;34m:\u001b[0m\u001b[0;34m\u001b[0m\u001b[0;34m\u001b[0m\u001b[0m\n\u001b[0m\u001b[1;32m      2\u001b[0m     \u001b[0mprint\u001b[0m\u001b[0;34m(\u001b[0m\u001b[0mx\u001b[0m\u001b[0;34m)\u001b[0m\u001b[0;34m\u001b[0m\u001b[0;34m\u001b[0m\u001b[0m\n",
      "\u001b[0;31mTypeError\u001b[0m: 'int' object is not iterable"
     ]
    }
   ],
   "source": [
    "for x in 42:\n",
    "    print(x)"
   ]
  },
  {
   "cell_type": "markdown",
   "metadata": {},
   "source": [
    "### Range\n",
    "\n",
    "The curious range type that we [learned about in the lesson on sequences](sequences_mappings.ipynb#Range) is iterable. Iteration with `range()` iterates through the integers in the specified range (remember, up to *but not including* the specified end of the range). So to go through the numbers 1 to 10 inclusive, use `range(1, 11)`.\n",
    "\n",
    "For example, to print out the squares of all these numbers we would write:"
   ]
  },
  {
   "cell_type": "code",
   "execution_count": 7,
   "metadata": {},
   "outputs": [
    {
     "name": "stdout",
     "output_type": "stream",
     "text": [
      "1 squared is 1\n",
      "2 squared is 4\n",
      "3 squared is 9\n",
      "4 squared is 16\n",
      "5 squared is 25\n",
      "6 squared is 36\n",
      "7 squared is 49\n",
      "8 squared is 64\n",
      "9 squared is 81\n",
      "10 squared is 100\n"
     ]
    }
   ],
   "source": [
    "for x in range(1, 11):\n",
    "    print(x, 'squared is', x**2)"
   ]
  },
  {
   "cell_type": "markdown",
   "metadata": {},
   "source": [
    "### Dictionaries\n",
    "\n",
    "And [dictionaries](glossary.ipynb#dictionary) are iterable as well. By default, a loop through a dictionary iterates through the [keys](glossary.ipynb#key) in the dictionary, not the values stored under those keys:"
   ]
  },
  {
   "cell_type": "code",
   "execution_count": 8,
   "metadata": {},
   "outputs": [
    {
     "name": "stdout",
     "output_type": "stream",
     "text": [
      "name\n",
      "age\n",
      "location\n"
     ]
    }
   ],
   "source": [
    "info = {'name':'Mildred Bonk', 'age':22, 'location':'USA'}\n",
    "\n",
    "for x in info:\n",
    "    print(x)"
   ]
  },
  {
   "cell_type": "markdown",
   "metadata": {},
   "source": [
    "If we want instead to iterate through the values, then we can use the dictionary [method](glossary.ipynb#method) `values()`, which gets only the values from the dictionary (remember the '`.`' syntax for using methods):"
   ]
  },
  {
   "cell_type": "code",
   "execution_count": 9,
   "metadata": {},
   "outputs": [
    {
     "name": "stdout",
     "output_type": "stream",
     "text": [
      "Mildred Bonk\n",
      "22\n",
      "USA\n"
     ]
    }
   ],
   "source": [
    "for x in info.values():\n",
    "    print(x)"
   ]
  },
  {
   "cell_type": "markdown",
   "metadata": {},
   "source": [
    "More often, if we use a dictionary in a loop we would like to go through both the keys and the values. The dictionary method `items()` gives us each entire *item* in the dictionary, and each of these items is a pair consisting of a key together with the value associated with that key. To make use of more than one variable in our loop, we must separate the two with a comma:"
   ]
  },
  {
   "cell_type": "code",
   "execution_count": 10,
   "metadata": {},
   "outputs": [
    {
     "name": "stdout",
     "output_type": "stream",
     "text": [
      "name : Mildred Bonk\n",
      "age : 22\n",
      "location : USA\n"
     ]
    }
   ],
   "source": [
    "for key, value in info.items():\n",
    "    print(key, ':', value)"
   ]
  },
  {
   "cell_type": "markdown",
   "metadata": {},
   "source": [
    "### enumerate\n",
    "\n",
    "The syntax here starts to look a bit more complex. So let's consider another example in which we have more than one variable following the `for`.\n",
    "\n",
    "The Python [built-in](glossary.ipynb#builtin) function `enumerate()` is like an equivalent of `items()` but for lists (or other [iterables](glossary.ipynb#iterable)) instead of just for dictionaries. If we iterate with `enumerate()`, then the pairs that we get consist of the integer index in the list (i.e. the numbers `0`, `1`, `2`, and so on) together with the corresponding item in the list:"
   ]
  },
  {
   "cell_type": "code",
   "execution_count": 11,
   "metadata": {},
   "outputs": [
    {
     "name": "stdout",
     "output_type": "stream",
     "text": [
      "1 : eggs\n",
      "2 : bacon\n",
      "3 : black pudding\n"
     ]
    }
   ],
   "source": [
    "for index, item in enumerate(shopping_list):\n",
    "    print(index+1, ':', item)"
   ]
  },
  {
   "cell_type": "markdown",
   "metadata": {},
   "source": [
    "## Indentation again\n",
    "\n",
    "To once again test our understanding of the role of [indentation](glossary.ipynb#indentation) in Python [syntax](glossary.ipynb#syntax), let's look at an example of a *loop within a loop*. This is similar in structure to the example program [hoff.py](examples/hoff.py) from the [previous lesson](conditions.ipynb), in which we saw some conditions 'nested' inside other conditions.\n",
    "\n",
    "Here it is:"
   ]
  },
  {
   "cell_type": "code",
   "execution_count": 12,
   "metadata": {},
   "outputs": [
    {
     "name": "stdout",
     "output_type": "stream",
     "text": [
      "The letters in 'Mississippi' are:\n",
      "1 : M\n",
      "2 : i\n",
      "3 : s\n",
      "4 : s\n",
      "5 : i\n",
      "6 : s\n",
      "7 : s\n",
      "8 : i\n",
      "9 : p\n",
      "10 : p\n",
      "11 : i\n",
      "\n",
      "The letters in 'isosceles' are:\n",
      "1 : i\n",
      "2 : s\n",
      "3 : o\n",
      "4 : s\n",
      "5 : c\n",
      "6 : e\n",
      "7 : l\n",
      "8 : e\n",
      "9 : s\n",
      "\n",
      "The letters in 'cosecant' are:\n",
      "1 : c\n",
      "2 : o\n",
      "3 : s\n",
      "4 : e\n",
      "5 : c\n",
      "6 : a\n",
      "7 : n\n",
      "8 : t\n",
      "\n",
      "End of the spelling bee.\n"
     ]
    }
   ],
   "source": [
    "spelling_bee = ['Mississippi', 'isosceles', 'cosecant']\n",
    "\n",
    "for word in spelling_bee:\n",
    "    print(\"The letters in '{}' are:\".format(word))\n",
    "    for index, letter in enumerate(word):\n",
    "        print(index+1, ':', letter)\n",
    "    print('')\n",
    "\n",
    "print('End of the spelling bee.')"
   ]
  },
  {
   "cell_type": "markdown",
   "metadata": {},
   "source": [
    "The outer loop goes through all the items in the list `spelling_bee`. The lines that are indented to mark them as belonging to the outer loop include one line that itself begins a new loop, going through each letter in the string `word`. The single line that is associated with this inner loop (line 6) is indented yet further, to indicate that it should be repeated for every single letter, not just for every single item. The `print()` statement on line 7 (which serves simply to introduce a blank line in the output, for the sake of neatness) is back at the outer loop's level of indentation, so it is repeated only for each word. Were line 7 to be indented as far as line 6, there would be a blank line in the output after every single letter.\n",
    "\n",
    "So, armed with this knowledge, we are ready to have a first stab at writing a basic version of our target program. We begin by defining the name of the secret animal and the list of hints (we won't write all six hints yet, to keep the example short). Then we use a loop to go through the hints, ask for a guess after each one, then check the guess and print out an appropriate message depending on whether it was correct or not."
   ]
  },
  {
   "cell_type": "code",
   "execution_count": 13,
   "metadata": {},
   "outputs": [
    {
     "name": "stdout",
     "output_type": "stream",
     "text": [
      "I'm thinking of an animal.\n",
      "Hint: It weighs five ounces.\n",
      "What is it? european swallow\n",
      "No, that's not it.\n",
      "Hint: It beats its wings 43 times per second.\n",
      "What is it? african swallow\n",
      "Correct!\n",
      "Hint: It is not migratory.\n",
      "What is it? But I got it right already!\n",
      "No, that's not it.\n",
      "The end.\n"
     ]
    }
   ],
   "source": [
    "correct_answer = 'african swallow'\n",
    "\n",
    "hints = ['weighs five ounces',\n",
    "         'beats its wings 43 times per second',\n",
    "         'is not migratory']\n",
    "\n",
    "print(\"I'm thinking of an animal.\")\n",
    "\n",
    "for h in hints:\n",
    "\n",
    "    print('Hint: It {}.'.format(h))\n",
    "    guess = input('What is it? ')\n",
    "    \n",
    "    if guess == correct_answer:\n",
    "        print('Correct!')\n",
    "    else:\n",
    "        print(\"No, that's not it.\")\n",
    "\n",
    "print('The end.')"
   ]
  },
  {
   "cell_type": "markdown",
   "metadata": {},
   "source": [
    "This initial version of our target program doesn't work quite as we want, as we can see from the example run above. Here, the user guessed the animal correctly already after the second hint. Nonetheless, our program continued iterating through the remaining hints. This is only to be expected. There is no instruction in our program that says 'stop' if the user guesses correctly, so Python obligingly finishes the loop that we asked for.\n",
    "\n",
    "The `break` [keyword](glossary.ipynb#keyword) 'breaks out' of the current loop, even if not all of the requested items have yet been processed.\n",
    "\n",
    "So to fix this bug, we just need to add a `break` in the right place in our program (line 10 below):"
   ]
  },
  {
   "cell_type": "code",
   "execution_count": 14,
   "metadata": {},
   "outputs": [
    {
     "name": "stdout",
     "output_type": "stream",
     "text": [
      "I'm thinking of an animal.\n",
      "Hint: It weighs five ounces.\n",
      "What is it? african swallow\n",
      "Correct!\n",
      "The end.\n"
     ]
    }
   ],
   "source": [
    "print(\"I'm thinking of an animal.\")\n",
    "\n",
    "for h in hints:\n",
    "\n",
    "    print('Hint: It {}.'.format(h))\n",
    "    guess = input('What is it? ')\n",
    "    \n",
    "    if guess == correct_answer:\n",
    "        print('Correct!')\n",
    "        break\n",
    "    else:\n",
    "        print(\"No, that's not it.\")\n",
    "\n",
    "print('The end.')"
   ]
  },
  {
   "cell_type": "markdown",
   "metadata": {},
   "source": [
    "Great!\n",
    "\n",
    "You might already be able to see how we can use `if` and `break` in much the same way to implement the 'quit' option that we wanted to include in the program. If you would like to test your understanding, open yourself a new text file in the Spyder editor, copy in the program so far from the sections above, and then see whether you can add in the quit option. Remember to test your attempt carefully by running it a few times and entering different user input when prompted in the console.\n",
    "\n",
    "## while loops\n",
    "\n",
    "There is one major ingredient still missing from our program so far. We said that if the user fails to type anything at all (i.e. they just press 'return' in the console), then we want to keep asking them for a guess until they at least type something.\n",
    "\n",
    "First of all, let's check for ourselves what even happens to the `guess` variable if the user enters nothing at all after the `input()` prompt:"
   ]
  },
  {
   "cell_type": "code",
   "execution_count": 15,
   "metadata": {},
   "outputs": [
    {
     "name": "stdout",
     "output_type": "stream",
     "text": [
      "What is it? \n"
     ]
    }
   ],
   "source": [
    "guess = input('What is it? ')"
   ]
  },
  {
   "cell_type": "code",
   "execution_count": 16,
   "metadata": {},
   "outputs": [
    {
     "data": {
      "text/plain": [
       "''"
      ]
     },
     "execution_count": 16,
     "metadata": {},
     "output_type": "execute_result"
    }
   ],
   "source": [
    "guess"
   ]
  },
  {
   "cell_type": "code",
   "execution_count": 17,
   "metadata": {},
   "outputs": [
    {
     "data": {
      "text/plain": [
       "str"
      ]
     },
     "execution_count": 17,
     "metadata": {},
     "output_type": "execute_result"
    }
   ],
   "source": [
    "type(guess)"
   ]
  },
  {
   "cell_type": "markdown",
   "metadata": {},
   "source": [
    "We see that the [return value](glossary.ipynb#return) of `input()` is still a [string](glossary.ipynb#string), even if the user does not enter any characters. It is just an 'empty' string: `''`. So the condition that we need to check in order to decide to ask the user again is whether their guess is an empty string:"
   ]
  },
  {
   "cell_type": "code",
   "execution_count": 18,
   "metadata": {},
   "outputs": [
    {
     "data": {
      "text/plain": [
       "True"
      ]
     },
     "execution_count": 18,
     "metadata": {},
     "output_type": "execute_result"
    }
   ],
   "source": [
    "guess == ''"
   ]
  },
  {
   "cell_type": "markdown",
   "metadata": {},
   "source": [
    "There are in fact a few functionally equivalent ways in which we could check this. For example, we could also ask whether the length of the `guess` string is `0`:"
   ]
  },
  {
   "cell_type": "code",
   "execution_count": 19,
   "metadata": {},
   "outputs": [
    {
     "data": {
      "text/plain": [
       "True"
      ]
     },
     "execution_count": 19,
     "metadata": {},
     "output_type": "execute_result"
    }
   ],
   "source": [
    "len(guess) == 0"
   ]
  },
  {
   "cell_type": "markdown",
   "metadata": {},
   "source": [
    "Or if you were paying attention when we learned about the conventions by which other [types](glossary.ipynb#type) are converted to [boolean](glossary.ipynb#boolean) `True` and `False` values, you may remember that empty strings are treated as being 'false'. So in fact we can just apply logical negation to the `guess` string itself to find out if it is empty:"
   ]
  },
  {
   "cell_type": "code",
   "execution_count": 20,
   "metadata": {},
   "outputs": [
    {
     "data": {
      "text/plain": [
       "True"
      ]
     },
     "execution_count": 20,
     "metadata": {},
     "output_type": "execute_result"
    }
   ],
   "source": [
    "not guess"
   ]
  },
  {
   "cell_type": "markdown",
   "metadata": {},
   "source": [
    "That last way of doing it is a bit unintuitive though. And `len(guess) == 0` doesn't make it absolutely clear that we are dealing with an empty *string*. All else being equal, it is better to be explicit about our intentions and expectations when we write a program. If we want to check whether the user's input was an empty string, then let's check explicitly for exactly that.\n",
    "\n",
    "So here is a snippet of our program to test out just the part where we re-ask the user for a guess if they didn't enter one:"
   ]
  },
  {
   "cell_type": "code",
   "execution_count": 21,
   "metadata": {},
   "outputs": [
    {
     "name": "stdout",
     "output_type": "stream",
     "text": [
      "What is it? \n",
      "Enter the name of an animal: european swallow\n"
     ]
    },
    {
     "data": {
      "text/plain": [
       "'european swallow'"
      ]
     },
     "execution_count": 21,
     "metadata": {},
     "output_type": "execute_result"
    }
   ],
   "source": [
    "guess = input('What is it? ')\n",
    "\n",
    "if guess == '':\n",
    "    guess = input('Enter the name of an animal: ')\n",
    "\n",
    "guess"
   ]
  },
  {
   "cell_type": "markdown",
   "metadata": {},
   "source": [
    "That works out ok. But the problem we have is that a standard `if` statement only checks the condition *once*. If the user has fallen asleep with excitement and is resting their forehead against the return key on their keyboard, then the program will still accept their second empty guess:"
   ]
  },
  {
   "cell_type": "code",
   "execution_count": 22,
   "metadata": {},
   "outputs": [
    {
     "name": "stdout",
     "output_type": "stream",
     "text": [
      "What is it? \n",
      "Enter the name of an animal: \n"
     ]
    },
    {
     "data": {
      "text/plain": [
       "''"
      ]
     },
     "execution_count": 22,
     "metadata": {},
     "output_type": "execute_result"
    }
   ],
   "source": [
    "guess = input('What is it? ')\n",
    "\n",
    "if guess == '':\n",
    "    guess = input('Enter the name of an animal: ')\n",
    "\n",
    "guess"
   ]
  },
  {
   "cell_type": "markdown",
   "metadata": {},
   "source": [
    "This bug can be fixed with yet another new [keyword](glossary.ipynb#keyword). The `while` keyword creates a new kind of [loop](glossary.ipynb#loop) a bit like the `for` loop that we learned about above. But instead of repeating the indented lines once for every item in a list (or other [iterable](glossary.ipynb#iterable), a `while` loop repeats the lines for as long as a given condition is true. In this sense, a `while` loop is a combination of a loop and an `if` statement. The syntax is exactly the same as for an `if` statement, only with `while` in place of `if`.\n",
    "\n",
    "Let's see this applied to our snippet:"
   ]
  },
  {
   "cell_type": "code",
   "execution_count": 23,
   "metadata": {},
   "outputs": [
    {
     "name": "stdout",
     "output_type": "stream",
     "text": [
      "What is it? \n",
      "Enter the name of an animal: \n",
      "Enter the name of an animal: european swallow\n"
     ]
    },
    {
     "data": {
      "text/plain": [
       "'european swallow'"
      ]
     },
     "execution_count": 23,
     "metadata": {},
     "output_type": "execute_result"
    }
   ],
   "source": [
    "guess = input('What is it? ')\n",
    "\n",
    "while guess == '':\n",
    "    guess = input('Enter the name of an animal: ')\n",
    "\n",
    "guess"
   ]
  },
  {
   "cell_type": "markdown",
   "metadata": {},
   "source": [
    "### Debugging\n",
    "\n",
    "Be careful with `while`. Because it repeats certain lines of our program indefinitely, we can get stuck running those lines *forever* if we forget to put something into the indented text of the `while` loop that could stop it. When you write a `while` loop, check that among the indented lines below it there is something that can stop the loop, either a `break`, or a command that can make the condition in the `while` control statement false.\n",
    "\n",
    "If you run your program and you discover that you have made a mistake and it wants to run until the end of the universe, remember that you can stop a running program either by clicking the red stop square at the top of the console, or by pressing the key combination *ctrl* + *c*.\n",
    "\n",
    "That's it, we now know everything we need to know in order to write our target program. At least in principle. If you feel like a challenge, you might like to have a go at finishing off the program yourself before you take a look at the finished example, [guess_the_animal.py](examples/guess_the_animal.py).\n",
    "\n",
    "If you want to add some extra hints about African swallows, you can find some facts about them [here](http://montypython.50webs.com/scripts/Holy_Grail/Scene1.htm).\n",
    "\n",
    "## Exercises\n",
    "\n",
    "### 1\n",
    "\n",
    "Open up our example program [guess_the_animal.py](examples/guess_the_animal.py) in the Spyder editor. Or, if you already wrote your own version of the program and you have made it work correctly, open that. Modify the program to add the following new features:\n",
    "\n",
    "#### a)\n",
    "\n",
    "Before each hint is printed, print a heading that announces which round of the game the user is currently on. So for example the printout for the first round should look like:\n",
    "\n",
    "```\n",
    "Round 1 ...\n",
    "Hint: It weighs five ounces.\n",
    "\n",
    "What is it (or type 'q' to quit)?\n",
    "```\n",
    "\n",
    "#### b)\n",
    "\n",
    "After each guess, tell the user how many hints remain. So for example after the first guess the printout should look like:\n",
    "\n",
    "```\n",
    "What is it (or type 'q' to quit)? gerbil\n",
    "No, that's not it.\n",
    "4 hints remaining.\n",
    "```\n",
    "\n",
    "#### c)\n",
    "\n",
    "At the end of the game, tell the user how many guesses they needed before getting the correct answer. Omit this if the user did not guess correctly at all. So for example if they got it right already on the second round, the printout at the end should look like:\n",
    "\n",
    "```\n",
    "Correct! You got it after 2 guesses.\n",
    "It was the african swallow.\n",
    "```\n",
    "\n",
    "For all of these modifications, the program should continue to work correctly if you later add more hints to the `hints` list at the top of the file.\n",
    "\n",
    "### 2\n",
    "\n",
    "Write a new program. The program helps the user to remember their multiplication tables. Ask the user to enter a number. Then print out for them a helpful text telling them all the multiples of that number, from 1 up to and including 12.\n",
    "\n",
    "So for example the program might look like this when run in the console:\n",
    "\n",
    "```\n",
    "Enter a number to revise your multiplication tables: 7\n",
    "\n",
    "1 times 7 is: 7\n",
    "2 times 7 is: 14\n",
    "3 times 7 is: 21\n",
    "4 times 7 is: 28\n",
    "5 times 7 is: 35\n",
    "6 times 7 is: 42\n",
    "7 times 7 is: 49\n",
    "8 times 7 is: 56\n",
    "9 times 7 is: 63\n",
    "10 times 7 is: 70\n",
    "11 times 7 is: 77\n",
    "12 times 7 is: 84\n",
    "```"
   ]
  }
 ],
 "metadata": {
  "celltoolbar": "Tags",
  "kernelspec": {
   "display_name": "Python 3",
   "language": "python",
   "name": "python3"
  },
  "language_info": {
   "codemirror_mode": {
    "name": "ipython",
    "version": 3
   },
   "file_extension": ".py",
   "mimetype": "text/x-python",
   "name": "python",
   "nbconvert_exporter": "python",
   "pygments_lexer": "ipython3",
   "version": "3.8.5"
  },
  "toc": {
   "base_numbering": 1,
   "nav_menu": {},
   "number_sections": false,
   "sideBar": true,
   "skip_h1_title": true,
   "title_cell": "Contents",
   "title_sidebar": "Contents",
   "toc_cell": true,
   "toc_position": {},
   "toc_section_display": true,
   "toc_window_display": false
  }
 },
 "nbformat": 4,
 "nbformat_minor": 4
}
