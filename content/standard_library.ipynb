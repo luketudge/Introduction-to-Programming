{
 "cells": [
  {
   "cell_type": "markdown",
   "metadata": {
    "toc": true
   },
   "source": [
    "<h1>Contents<span class=\"tocSkip\"></span></h1>\n",
    "<div class=\"toc\"><ul class=\"toc-item\"><li><span><a href=\"#math\" data-toc-modified-id=\"math-1\">math</a></span></li><li><span><a href=\"#os\" data-toc-modified-id=\"os-2\">os</a></span><ul class=\"toc-item\"><li><span><a href=\"#Working-directory\" data-toc-modified-id=\"Working-directory-2.1\">Working directory</a></span></li><li><span><a href=\"#Paths\" data-toc-modified-id=\"Paths-2.2\">Paths</a></span><ul class=\"toc-item\"><li><span><a href=\"#Absolute-paths\" data-toc-modified-id=\"Absolute-paths-2.2.1\">Absolute paths</a></span></li><li><span><a href=\"#Relative-paths\" data-toc-modified-id=\"Relative-paths-2.2.2\">Relative paths</a></span></li></ul></li></ul></li><li><span><a href=\"#Third-party-packages\" data-toc-modified-id=\"Third-party-packages-3\">Third-party packages</a></span></li><li><span><a href=\"#Exercises\" data-toc-modified-id=\"Exercises-4\">Exercises</a></span><ul class=\"toc-item\"><li><span><a href=\"#1\" data-toc-modified-id=\"1-4.1\">1</a></span></li><li><span><a href=\"#2\" data-toc-modified-id=\"2-4.2\">2</a></span></li></ul></li></ul></div>"
   ]
  },
  {
   "cell_type": "code",
   "execution_count": 1,
   "metadata": {
    "tags": [
     "remove-cell"
    ]
   },
   "outputs": [],
   "source": [
    "import os\n",
    "import shutil\n",
    "import sys\n",
    "\n",
    "sys.path.insert(0, os.path.abspath(os.path.join('.', 'examples')))\n",
    "\n",
    "def cleanup():\n",
    "    os.chdir('/home/lt/GitHub/introduction-to-programming/content')\n",
    "    shutil.rmtree('my_new_directory', ignore_errors=True)\n",
    "    for year in range(2015, 2020):\n",
    "        shutil.rmtree(str(year), ignore_errors=True)\n",
    "\n",
    "cleanup()"
   ]
  },
  {
   "cell_type": "markdown",
   "metadata": {},
   "source": [
    "# The standard library\n",
    "\n",
    "In the [previous lesson](modules.ipynb), we saw that Python programs can [import](extras/glossary.ipynb#import) some of their components from other files. Such additional files that are not in themselves programs but instead provide *components* for programs are known as [modules](extras/glossary.ipynb#module).\n",
    "\n",
    "We started out by writing our own modules, to see how the whole idea works. But we can also import modules that we get from elsewhere. For even moderately complex programs, we will almost always need to import and use some additional components that we did not write ourselves. If we start work on a new task and we find that it cannot easily be accomplished using the basic operations and data types, or if we don't even know how to begin, then we should ask ourselves: Is this a task that lots of other people will probably have needed to do before? If it is, then we might be able to save ourselves some time by searching first for a pre-made module that provides some of the building blocks that we need.\n",
    "\n",
    "We might find that we first need to download and install some of the modules that we decide we want to use. But in many cases this is not necessary. A standard Python installation comes with a large collection of pre-made modules for many common programming tasks. This collection of modules that is already included when we install Python is known as the 'standard library'. The term 'library' is used here to indicate that, like the knowledge stored in a library, the contents of these extra modules are not immediately available to us, but can be accessed by going to the library and 'reading in' one of the 'books'. The Python language is organized so as to provide only the very basics at its core: a few [built-in functions](extras/glossary.ipynb#builtin), mathematical [operators](extras/glossary.ipynb#operator), the most useful [data types](extras/glossary.ipynb#type), and some [control statements](extras/glossary.ipynb#control) (there are admittedly a *few* more things than just these, but we won't look at many more of them in this class). The core of the language is kept small and simple, and programmers only bring in as much of the extras as they need for a given task.\n",
    "\n",
    "So what extra modules are contained in the standard library? You can find a full list of them at the official Python documentation pages [here](https://docs.python.org/3/library/), but this is a little overwhelming to read all at once. Instead of going through them exhaustively, we will just consider some examples of how to use them. In future lessons, we will meet more modules from the standard library that are useful for specific tasks.\n",
    "\n",
    "Let's set ourselves two example tasks, each of which will require a module from the standard library. The first is fairly short and straightforward, the second a bit more complex.\n",
    "\n",
    "## math\n",
    "\n",
    "Here is our first task:\n",
    "\n",
    "* We want to create a new module for working with circles.\n",
    "* The module should provide two functions:\n",
    "  * Calculate the circumference of a circle given its radius.\n",
    "  * Calculate the area of a circle given its radius.\n",
    "\n",
    "The relevant formulas relating a circle's circumference $C$ and area $A$ to its radius are:\n",
    "\n",
    "$$\n",
    "C = 2 \\pi r\n",
    "$$\n",
    "\n",
    "$$\n",
    "A = \\pi r^2\n",
    "$$\n",
    "\n",
    "\n",
    "Both of these involve the mathematical constant [*pi*](https://en.wikipedia.org/wiki/Pi) ($\\pi$). How do we build it into our module?\n",
    "\n",
    "We could of course go ahead and define a suitable approximation to *pi* ourselves:"
   ]
  },
  {
   "cell_type": "code",
   "execution_count": 2,
   "metadata": {},
   "outputs": [],
   "source": [
    "pi = 3.14159265359"
   ]
  },
  {
   "cell_type": "markdown",
   "metadata": {},
   "source": [
    "But the digits of *pi* go on forever, so we will need to type them out for quite a long time before reaching the closest approximation that our computer can store.\n",
    "\n",
    "If you ever find yourself muttering at your computer \"There has *got* to be a better way of doing this,\" this is usually a sign that there is a ready-made solution out there somewhere, either in Python's standard library, or in some other module that somebody else has already written. If you head to Google and search for 'Python pi' you will find that the first few results mention the `math` module. `math` is a module in Python's standard library that provides some additional mathematical functions, as well as constants like *pi* or *[e](https://en.wikipedia.org/wiki/E_(mathematical_constant))*.\n",
    "\n",
    "We can [import](extras/glossary.ipynb#import) a module from the standard library in just the same way as importing a module that we wrote ourselves. The only difference is that we don't need to make sure that we have the module file ready in the same directory as our main program; modules from the standard library can be imported from anywhere regardless of which directory we are working in.\n",
    "\n",
    "So let's begin by importing the `math` module:"
   ]
  },
  {
   "cell_type": "code",
   "execution_count": 3,
   "metadata": {},
   "outputs": [],
   "source": [
    "import math"
   ]
  },
  {
   "cell_type": "markdown",
   "metadata": {},
   "source": [
    "As we have seen before, if we encounter a new module, we can use the `dir()` function in the console to see its contents."
   ]
  },
  {
   "cell_type": "code",
   "execution_count": 4,
   "metadata": {},
   "outputs": [
    {
     "data": {
      "text/plain": [
       "['__doc__',\n",
       " '__loader__',\n",
       " '__name__',\n",
       " '__package__',\n",
       " '__spec__',\n",
       " 'acos',\n",
       " 'acosh',\n",
       " 'asin',\n",
       " 'asinh',\n",
       " 'atan',\n",
       " 'atan2',\n",
       " 'atanh',\n",
       " 'ceil',\n",
       " 'copysign',\n",
       " 'cos',\n",
       " 'cosh',\n",
       " 'degrees',\n",
       " 'e',\n",
       " 'erf',\n",
       " 'erfc',\n",
       " 'exp',\n",
       " 'expm1',\n",
       " 'fabs',\n",
       " 'factorial',\n",
       " 'floor',\n",
       " 'fmod',\n",
       " 'frexp',\n",
       " 'fsum',\n",
       " 'gamma',\n",
       " 'gcd',\n",
       " 'hypot',\n",
       " 'inf',\n",
       " 'isclose',\n",
       " 'isfinite',\n",
       " 'isinf',\n",
       " 'isnan',\n",
       " 'ldexp',\n",
       " 'lgamma',\n",
       " 'log',\n",
       " 'log10',\n",
       " 'log1p',\n",
       " 'log2',\n",
       " 'modf',\n",
       " 'nan',\n",
       " 'pi',\n",
       " 'pow',\n",
       " 'radians',\n",
       " 'sin',\n",
       " 'sinh',\n",
       " 'sqrt',\n",
       " 'tan',\n",
       " 'tanh',\n",
       " 'tau',\n",
       " 'trunc']"
      ]
     },
     "execution_count": 4,
     "metadata": {},
     "output_type": "execute_result"
    }
   ],
   "source": [
    "dir(math)"
   ]
  },
  {
   "cell_type": "markdown",
   "metadata": {},
   "source": [
    "The names of many of its contents may be familiar to you from math class. We see that `pi` is in there.\n",
    "\n",
    "Let's remind ourselves of the [syntax](extras/glossary.ipynb#syntax) for using something from an imported module. We need the name of the module, then `.`, then the name of whatever it is we want to use from it:"
   ]
  },
  {
   "cell_type": "code",
   "execution_count": 5,
   "metadata": {},
   "outputs": [
    {
     "data": {
      "text/plain": [
       "3.141592653589793"
      ]
     },
     "execution_count": 5,
     "metadata": {},
     "output_type": "execute_result"
    }
   ],
   "source": [
    "math.pi"
   ]
  },
  {
   "cell_type": "markdown",
   "metadata": {},
   "source": [
    "Note that `math.pi` is a variable, not a function, so we don't place any parentheses after it. We have so far just been getting functions from modules, and often most of the contents of a module will be functions, but there is no reason that modules cannot also store variables. The output of `dir()` doesn't tell us which of the contents of a module are functions and which are variables, but if we are unsure about any of them we can check their [type](extras/glossary.ipynb#type):"
   ]
  },
  {
   "cell_type": "code",
   "execution_count": 6,
   "metadata": {},
   "outputs": [
    {
     "data": {
      "text/plain": [
       "float"
      ]
     },
     "execution_count": 6,
     "metadata": {},
     "output_type": "execute_result"
    }
   ],
   "source": [
    "type(math.pi)"
   ]
  },
  {
   "cell_type": "code",
   "execution_count": 7,
   "metadata": {},
   "outputs": [
    {
     "data": {
      "text/plain": [
       "builtin_function_or_method"
      ]
     },
     "execution_count": 7,
     "metadata": {},
     "output_type": "execute_result"
    }
   ],
   "source": [
    "type(math.sqrt)"
   ]
  },
  {
   "cell_type": "markdown",
   "metadata": {},
   "source": [
    "Now we can use `math.pi` like any other variable. For example:"
   ]
  },
  {
   "cell_type": "code",
   "execution_count": 8,
   "metadata": {},
   "outputs": [
    {
     "name": "stdout",
     "output_type": "stream",
     "text": [
      "62.83185307179586\n"
     ]
    }
   ],
   "source": [
    "radius = 10\n",
    "\n",
    "circumference = 2 * math.pi * radius\n",
    "\n",
    "print(circumference)"
   ]
  },
  {
   "cell_type": "markdown",
   "metadata": {},
   "source": [
    "That's it. Now that we know how to import the `math` module and use its contents in calculations, we know everything we need in order to write our target program. Go ahead and try to write the 'circle' module yourself, then take a look at it in the example file [circle.py](examples/circle.py). If you need to remind yourself about writing modules, take a look back at the [lesson on modules](modules.ipynb).\n",
    "\n",
    "Here is our module in action:"
   ]
  },
  {
   "cell_type": "code",
   "execution_count": 9,
   "metadata": {},
   "outputs": [
    {
     "data": {
      "text/plain": [
       "62.83185307179586"
      ]
     },
     "execution_count": 9,
     "metadata": {},
     "output_type": "execute_result"
    }
   ],
   "source": [
    "import circle\n",
    "\n",
    "circle.circumference(10)"
   ]
  },
  {
   "cell_type": "code",
   "execution_count": 10,
   "metadata": {},
   "outputs": [
    {
     "data": {
      "text/plain": [
       "314.1592653589793"
      ]
     },
     "execution_count": 10,
     "metadata": {},
     "output_type": "execute_result"
    }
   ],
   "source": [
    "circle.area(10)"
   ]
  },
  {
   "cell_type": "markdown",
   "metadata": {},
   "source": [
    "## os\n",
    "\n",
    "That was a very short introduction to using the standard library. Our next task is a little more complex. Here it is:\n",
    "\n",
    "* We are preparing to organize our tax returns for the last five years and would like to generate a folder structure in which to store them.\n",
    "* We need one folder for each of the last five years.\n",
    "* Inside each of those year folders, we would like a separate folder for each month.\n",
    "\n",
    "How do we even make new folders in Python? We don't know. But we head over to Google and search for 'Python make new folder' and see that the first few results all mention the `os` module.\n",
    "\n",
    "`os` is another module from Python's standard library. The letters 'OS' stand for [Operating System](extras/glossary.ipynb#os), and the `os` module handles various tasks that involve interacting with the operating system of a computer, primarily with its system of files and folders. `os` is probably the most commonly-used module from the standard library. Once we go beyond the simplest programs, we will almost always need to use the computer's file system to locate or create files.\n",
    "\n",
    "Let's import it."
   ]
  },
  {
   "cell_type": "code",
   "execution_count": 11,
   "metadata": {},
   "outputs": [],
   "source": [
    "import os"
   ]
  },
  {
   "cell_type": "markdown",
   "metadata": {},
   "source": [
    "We won't `dir()` the `os` module here, simply because it contains *a lot* of things. But if you like you can go to the console in Spyder and type in `dir(os)` to see the full list of contents (make sure you have first typed in `import os` so that you too have imported the `os` module).\n",
    "\n",
    "The functions from `os` that are relevant for our task are `os.mkdir()` and `os.makedirs()`. As their (somewhat abbreviated) names suggest, these functions are for making new directories (and [directory](extras/glossary.ipynb#directory) is just a more technical-sounding term for a 'folder' in a computer's file system).\n",
    "\n",
    "Let's use `os.mkdir()`, which creates a single new directory, to make an example new directory, just to test it out:"
   ]
  },
  {
   "cell_type": "code",
   "execution_count": 12,
   "metadata": {},
   "outputs": [],
   "source": [
    "os.mkdir('my_new_directory')"
   ]
  },
  {
   "cell_type": "markdown",
   "metadata": {},
   "source": [
    "If you enter this command in your Spyder console, you should then be able to go to your file explorer, find whatever directory you are working in in Spyder, and see that a new directory called 'my_new_directory' has been created there.\n",
    "\n",
    "And in case you are not even sure what directory you are working in, `os` provides a function `os.getcwd()` for finding out (the 'cwd' part stands for 'current working directory'). Just type it into the Spyder console to see. For me it is:"
   ]
  },
  {
   "cell_type": "code",
   "execution_count": 13,
   "metadata": {},
   "outputs": [
    {
     "data": {
      "text/plain": [
       "'/home/lt/GitHub/introduction-to-programming/content'"
      ]
     },
     "execution_count": 13,
     "metadata": {},
     "output_type": "execute_result"
    }
   ],
   "source": [
    "os.getcwd()"
   ]
  },
  {
   "cell_type": "markdown",
   "metadata": {},
   "source": [
    "`os` also provides a function `os.listdir()` for listing the contents of a directory, by default the current working directory. So if you are too lazy to go and open your file explorer you can use this function instead to check whether creating a new directory worked for you."
   ]
  },
  {
   "cell_type": "code",
   "execution_count": 14,
   "metadata": {},
   "outputs": [
    {
     "data": {
      "text/plain": [
       "['data_analysis.ipynb',\n",
       " 'conditions.ipynb',\n",
       " 'images',\n",
       " 'testing.md',\n",
       " 'examples',\n",
       " 'conditions.md',\n",
       " 'functions.md',\n",
       " 'github.ipynb',\n",
       " 'standard_library.md',\n",
       " 'arrays.ipynb',\n",
       " 'command_line.ipynb',\n",
       " 'arrays.md',\n",
       " 'github.md',\n",
       " 'index.md',\n",
       " 'databases.md',\n",
       " 'files.md',\n",
       " 'iteration.ipynb',\n",
       " 'testing.ipynb',\n",
       " 'html',\n",
       " 'databases.ipynb',\n",
       " 'my_new_directory',\n",
       " 'intro.ipynb',\n",
       " 'sequences_mappings.md',\n",
       " 'internet.md',\n",
       " 'data_analysis.md',\n",
       " 'internet.ipynb',\n",
       " '.ipynb_checkpoints',\n",
       " 'files.ipynb',\n",
       " 'standard_library.ipynb',\n",
       " 'command_line.md',\n",
       " 'modules.md',\n",
       " 'index.ipynb',\n",
       " 'types.md',\n",
       " 'virtual_environments.ipynb',\n",
       " 'modules.ipynb',\n",
       " 'types.ipynb',\n",
       " 'extras',\n",
       " 'images.md',\n",
       " 'functions.ipynb',\n",
       " 'images.ipynb',\n",
       " 'intro.md',\n",
       " 'iteration.md',\n",
       " 'sequences_mappings.ipynb']"
      ]
     },
     "execution_count": 14,
     "metadata": {},
     "output_type": "execute_result"
    }
   ],
   "source": [
    "os.listdir()"
   ]
  },
  {
   "cell_type": "markdown",
   "metadata": {},
   "source": [
    "The contents of your current directory may of course differ from mine, but you should see that 'my_new_directory' is in there.\n",
    "\n",
    "Since this first new directory was just an example to test out the workings of `os.mkdir()`, let's tidy up and delete the example directory. `os` provides a function for this too, `os.rmdir()` (in programming, 'rm' is often used as an abbreviation for 'remove'):"
   ]
  },
  {
   "cell_type": "code",
   "execution_count": 15,
   "metadata": {},
   "outputs": [],
   "source": [
    "os.rmdir('my_new_directory')"
   ]
  },
  {
   "cell_type": "markdown",
   "metadata": {},
   "source": [
    "And just to show off, let's also combine our new `os` skills with our existing knowledge to write a logical statement that checks whether removing the example directory has really worked:"
   ]
  },
  {
   "cell_type": "code",
   "execution_count": 16,
   "metadata": {},
   "outputs": [
    {
     "data": {
      "text/plain": [
       "False"
      ]
     },
     "execution_count": 16,
     "metadata": {},
     "output_type": "execute_result"
    }
   ],
   "source": [
    "'my_new_directory' in os.listdir()"
   ]
  },
  {
   "cell_type": "markdown",
   "metadata": {},
   "source": [
    "Note that many of the `os` functions that create or remove directories will [raise an exception](extras/glossary.ipynb#exception) if we try to create a directory that already exists or if we try to remove a directory that does not exist:"
   ]
  },
  {
   "cell_type": "code",
   "execution_count": 17,
   "metadata": {
    "tags": [
     "raises-exception"
    ]
   },
   "outputs": [
    {
     "ename": "FileNotFoundError",
     "evalue": "[Errno 2] No such file or directory: 'nonexistent_directory'",
     "output_type": "error",
     "traceback": [
      "\u001b[0;31m---------------------------------------------------------------------------\u001b[0m",
      "\u001b[0;31mFileNotFoundError\u001b[0m                         Traceback (most recent call last)",
      "\u001b[0;32m<ipython-input-17-17b14c181fc8>\u001b[0m in \u001b[0;36m<module>\u001b[0;34m\u001b[0m\n\u001b[0;32m----> 1\u001b[0;31m \u001b[0mos\u001b[0m\u001b[0;34m.\u001b[0m\u001b[0mrmdir\u001b[0m\u001b[0;34m(\u001b[0m\u001b[0;34m'nonexistent_directory'\u001b[0m\u001b[0;34m)\u001b[0m\u001b[0;34m\u001b[0m\u001b[0;34m\u001b[0m\u001b[0m\n\u001b[0m",
      "\u001b[0;31mFileNotFoundError\u001b[0m: [Errno 2] No such file or directory: 'nonexistent_directory'"
     ]
    }
   ],
   "source": [
    "os.rmdir('nonexistent_directory')"
   ]
  },
  {
   "cell_type": "markdown",
   "metadata": {},
   "source": [
    "It is a fairly common situation that we would like to create a directory only if it does not already exist, or remove a directory only if it does exist. We can use a `try` and `except` [control statement](extras/glossary.ipynb#control) to deal with this:"
   ]
  },
  {
   "cell_type": "code",
   "execution_count": 18,
   "metadata": {},
   "outputs": [
    {
     "name": "stdout",
     "output_type": "stream",
     "text": [
      "Didn't remove the directory because it doesn't exist, but that's ok.\n"
     ]
    }
   ],
   "source": [
    "try:\n",
    "    os.rmdir('nonexistent_directory')\n",
    "except FileNotFoundError:\n",
    "    print(\"Didn't remove the directory because it doesn't exist, but that's ok.\")"
   ]
  },
  {
   "cell_type": "markdown",
   "metadata": {},
   "source": [
    "(If you need to remind yourself how `try` ... `except` works, look back at the section on [handling errors](conditions.ipynb#Handling-errors) in the lesson on conditions.)\n",
    "\n",
    "We are close to being able to write our target program. But as usual, we need to learn just one more little thing before we are there. We have learned how to use `os.mkdir()` to create a new directory, but our program also requires creating directories within those new directories. It turns out that this is not completely straightforward, and to arrive at a good solution we need to take a short detour to learn a bit more about directories and file systems.\n",
    "\n",
    "### Working directory\n",
    "\n",
    "The initial problem we have is that the function `os.mkdir()` creates the requested new directory inside our current working directory. We saw this behavior above. This is fine for the first step of our target program, creating the per-year folders. But we then want the per-month folders to be inside each of the per-year folders. So how do we tell `os` to put a new directory not in our current working directory but somewhere else?\n",
    "\n",
    "There is one relatively simple solution that we will not use. But let's look at it anyway, to see why it isn't so great. This solution involves changing the current working directory to be one of the newly-created per-year folders, then using `os.mkdir()` to create the per-month folders there, then switching back to our current working directory, and then repeating the process for another per-year folder.\n",
    "\n",
    "The function `os.chdir()` changes the current working directory. It is rather like the Python programming equivalent of going into a folder in your file explorer by clicking on it. Here is how we could use it for the first few steps of this solution:"
   ]
  },
  {
   "cell_type": "code",
   "execution_count": 19,
   "metadata": {},
   "outputs": [],
   "source": [
    "year = '2015'\n",
    "months = ['Jan', 'Feb', 'Mar', 'Apr', 'May', 'Jun', 'Jul', 'Aug', 'Sep', 'Oct', 'Nov', 'Dec']\n",
    "\n",
    "os.mkdir(year)\n",
    "os.chdir(year)\n",
    "\n",
    "for m in months:\n",
    "    os.mkdir(m)"
   ]
  },
  {
   "cell_type": "markdown",
   "metadata": {},
   "source": [
    "Now we need to switch back to our original working directory to create a directory for the next year. How do we do that? If we know the name of our original working directory, we can use that. But that would be a very fragile solution; if we later choose to run our program in a different directory or send it to someone else for them to use, then the specific name of our original working directory will no longer be valid. Fortunately, file systems provide a shortcut for this sort of situation. In a file system, two dots (`..`) stand for 'the directory that contains the current one' (sometimes termed the 'parent' directory). So we can instruct `os.chdir()` to go to `'..'`:"
   ]
  },
  {
   "cell_type": "code",
   "execution_count": 20,
   "metadata": {},
   "outputs": [],
   "source": [
    "os.chdir('..')"
   ]
  },
  {
   "cell_type": "markdown",
   "metadata": {},
   "source": [
    "Let's check whether all that worked. We need to check a few things:\n",
    "\n",
    "* Are we back in our original working directory?"
   ]
  },
  {
   "cell_type": "code",
   "execution_count": 21,
   "metadata": {},
   "outputs": [
    {
     "data": {
      "text/plain": [
       "'/home/lt/GitHub/introduction-to-programming/content'"
      ]
     },
     "execution_count": 21,
     "metadata": {},
     "output_type": "execute_result"
    }
   ],
   "source": [
    "os.getcwd()"
   ]
  },
  {
   "cell_type": "markdown",
   "metadata": {},
   "source": [
    "* Is there a new directory in there called '2015'?"
   ]
  },
  {
   "cell_type": "code",
   "execution_count": 22,
   "metadata": {},
   "outputs": [
    {
     "data": {
      "text/plain": [
       "True"
      ]
     },
     "execution_count": 22,
     "metadata": {},
     "output_type": "execute_result"
    }
   ],
   "source": [
    "year in os.listdir()"
   ]
  },
  {
   "cell_type": "markdown",
   "metadata": {},
   "source": [
    "* And are all the per-month directories now in the '2015' directory?"
   ]
  },
  {
   "cell_type": "code",
   "execution_count": 23,
   "metadata": {},
   "outputs": [
    {
     "data": {
      "text/plain": [
       "['Jul',\n",
       " 'Aug',\n",
       " 'May',\n",
       " 'Oct',\n",
       " 'Dec',\n",
       " 'Jun',\n",
       " 'Feb',\n",
       " 'Nov',\n",
       " 'Jan',\n",
       " 'Sep',\n",
       " 'Mar',\n",
       " 'Apr']"
      ]
     },
     "execution_count": 23,
     "metadata": {},
     "output_type": "execute_result"
    }
   ],
   "source": [
    "os.listdir(year)"
   ]
  },
  {
   "cell_type": "markdown",
   "metadata": {},
   "source": [
    "Great, it worked. But we aren't going to use this solution. Why not?\n",
    "\n",
    "For a short and simple task like this one, it is totally fine. But as we have seen on a few occasions already, there are some good habits that we can get into now that will serve us well when we come to write more complex programs. The 'good habit' that is relevant here is a fairly specific one: We should try to avoid changing directory within a program; we should instead try to let a program run from just one directory. Why does this matter? After all, in our example above, we switch back into the original working directory using `os.chdir('..')`, so the change is only a temporary one and by the time our program has finished, the working directory has been set back to what it was at the start.\n",
    "\n",
    "But imagine instead that we are writing a slightly more complex program, one that might encounter an [exception](extras/glossary.ipynb#exception) or be terminated at some point in between changing the working directory and changing it back again. For example:"
   ]
  },
  {
   "cell_type": "code",
   "execution_count": 24,
   "metadata": {
    "tags": [
     "raises-exception"
    ]
   },
   "outputs": [
    {
     "name": "stdout",
     "output_type": "stream",
     "text": [
      "How many new folders would you like to create? five please\n"
     ]
    },
    {
     "ename": "ValueError",
     "evalue": "invalid literal for int() with base 10: 'five please'",
     "output_type": "error",
     "traceback": [
      "\u001b[0;31m---------------------------------------------------------------------------\u001b[0m",
      "\u001b[0;31mValueError\u001b[0m                                Traceback (most recent call last)",
      "\u001b[0;32m<ipython-input-24-43edc0bffdc9>\u001b[0m in \u001b[0;36m<module>\u001b[0;34m\u001b[0m\n\u001b[1;32m      3\u001b[0m \u001b[0;34m\u001b[0m\u001b[0m\n\u001b[1;32m      4\u001b[0m \u001b[0mn_dirs\u001b[0m \u001b[0;34m=\u001b[0m \u001b[0minput\u001b[0m\u001b[0;34m(\u001b[0m\u001b[0;34m'How many new folders would you like to create? '\u001b[0m\u001b[0;34m)\u001b[0m\u001b[0;34m\u001b[0m\u001b[0;34m\u001b[0m\u001b[0m\n\u001b[0;32m----> 5\u001b[0;31m \u001b[0mn_dirs\u001b[0m \u001b[0;34m=\u001b[0m \u001b[0mint\u001b[0m\u001b[0;34m(\u001b[0m\u001b[0mn_dirs\u001b[0m\u001b[0;34m)\u001b[0m\u001b[0;34m\u001b[0m\u001b[0;34m\u001b[0m\u001b[0m\n\u001b[0m\u001b[1;32m      6\u001b[0m \u001b[0;34m\u001b[0m\u001b[0m\n\u001b[1;32m      7\u001b[0m \u001b[0;32mfor\u001b[0m \u001b[0md\u001b[0m \u001b[0;32min\u001b[0m \u001b[0mrange\u001b[0m\u001b[0;34m(\u001b[0m\u001b[0mn_dirs\u001b[0m\u001b[0;34m)\u001b[0m\u001b[0;34m:\u001b[0m\u001b[0;34m\u001b[0m\u001b[0;34m\u001b[0m\u001b[0m\n",
      "\u001b[0;31mValueError\u001b[0m: invalid literal for int() with base 10: 'five please'"
     ]
    }
   ],
   "source": [
    "os.mkdir('my_new_directory')\n",
    "os.chdir('my_new_directory')\n",
    "\n",
    "n_dirs = input('How many new folders would you like to create? ')\n",
    "n_dirs = int(n_dirs)\n",
    "\n",
    "for d in range(n_dirs):\n",
    "    os.mkdir(str(d+1))\n",
    "\n",
    "os.chdir('..')"
   ]
  },
  {
   "cell_type": "markdown",
   "metadata": {},
   "source": [
    "In this example, the error halted our program before it could run the command switching back the working directory. So our program now leaves us in a different directory from the one we started in. "
   ]
  },
  {
   "cell_type": "code",
   "execution_count": 25,
   "metadata": {},
   "outputs": [
    {
     "data": {
      "text/plain": [
       "'/home/lt/GitHub/introduction-to-programming/content/my_new_directory'"
      ]
     },
     "execution_count": 25,
     "metadata": {},
     "output_type": "execute_result"
    }
   ],
   "source": [
    "os.getcwd()"
   ]
  },
  {
   "cell_type": "markdown",
   "metadata": {},
   "source": [
    "So in order to return to our original working directory, we need to switch back manually. Let's do that now, just so things are fixed for the rest of this lesson."
   ]
  },
  {
   "cell_type": "code",
   "execution_count": 26,
   "metadata": {},
   "outputs": [
    {
     "data": {
      "text/plain": [
       "'/home/lt/GitHub/introduction-to-programming/content'"
      ]
     },
     "execution_count": 26,
     "metadata": {},
     "output_type": "execute_result"
    }
   ],
   "source": [
    "os.chdir('..')\n",
    "os.getcwd()"
   ]
  },
  {
   "cell_type": "markdown",
   "metadata": {},
   "source": [
    "Even this is on its own not such a big deal, more of a minor annoyance. The real problems arise if our program is part of a larger program that may continue running after our program exits. As a result of the error in our program, this other program might now be working in a directory other than the one it expects, and so may end up doing some things wrong, such as putting files in the wrong place or not finding other files that it needs.\n",
    "\n",
    "### Paths\n",
    "\n",
    "The slightly more robust solution that we will use in our program is to always stay in the current working directory, and when we have an action that should take place in another directory, specify the 'path' that leads to that directory from the current one.\n",
    "\n",
    "The [path](extras/glossary.ipynb#path) to a file or directory is a description of its location within the file system of the computer. The path describes a series of turnings to take in the file system in order to get to a particular location. A particular character, known as a [separator](extras/glossary.ipynb#separator) (or occasionally as a 'delimiter') marks out each new directory along the path.\n",
    "\n",
    "The result of `os.getcwd()` that you see above is an example of a path. It gives the path to the directory in which the files for these lessons are located on my computer. So this path tells us to start in the 'home' directory, then go into the 'lt' directory, and so on. Because the [operating system](extras/glossary.ipynb#os) on my computer is Linux, the separator for the directories along the path is the forward slash '/'. If you are working on a Windows computer, you will see a different separator in the path that you get from `os.getcwd()`.\n",
    "\n",
    "The `os` module contains an entire submodule, called `path`, for dealing with paths. The `os.path` submodule provides a variable (note: not a function, so no parentheses needed) that stores the path separator for the operating system that you are using:"
   ]
  },
  {
   "cell_type": "code",
   "execution_count": 27,
   "metadata": {},
   "outputs": [
    {
     "data": {
      "text/plain": [
       "'/'"
      ]
     },
     "execution_count": 27,
     "metadata": {},
     "output_type": "execute_result"
    }
   ],
   "source": [
    "os.path.sep"
   ]
  },
  {
   "cell_type": "markdown",
   "metadata": {},
   "source": [
    "It also provides a function for joining together the names of directories using the appropriate separator for the current operating system. This is useful to make sure that your program is compatible with Windows and other operating systems. For example:"
   ]
  },
  {
   "cell_type": "code",
   "execution_count": 28,
   "metadata": {},
   "outputs": [
    {
     "data": {
      "text/plain": [
       "'folder/subfolder/subsubfolder'"
      ]
     },
     "execution_count": 28,
     "metadata": {},
     "output_type": "execute_result"
    }
   ],
   "source": [
    "os.path.join('folder', 'subfolder', 'subsubfolder')"
   ]
  },
  {
   "cell_type": "markdown",
   "metadata": {},
   "source": [
    "#### Absolute paths\n",
    "\n",
    "The 'absolute' path to a file or directory is the full path starting from the top directory on the whole computer, sometimes termed the 'root' directory. On Linux or macOS, the root directory is just named '/'. On Windows, it is a letter denoting the drive on which the files are stored, usually 'C:'.\n",
    "\n",
    "Occasionally we might need to know the absolute path to a file or directory. The `abspath()` function from the `os.path` module gives us the absolute path to an existing directory within the current working directory. For example:"
   ]
  },
  {
   "cell_type": "code",
   "execution_count": 29,
   "metadata": {},
   "outputs": [
    {
     "data": {
      "text/plain": [
       "'/home/lt/GitHub/introduction-to-programming/content/examples'"
      ]
     },
     "execution_count": 29,
     "metadata": {},
     "output_type": "execute_result"
    }
   ],
   "source": [
    "os.path.abspath('examples')"
   ]
  },
  {
   "cell_type": "markdown",
   "metadata": {},
   "source": [
    "#### Relative paths\n",
    "\n",
    "Our target program does not require absolute paths, so we will set them aside for now. Instead, it only needs to know the locations of the new directories we want to create 'relative' to the current working directory. Paths that specify a location relative to some other location are known as 'relative paths'. We can recognize relative paths because they do not begin with the root directory ('/' on macOS and Linux, 'C:' or some other drive letter on Windows). Python will interpret such paths as starting in the current working directory.\n",
    "\n",
    "So to specify the relative path to one of the per-month directories within one of the per-year directories in our target program, we can write something like `'2015/Jan'`. Or better, in order to make our program compatible across different operating systems, we can insert the appropriate path separator by using `os.path.join()`. Like this:"
   ]
  },
  {
   "cell_type": "code",
   "execution_count": 30,
   "metadata": {},
   "outputs": [
    {
     "data": {
      "text/plain": [
       "'2015/Jan'"
      ]
     },
     "execution_count": 30,
     "metadata": {},
     "output_type": "execute_result"
    }
   ],
   "source": [
    "os.path.join('2015', 'Jan')"
   ]
  },
  {
   "cell_type": "markdown",
   "metadata": {},
   "source": [
    "So let's try putting this together with some of the other ingredients of our target program to create the next per-year directory and the next per-month directory inside it:"
   ]
  },
  {
   "cell_type": "code",
   "execution_count": 31,
   "metadata": {
    "tags": [
     "raises-exception"
    ]
   },
   "outputs": [
    {
     "ename": "FileNotFoundError",
     "evalue": "[Errno 2] No such file or directory: '2016/Jan'",
     "output_type": "error",
     "traceback": [
      "\u001b[0;31m---------------------------------------------------------------------------\u001b[0m",
      "\u001b[0;31mFileNotFoundError\u001b[0m                         Traceback (most recent call last)",
      "\u001b[0;32m<ipython-input-31-00f059584001>\u001b[0m in \u001b[0;36m<module>\u001b[0;34m\u001b[0m\n\u001b[1;32m      1\u001b[0m \u001b[0mdirname\u001b[0m \u001b[0;34m=\u001b[0m \u001b[0mos\u001b[0m\u001b[0;34m.\u001b[0m\u001b[0mpath\u001b[0m\u001b[0;34m.\u001b[0m\u001b[0mjoin\u001b[0m\u001b[0;34m(\u001b[0m\u001b[0;34m'2016'\u001b[0m\u001b[0;34m,\u001b[0m \u001b[0;34m'Jan'\u001b[0m\u001b[0;34m)\u001b[0m\u001b[0;34m\u001b[0m\u001b[0;34m\u001b[0m\u001b[0m\n\u001b[1;32m      2\u001b[0m \u001b[0;34m\u001b[0m\u001b[0m\n\u001b[0;32m----> 3\u001b[0;31m \u001b[0mos\u001b[0m\u001b[0;34m.\u001b[0m\u001b[0mmkdir\u001b[0m\u001b[0;34m(\u001b[0m\u001b[0mdirname\u001b[0m\u001b[0;34m)\u001b[0m\u001b[0;34m\u001b[0m\u001b[0;34m\u001b[0m\u001b[0m\n\u001b[0m",
      "\u001b[0;31mFileNotFoundError\u001b[0m: [Errno 2] No such file or directory: '2016/Jan'"
     ]
    }
   ],
   "source": [
    "dirname = os.path.join('2016', 'Jan')\n",
    "\n",
    "os.mkdir(dirname)"
   ]
  },
  {
   "cell_type": "markdown",
   "metadata": {},
   "source": [
    "Unfortunately, this fails. The reason is that `os.mkdir()` is strictly for creating a single new directory. Here we would like to create a new directory and a new subdirectory at the same time. Since `os.mkdir()` doesn't find the '2016' directory in which to create the 'Jan' subdirectory, it [raises an exception](extras/glossary.ipynb#raise).\n",
    "\n",
    "Fortunately, there is an alternative function for creating directories containing directories. `os.makedirs()` makes a new directory, along with any intermediate directories along the specified [path](extras/glossary.ipynb#path) to that new directory. (In `makedirs()` 'make' is inexplicably not abbreviated to 'mk' despite the fact that the name of the function is longer than that of `mkdir()`.)"
   ]
  },
  {
   "cell_type": "code",
   "execution_count": 32,
   "metadata": {},
   "outputs": [
    {
     "data": {
      "text/plain": [
       "['Jan']"
      ]
     },
     "execution_count": 32,
     "metadata": {},
     "output_type": "execute_result"
    }
   ],
   "source": [
    "os.makedirs(dirname)\n",
    "\n",
    "os.listdir('2016')"
   ]
  },
  {
   "cell_type": "markdown",
   "metadata": {},
   "source": [
    "It works! That completes the ingredients we need in order to write our target program. It remains to use some [loops](extras/glossary.ipynb#loop) to avoid repeating the `os.makedirs()` command manually for every year and month, but this is something we have [already learned about](iteration.ipynb#Loops).\n",
    "\n",
    "Try to finish writing the target program yourself, then take a look at it in the example file [make_monthly_directories.py](examples/make_monthly_directories.py).\n",
    "\n",
    "## Third-party packages\n",
    "\n",
    "If the standard library is called 'standard', is there a 'non-standard' library? Yes there is. We mentioned before that it is possible to download and install modules that somebody else has written. If you install such extra modules, they are added to your Python 'library' on your computer, and you can import them just like modules from the standard library.\n",
    "\n",
    "Installable extra modules that were written by somebody else are often termed 'third-party' packages. A [package](extras/glossary.ipynb#package) is a program that adds new capabilities to an existing program. Third-party packages for Python add new modules to your Python installation. The 'third-party' in this case is some other programmer that is neither you nor the developers of Python itself (you are presumably the 'first party' and the developers of Python are the 'second party'). Because Python is such a popular programming language, there is a huge variety of third-party packages out there on the internet, all dealing with various specialist tasks. When you come to write real programs, you will often find that you need to make use of one or more third-party packages, which you may first need to install before you start work on your program.\n",
    "\n",
    "It is sometimes possible to just download somebody else's *py* files containing the components that you want to use. But this is usually not a good idea. If you use manually-downloaded files, you will also need to update them manually if newer versions become available, and you will need to ensure that the files are in the working directory that your main program runs in when it imports them. Instead, you will usually want to install third-party packages so that they are available wherever you are working, and you will want to install them from some central location that you can refer back to if you need to update them. The Python Package Index ([PyPI](https://pypi.org/)) is an online [repository](extras/glossary.ipynb#repository) of Python packages. It is the standard place to look for existing third-party packages that might help you with your current programming task.\n",
    "\n",
    "It is important to note some caveats when it comes to third-party packages. That a package is stored on PyPI is not of itself any guarantee that the package works correctly or even that it won't damage your Python installation. More or less anybody can upload their own Python package to PyPI, and many of the packages stored there are out of date, broken, or don't do correctly what they claim. The standard library is produced by the developers of Python, so it can almost always be relied on to work correctly and efficiently, or to be quickly fixed if it does not.\n",
    "\n",
    "For this reason, it is a good idea to stick to the standard library when you can. But if you perform specialized tasks in programming, you will often be unable to avoid relying on third-party packages. Here are a couple of things to check when deciding whether to use one, and which one to choose if more than one is available for what you want to do:\n",
    "\n",
    "* Do many other people use this package? If lots of people are using a package, that probably means that it at least works. And the fact that lots of people are using it usually means that [bugs](extras/glossary.ipynb#bug) won't go unnoticed and may even be quickly fixed by one of the other users.\n",
    "* Is the package still being 'maintained' (i.e. are the developers of the package currently still fixing bugs and responding to questions)? If a package hasn't been updated for a long time, it might no longer work in the current version of Python, or you might have nobody to turn to if you have problems.\n",
    "\n",
    "For some of the specialist topics later on we will need to [import](extras/glossary.ipynb#import) modules from third-party packages. When we do, I will note whether an `import` is from the standard library or whether it is from a third-party package, and I will provide instructions for installing it if necessary. However, if you have installed Python via Anaconda, then almost all of the third-party packages that we need for this class will already have been installed by default. You can read a list of all the additional packages that Anaconda installs for you at the [Anaconda package listings](https://docs.anaconda.com/anaconda/packages/pkg-docs/).\n",
    "\n",
    "## Exercises\n",
    "\n",
    "### 1\n",
    "\n",
    "The `string` module provides some additional variables that can be useful for working with strings. Among them is the `punctuation` variable, which contains punctuation characters. Use this variable to create a function called `standardized_words()`. This function returns a list of the words in a text, but in a 'standardized' form. Your function should take a string input argument containing some text, remove all the punctuation, make the contents lowercase, and then return a list of the words in the text.\n",
    "\n",
    "Here is an example of the function in action:\n",
    "\n",
    "```\n",
    ">>> standardized_words('She said: \"Hello, world!\"')\n",
    "['she', 'said', 'hello', 'world']\n",
    "```\n",
    "\n",
    "### 2\n",
    "\n",
    "A '[Magic 8-Ball](https://en.wikipedia.org/wiki/Magic_8-Ball)' is a popular toy that when shaken gives a random answer to a question. Write a program that simulates the behavior of a Magic 8-Ball. When you run the program it prints out one of a number of possible answers, at random. You can find a list of the 20 possible answers from the original Magic 8-Ball [here](https://en.wikipedia.org/wiki/Magic_8-Ball#Possible_answers), or you can define your own shorter list of answers if you don't fancy typing all those into your program.\n",
    "\n",
    "(Hint: There is a module in the standard library for working with randomness.)"
   ]
  },
  {
   "cell_type": "code",
   "execution_count": 33,
   "metadata": {
    "tags": [
     "remove-cell"
    ]
   },
   "outputs": [],
   "source": [
    "cleanup()"
   ]
  }
 ],
 "metadata": {
  "celltoolbar": "Tags",
  "kernelspec": {
   "display_name": "Python 3",
   "language": "python",
   "name": "python3"
  },
  "language_info": {
   "codemirror_mode": {
    "name": "ipython",
    "version": 3
   },
   "file_extension": ".py",
   "mimetype": "text/x-python",
   "name": "python",
   "nbconvert_exporter": "python",
   "pygments_lexer": "ipython3",
   "version": "3.6.9"
  },
  "toc": {
   "base_numbering": 1,
   "nav_menu": {},
   "number_sections": false,
   "sideBar": true,
   "skip_h1_title": true,
   "title_cell": "Contents",
   "title_sidebar": "Contents",
   "toc_cell": true,
   "toc_position": {},
   "toc_section_display": true,
   "toc_window_display": false
  }
 },
 "nbformat": 4,
 "nbformat_minor": 2
}
