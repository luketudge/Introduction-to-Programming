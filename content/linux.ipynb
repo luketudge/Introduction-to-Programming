{
 "cells": [
  {
   "cell_type": "markdown",
   "metadata": {},
   "source": [
    "# Installation on Linux\n",
    "\n",
    "If you are using a major Linux distribution, for example a recent version of Ubuntu, Python 3 will already be installed on your computer. You can check just to be sure by opening a terminal and entering the following command:\n",
    "\n",
    "```shell\n",
    "python3 --version\n",
    "```\n",
    "\n",
    "You should see some information about your version of Python 3, if it is installed. If it is not, then you may see an error message or you may be prompted to install it.\n",
    "\n",
    "However, we will also use several extra 'packages' for Python, including a program called Spyder, which you will most probably not have by default on Linux. You will have to install these. You can install these via your normal package manager. Assuming that you are using Ubuntu, you can get them by entering the following command in the terminal:\n",
    "\n",
    "```shell\n",
    "sudo apt-get install python3-bs4 python3-imageio python3-matplotlib python3-nltk python3-numpy python3-pandas python3-pytest python3-requests python3-seaborn python3-skimage python3-sklearn python3-xlrd spyder3\n",
    "```\n",
    "\n",
    "You will be prompted to enter your user password, and you should then see some printouts about the packages being downloaded and installed.\n",
    "\n",
    "Once you have finished installing these extras, you should be able to find Spyder among your applications. Once you have launched Spyder, follow the [recommended configuration steps](spyder.ipynb)."
   ]
  }
 ],
 "metadata": {
  "celltoolbar": "Tags",
  "kernelspec": {
   "display_name": "Python 3",
   "language": "python",
   "name": "python3"
  },
  "language_info": {
   "codemirror_mode": {
    "name": "ipython",
    "version": 3
   },
   "file_extension": ".py",
   "mimetype": "text/x-python",
   "name": "python",
   "nbconvert_exporter": "python",
   "pygments_lexer": "ipython3",
   "version": "3.8.5"
  },
  "toc": {
   "base_numbering": 1,
   "nav_menu": {},
   "number_sections": false,
   "sideBar": true,
   "skip_h1_title": true,
   "title_cell": "Contents",
   "title_sidebar": "Contents",
   "toc_cell": true,
   "toc_position": {},
   "toc_section_display": true,
   "toc_window_display": false
  }
 },
 "nbformat": 4,
 "nbformat_minor": 4
}
