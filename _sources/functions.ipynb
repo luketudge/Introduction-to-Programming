{
 "cells": [
  {
   "cell_type": "markdown",
   "metadata": {},
   "source": [
    "# Functions\n",
    "\n",
    "We have been working with [functions](glossary.ipynb#function) since the very first lesson. For example, we have often used the `input()` function to allow users of our program to type something in, and the `print()` function to display messages for the user."
   ]
  },
  {
   "cell_type": "code",
   "execution_count": 1,
   "metadata": {},
   "outputs": [
    {
     "name": "stdin",
     "output_type": "stream",
     "text": [
      "What is your name?  Mildred\n"
     ]
    },
    {
     "name": "stdout",
     "output_type": "stream",
     "text": [
      "Hello Mildred\n"
     ]
    }
   ],
   "source": [
    "name = input('What is your name? ')\n",
    "\n",
    "print('Hello', name)"
   ]
  },
  {
   "cell_type": "markdown",
   "metadata": {},
   "source": [
    "In addition, we have learned about a few other miscellaneous functions, such as `len()` for counting the number of items in a [sequence](glossary.ipynb#sequence) (or the number of characters in a [string](glossary.ipynb#string))."
   ]
  },
  {
   "cell_type": "code",
   "execution_count": 2,
   "metadata": {},
   "outputs": [
    {
     "data": {
      "text/plain": [
       "7"
      ]
     },
     "execution_count": 2,
     "metadata": {},
     "output_type": "execute_result"
    }
   ],
   "source": [
    "len(name)"
   ]
  },
  {
   "cell_type": "markdown",
   "metadata": {},
   "source": [
    "And we have learned about a special kind of function, called [methods](glossary.ipynb#method), that are 'attached' to just one [data type](glossary.ipynb#type). For example the [string](glossary.ipynb#string) method `upper()`:"
   ]
  },
  {
   "cell_type": "code",
   "execution_count": 3,
   "metadata": {},
   "outputs": [
    {
     "data": {
      "text/plain": [
       "'MILDRED'"
      ]
     },
     "execution_count": 3,
     "metadata": {},
     "output_type": "execute_result"
    }
   ],
   "source": [
    "name.upper()"
   ]
  },
  {
   "cell_type": "markdown",
   "metadata": {},
   "source": [
    "The [syntax](glossary.ipynb#syntax) for using methods is slightly different from that for functions. We will set aside methods for now and focus on functions in general.\n",
    "\n",
    "## Calling functions\n",
    "\n",
    "The standard syntax for using a function is:\n",
    "\n",
    "* write the name of the function\n",
    "* open parentheses `(`\n",
    "* (optionally) write any inputs to the function\n",
    "  * multiple inputs must be separated by commas\n",
    "* close parentheses `)`\n",
    "\n",
    "The function will then output some result (although a few functions have no output).\n",
    "\n",
    "There are a few important pieces of computing vocabulary associated with functions:\n",
    "\n",
    "* **Call**. Running a function is known as '[calling](glossary.ipynb#call)' the function. When we run a function, this is sometimes termed a 'function call'. It is as if the function is playing outside in the garden, and then we call it in because we want it to do something for us.\n",
    "* **Argument**. The inputs to a function, which go inside the parentheses, are known as the function's '[arguments](glossary.ipynb#argument)'. This is very different from the everyday use of the word 'argument', but is probably distantly related to the sense of 'argument' as meaning 'valid or confirmatory information'. According to *[The Origins of Mathematical Words](https://muse.jhu.edu/book/26769)*, astronomers used to compile tables of numbers about the positions of celestial bodies, and then input these numbers into further calculations. These validated input numbers were known as 'arguments' in the sense of 'supporting information'.\n",
    "* **Return value**. The output of the function is known as its '[return value](glossary.ipynb#return)'. When the function has finished doing its work and reports back to us with the result, we say that the function has 'returned' that result.\n",
    "\n",
    "We can see some of these terms in action in a few [error messages](glossary.ipynb#error) that we encounter if we use a function incorrectly. For example if we try to [call](glossary.ipynb#call) something that is not a function:"
   ]
  },
  {
   "cell_type": "code",
   "execution_count": 4,
   "metadata": {
    "tags": [
     "raises-exception"
    ]
   },
   "outputs": [
    {
     "ename": "TypeError",
     "evalue": "'int' object is not callable",
     "output_type": "error",
     "traceback": [
      "\u001b[0;31m---------------------------------------------------------------------------\u001b[0m",
      "\u001b[0;31mTypeError\u001b[0m                                 Traceback (most recent call last)",
      "\u001b[0;32m/tmp/ipykernel_4593/1740766288.py\u001b[0m in \u001b[0;36m<module>\u001b[0;34m\u001b[0m\n\u001b[1;32m      1\u001b[0m \u001b[0msome_number\u001b[0m \u001b[0;34m=\u001b[0m \u001b[0;36m42\u001b[0m\u001b[0;34m\u001b[0m\u001b[0;34m\u001b[0m\u001b[0m\n\u001b[1;32m      2\u001b[0m \u001b[0;34m\u001b[0m\u001b[0m\n\u001b[0;32m----> 3\u001b[0;31m \u001b[0msome_number\u001b[0m\u001b[0;34m(\u001b[0m\u001b[0;34m)\u001b[0m\u001b[0;34m\u001b[0m\u001b[0;34m\u001b[0m\u001b[0m\n\u001b[0m",
      "\u001b[0;31mTypeError\u001b[0m: 'int' object is not callable"
     ]
    }
   ],
   "source": [
    "some_number = 42\n",
    "\n",
    "some_number()"
   ]
  },
  {
   "cell_type": "markdown",
   "metadata": {},
   "source": [
    "Or if we supply the wrong number of [arguments](glossary.ipynb#argument):"
   ]
  },
  {
   "cell_type": "code",
   "execution_count": 5,
   "metadata": {
    "tags": [
     "raises-exception"
    ]
   },
   "outputs": [
    {
     "ename": "TypeError",
     "evalue": "len() takes exactly one argument (0 given)",
     "output_type": "error",
     "traceback": [
      "\u001b[0;31m---------------------------------------------------------------------------\u001b[0m",
      "\u001b[0;31mTypeError\u001b[0m                                 Traceback (most recent call last)",
      "\u001b[0;32m/tmp/ipykernel_4593/3175031574.py\u001b[0m in \u001b[0;36m<module>\u001b[0;34m\u001b[0m\n\u001b[0;32m----> 1\u001b[0;31m \u001b[0mlen\u001b[0m\u001b[0;34m(\u001b[0m\u001b[0;34m)\u001b[0m\u001b[0;34m\u001b[0m\u001b[0;34m\u001b[0m\u001b[0m\n\u001b[0m",
      "\u001b[0;31mTypeError\u001b[0m: len() takes exactly one argument (0 given)"
     ]
    }
   ],
   "source": [
    "len()"
   ]
  },
  {
   "cell_type": "code",
   "execution_count": 6,
   "metadata": {
    "tags": [
     "raises-exception"
    ]
   },
   "outputs": [
    {
     "ename": "TypeError",
     "evalue": "len() takes exactly one argument (2 given)",
     "output_type": "error",
     "traceback": [
      "\u001b[0;31m---------------------------------------------------------------------------\u001b[0m",
      "\u001b[0;31mTypeError\u001b[0m                                 Traceback (most recent call last)",
      "\u001b[0;32m/tmp/ipykernel_4593/1853437280.py\u001b[0m in \u001b[0;36m<module>\u001b[0;34m\u001b[0m\n\u001b[0;32m----> 1\u001b[0;31m \u001b[0mlen\u001b[0m\u001b[0;34m(\u001b[0m\u001b[0;34m'Mildred'\u001b[0m\u001b[0;34m,\u001b[0m \u001b[0;34m'Bonk'\u001b[0m\u001b[0;34m)\u001b[0m\u001b[0;34m\u001b[0m\u001b[0;34m\u001b[0m\u001b[0m\n\u001b[0m",
      "\u001b[0;31mTypeError\u001b[0m: len() takes exactly one argument (2 given)"
     ]
    }
   ],
   "source": [
    "len('Mildred', 'Bonk')"
   ]
  },
  {
   "cell_type": "markdown",
   "metadata": {},
   "source": [
    "## Arguments\n",
    "\n",
    "Some functions are flexible in the number of arguments they take. For example, `print()` can take an indefinite number of arguments, and just prints them all out one after the other:"
   ]
  },
  {
   "cell_type": "code",
   "execution_count": 7,
   "metadata": {},
   "outputs": [
    {
     "name": "stdout",
     "output_type": "stream",
     "text": [
      "Hello world !\n"
     ]
    }
   ],
   "source": [
    "print('Hello', 'world', '!')"
   ]
  },
  {
   "cell_type": "markdown",
   "metadata": {},
   "source": [
    "`print()` can even take no arguments at all. In this case, it prints a [newline](glossary.ipynb#newline) (a blank line):"
   ]
  },
  {
   "cell_type": "code",
   "execution_count": 8,
   "metadata": {},
   "outputs": [
    {
     "name": "stdout",
     "output_type": "stream",
     "text": [
      "\n"
     ]
    }
   ],
   "source": [
    "print()"
   ]
  },
  {
   "cell_type": "markdown",
   "metadata": {},
   "source": [
    "Notice that even if there are no input arguments, the parentheses are still required. The presence of the parentheses is what lets Python know that we actually want to [call](glossary.ipynb#call) the function. If we omit them, the function is not called. Instead, Python simply confirms: \"yes, that is a function\"."
   ]
  },
  {
   "cell_type": "code",
   "execution_count": 9,
   "metadata": {},
   "outputs": [
    {
     "data": {
      "text/plain": [
       "<function print>"
      ]
     },
     "execution_count": 9,
     "metadata": {},
     "output_type": "execute_result"
    }
   ],
   "source": [
    "print"
   ]
  },
  {
   "cell_type": "markdown",
   "metadata": {},
   "source": [
    "### Keyword arguments\n",
    "\n",
    "Some functions are a little more complex. As well as taking one or more arguments in the standard way that we have seen so far, some functions can take some additional special arguments that modify the behavior of the function in some way. These arguments have specific names, and we can assign values into those specific names (with `=`) in order to make them work.\n",
    "\n",
    "If this sounds a little abstract, it will become much clearer with an example. The `print()` function can also take some additional named arguments called `sep` and `end`. `sep` (an abbreviation of 'separator') specifies characters to print in between all the other arguments, and `end` specifies some characters to print at the end:"
   ]
  },
  {
   "cell_type": "code",
   "execution_count": 10,
   "metadata": {},
   "outputs": [
    {
     "name": "stdout",
     "output_type": "stream",
     "text": [
      "Hello...my name is...Mildred!"
     ]
    }
   ],
   "source": [
    "print('Hello', 'my name is', 'Mildred', sep='...', end='!')"
   ]
  },
  {
   "cell_type": "markdown",
   "metadata": {},
   "source": [
    "These special named arguments are known as 'keyword arguments' (and sometimes you may see them referred to by the abbreviation `kwargs`). Keyword arguments have fixed names. Unlike when we [assign](glossary.ipynb#assignment) a variable, we cannot just give them any name we like. Otherwise, the function would have no way of knowing which particular part of its behavior we intend each keyword argument to modify.\n",
    "\n",
    "If we try to assign the keyword arguments to just any old name, the result is an error. And now that we know the relevant vocabulary, the text of the error message is pretty clear about what we did wrong:"
   ]
  },
  {
   "cell_type": "code",
   "execution_count": 11,
   "metadata": {
    "tags": [
     "raises-exception"
    ]
   },
   "outputs": [
    {
     "ename": "TypeError",
     "evalue": "'x' is an invalid keyword argument for print()",
     "output_type": "error",
     "traceback": [
      "\u001b[0;31m---------------------------------------------------------------------------\u001b[0m",
      "\u001b[0;31mTypeError\u001b[0m                                 Traceback (most recent call last)",
      "\u001b[0;32m/tmp/ipykernel_4593/1908476083.py\u001b[0m in \u001b[0;36m<module>\u001b[0;34m\u001b[0m\n\u001b[0;32m----> 1\u001b[0;31m \u001b[0mprint\u001b[0m\u001b[0;34m(\u001b[0m\u001b[0;34m'Hello'\u001b[0m\u001b[0;34m,\u001b[0m \u001b[0;34m'my name is'\u001b[0m\u001b[0;34m,\u001b[0m \u001b[0;34m'Mildred'\u001b[0m\u001b[0;34m,\u001b[0m \u001b[0mx\u001b[0m\u001b[0;34m=\u001b[0m\u001b[0;34m'...'\u001b[0m\u001b[0;34m,\u001b[0m \u001b[0my\u001b[0m\u001b[0;34m=\u001b[0m\u001b[0;34m'!'\u001b[0m\u001b[0;34m)\u001b[0m\u001b[0;34m\u001b[0m\u001b[0;34m\u001b[0m\u001b[0m\n\u001b[0m",
      "\u001b[0;31mTypeError\u001b[0m: 'x' is an invalid keyword argument for print()"
     ]
    }
   ],
   "source": [
    "print('Hello', 'my name is', 'Mildred', x='...', y='!')"
   ]
  },
  {
   "cell_type": "markdown",
   "metadata": {},
   "source": [
    "But up until now we have been using `print()` without specifying any values for the keyword arguments `sep` and `end`. So how did `print()` know what to do? Keyword arguments have 'default values', which are used if no keyword arguments are given. If you look at the standard behavior of `print()` you may be able to guess what the default values for `sep` and `end` are:"
   ]
  },
  {
   "cell_type": "code",
   "execution_count": 12,
   "metadata": {},
   "outputs": [
    {
     "name": "stdout",
     "output_type": "stream",
     "text": [
      "Hello my name is Mildred\n"
     ]
    }
   ],
   "source": [
    "print('Hello', 'my name is', 'Mildred')"
   ]
  },
  {
   "cell_type": "markdown",
   "metadata": {},
   "source": [
    "That's right, the default for `sep` is a space (i.e. `sep=' '`). It is a little harder to see what the default for `end` is, because it is somewhat invisible, but it is a [newline character](glossary.ipynb#newline), starting a new line. If we ask `end` to be nothing (i.e. an empty string `''`), then anything that is printed next will continue printing on the same line, instead of on a new one:"
   ]
  },
  {
   "cell_type": "code",
   "execution_count": 13,
   "metadata": {},
   "outputs": [
    {
     "name": "stdout",
     "output_type": "stream",
     "text": [
      "Hello my name is Mildredand I am very excited to be using your computer program.\n"
     ]
    }
   ],
   "source": [
    "print('Hello', 'my name is', 'Mildred', end='')\n",
    "print('and I am very excited to be using your computer program.')"
   ]
  },
  {
   "cell_type": "markdown",
   "metadata": {},
   "source": [
    "When you look at the official Python [documentation for the `print()` function](https://docs.python.org/3/library/functions.html#print), you will see the possible input arguments written out in the header, and you will see the default values for the keyword arguments. For example, inside the parentheses you will see `end='\\n'`, giving the default value for the `end` keyword argument (the character combination `'\\n'` is used to represent the [newline character](glossary.ipynb#newline)). When you first encounter a function that you would like to use, it is a good idea to seek out the documentation and look for this header, to see what the input arguments are, and whether any of them set default behavior that you might want to change.\n",
    "\n",
    "## Return values\n",
    "\n",
    "The output of a function is called its [return value](glossary.ipynb#return). Usually, when we use a function, we [assign](glossary.ipynb#assignment) the return value into a variable by placing `=` in front of the [function call](glossary.ipynb#call). For example, the return value of the `input()` function is a [string](glossary.ipynb#string) containing whatever characters the user typed in, and the return value of the `len()` function is an integer containing the number of items in a sequence or number of characters in a string. We can assign return values into variables to make use of them in the rest of our program:"
   ]
  },
  {
   "cell_type": "code",
   "execution_count": 14,
   "metadata": {},
   "outputs": [
    {
     "name": "stdin",
     "output_type": "stream",
     "text": [
      "Name:  Mildred\n"
     ]
    },
    {
     "name": "stdout",
     "output_type": "stream",
     "text": [
      "Your name has 7 letters.\n"
     ]
    }
   ],
   "source": [
    "name = input('Name: ')\n",
    "\n",
    "n_letters = len(name)\n",
    "\n",
    "print('Your name has', n_letters, 'letters.')"
   ]
  },
  {
   "cell_type": "markdown",
   "metadata": {},
   "source": [
    "### Side effects\n",
    "\n",
    "Does the `print()` function have a [return value](glossary.ipynb#return)? At first, it may seem as though it does. Doesn't it return the printed text?\n",
    "\n",
    "Let's see what happens if we try to [assign](glossary.ipynb#assignment) the return value of `print()` into a variable:"
   ]
  },
  {
   "cell_type": "code",
   "execution_count": 15,
   "metadata": {},
   "outputs": [
    {
     "name": "stdout",
     "output_type": "stream",
     "text": [
      "Hello.\n"
     ]
    }
   ],
   "source": [
    "text = print('Hello.')"
   ]
  },
  {
   "cell_type": "markdown",
   "metadata": {},
   "source": [
    "What is the [type](glossary.ipynb#type) of this variable? If `print()` returns the printed text, then we should expect that this variable is a [string](glossary.ipynb#string). But it is not:"
   ]
  },
  {
   "cell_type": "code",
   "execution_count": 16,
   "metadata": {},
   "outputs": [
    {
     "data": {
      "text/plain": [
       "NoneType"
      ]
     },
     "execution_count": 16,
     "metadata": {},
     "output_type": "execute_result"
    }
   ],
   "source": [
    "type(text)"
   ]
  },
  {
   "cell_type": "markdown",
   "metadata": {},
   "source": [
    "As we can see here, `print()` returns [`None`](glossary.ipynb#None). The `None` value in Python stands for something that has not been defined, so if we get `None` as the return value of a function, this essentially means that the function has no return value.\n",
    "\n",
    "It is important to distinguish between what a function *does* and what it *returns*. Sometimes, a function simply 'does things' but does not produce a return value that we can [assign](glossary.ipynb#assignment) into a variable. The *effect* of the `print()` function is to display text, but the text is not its return value. Any effects of a function that are not reflected in its return value are termed 'side effects' of the function. Displaying text is a 'side effect' of the `print()` function, though that may sound like a strange way of talking about it.\n",
    "\n",
    "We have encountered this phenomenon before in a slightly different guise when we learned about list methods. Remember that list methods just go ahead and change the list, and they don't return the changed list, they return `None`. Changing the contents of the list is a 'side effect' of list methods.\n",
    "\n",
    "Most functions, however, have no side effects; everything they do is reflected in their return value. For example, `len()` returns the length of something, and this is all that it does.\n",
    "\n",
    "## Defining functions\n",
    "\n",
    "All the functions that we have met so far are '[builtins](glossary.ipynb#builtin)', functions that are already 'built in' to Python and are ready for us to use whenever we write a Python program.\n",
    "\n",
    "We are not limited to using the built-in functions. We can also define our own functions. We can then use these functions, either in the same program in which they are defined, or in another program, or we can even publish them online for other people to download and use in their own programs.\n",
    "\n",
    "This is what we will learn about now.\n",
    "\n",
    "### Objective\n",
    "\n",
    "Let's again set ourselves a task to structure our learning. Imagine that we have a program that gathers user names. In this simple example program we will omit using `input()` to get the user names, because it gets tedious to keep testing the program by typing input at the console. Let's just define some names manually so we have a few to work with:"
   ]
  },
  {
   "cell_type": "code",
   "execution_count": 17,
   "metadata": {},
   "outputs": [],
   "source": [
    "user_name = 'Mildred Bonk'\n",
    "aunts_name = 'Jennifer Boolean'\n",
    "uncles_name = 'Julian Boolean'"
   ]
  },
  {
   "cell_type": "markdown",
   "metadata": {},
   "source": [
    "Now imagine that we want to create for each user an abbreviated ID consisting of their initials (i.e. the first letters of their first and surnames).\n",
    "\n",
    "We can do this using the string [method](glossary.ipynb#method) `split()` and some [indexing](glossary.ipynb#index), both of which we have learned about before:"
   ]
  },
  {
   "cell_type": "code",
   "execution_count": 18,
   "metadata": {},
   "outputs": [
    {
     "name": "stdout",
     "output_type": "stream",
     "text": [
      "MB\n"
     ]
    }
   ],
   "source": [
    "names = user_name.split()\n",
    "firstname = names[0]\n",
    "surname = names[1]\n",
    "user_id = firstname[0] + surname[0]\n",
    "\n",
    "print(user_id)"
   ]
  },
  {
   "cell_type": "markdown",
   "metadata": {},
   "source": [
    "Now that we have confirmed that it works, let's do it for the other two users as well:"
   ]
  },
  {
   "cell_type": "code",
   "execution_count": 19,
   "metadata": {},
   "outputs": [
    {
     "name": "stdout",
     "output_type": "stream",
     "text": [
      "JB\n",
      "JB\n"
     ]
    }
   ],
   "source": [
    "names = aunts_name.split()\n",
    "firstname = names[0]\n",
    "surname = names[1]\n",
    "aunts_id = firstname[0] + surname[0]\n",
    "\n",
    "names = uncles_name.split()\n",
    "firstname = names[0]\n",
    "surname = names[1]\n",
    "uncles_id = firstname[0] + surname[0]\n",
    "\n",
    "print(aunts_id)\n",
    "print(uncles_id)"
   ]
  },
  {
   "cell_type": "markdown",
   "metadata": {},
   "source": [
    "We notice that the next two users have the same ID. So now we decide that a better way to allocate IDs would be to use the first *two* letters of each user's first and surname. We have not picked a great way of approaching this task. Because we have copied and pasted almost the same lines three times to accomplish the same task, we now have to change things in several places whenever we decide that we want to change something about the way that that task is accomplished. We are fallible human beings and we are likely to miss one of the places in which the change is necessary, thus introducing mistakes into our program. [DRY](https://en.wikipedia.org/wiki/Don't_repeat_yourself).\n",
    "\n",
    "It would be nice if there were just a function that could take a user name as its [argument](glossary.ipynb#argument) and [return](glossary.ipynb#return) the user's initials. Then we could use it in our program. Even better would be if we could modify this function's behavior, and for the modified behavior to take effect wherever the function is used. This would allow us to make changes in just one place that take effect for the whole program.\n",
    "\n",
    "Maybe there is a built-in function that suits our needs?"
   ]
  },
  {
   "cell_type": "code",
   "execution_count": 20,
   "metadata": {
    "tags": [
     "raises-exception"
    ]
   },
   "outputs": [
    {
     "ename": "NameError",
     "evalue": "name 'get_initials' is not defined",
     "output_type": "error",
     "traceback": [
      "\u001b[0;31m---------------------------------------------------------------------------\u001b[0m",
      "\u001b[0;31mNameError\u001b[0m                                 Traceback (most recent call last)",
      "\u001b[0;32m/tmp/ipykernel_4593/55897989.py\u001b[0m in \u001b[0;36m<module>\u001b[0;34m\u001b[0m\n\u001b[0;32m----> 1\u001b[0;31m \u001b[0muser_id\u001b[0m \u001b[0;34m=\u001b[0m \u001b[0mget_initials\u001b[0m\u001b[0;34m(\u001b[0m\u001b[0muser_name\u001b[0m\u001b[0;34m)\u001b[0m\u001b[0;34m\u001b[0m\u001b[0;34m\u001b[0m\u001b[0m\n\u001b[0m",
      "\u001b[0;31mNameError\u001b[0m: name 'get_initials' is not defined"
     ]
    }
   ],
   "source": [
    "user_id = get_initials(user_name)"
   ]
  },
  {
   "cell_type": "markdown",
   "metadata": {},
   "source": [
    "No luck. We need to define this function ourselves.\n",
    "\n",
    "Here is what we would like our function `get_initials()` to do:\n",
    "\n",
    "* take a [string](glossary.ipynb#string) [argument](glossary.ipynb#argument) containing two names\n",
    "* return a new string containing the initials of those names (i.e. the first letter of each)\n",
    "* take two additional keyword arguments:\n",
    "  * `n`: an [integer](glossary.ipynb#integer) specifying the number of initial letters to use from each name\n",
    "    * this should default to `1` to produce the standard single initials\n",
    "  * `uppercase`: a [boolean](glossary.ipynb#boolean) specifying whether to return the initials in UPPERCASE\n",
    "    * this should default to `False` to produce lowercase initials\n",
    "* in addition, the function should produce an informative error message if the input argument string does not contain exactly two names (e.g. `'Mildred'` or `'Mildred T. Bonk'`)\n",
    "\n",
    "When we decide to define a new function of our own, we should think about four ingredients:\n",
    "\n",
    "* the name of the function\n",
    "* its input arguments\n",
    "* what steps it carries out (the 'body' of the function)\n",
    "* the return value\n",
    "\n",
    "Below is the [syntax](glossary.ipynb#syntax) for defining a new function. A function definition is a kind of [control statement](glossary.ipynb#control), like a [condition](glossary.ipynb#condition) or a [loop](glossary.ipynb#loop), and some of the basic syntactical features of control statements, such as a colon `:` and [indentation](glossary.ipynb#indentation) appear here as well.\n",
    "\n",
    "* write `def`\n",
    "* write the name of the function (pick any name, just like for creating a variable)\n",
    "* open parentheses `(`\n",
    "* write the names of any arguments the function should have\n",
    "  * these should be separated by commas\n",
    "* write the steps that the function carries out\n",
    "  * these should be indented\n",
    "  * in these steps, use the names of the input arguments\n",
    "* write `return`\n",
    "* write what the function should return\n",
    "\n",
    "Let's see this syntax in action for a simple first attempt at our target function (though note that this first attempt contains a deliberate mistake for didactic purposes):"
   ]
  },
  {
   "cell_type": "code",
   "execution_count": 21,
   "metadata": {},
   "outputs": [],
   "source": [
    "def get_initials(name):\n",
    "    names = name.split()\n",
    "    firstname = names[0]\n",
    "    surname = names[1]\n",
    "    initials = firstname[0] + surname[0]"
   ]
  },
  {
   "cell_type": "markdown",
   "metadata": {},
   "source": [
    "Let's now [call](glossary.ipynb#call) our function, with an example name as the input argument:"
   ]
  },
  {
   "cell_type": "code",
   "execution_count": 22,
   "metadata": {},
   "outputs": [],
   "source": [
    "get_initials(user_name)"
   ]
  },
  {
   "cell_type": "markdown",
   "metadata": {},
   "source": [
    "We don't seem to get any answer. Maybe the `initials` variable that is created inside the function is the place to look?"
   ]
  },
  {
   "cell_type": "code",
   "execution_count": 23,
   "metadata": {
    "tags": [
     "raises-exception"
    ]
   },
   "outputs": [
    {
     "ename": "NameError",
     "evalue": "name 'initials' is not defined",
     "output_type": "error",
     "traceback": [
      "\u001b[0;31m---------------------------------------------------------------------------\u001b[0m",
      "\u001b[0;31mNameError\u001b[0m                                 Traceback (most recent call last)",
      "\u001b[0;32m/tmp/ipykernel_4593/3205879577.py\u001b[0m in \u001b[0;36m<module>\u001b[0;34m\u001b[0m\n\u001b[0;32m----> 1\u001b[0;31m \u001b[0mprint\u001b[0m\u001b[0;34m(\u001b[0m\u001b[0minitials\u001b[0m\u001b[0;34m)\u001b[0m\u001b[0;34m\u001b[0m\u001b[0;34m\u001b[0m\u001b[0m\n\u001b[0m",
      "\u001b[0;31mNameError\u001b[0m: name 'initials' is not defined"
     ]
    }
   ],
   "source": [
    "print(initials)"
   ]
  },
  {
   "cell_type": "markdown",
   "metadata": {},
   "source": [
    "No luck there either. Any variables that we create inside the body of a function are only for the function's own internal use. They are discarded once the function has done its work.\n",
    "\n",
    "The deliberate mistake in our first attempt at defining our function is that we have forgotten to use the `return` keyword on the last line. Like this:"
   ]
  },
  {
   "cell_type": "code",
   "execution_count": 24,
   "metadata": {},
   "outputs": [],
   "source": [
    "def get_initials(name):\n",
    "    names = name.split()\n",
    "    firstname = names[0]\n",
    "    surname = names[1]\n",
    "    return firstname[0] + surname[0]"
   ]
  },
  {
   "cell_type": "markdown",
   "metadata": {},
   "source": [
    "Whatever we write just after `return` is the [return value](glossary.ipynb#return), the thing that the function will output. This is the only thing we can get from the function when we [call](glossary.ipynb#call) it. Any other variables created inside the function are just temporary intermediate steps on the way to the return value.\n",
    "\n",
    "Note that `def` (an abbreviation of 'define') and `return` are [keywords](glossary.ipynb#keyword); their roles are fixed. But `get_initials` is our chosen name for the function. This could be different. Likewise `name` is the name we have given to the input argument. This too could be different if we wish. But just as in a [loop](glossary.ipynb#loop) or a [comprehension](glossary.ipynb#comprehension), we must be consistent in using this same name in the body of the function wherever we mean 'whatever input is given to the function'. So if we were to use something arbitrary like `x` for the name of the input argument, we would have to also use `x` on line 2 above and say `x.split()` instead of `name.split()`.\n",
    "\n",
    "Now let's test the correct version of the function by calling it and [assigning](glossary.ipynb#assignment) the return value into a variable:"
   ]
  },
  {
   "cell_type": "code",
   "execution_count": 25,
   "metadata": {},
   "outputs": [
    {
     "name": "stdout",
     "output_type": "stream",
     "text": [
      "MB\n"
     ]
    }
   ],
   "source": [
    "user_initials = get_initials(user_name)\n",
    "\n",
    "print(user_initials)"
   ]
  },
  {
   "cell_type": "markdown",
   "metadata": {},
   "source": [
    "It works! It bloody works!\n",
    "\n",
    "If you do not experience a brief twinge of transcendental joy when you have written a working function then there really is no hope for you. But our function isn't complete yet. Let's start adding the additional features that we want our function to have.\n",
    "\n",
    "### Default values\n",
    "\n",
    "We said that we wanted to add two keyword arguments, and that these should have specific default values. How do we specify default values for arguments? If you look again at the [documentation for the `print()` function](https://docs.python.org/3/library/functions.html#print), you will see an example of the syntax for default values. When we define our function, we just have to assign the default values using `=`. When we (or someone else) later [calls](glossary.ipynb#call) the function, if they do not enter these arguments, the default values will be used, but if they do enter them, then whatever values they enter will be used instead.\n",
    "\n",
    "Let's create an updated version of our function, with the default values for the arguments `n` and `uppercase`. We should also incorporate these arguments into the body of the function. To make use of `n`, we should use it as a [slice](glossary.ipynb#slice) index to get the first `n` characters from each name (line 5 below). And to make use of `uppercase` we should put it in an `if` condition that applies the string [method](glossary.ipynb#method) `upper()` if the `uppercase` argument is `True` (line 6 below)."
   ]
  },
  {
   "cell_type": "code",
   "execution_count": 26,
   "metadata": {},
   "outputs": [],
   "source": [
    "def get_initials(name, n=1, uppercase=False):\n",
    "    names = name.split()\n",
    "    firstname = names[0]\n",
    "    surname = names[1]\n",
    "    initials = firstname[:n] + surname[:n]\n",
    "    if uppercase:\n",
    "        return initials.upper()\n",
    "    else:\n",
    "        return initials.lower()"
   ]
  },
  {
   "cell_type": "markdown",
   "metadata": {},
   "source": [
    "(In case you are wondering: No, we do not need to write `if uppercase == True` as our condition. In everyday English, it would be redundant to say something like \"If the statement 'it is raining' is true, take your umbrella.\" We can just say \"If it is raining, take your umbrella.\" So too in Python. We do not have to ask `if x == True` when `x` is a [boolean](glossary.ipynb#boolean) variable that is already either `True` or `False`. We can just ask `if x`.)\n",
    "\n",
    "And now let's test the new version of our function. We should check carefully that it works correctly both when we do not specify the keyword arguments, and when we do."
   ]
  },
  {
   "cell_type": "code",
   "execution_count": 27,
   "metadata": {},
   "outputs": [
    {
     "data": {
      "text/plain": [
       "'mb'"
      ]
     },
     "execution_count": 27,
     "metadata": {},
     "output_type": "execute_result"
    }
   ],
   "source": [
    "get_initials(user_name)"
   ]
  },
  {
   "cell_type": "code",
   "execution_count": 28,
   "metadata": {},
   "outputs": [
    {
     "data": {
      "text/plain": [
       "'mibo'"
      ]
     },
     "execution_count": 28,
     "metadata": {},
     "output_type": "execute_result"
    }
   ],
   "source": [
    "get_initials(user_name, n=2)"
   ]
  },
  {
   "cell_type": "code",
   "execution_count": 29,
   "metadata": {},
   "outputs": [
    {
     "data": {
      "text/plain": [
       "'MB'"
      ]
     },
     "execution_count": 29,
     "metadata": {},
     "output_type": "execute_result"
    }
   ],
   "source": [
    "get_initials(user_name, uppercase=True)"
   ]
  },
  {
   "cell_type": "markdown",
   "metadata": {},
   "source": [
    "Great.\n",
    "\n",
    "### Raising exceptions\n",
    "\n",
    "In the [lesson on conditions](conditions.ipynb), we learned about [exceptions](glossary.ipynb#exception). Exceptions are notifications that a program has encountered something that it cannot normally deal with. We would like our function to produce an exception if the [string](glossary.ipynb#string) that comes in as the first input [argument](glossary.ipynb#argument) does not contain exactly two names, because this is an input that our function is not intended to deal with.\n",
    "\n",
    "Producing an exception is termed '[raising](glossary.ipynb#raise)' an exception, where the verb 'to raise' is being used in the same sense as in 'to raise an issue' or 'to raise a question'. The `raise` [keyword](glossary.ipynb#keyword) allows us to raise an exception manually. The [syntax](glossary.ipynb#syntax) for raising an exception is:\n",
    "\n",
    "* write `raise`\n",
    "* write the name of the kind of exception you want to raise (see the glossary entry on [exceptions](glossary.ipynb#exception) for a list of the most common ones)\n",
    "* open parentheses `(`\n",
    "* write an informative error message\n",
    "* close parentheses `)`\n",
    "\n",
    "Let's raise an exception just for fun, to see how this works:"
   ]
  },
  {
   "cell_type": "code",
   "execution_count": 30,
   "metadata": {
    "tags": [
     "raises-exception"
    ]
   },
   "outputs": [
    {
     "ename": "ValueError",
     "evalue": "OMG that is not valid. You have broken your computer FOR EVER.",
     "output_type": "error",
     "traceback": [
      "\u001b[0;31m---------------------------------------------------------------------------\u001b[0m",
      "\u001b[0;31mValueError\u001b[0m                                Traceback (most recent call last)",
      "\u001b[0;32m/tmp/ipykernel_4593/1865904087.py\u001b[0m in \u001b[0;36m<module>\u001b[0;34m\u001b[0m\n\u001b[0;32m----> 1\u001b[0;31m \u001b[0;32mraise\u001b[0m \u001b[0mValueError\u001b[0m\u001b[0;34m(\u001b[0m\u001b[0;34m'OMG that is not valid. You have broken your computer FOR EVER.'\u001b[0m\u001b[0;34m)\u001b[0m\u001b[0;34m\u001b[0m\u001b[0;34m\u001b[0m\u001b[0m\n\u001b[0m",
      "\u001b[0;31mValueError\u001b[0m: OMG that is not valid. You have broken your computer FOR EVER."
     ]
    }
   ],
   "source": [
    "raise ValueError('OMG that is not valid. You have broken your computer FOR EVER.')"
   ]
  },
  {
   "cell_type": "markdown",
   "metadata": {},
   "source": [
    "The `ValueError` is the most common [exception](glossary.ipynb#exception) that we will want to raise ourselves in our functions. For other programmers using our functions, a `ValueError` exception lets them know that they have tried to use the function with an input that it cannot handle.\n",
    "\n",
    "Below is our function, updated to include checking the first input [argument](glossary.ipynb#argument) and raising an exception if it does not contain exactly two names. In order to produce an informative [error message](glossary.ipynb#error), we make use of the [string](glossary.ipynb#string) [method](glossary.ipynb#method) `format()`."
   ]
  },
  {
   "cell_type": "code",
   "execution_count": 31,
   "metadata": {},
   "outputs": [],
   "source": [
    "def get_initials(name, n=1, uppercase=False):\n",
    "    names = name.split()\n",
    "    n_names = len(names)\n",
    "    if n_names != 2:\n",
    "        error_message = \"'{}' contains {} names but should contain 2.\"\n",
    "        raise ValueError(error_message.format(name, n_names))\n",
    "    firstname = names[0]\n",
    "    surname = names[1]\n",
    "    initials = firstname[:n] + surname[:n]\n",
    "    if uppercase:\n",
    "        return initials.upper()\n",
    "    else:\n",
    "        return initials.lower()"
   ]
  },
  {
   "cell_type": "markdown",
   "metadata": {},
   "source": [
    "Our function is starting to get quite complex. So let's first check that the changes we just made have not disrupted the normal workings of the function:"
   ]
  },
  {
   "cell_type": "code",
   "execution_count": 32,
   "metadata": {},
   "outputs": [
    {
     "data": {
      "text/plain": [
       "'mb'"
      ]
     },
     "execution_count": 32,
     "metadata": {},
     "output_type": "execute_result"
    }
   ],
   "source": [
    "get_initials(user_name)"
   ]
  },
  {
   "cell_type": "markdown",
   "metadata": {},
   "source": [
    "And now let's check that we get an appropriate [error message](glossary.ipynb#error) if we input a string that does not contain the expected number of names:"
   ]
  },
  {
   "cell_type": "code",
   "execution_count": 33,
   "metadata": {
    "tags": [
     "raises-exception"
    ]
   },
   "outputs": [
    {
     "ename": "ValueError",
     "evalue": "'Mildred T. Bonk' contains 3 names but should contain 2.",
     "output_type": "error",
     "traceback": [
      "\u001b[0;31m---------------------------------------------------------------------------\u001b[0m",
      "\u001b[0;31mValueError\u001b[0m                                Traceback (most recent call last)",
      "\u001b[0;32m/tmp/ipykernel_4593/3090179915.py\u001b[0m in \u001b[0;36m<module>\u001b[0;34m\u001b[0m\n\u001b[0;32m----> 1\u001b[0;31m \u001b[0mget_initials\u001b[0m\u001b[0;34m(\u001b[0m\u001b[0;34m'Mildred T. Bonk'\u001b[0m\u001b[0;34m)\u001b[0m\u001b[0;34m\u001b[0m\u001b[0;34m\u001b[0m\u001b[0m\n\u001b[0m",
      "\u001b[0;32m/tmp/ipykernel_4593/2245930580.py\u001b[0m in \u001b[0;36mget_initials\u001b[0;34m(name, n, uppercase)\u001b[0m\n\u001b[1;32m      4\u001b[0m     \u001b[0;32mif\u001b[0m \u001b[0mn_names\u001b[0m \u001b[0;34m!=\u001b[0m \u001b[0;36m2\u001b[0m\u001b[0;34m:\u001b[0m\u001b[0;34m\u001b[0m\u001b[0;34m\u001b[0m\u001b[0m\n\u001b[1;32m      5\u001b[0m         \u001b[0merror_message\u001b[0m \u001b[0;34m=\u001b[0m \u001b[0;34m\"'{}' contains {} names but should contain 2.\"\u001b[0m\u001b[0;34m\u001b[0m\u001b[0;34m\u001b[0m\u001b[0m\n\u001b[0;32m----> 6\u001b[0;31m         \u001b[0;32mraise\u001b[0m \u001b[0mValueError\u001b[0m\u001b[0;34m(\u001b[0m\u001b[0merror_message\u001b[0m\u001b[0;34m.\u001b[0m\u001b[0mformat\u001b[0m\u001b[0;34m(\u001b[0m\u001b[0mname\u001b[0m\u001b[0;34m,\u001b[0m \u001b[0mn_names\u001b[0m\u001b[0;34m)\u001b[0m\u001b[0;34m)\u001b[0m\u001b[0;34m\u001b[0m\u001b[0;34m\u001b[0m\u001b[0m\n\u001b[0m\u001b[1;32m      7\u001b[0m     \u001b[0mfirstname\u001b[0m \u001b[0;34m=\u001b[0m \u001b[0mnames\u001b[0m\u001b[0;34m[\u001b[0m\u001b[0;36m0\u001b[0m\u001b[0;34m]\u001b[0m\u001b[0;34m\u001b[0m\u001b[0;34m\u001b[0m\u001b[0m\n\u001b[1;32m      8\u001b[0m     \u001b[0msurname\u001b[0m \u001b[0;34m=\u001b[0m \u001b[0mnames\u001b[0m\u001b[0;34m[\u001b[0m\u001b[0;36m1\u001b[0m\u001b[0;34m]\u001b[0m\u001b[0;34m\u001b[0m\u001b[0;34m\u001b[0m\u001b[0m\n",
      "\u001b[0;31mValueError\u001b[0m: 'Mildred T. Bonk' contains 3 names but should contain 2."
     ]
    }
   ],
   "source": [
    "get_initials('Mildred T. Bonk')"
   ]
  },
  {
   "cell_type": "markdown",
   "metadata": {},
   "source": [
    "Yes! The transcendental joy that results from successfully raising an exception almost trumps that of writing a working function.\n",
    "\n",
    "Our function is now complete. We can apply it again and again with many different input arguments in different parts of our program:"
   ]
  },
  {
   "cell_type": "code",
   "execution_count": 34,
   "metadata": {},
   "outputs": [
    {
     "data": {
      "text/plain": [
       "'mb'"
      ]
     },
     "execution_count": 34,
     "metadata": {},
     "output_type": "execute_result"
    }
   ],
   "source": [
    "get_initials(user_name)"
   ]
  },
  {
   "cell_type": "code",
   "execution_count": 35,
   "metadata": {},
   "outputs": [
    {
     "data": {
      "text/plain": [
       "'jebo'"
      ]
     },
     "execution_count": 35,
     "metadata": {},
     "output_type": "execute_result"
    }
   ],
   "source": [
    "get_initials(aunts_name, n=2)"
   ]
  },
  {
   "cell_type": "code",
   "execution_count": 36,
   "metadata": {},
   "outputs": [
    {
     "data": {
      "text/plain": [
       "'jubo'"
      ]
     },
     "execution_count": 36,
     "metadata": {},
     "output_type": "execute_result"
    }
   ],
   "source": [
    "get_initials(uncles_name, n=2)"
   ]
  },
  {
   "cell_type": "code",
   "execution_count": 37,
   "metadata": {},
   "outputs": [
    {
     "data": {
      "text/plain": [
       "'DH'"
      ]
     },
     "execution_count": 37,
     "metadata": {},
     "output_type": "execute_result"
    }
   ],
   "source": [
    "get_initials('David Hasselhoff', uppercase=True)"
   ]
  },
  {
   "cell_type": "markdown",
   "metadata": {},
   "source": [
    "## Docstrings\n",
    "\n",
    "Earlier, I briefly mentioned a few different ways in which we can use a function that we have defined. We can use the function right away within the same program, but we can also re-use a function in other programs or even publish our function online so that other programmers can use it.\n",
    "\n",
    "In this last case, we should provide some documentation for our functions. Other programmers will want to know what our function does, how to use it, what sort of input [arguments](glossary.ipynb#argument) it expects, and what it [returns](glossary.ipynb#return).\n",
    "\n",
    "In the very first lesson, we learned how to provide a human-readable description of our program by enclosing it in triple quotes at the top of the file. For example:\n",
    "\n",
    "```python\n",
    "\"\"\"\n",
    "This is a program to do some amazing machine learning.\n",
    "\"\"\"\n",
    "```\n",
    "\n",
    "A triple-quoted string used like this is known as a [docstring](glossary.ipynb#docstring). Python allows us to provide docstrings for individual functions as well as for our program as a whole. The docstring for an individual function is not written at the top of the file, but under the `def` statement for the function. Here is an example for a very simple function:"
   ]
  },
  {
   "cell_type": "code",
   "execution_count": 38,
   "metadata": {},
   "outputs": [],
   "source": [
    "def final_character(word):\n",
    "    \"\"\"Gets the final character in a string.\n",
    "\n",
    "    Example:\n",
    "        >>> final_character('Mildred Bonk')\n",
    "        'k'\n",
    "\n",
    "    Arguments:\n",
    "        word: A string.\n",
    "\n",
    "    Returns:\n",
    "        A string containing a single character.\n",
    "\n",
    "    Raises:\n",
    "        ValueError: word has no characters.\n",
    "    \"\"\"\n",
    "    if len(word) == 0:\n",
    "        raise ValueError('Word is empty.')\n",
    "    return word[-1]"
   ]
  },
  {
   "cell_type": "markdown",
   "metadata": {},
   "source": [
    "Like the docstring for a program, a function docstring does not have any effect on the workings of the function; it is just for human beings to read. You should get into the habit of writing docstrings for your functions, unless the function is so short as to be trivially understandable. Even if you don't plan to make your work public, collaborators and colleagues will probably need to look at it at some point, and you yourself will be surprised at how much you have forgotten about the workings of your own program when you return to it weeks later.\n",
    "\n",
    "What information should we put in a docstring, and how should we organize it? There are various conventions that different groups of programmers follow. Google provides a Python style guide for its employees, and it makes some good recommendations about docstrings. You can read them [here](http://google.github.io/styleguide/pyguide.html#383-functions-and-methods). In general, we should include the following pieces of information:\n",
    "\n",
    "* A very brief description of what the function does.\n",
    "* An example of its use.\n",
    "* A explanation of the input [arguments](glossary.ipynb#argument).\n",
    "* The [return value](glossary.ipynb#return).\n",
    "* Whether the function [raises](glossary.ipynb#raise) any exceptions.\n",
    "\n",
    "You can see another example docstring for our `get_initials()` function in the example program [initials.py](examples/initials.py). (In case you are wondering what is going on after line 43 of this file, this will be explained in the next lesson.)\n",
    "\n",
    "## Building functions\n",
    "\n",
    "Writing functions can be a little more difficult than writing other Python control statements. A function is somewhat like a 'black box'; when we use a function, we put in some input [arguments](glossary.ipynb#argument) and get out a [return value](glossary.ipynb#return), but we don't have easy access to the steps that go on inside the body of the function. So when we write a function we often don't know whether it works correctly or not until we have finished writing it and can finally [call](glossary.ipynb#call) it. If we find that it does not work as we wanted, it can be difficult to see what went wrong.\n",
    "\n",
    "As a beginner to programming, you should therefore avoid trying to write a function all in one go, unless the function is extremely simple. Instead, start by writing out the steps in the body of the function as normal Python commands without indentation. Test each of these steps as you go along. Then only turn them into a function once you have finished and checked them all.\n",
    "\n",
    "For example, imagine we would like to write a function for finding the length of the hypotenuse $z$ of a right-angled triangle given the lengths of the two other sides $x$ and $y$, according to the formula:\n",
    "\n",
    "$$\n",
    "z = (x^2 + y^2)^\\frac{1}{2}\n",
    "$$\n",
    "\n",
    "Start by writing out the header line of the function using `def`, but turn this line into a comment using `#` so that Python won't run it yet. Then define some temporary variables to provide example inputs for the function, using the same names that you have given them in the function header. Choose some inputs for which you know the correct answer (for example, `x=3, y=4` should give a return value of `5`):"
   ]
  },
  {
   "cell_type": "code",
   "execution_count": 39,
   "metadata": {},
   "outputs": [],
   "source": [
    "#def hypotenuse(x, y):\n",
    "x = 3\n",
    "y = 4"
   ]
  },
  {
   "cell_type": "markdown",
   "metadata": {},
   "source": [
    "Now add in the first step in the function body, for example getting the squares of the two given side lengths, and print it out to check it looks right:"
   ]
  },
  {
   "cell_type": "code",
   "execution_count": 40,
   "metadata": {},
   "outputs": [
    {
     "name": "stdout",
     "output_type": "stream",
     "text": [
      "9 16\n"
     ]
    }
   ],
   "source": [
    "#def hypotenuse(x, y):\n",
    "x = 3\n",
    "y = 4\n",
    "\n",
    "x_sq = x**2\n",
    "y_sq = y**2\n",
    "\n",
    "print(x_sq, y_sq)"
   ]
  },
  {
   "cell_type": "markdown",
   "metadata": {},
   "source": [
    "Keep adding steps and checking as you go along. For example:"
   ]
  },
  {
   "cell_type": "code",
   "execution_count": 41,
   "metadata": {},
   "outputs": [
    {
     "name": "stdout",
     "output_type": "stream",
     "text": [
      "25\n"
     ]
    }
   ],
   "source": [
    "#def hypotenuse(x, y):\n",
    "x = 3\n",
    "y = 4\n",
    "\n",
    "sum_sq = x**2 + y**2\n",
    "\n",
    "print(sum_sq)"
   ]
  },
  {
   "cell_type": "code",
   "execution_count": 42,
   "metadata": {},
   "outputs": [
    {
     "name": "stdout",
     "output_type": "stream",
     "text": [
      "5.0\n"
     ]
    }
   ],
   "source": [
    "#def hypotenuse(x, y):\n",
    "x = 3\n",
    "y = 4\n",
    "\n",
    "sum_sq = x**2 + y**2\n",
    "z = sum_sq**(1/2)\n",
    "\n",
    "print(z)"
   ]
  },
  {
   "cell_type": "markdown",
   "metadata": {},
   "source": [
    "Now that you have finished all the steps inside the function and checked them, you can turn them into the finished function with four changes:\n",
    "\n",
    "* Remove the `#` from the function header.\n",
    "* Delete the temporary variables that you used as example inputs.\n",
    "* Indent the other lines so that they become part of the function.\n",
    "* Turn the final `print()` statement into a `return` statement instead."
   ]
  },
  {
   "cell_type": "code",
   "execution_count": 43,
   "metadata": {},
   "outputs": [],
   "source": [
    "def hypotenuse(x, y):\n",
    "\n",
    "    sum_sq = x**2 + y**2\n",
    "    z = sum_sq**(1/2)\n",
    "\n",
    "    return z"
   ]
  },
  {
   "cell_type": "markdown",
   "metadata": {},
   "source": [
    "Don't forget to test your finished function with the same input arguments you used while building it:"
   ]
  },
  {
   "cell_type": "code",
   "execution_count": 44,
   "metadata": {},
   "outputs": [
    {
     "data": {
      "text/plain": [
       "5.0"
      ]
     },
     "execution_count": 44,
     "metadata": {},
     "output_type": "execute_result"
    }
   ],
   "source": [
    "hypotenuse(3, 4)"
   ]
  },
  {
   "cell_type": "markdown",
   "metadata": {},
   "source": [
    "## Function or loop?\n",
    "\n",
    "In the [previous lesson](iteration.ipynb) we saw that [loops](glossary.ipynb#loop) are a good way of avoiding having to write out the same lines multiple times. And we began the current lesson with a similar sort of situation; we wanted to apply the same few Python commands repeatedly in order to create abbreviated user IDs for multiple users. So couldn't we just have done this in a loop?\n",
    "\n",
    "Yes, we could. And for this simple example, a loop might have been ok. We can loop through the items in a list of user names, process each one in the loop, and append the result to a new list with the list [method](glossary.ipynb#method) `append()`. It would look something like this:"
   ]
  },
  {
   "cell_type": "code",
   "execution_count": 45,
   "metadata": {},
   "outputs": [
    {
     "data": {
      "text/plain": [
       "['MIBO', 'JEBO', 'JUBO']"
      ]
     },
     "execution_count": 45,
     "metadata": {},
     "output_type": "execute_result"
    }
   ],
   "source": [
    "user_names = ['Mildred Bonk', 'Jennifer Boolean', 'Julian Boolean']\n",
    "user_ids = []\n",
    "\n",
    "for name in user_names:\n",
    "    names = name.split()\n",
    "    firstname = names[0]\n",
    "    surname = names[1]\n",
    "    initials = firstname[:2] + surname[:2]\n",
    "    user_ids.append(initials.upper())\n",
    "\n",
    "user_ids"
   ]
  },
  {
   "cell_type": "markdown",
   "metadata": {},
   "source": [
    "But there are some important differences between loops and functions. The most important one is that a loop runs immediately in only one place in our program, whereas a function can be re-used in multiple places. Imagine that our program needed to collect and process some of the user names early on, and collect more user names after having carried out some intermediate actions. We could not achieve this with a loop, as the loop requires us to have a complete sequence of inputs ready to loop through. A function allows us to run some lines, then do something else, then go back and run the same lines again:"
   ]
  },
  {
   "cell_type": "code",
   "execution_count": 46,
   "metadata": {},
   "outputs": [
    {
     "name": "stdout",
     "output_type": "stream",
     "text": [
      "Carrying out some intermediate actions...\n",
      "Now adding the ID of the admin user...\n"
     ]
    }
   ],
   "source": [
    "user_names = ['Mildred Bonk', 'Jennifer Boolean', 'Julian Boolean']\n",
    "user_ids = [get_initials(name) for name in user_names]\n",
    "\n",
    "print('Carrying out some intermediate actions...')\n",
    "print('Now adding the ID of the admin user...')\n",
    "\n",
    "admin_id = get_initials('David Hasselhoff')"
   ]
  },
  {
   "cell_type": "markdown",
   "metadata": {},
   "source": [
    "If this seems a little abstract to you, take a look at the second example program for this lesson, [fun_facts.py](examples/fun_facts.py). It demonstrates the re-use of a function (that gets the answer to a 'yes/no' question) in multiple places in a program.\n",
    "\n",
    "The other important difference between loops and functions is that a function can be re-used in a *different* program, whereas a loop cannot (at least, not without manually copying and pasting it into the new program). Re-using functions in more than one file is the topic of the next lesson.\n",
    "\n",
    "## Exercises\n",
    "\n",
    "### 1\n",
    "\n",
    "Take a look at the [fun_facts.py](examples/fun_facts.py) example program. It defines a function `yorn()` for prompting the user to answer a 'yes/no' question. Currently, the function only accepts `'y'` or `'n'` as responses. Modify it so that it also allows the user to type in the complete words `'yes'` or `'no'`. Make sure to run your modified version of the program a few times and type in different responses at the console to check that your changes are correct.\n",
    "\n",
    "### 2\n",
    "\n",
    "Write a new program, called *words.py*. The program defines a single function, called `first_n_words()`. The function turns a piece of text into a list of the first few words contained in the text. Here are the details of how it should work:\n",
    "\n",
    "* Take a string argument called `text` and an integer argument called `n`.\n",
    "* Return a list containing the first `n` words in `text`.\n",
    "* `n` has a default value of `1` (i.e. if no `n` is given, return a list containing only the first word in `text`).\n",
    "* Consider words as being any groups of characters separated by spaces.\n",
    "* If the value of `n` is greater than the number of words in `text`, just return all the words in `text`.\n",
    "* If the value of `n` is `0` (or there are no words in `text`), return an empty list.\n",
    "* But if the value of `n` is negative, raise a `ValueError` stating that negative values are not valid.\n",
    "* Include an appropriate docstring for the function.\n",
    "\n",
    "Here are some examples of the function's desired behavior:\n",
    "\n",
    "```\n",
    ">>> first_n_words('Hello my name is Mildred.')\n",
    "['Hello']\n",
    "```\n",
    "\n",
    "```\n",
    ">>> first_n_words('Hello my name is Mildred.', n=4)\n",
    "['Hello', 'my', 'name', 'is']\n",
    "```\n",
    "\n",
    "```\n",
    ">>> first_n_words('Hello my name is Mildred.', n=9000)\n",
    "['Hello', 'my', 'name', 'is', 'Mildred.']\n",
    "```\n",
    "\n",
    "```\n",
    ">>> first_n_words('Hello my name is Mildred.', n=0)\n",
    "[]\n",
    "```\n",
    "\n",
    "```\n",
    ">>> first_n_words('Hello my name is Mildred.', n=-1)\n",
    "ValueError: Cannot get a negative number of words.\n",
    "```"
   ]
  }
 ],
 "metadata": {
  "celltoolbar": "Tags",
  "kernelspec": {
   "display_name": "Python 3 (ipykernel)",
   "language": "python",
   "name": "python3"
  },
  "language_info": {
   "codemirror_mode": {
    "name": "ipython",
    "version": 3
   },
   "file_extension": ".py",
   "mimetype": "text/x-python",
   "name": "python",
   "nbconvert_exporter": "python",
   "pygments_lexer": "ipython3",
   "version": "3.8.10"
  },
  "toc": {
   "base_numbering": 1,
   "nav_menu": {},
   "number_sections": false,
   "sideBar": true,
   "skip_h1_title": true,
   "title_cell": "Contents",
   "title_sidebar": "Contents",
   "toc_cell": true,
   "toc_position": {},
   "toc_section_display": true,
   "toc_window_display": false
  }
 },
 "nbformat": 4,
 "nbformat_minor": 4
}
