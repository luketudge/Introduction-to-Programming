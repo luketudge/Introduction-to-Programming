{
 "cells": [
  {
   "cell_type": "markdown",
   "metadata": {},
   "source": [
    "# Topics\n",
    "\n",
    "## Get started\n",
    "\n",
    "* [Installing Python](setup.ipynb)\n",
    "* [Creating a computer program with Python](intro.ipynb)\n",
    "\n",
    "## The basics\n",
    "\n",
    "* [Variables and data types](types.ipynb)\n",
    "* [Sequences and mappings](sequences_mappings.ipynb)\n",
    "* [Conditions](conditions.ipynb)\n",
    "* [Iteration](iteration.ipynb)\n",
    "* [Functions](functions.ipynb)\n",
    "* [Modules](modules.ipynb)\n",
    "* [The standard library](standard_library.ipynb)\n",
    "* [Files](files.ipynb)\n",
    "\n",
    "## Software development\n",
    "\n",
    "* [The command line](command_line.ipynb)\n",
    "* [Testing](testing.ipynb)\n",
    "* [GitHub](github.ipynb)\n",
    "* Documentation\n",
    "* Style\n",
    "\n",
    "## Specialist topics\n",
    "\n",
    "* [Array computing](arrays.ipynb)\n",
    "* [Images](images.ipynb)\n",
    "* [Data analysis](data_analysis.ipynb)\n",
    "* [Natural language processing](nlp.ipynb)\n",
    "* Machine learning\n",
    "* [The internet](internet.ipynb)\n",
    "* [Relational databases](databases.ipynb)"
   ]
  }
 ],
 "metadata": {
  "celltoolbar": "Tags",
  "kernelspec": {
   "display_name": "Python 3",
   "language": "python",
   "name": "python3"
  },
  "language_info": {
   "codemirror_mode": {
    "name": "ipython",
    "version": 3
   },
   "file_extension": ".py",
   "mimetype": "text/x-python",
   "name": "python",
   "nbconvert_exporter": "python",
   "pygments_lexer": "ipython3",
   "version": "3.8.5"
  },
  "toc": {
   "base_numbering": 1,
   "nav_menu": {},
   "number_sections": false,
   "sideBar": true,
   "skip_h1_title": true,
   "title_cell": "Contents",
   "title_sidebar": "Contents",
   "toc_cell": true,
   "toc_position": {},
   "toc_section_display": true,
   "toc_window_display": false
  }
 },
 "nbformat": 4,
 "nbformat_minor": 4
}
